{
 "cells": [
  {
   "cell_type": "code",
   "execution_count": 6,
   "id": "5d8717d4",
   "metadata": {},
   "outputs": [],
   "source": [
    "import numpy as np\n",
    "import matplotlib.pyplot as plt\n",
    "import scipy\n",
    "import torch\n",
    "import numpy\n",
    "import torch.utils.data\n",
    "from sklearn.model_selection import train_test_split\n",
    "import pandas as pd"
   ]
  },
  {
   "cell_type": "code",
   "execution_count": 7,
   "id": "be8d95e6",
   "metadata": {},
   "outputs": [],
   "source": [
    "random = torch.rand(5,5)\n",
    "random = (random *2) -1"
   ]
  },
  {
   "cell_type": "code",
   "execution_count": 8,
   "id": "dfee7392",
   "metadata": {},
   "outputs": [
    {
     "data": {
      "text/plain": [
       "tensor([[0.1732, 0.9328, 0.7352, 0.7563, 0.2903],\n",
       "        [0.8979, 0.2137, 0.9046, 0.2010, 0.2596],\n",
       "        [0.0118, 0.0713, 0.4761, 0.3173, 0.4284],\n",
       "        [0.9521, 0.0341, 0.4181, 0.4103, 0.3442],\n",
       "        [0.4889, 0.9797, 0.3797, 0.2184, 0.5283]])"
      ]
     },
     "execution_count": 8,
     "metadata": {},
     "output_type": "execute_result"
    }
   ],
   "source": [
    "mask = torch.rand(5,5)\n",
    "mask"
   ]
  },
  {
   "cell_type": "code",
   "execution_count": 9,
   "id": "962f2018",
   "metadata": {},
   "outputs": [
    {
     "data": {
      "text/plain": [
       "tensor([[False,  True,  True,  True, False],\n",
       "        [ True, False,  True, False, False],\n",
       "        [False, False, False, False, False],\n",
       "        [ True, False, False, False, False],\n",
       "        [False,  True, False, False,  True]])"
      ]
     },
     "execution_count": 9,
     "metadata": {},
     "output_type": "execute_result"
    }
   ],
   "source": [
    "mask > .5"
   ]
  },
  {
   "cell_type": "code",
   "execution_count": 10,
   "id": "8b0be00e",
   "metadata": {},
   "outputs": [
    {
     "data": {
      "text/plain": [
       "2"
      ]
     },
     "execution_count": 10,
     "metadata": {},
     "output_type": "execute_result"
    }
   ],
   "source": [
    "random.ndim"
   ]
  }
 ],
 "metadata": {
  "kernelspec": {
   "display_name": ".venv",
   "language": "python",
   "name": "python3"
  },
  "language_info": {
   "codemirror_mode": {
    "name": "ipython",
    "version": 3
   },
   "file_extension": ".py",
   "mimetype": "text/x-python",
   "name": "python",
   "nbconvert_exporter": "python",
   "pygments_lexer": "ipython3",
   "version": "3.13.3"
  }
 },
 "nbformat": 4,
 "nbformat_minor": 5
}
