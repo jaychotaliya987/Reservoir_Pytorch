{
 "cells": [
  {
   "cell_type": "code",
   "execution_count": 2,
   "id": "5d8717d4",
   "metadata": {},
   "outputs": [],
   "source": [
    "import numpy as np\n",
    "import matplotlib.pyplot as plt\n",
    "import scipy\n",
    "import torch\n",
    "import numpy\n",
    "import torch.utils.data\n",
    "from sklearn.model_selection import train_test_split\n",
    "import pandas as pd"
   ]
  },
  {
   "cell_type": "code",
   "execution_count": 3,
   "id": "be8d95e6",
   "metadata": {},
   "outputs": [],
   "source": [
    "random = torch.rand(5,5)\n",
    "random = (random *2) -1"
   ]
  },
  {
   "cell_type": "code",
   "execution_count": 4,
   "id": "dfee7392",
   "metadata": {},
   "outputs": [
    {
     "data": {
      "text/plain": [
       "tensor([[0.7966, 0.8451, 0.3844, 0.0219, 0.0597],\n",
       "        [0.6630, 0.2510, 0.1501, 0.7846, 0.0193],\n",
       "        [0.9067, 0.2776, 0.1541, 0.9906, 0.1277],\n",
       "        [0.8106, 0.9683, 0.9975, 0.3872, 0.8412],\n",
       "        [0.5625, 0.5886, 0.5002, 0.1501, 0.5049]])"
      ]
     },
     "execution_count": 4,
     "metadata": {},
     "output_type": "execute_result"
    }
   ],
   "source": [
    "mask = torch.rand(5,5)\n",
    "mask"
   ]
  },
  {
   "cell_type": "code",
   "execution_count": 5,
   "id": "962f2018",
   "metadata": {},
   "outputs": [
    {
     "data": {
      "text/plain": [
       "tensor([[ True,  True, False, False, False],\n",
       "        [ True, False, False,  True, False],\n",
       "        [ True, False, False,  True, False],\n",
       "        [ True,  True,  True, False,  True],\n",
       "        [ True,  True,  True, False,  True]])"
      ]
     },
     "execution_count": 5,
     "metadata": {},
     "output_type": "execute_result"
    }
   ],
   "source": [
    "mask > .5"
   ]
  },
  {
   "cell_type": "code",
   "execution_count": 6,
   "id": "8b0be00e",
   "metadata": {},
   "outputs": [
    {
     "data": {
      "text/plain": [
       "2"
      ]
     },
     "execution_count": 6,
     "metadata": {},
     "output_type": "execute_result"
    }
   ],
   "source": [
    "random.ndim"
   ]
  }
 ],
 "metadata": {
  "kernelspec": {
   "display_name": ".venv",
   "language": "python",
   "name": "python3"
  },
  "language_info": {
   "codemirror_mode": {
    "name": "ipython",
    "version": 3
   },
   "file_extension": ".py",
   "mimetype": "text/x-python",
   "name": "python",
   "nbconvert_exporter": "python",
   "pygments_lexer": "ipython3",
   "version": "3.13.3"
  }
 },
 "nbformat": 4,
 "nbformat_minor": 5
}
