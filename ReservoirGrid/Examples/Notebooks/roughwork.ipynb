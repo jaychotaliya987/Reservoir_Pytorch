{
 "cells": [
  {
   "cell_type": "code",
   "execution_count": null,
   "id": "5d8717d4",
   "metadata": {},
   "outputs": [],
   "source": [
    "import numpy as np\n",
    "import matplotlib.pyplot as plt\n",
    "import scipy\n",
    "import torch\n",
    "import numpy\n",
    "import torch.utils.data\n",
    "from sklearn.model_selection import train_test_split\n",
    "import pandas as pd"
   ]
  },
  {
   "cell_type": "code",
   "execution_count": 2,
   "id": "be8d95e6",
   "metadata": {},
   "outputs": [],
   "source": [
    "random = torch.rand(5,5)\n",
    "random = (random *2) -1"
   ]
  },
  {
   "cell_type": "code",
   "execution_count": 3,
   "id": "dfee7392",
   "metadata": {},
   "outputs": [
    {
     "data": {
      "text/plain": [
       "tensor([[0.1329, 0.7368, 0.7785, 0.0178, 0.0771],\n",
       "        [0.9531, 0.2033, 0.3763, 0.3344, 0.0172],\n",
       "        [0.6226, 0.4518, 0.9028, 0.7361, 0.5616],\n",
       "        [0.6317, 0.8814, 0.0824, 0.8974, 0.7195],\n",
       "        [0.1303, 0.0531, 0.5091, 0.8165, 0.1612]])"
      ]
     },
     "execution_count": 3,
     "metadata": {},
     "output_type": "execute_result"
    }
   ],
   "source": [
    "mask = torch.rand(5,5)\n",
    "mask"
   ]
  },
  {
   "cell_type": "code",
   "execution_count": 4,
   "id": "962f2018",
   "metadata": {},
   "outputs": [
    {
     "data": {
      "text/plain": [
       "tensor([[False,  True,  True, False, False],\n",
       "        [ True, False, False, False, False],\n",
       "        [ True, False,  True,  True,  True],\n",
       "        [ True,  True, False,  True,  True],\n",
       "        [False, False,  True,  True, False]])"
      ]
     },
     "execution_count": 4,
     "metadata": {},
     "output_type": "execute_result"
    }
   ],
   "source": [
    "mask > .5"
   ]
  }
 ],
 "metadata": {
  "kernelspec": {
   "display_name": ".venv",
   "language": "python",
   "name": "python3"
  },
  "language_info": {
   "codemirror_mode": {
    "name": "ipython",
    "version": 3
   },
   "file_extension": ".py",
   "mimetype": "text/x-python",
   "name": "python",
   "nbconvert_exporter": "python",
   "pygments_lexer": "ipython3",
   "version": "3.13.0"
  }
 },
 "nbformat": 4,
 "nbformat_minor": 5
}
