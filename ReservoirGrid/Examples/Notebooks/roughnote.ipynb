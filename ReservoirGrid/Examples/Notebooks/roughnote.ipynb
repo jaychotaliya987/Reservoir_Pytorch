{
 "cells": [
  {
   "cell_type": "code",
   "execution_count": 1,
   "id": "5d8717d4",
   "metadata": {},
   "outputs": [],
   "source": [
    "import numpy as np\n",
    "import matplotlib.pyplot as plt\n",
    "import scipy\n",
    "import torch\n",
    "import numpy\n",
    "import torch.utils.data\n",
    "from sklearn.model_selection import train_test_split\n",
    "import pandas as pd"
   ]
  },
  {
   "cell_type": "code",
   "execution_count": 6,
   "id": "be8d95e6",
   "metadata": {},
   "outputs": [],
   "source": [
    "random = torch.rand(5,5)\n",
    "random = (random *2) -1"
   ]
  },
  {
   "cell_type": "code",
   "execution_count": 7,
   "id": "dfee7392",
   "metadata": {},
   "outputs": [
    {
     "data": {
      "text/plain": [
       "tensor([[0.3467, 0.1184, 0.2739, 0.1717, 0.0301],\n",
       "        [0.8911, 0.6157, 0.8627, 0.9738, 0.3677],\n",
       "        [0.4536, 0.0348, 0.5680, 0.8693, 0.8196],\n",
       "        [0.2422, 0.7537, 0.0438, 0.4223, 0.9045],\n",
       "        [0.3118, 0.2362, 0.6532, 0.9264, 0.5308]])"
      ]
     },
     "execution_count": 7,
     "metadata": {},
     "output_type": "execute_result"
    }
   ],
   "source": [
    "mask = torch.rand(5,5)\n",
    "mask"
   ]
  },
  {
   "cell_type": "code",
   "execution_count": 8,
   "id": "962f2018",
   "metadata": {},
   "outputs": [
    {
     "data": {
      "text/plain": [
       "tensor([[False, False, False, False, False],\n",
       "        [ True,  True,  True,  True, False],\n",
       "        [False, False,  True,  True,  True],\n",
       "        [False,  True, False, False,  True],\n",
       "        [False, False,  True,  True,  True]])"
      ]
     },
     "execution_count": 8,
     "metadata": {},
     "output_type": "execute_result"
    }
   ],
   "source": [
    "mask > .5"
   ]
  }
 ],
 "metadata": {
  "kernelspec": {
   "display_name": ".venv",
   "language": "python",
   "name": "python3"
  },
  "language_info": {
   "codemirror_mode": {
    "name": "ipython",
    "version": 3
   },
   "file_extension": ".py",
   "mimetype": "text/x-python",
   "name": "python",
   "nbconvert_exporter": "python",
   "pygments_lexer": "ipython3",
   "version": "3.13.0"
  }
 },
 "nbformat": 4,
 "nbformat_minor": 5
}
