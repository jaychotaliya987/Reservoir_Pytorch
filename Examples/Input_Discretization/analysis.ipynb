{
 "cells": [
  {
   "cell_type": "markdown",
   "id": "4482ce79",
   "metadata": {},
   "source": [
    "## Imports"
   ]
  },
  {
   "cell_type": "code",
   "execution_count": 1,
   "id": "8b92140d",
   "metadata": {},
   "outputs": [],
   "source": [
    "#------------------ General Purpose Imports ---------------------#\n",
    "import numpy as np\n",
    "import matplotlib.pyplot as plt\n",
    "import pandas as pd\n",
    "from timeit import default_timer as timer\n",
    "import pickle\n",
    "\n",
    "#------------------ Machine Learning Imports ---------------------#\n",
    "import torch\n",
    "import scipy\n",
    "import torch.utils.data\n",
    "from sklearn.model_selection import train_test_split\n",
    "\n",
    "#------------------ Dataset imports ---------------------#\n",
    "import dysts\n",
    "from dysts import flows\n"
   ]
  },
  {
   "cell_type": "code",
   "execution_count": 2,
   "id": "ebe7ec87",
   "metadata": {},
   "outputs": [],
   "source": [
    "#------------------ system imports ---------------------#\n",
    "import os\n",
    "import sys\n",
    "sys.path.append(os.path.abspath(os.path.join('../..')))\n",
    "\n",
    "#------------------ reservoirgrid imports ---------------------#\n",
    "from reservoirgrid.models import Reservoir\n",
    "from reservoirgrid.helpers import utils\n",
    "from reservoirgrid.helpers import viz\n",
    "from reservoirgrid.helpers import chaos_utils\n",
    "from reservoirgrid.helpers import reservoir_tests\n",
    "#--------------------------------------------------------------#"
   ]
  },
  {
   "cell_type": "markdown",
   "id": "e00f4161",
   "metadata": {},
   "source": [
    "## Loading"
   ]
  },
  {
   "cell_type": "code",
   "execution_count": 3,
   "id": "30641749",
   "metadata": {},
   "outputs": [],
   "source": [
    "result_path = \"results/Torus/100.0.pkl\"\n",
    "with open(result_path , 'rb') as f:\n",
    "    data = pickle.load(f)"
   ]
  },
  {
   "cell_type": "code",
   "execution_count": 4,
   "id": "8227ed6e",
   "metadata": {},
   "outputs": [
    {
     "name": "stdout",
     "output_type": "stream",
     "text": [
      "Parameters 188 {'SpectralRadius': 1.1, 'LeakyRate': 0.5, 'InputScaling': 1.0}, RMSE = 0.00762863920738742\n"
     ]
    },
    {
     "data": {
      "application/vnd.plotly.v1+json": {
       "config": {
        "plotlyServerURL": "https://plot.ly"
       },
       "data": [
        {
         "hoverinfo": "x+y+z",
         "line": {
          "color": {
           "bdata": "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",
           "dtype": "f8"
          },
          "colorscale": [
           [
            0,
            "#440154"
           ],
           [
            0.1111111111111111,
            "#482878"
           ],
           [
            0.2222222222222222,
            "#3e4989"
           ],
           [
            0.3333333333333333,
            "#31688e"
           ],
           [
            0.4444444444444444,
            "#26828e"
           ],
           [
            0.5555555555555556,
            "#1f9e89"
           ],
           [
            0.6666666666666666,
            "#35b779"
           ],
           [
            0.7777777777777778,
            "#6ece58"
           ],
           [
            0.8888888888888888,
            "#b5de2b"
           ],
           [
            1,
            "#fde725"
           ]
          ],
          "width": 3
         },
         "mode": "lines",
         "name": "Dataset 1",
         "scene": "scene",
         "type": "scatter3d",
         "x": {
          "bdata": "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",
          "dtype": "f8"
         },
         "y": {
          "bdata": "StyZKFo66j+MxZH6IsXpP8xT4tNUouk/CB1XXW0A6j9AvyFQeZLqP6ZV6J6n9Oo/ehlU6UcS6z8Iu3N40yXrPySXvOJ3Yus/LF36/Uuy6z8AF1vEoNXrP8rrbgH1vOs/DFgyfeWv6z8ay0KRZwjsP5ajLI58xOw/lF4OoXpr7T8gJb/fInftP8Bc9RCG4+w/0AN6QfZO7D9CkHdC13TsP0YOS9nCdO0/oqW/0A6c7j+Gsr2cLfnuPzAcGpq9Pe4/+OJKOMgZ7T/eyVEueKvsP9S6mG3Reu0/lgb9vu3w7j9Up3UOcNPvP0qf61D6Xe8/lkJz+Dn67T+mC2BeiujsP7beF4VEIu0/Vm52sfJ37j9W3xl3abrvP8TYAyGpyu8/ZE6+uXuZ7j9ULG6+CjDtP3wBD3jrvew/eAHlWwiM7T+sLpYwScbuPy4ph2YSRO8/GoNQ9siQ7j98mKn2UUXtP+p4xHYMbuw/fBujmJuX7D96lP7cvWHtP96pNFkm7e0/+kaRAMGs7T+OviTDutTsP9b55vGfD+w/DBdT53rV6z/yQtn2AQzsPxgM1nEKPew/rm6SltMX7D80ArteHbTrP4jeS9C8Xus/vr1r6QM46z98EgcNExXrPy54PHeMweo/qkGDJhZP6j/Mba2pEQ/qP5bVLPBVNOo/qhT9pLuE6j+sGQM0sn3qPy5U1wDv1+k/PrasUF7m6D+yWDWHAGDoP9KVAnDvtOg/TuaIQdiP6T/Cqf3S+gzqP57tz1UEh+k/3igTYzo/6D+KMKHebzfnP8zpo4odT+c/EsXa0z9u6D966zUXfIrpP34J7VfOj+k/PpZ4w51e6D8oJOq53fLmPzCxxJ6ah+Y/YHJfCqh65z+WOKPFVPToP6wbLxzopuk/iIplMo/56D/UhxB/Zo/nP06/n5OcseY/TOg7nN4n5z8GGQNl64voP8qnjyBTr+k/CqIHq2Su6T+m2D/WRrPoPzb0+GKUv+c/gBSX3ti75z+qrwuyaq/oP9CRryFQz+k/TEmEQmZE6j9c+ck//+bpP9zTrLjcSek/jisnMzkf6T9AR4gSTJjpP7jOkWGGUeo/kPpyWsDI6j/m5lHcZNnqP+KPrZ5Vx+o/5vGZ9AHh6j94sQZAyinrP8ww7507Z+s/KpTrMDd36z8+FjNdEITrPy6nsRbu1Os/SlpSFrdt7D/+yvRj9PDsPwxS2xVf9ew//m6Hpr1/7D/UwNz4+hrsP+alDV9zYOw/ksOG0PdY7T+22u8Z/ljuP/Q5ldz8j+4/cuuRAWrR7T8Cco+AydTsP7BxLSMZnuw/bKHcuz6N7T+KGeWVPPXuPxTjck0xqu8/nh+3SiEQ7z+uXV6o17LtP4yYQISp0uw/VqwP7zRG7T+aKk1BULTuP+Qz//3V3u8/ZPgXTq2+7z8eYs54CHDuP8LGxlnsF+0/BtoAMRDc7D/skk46Pt7tPyTiVPyzJe8/YC8gpJyE7z+88Jn2xKPuP+g9xCraQ+0/jB8opO2D7D+IPb5CluDsP+CW0oCx1O0/1ITfeHhk7j+UeR/0/APuP5CSmELBA+0/ejjCeyIv7D8Q/+JK1ArsP2htCKjQbOw/TnsQQMu/7D+0Jtgp2ZvsP2xKJlbeGew/lLY18Vee6z8IHN5xHmbrP0ILDq45U+s/VMqHdI8l6z9KbHdD4tLqP/yL1uuJlOo/fC46ssCa6j+M5vkWu8DqP0q2moFFouo/MD+WrAkJ6j/28ORb8D3pPwDYf9E52eg/ahT33TMu6T+KnltdX+PpP5JiZzIpLuo/Xp++uG+N6T+GAqCkXlXoPxTgmNNVeec/sF0FnA2z5z8kzkDj8sroP5SiVQIkt+k/9rLMX+yE6T8wupFM3DzoP8JxXV976eY/+r3/1mmu5j9qCfpYZr7nPwKEsmC2Jek/sMRp04Kg6T9YUdq89r3oP2iIBM4ER+c/dMv1QhyK5j8usPa6si/nP0r8051Zp+g/bPaDrlWv6T+M2gLYWnbpP/JskeYWT+g/gt5Moj1Z5z9cqpa83HnnPzRflkFGl+g/lrTV8sfC6T9sV9QmZhrqP6iTOxWIi+k/HD6Zw1bM6D/8r0RNa6XoP+Sus69fQek/5EO40Ycf6j/y66jFsKDqP8SkCHNxmOo/bl824rZc6j/eATm9y1nqP2QEL8/xpuo/SEmXsK8F6z9KPIJ6QzvrP24UqyuMVus/EJYDbS2U6z+UCqLXXAbsP9SFXgLqbOw/BmVUT6V17D9UwjtdsSTsP2RI1JPt6+s/Krz1Rh9F7D+ki3qeACvtP1AdiWNvAe4/KCqqnVwa7j/yU2Ksi2TtP6wiOK9ylew/Bo21NLuR7D+WapxMb5TtPz7RqeOs4+4/bNRmqRVq7z9kBPobrLTuP6ydluAFau0/CAkt/tnA7D9qruBTpGjtP9CzxzPC4u4/wIlbRKvr7z9MFpuTrJvvP/aJ5a/yOe4/sOQhY1n/7D8CvnJnXP7sP+S0lII1Lu4/+uKbEZt27z/mDSoTMa7vP/QEUA3loe4/ps2narw47T+G/rTCCpzsP5btUsl5L+0/cHiE9Y1G7j/uEf4R0s7uP8jp3+YGR+4/APZ8Fe4h7T+eNGnMe0nsP4CO3eJzRuw/bPQpc77W7D8c8FCkPUTtP7SqEukRFu0/cu/5qZFv7D94s+VTJtLrP/T5r9FklOs/JB7YZoyc6z80mVO+2JbrP4ztbwUOXOs/WleJKQoU6z+Cnx2nn/XqP+S/HMEq9uo/ON9Y/YXM6j8CDnu6Z0rqPySRpe4Fp+k/WFqG3lRb6T+QB7tK5KTpP/iBGQZML+o/Ah7xV3tN6j9YF8PwhZ7pP26XNUM1gOg/7gNUPwfQ5z9IAfb1JCLoP3yEuuUkJ+k/cisPZe3e6T8kcnCpxHvpPxifYF2IKeg/Gpqsbaz35j8eeGE7buvmP+ZTxxegDeg/XOL7KuZW6T++cJcEbJbpPyy1VWcahug/+nyICvQO5z98ZJVl2nrmP1KibBHVTOc/SEA2InvM6D+egIyNp63pP0YN5zYaOuk/AunSX8Du5z8yJr455QLnP/iKM0txTuc/DLhNtl+R6D9sdcInXLzpP4wLfUCh6+k/GqUJMq4p6T+Ogx/24lDoPzTrTDxCOeg/8DoFpXX96D8WXEHbLvvpP/zhhH3neeo/+Gw19nBO6j+s5qFpMujpP0RYCGZz0ek/DscgXBou6j9gOmi2nLLqP25md3apB+s/SDbCj9wk6z/EUqPqbkXrPyDJBYLukOs/zlSjEgfk6z8uBa9WD/zrP14GgKqX0+s/umma8gPA6z+WhJNvPSDsPzpjGIs16uw/WOOn7O6X7T9COaBsyZztP+ZjmozC+uw/Xs5Mdllc7D+UkSOYCYTsPwQLCW94je0/qm/on3q77j/Y6GCzhhXvP65colS3T+4/oMO7r7si7T/K/YY/6bLsP3T1tXCVhu0/BIVRLPn/7j/0g6df8d/vP46a+0PSY+8/iGDua9n67T8wNNw2h+jsPxg2wSPHI+0/tG7THEV47j/+01YHTLXvPyqK5oOjv+8/klmZoxGN7j8g+VuzFSftP3qiFm7at+w/0ESTZnWC7T9opioeFrPuPwK5wro3KO8/BsEPA5V07j/iTPEY+jDtP2xpDnNcYew/7t3FgC+J7D/Os1iqWkftP3C7XGK+xe0/FuVtPGeC7T/khA02+rPsP2qJNqvZ++s/qHWyPkbF6z+cUCzVcfHrP/Z22++PEuw/yF9pfsvl6z88GpQjm4nrP86x5uP5Q+s/VAPUnuom6z/K+9Cm1/7qP2A/JOo5nOo/wNiIEJwe6j+Y3wlWmOHpP+qrMjdnFeo/CAebXSRz6j+4d2P/NW3qP9RbVZ/TvOk/qiZZje2/6D+ckUHtjTjoPwJWP2z4l+g/5LjGJdJ/6T8IJJZxDwLqP+ZKa/gqd+k/0pZodHwn6D9MrMcjxB3nP7ImG1HnO+c/fAkwPWNk6D9eidBbnYXpPxSIs66piek/dHRBqXBV6D8UpI0xa+rmP2KXe2dehOY/YCZ5VM985z/4l4Lf6/foP1yYN8TMqOk/mjzjzHn76D9igerbVJbnP0xt7TQUwOY/On9/BUs65z+yXLZ2h5voP0KJewoxuek/LnfgzVe36T/MrW/F/8PoP2hjJwMN3Oc/QtP703fe5z90hNIUUs3oPwDQOUZ34uk/WNxcK/JR6j+oZ+tlOPvpPxyaN5vdbOk/fNdxxspM6T+KdCLK+8LpP5oj5xOnbuo/GI1EIGLa6j9aBfp+x+zqPzjVUJfl6Oo/NOtTzswQ6z8aIHGaJVvrP1LtS4wWjOs/lB3iv7uM6z+kZEMy/ZTrP1R1CwmV7+s/mmEILO6W7D92dbcK7B/tPxKnSw7nG+0/qMHllQyX7D/2LBOJNynsPzL2NLBWcuw/JFoQ1/J17T8aY21z8XzuP/5lTa7Or+4/2Dj0A3vl7T+CS0wxSd/sP9ByC9XUp+w//jHO0suc7T/aQGO+QQnvPzx5URDJu+8/op+CpSAa7z+oJyNfZbbtP6YP0nH61Ow/MPrP/35K7T8khwOgmLjuPyrdhXjB3u8/4idc9OC47z9AirJS+GfuPwaYEEv0Ee0/kF9SmRPY7D8UpHt18tbtP6hW5mbvFe8/9B6Pn2Rt7z+Ca4sAb4zuP7I7tUNKM+0/cDHlU0h57D+WfgQ7CtPsP7CRDlZtu+0/NOu/o5U/7j866+l8fN3tPzpTN0Pe5uw/VAkHQrEd7D80i9y64/rrP9x+SqFoUew/mNJe+RGV7D8Onw8mPmvsP5a6fgf/8es/Ws1D3MeF6z/mLmkNR1XrP4DWVestO+s/EOamXbT96j9oDLuA4qDqP06rozFCZ+o/ovidDtt86j9Su8neTK/qP+K6JV/pj+o/QMYrpFTq6T+ukqcYqRPpPyQ/u24nr+g/NnXQ0BwQ6T/+u5oer9LpP9pml3yOIeo/TuYAviB66T+CMGEU5zjoP34HGiL9Wuc/BCcGkk+c5z9a1J9ny77oPx5RhIZRsOk/6lYxowF86T9Ag4YQhS/oP+6ZwQbh2+Y/9s9WMBSm5j/63G/xdLznP9YreT9pJuk/VMGQ0w6g6T/wW4gYCL3oPwwkR7boSec/yJnKA4eT5j9E8/6ACD3nP+Ayux3usug/7gvHRKa26T/ctm9vnX3pPzZq6/C+Xeg/0MslE1dy5z+O9lFH9JfnPzLzC4CwsOg//gcfEdrS6T9EvN1yuCbqPzxv+XyBn+k/Ms78wYHu6D/sV5JtktDoP2ZNa/J8aOk/OIcAZn056j8Uu7HuBLHqP7YSeOmNrOo/QpZCsrt/6j/m0ldzDYrqP8DbfbUI1+o/9J0312Yo6z+SxEGqiE/rP4jR+49ZaOs/2nfwvoix6z9W8REQijLsP7oLv3SKnew/NMTV9juc7D+wrZXhnTvsPxbem+r7+us/lsc1BddZ7D/8o6y4L0ztP6CNrBtxKe4/lnJ7IOc87j+E2hQRCHrtP8SBrLs1oew/KA3zSuKd7D9wxI74CajtPw5NYfi3/O4/7sgEQGyA7z+A2yOEPcLuP4LdfuoIcO0/CPBas2vF7D98PWy7CHDtP7yn+mFx6+4/SMfey9Tw7z9e4zBH7JrvP7hWH+bWNe4/BHJj9hr87D/SYlQRmfzsPxo5e2y5Ke4/xGjBMeVq7z+OxHsF+pvvPwDNBOdmj+4/0qjOObkr7T82UtssXZPsP8aAmX8mI+0/xlWT8yEv7j+ehLPeO63uP8at7WnbJO4/pOSi5vsI7T9qGNT9QTrsP2yJhsLZNuw/8qeZpP+67D+iWsS5IBrtP2p2jx3A5+w/ADe74dlK7D82FvTH4rvrPzLCL/G+g+s/cklPKtiC6z/SMswqDG3rP7TsbxxvKes/fO9JJ8zn6j/amQaSOdnqP4xHsSvy5Oo/CKYSHTW46j+uCEIbQyjqP/KwPwx+eek/spDRP3sv6T86RXxbaYbpPzzzbfZFHuo/hhzMtR8/6j82VLaplofpP7DKjPsbX+g/qu5M2X+t5z/8mkVllAjoP+gNgklBGek/mnU/dUvW6T9i8R7s1m/pPzrO3Hi3F+g/glPXft/k5j9WXgdbVt7mP4LxGjAcCOg/rngx6w1V6T8uWa+ZjJPpP8K1TkDigeg/jnldR1AN5z/Uu6tcA3/mP9iCaltAVec/QoZ/al7U6D/2ZMOljrLpP+xkAhliP+k/StpZOLP65z/iZ/K29RfnP9w8zBOnZ+c/6s8VoVWm6D8qP+QgiMnpP2b7gLuv9uk/JoPfEO086T9afE2MaHHoP76uFEg1Yeg/wFq8Z5Ag6T+CMa667hHqP/TASnMDieo/EtQ/yhtj6j+IlV8iDwzqP6xU97lDAeo/gl6aFxlc6j9KjKgywNLqP2IwWXakGus/mEfjRZc36z+sLrVzQ2XrPyoLFQFov+s/0DorC2gV7D8yyB/b7yHsP6b+zvXH6es/RlwYhevP6z8Cc9im3zfsP+IQ7o5iD+0/pi/oOWDD7T/EDETePMHtPyRZ3vIJEe0/0kdrqS1p7D84oK6RxZLsP/rjQVVRpe0/nOdLb27Z7j9ECwHxHDDvP4Kae101YO4/FvPB1cUq7T9kCWZpvLnsP3yNd35rke0/9pp882cN7z/GFh58YurvP9wWOKXJZ+8/Nk7oPj767T9++402y+fsP6wQ2HB1JO0/aM2msSN37j9Qo1lNK67vP+SorXqgsu8/5mhs6EB/7j84+BcrWh3tP4J3wYQhsew/jCxB9ch37T+IuH00Pp7uPxTvgHicCu8/jFr/pBFX7j80duAV7RvtP8SJ4DE5VOw/PFlOxhN67D+Atn4r3yvtP9L/Fbgdne0/1Lhk8CNX7T+w0ceTypLsPx62HoDk5+s/kK9VQsa06z+GU7tbWdbrPyAdEzuG5+s/yGxIdHuz6z8yK5VbK1/rP+4e3WJrKes/sJrHMuQV6z/wJmZHiujqP7JmIb3yduo/Tv+4yoru6T9UTMAS2rTpP6b7TCY09+k/5pUDyANi6j8aL4ko/1zqPzxv8dMtouk/9LHl23Ka6D80Fb49ehLoP5z4YBhWfOg/6hXQ8rJw6T+4K9WQrffpPzxNYXP6Z+k/9LmxYvwQ6D844xmf5QXnP0RKWGWJKuc/bl5cDd5b6D9SMK4thYHpP+6lbIg5hOk/RI6xfX9N6D9uwmqu3+PmPxw3DFk9g+Y/XCd2oJ+A5z9UnrB/fPzoP8yyG0Neq+k/hH9wJ2r+6D+GboAq8J7nP/aFeL6P0OY/Kk8ivW9O5z82fjsNMazoP15Dwbqow+k/3mqAEATB6T+QV7dy9NXoP0yhHsEe+uc/UstVaIkC6D9+L7t0IezoP6DBObQP9uk/ylDkKedf6j9iV0cQLBDqP1CTnNfckOk/4ILxTUB76T9gs5rdJ+7pPx516rvoi+o/OrD3Qhns6j9yJYX1bwDrP3RBsKnXCus/GjzSQ8xA6z+mwhPxWozrP0CKxLKRsOs/6Dkbt/Gh6z/WzDeczqXrP2xSyXwjCuw/7JIVg7y/7D+cQYlSDk7tP3ItSJFtQe0/3oxl9pCt7D8+pb7jADfsP2IX2B/Tg+w/Rk+esx+S7T/25eUEhp/uP4LPSL0Dzu4/0pwzUDn47T/8YMW1/OjsPwplJGj8sOw/UECot2er7T8YvdSCqRvvPyx0M2Rey+8/sHMaAFoi7z9QxvFe0bjtPx7/vFia1uw/xsX64OdN7T+4UPTsVrvuP7zXX/aa3O8/wsfbhRix7z/ikVUfjF7uP+bYY1o5C+0/GiGrj1/T7D+6W2ggbM7tPx7xZyBhBO8/FLcrtFFU7z+AImJYvXPuP2ZGBI/9Ie0/QGPlsB5u7D+8lDS5rMTsP7QApuPioO0/3uL7IkwZ7j8wXJd87rXtPyaxyctyyew/XHS0RfoL7D8G6NV5ierrPwCNg9tNNew/JPqwqpZp7D9ozRKFKDrsPyw1BSoHyus/JOkaiEpt6z9kRmVsZUTrPxqjH8/vIus/puUtW7vV6j/mtqbOGW/qP7xVVw6COuo/jmheuoRf6j9S4fv4NJ7qP7D8WhK7feo/irb2/vzL6T/u/TgCNuroP9I7mjlHhug/lmt7hivz6D+KEN4qwcLpP2rhYnhpFeo/iqpdQnJn6T/4iG7eoh3oP94UrfFZPuc/7uzP/EWH5z82QGhm2LPoP1p+TWcyquk/WMTUOcxz6T9ARS9gdCPoP9ixQ48x0OY/LlVKms2f5j9c2g17FrznPz4vqPwFKOk/crIBrEug6T+kZZIKNr3oP25+fRqVTuc/uo+lQQaf5j+w+PXQF0znP7pK1SGMv+g/ImKDS5e+6T9MQDkXs4XpP4B/uKXKbeg/0O9IOTGN5z8iFZ4emrfnPxALSHISy+g/Wlye0Gvj6T+21pb7jDPqP7zNnq1dtOk/gho5U9wR6T+E/iaEzPzoPxRXqLA7kOk/Akmc/69T6j9wQKUxicHqP0yfySgSweo/6sGxNk+j6j9Gssxnt7rqP9iyglEsB+s/oHh3+uhK6z9a7CphoGPrP1ABicUneus/zu/wGevO6z+Ej31id17sP7j6WeaGzew/pN1QLgPC7D+I6Ayn6FHsP06lKSayCew/nE+JOjpu7D/C8BucpWztP2j4nao0UO4/ulGPIQBe7j+u0bNOXI7tP57wAE9JrOw/RLbv3n+p7D98aWbEtLrtP7zKpOEsFO8/eJ80p9aU7z8WE0A/Kc7uPzI0TCEFde0/GF8SWVTJ7D/ohC7SgHbtP5J91s6F8u4/MqTQP+bz7z/E9RHFOZjvP0APWQNvMO4/iPAuzx747D/skJa6DvrsP1y+wpPjI+4/DpQcYUZd7z9Musfw1YfvP047ulOIe+4/FMW1q/Ud7T8yI5KVGorsPx6YIxHfFe0/nAhc3kIW7j/WdZC5FYruP/gtNDaFAe4/5iTdpm3v7D/gJgbJrSrsP/DeHEe2Juw/9pbTYWGe7D9EXguzDu/sP3iRZhzEuOw/voWacOMl7D96JEf4k6XrP2aiOMbxcus/3Asz181o6z9oo94o9ELrP3b25XDT9uo/nERxd+O76j8iyeBcOb3qPzRwrwrx0+o/4DgEX/ij6j/0IuwmXgbqP5RH+0SiTOk/LFvkRaME6T+qeZnf5GjpP6r2UdTeDeo/tPgSmyUx6j8Q0eZdO3HpP1yVHyQkP+g/qulpjo6M5z9OQhOIj/DnP0xI4ultDOk/AN0B3UnO6T/QVNmYnWTpP34aRhoyB+g/xiobtfjT5j+4aU4cOdPmPw4XZg4QBOg/2sKVcQ5U6T8qhOzOYZHpP1JdQBzbfug/8HPbQooN5z+SlRSeSIXmP66mzXxeX+c/THeH20Ld6D9uGO0QHLjpP/CDghaXRek/ag9AYi8I6D/abViT6C7nPzLLiO1+guc/MnrPYky86D8kiQ46P9fpP+bVbiNaAuo/FhSjIjhR6T+aL7KmTZPoP/JCvKBliug/jrxRiWtE6T/Co+ATAynqP5z2omVpmOo/LtzUtlJ46j8K3U/0qTDqP7hzh0mwMeo/ZHJaZFSK6j9g5/k81fLqP2prcbOQLes/Mjw8ZnBK6z/+YD0EQ4XrP1ClkzHP7es/2i5Ck1hG7D/+5yjsMUfsP5wZjQ99/+s/+kc8xpXf6z9GjNo3Q0/sPzAUetrxM+0/ig9Fi7rt7T+AnaLFbeTtP8wfJBxUJu0/WhM9Vm517D9ygiYUBKHsP/aD4g9BvO0/zOV0eNv17j+GCa355EjvP0xH9IUyb+4/oKnxEeUx7T/4qqCg7r/sPyAtLLhMm+0/2j3w2jEZ7z9yaL9hvvLvP9C47Zzgae8/eP9EOWv47T96J+qHV+bsP4bojIdNJO0/8BfeW4x07j8M5NYyCaXvP8KSkPOmo+8/UjgaHBJw7j+E/k/23RLtPy4gqfTCqew/8AIkgwVs7T9U/oUAyYfuP+jBsApO6+4/cgXExU047j+Ya4PYNQbtPxS80XWoRuw/7NVGmE1q7D8eJW8RVg/tP3Z6PitWc+0/tq8gVAsr7T8ALMOpO3HsP+xPcGDJ0+s/WKkxZwGk6z9Qd5e0w7rrP0YPVVsAvOs/iC4FXPqA6z8S3fs44TTrP76myLkcD+s/IhiGe/cE6z8gIXKWNNLqPz4ffwrIUeo/LrQZZvi+6T8kl4Ku6ojpP6oNWBbJ2ek/Fpi6UWBR6j9UqgTHFE3qPzaSX6cKiOk/XCUSSgB26D9wmeCG1u3nP277tDkTYug/eFTNcX9i6T/4PtY32e3pP27PPOx6Wek/kqkJV8b75z+McpXQ3+/mP/jyPikKG+c/aprzk7FU6D+EE6T2M37pP6IINkiBf+k/CPNzSdBG6D+kEaveP9/mPz4P3V03hOY/LBoBzxSG5z8eKKCLAgLpP5DnTpmbruk/SC5sKGEC6T/YayvcNqnnP0Y7DDMI4+Y/uPXEBkJk5z+KZSiR3r3oP1ajm/G0zuk/pp0Qm2bL6T9QICUCH+noP+yr+iq9Geg/ciYRqfwn6D9iJ59vyQvpPzyEY+QPCuo/rMG+xD9u6j/6owJq0iXqPyrgBUzLtek/Qidhy4Sq6T9qADkvvBnqPyjkguo9qeo/6NlZXd796j/KX4lRVhTrP1jTKAkdLes/dFsLm+pw6z/Qbrv6U73rP4AgwR2d1Os/tGxagNC26z8KATCzfbbrP/pGOESNJOw/ojab+Q7o7D9itiY4RnvtPxzeqrHiZe0/IKEPUkLD7D/G+nLbUUTsP8ArFEbglOw/6BDKJXCt7T8SIyJCq8DuP06ErEOP6u4/7LrBqp4J7j9MYnp24fHsP14Mh4aLuew/PC0G1Qm57T+ATiuuaSzvP97CT1Dq2O8/coE4yMso7z9SmBL4HLrtP/Jf3wmJ1+w/ylDGPGxQ7T/kJzllh7zuP4IzPXNi2O8/ruDm61in7z9qPAaWylPuPxCD6tO/A+0/OIMhG/XN7D9KUzKYrMTtPzyVC1oP8e4/3vQQkm857z8Qx+gBvVnuPzKN1FL9D+0/3jxdanVi7D8eqOxXgrXsPz6c91Qche0/7IcJ26zx7T+MbK3CZY3tPyitcSyNq+w/Slh3dwX66z9kj4PAy9nrP7yV576LGOw/YnQTd2w97D/OdsC0rgjsP8hMaQkJous/XLYToepU6z+EJxtagDPrP8w2urmJCus/1K1qhbat6j8yAufhnj3qPzipbF5dDuo/yoTK3clC6j+av1cBeo3qPx4jIZ7Ca+o/4LKlQhGu6T+eUwuqqsHoP1wtz1WrXug/7D7+Z2vX6D8cY/njmrPpP/zcRTC/Ceo/Ni0xAG5V6T/Aib8ToAPoPx7w+5N5I+c/8AFkuPhz5z8aV/pgHKroP/xkoz/IpOk/0tPE+1Bs6T84B4wQshjoPwyfYahzxuY/AqrF+Zeb5j9EmMeZSL3nPxzCR/2JKuk/mNIutTmh6T/wMibfgr7oP35FUA8KVec/GLL355Ss5j9Wo6Dt11znP+A7F9orzeg/4Dyq2yTH6T9GLWbymY7pP0p4DRw1f+g/nOVb6sCp5z96ZV7/vtjnP5AuSHxe5ug/IGOeCXX06T9itsj93kDqP1ii8BQVyuk/Njs8rlc26T/APcRtBSrpP0TQtBiJuOk/4K3UZBNu6j/EQ0O4NtLqP6yJZA321eo/+lmMGmLH6j/Iy5ins+vqPyaJKbtGN+s/ypHH1CZt6z8q28RfgnfrPygGR3Pvi+s/IEzMN0fs6z9Uvg+BEIrsP54uPJ7J/Ow/SOjt1+rm7D8U0H0ZiWfsP6Z5TX4KGOw/rM5GMj+C7D/2vXpTUoztP7BGduynde4/JP/Rs5l97j8cAr1YgaHtPx55IPCptuw/DocjTY607D/aEUZVZcztPxQFg2//Ke8/du+DDEyn7z+YdQsvbNjuP0pzi4P6eO0/JhsBbpLM7D+cfGi5B3ztP+JwxOX59+4/uOx8mt307z8EMBT6l5PvP2KHbvu/Ke4/2jjMxGfz7D9gunIpvfbsP1pezwi0HO4/0I6fPMNN7z+6XB6jznHvP8T3h2dUZu4/3FaraHkP7T8oAPKURoDsPzZ351+nB+0/UIBMGPr77T9ANTlQb2XuP1LD6X0V3e0/PMvIE1DV7D9OPcMaxhrsP/Q87VoPFuw/pmDkHO+A7D+EKd18GsPsPxrT3Ikziew/dP5agr8A7D/+6D+5Q4/rP6I6uQcEYus/sEeTbHhO6z+Y0JSSoxjrP9IbrwVSxOo/Pp3KsmOQ6j9sPkvMqqHqP875ZRYuw+o/NEHXqtiP6j/+w+jGyOTpP46aJHSHIOk/rjEV3N/a6D+O/yWfYkzpP5Q51XUc/uk/ohPcEJMj6j/0Cixgf1vpPxQ9TaZdIOg/uPjCVEJt5z8gF5Z3H9rnP+5sSkmuAOk/nvkHWOvG6T9kQisKH1rpPzh8gvcB+Oc/ergkwwDF5j9GW7lEGsrmP6I7f/J6Aeg/So+riOZT6T90Rexa7Y/pP+omf9AIfeg/kGCU3qMP5z/u2k8Up43mPz6XArIoa+c/ng4MWiLn6D/MrkE8Tb7pP9yK9Wm4TOk/vCxJITEX6D9KZ1EqtEfnP0jBI23rnuc/8s4xMDjT6D9yJ9KoeuXpP6Kz8XicDuo/tqcLSIhm6T9ExDMhhLboPwAl4krAtOg/NoWqtvVo6T9CcGD1YEDqP4yFuRQTqOo/AAicfQ2O6j9wcOw/81XqPwqYKT+jYuo/ONC0DLe46j/uoW9wzRLrPxQSi1dmQOs/yKqnMGBd6z8ccxtdX6XrP4ycf9sOHOw/QPSLkcJ27D/SIpmFxWvsP4IhXW6uFOw/ykNoXfzu6z+mID4mXWbsPxrmMt/RV+0/WskMYOoW7j9yNpBXTQbuP6r5E2WZOu0/vLRAOheB7D9crigqvq7sPyhyInc70u0/IsQ2n7MQ7z+YxRlM1F/vPzCRRVmqfO4/OLW6NRg47T8aZ88UfcXsPzD2TJ4ypO0/1Fo/Yk8j7z9qE+IEAfnvP1jhpTEYau8/rEnoqmP17T8uAj2bLeTsP/7QktlNI+0/pncMsX1w7j8KtAqR6JnvPw7F3MG+ku8/gJfPZY5f7j/s5EgrpwftPzD1xzfBoew/xMXzDy5f7T+MIGHYvm/uPyi0FaZayu4/IOxL0lgY7j9e1jqB3+/sPxI9FiWwOOw/tOW4euJZ7D9SgpycyvHsP9CjVh96SO0/UnKm9TH+7D88KZVVXU/sPwKogDiRv+s/GG5cRf6S6z8eAiBbvJ7rP9rS3aYRkOs/Kl1KLl9O6z/6+rHEzwrrP5IVKh8Z9eo/csmlQCv06j94VmdV4LvqPw423vrKLOo/Bk/DwvqP6T+4sRKK3V3pPwo0a+0xvek//BAGJ0BB6j82fVvffT3qP2BgVwF3buk/wAWifKdS6D+Y+Fcps8rnP7IRceQ5Seg/1lH99ztV6T9aRV83luTpP64CCE20S+k/NEyB8+Xn5z/eJQ9hvdvmP0wH3xtvDec/nDzdf95O6D+2pM7OqXvpP+b77wyEe+k/GkOxjGhB6D8qeSuQj9zmP2jOwmZLh+Y/ZsIbBCqN5z800sqFeQjpP4RI6IaDsuk/GKDOQl8H6T9WY1CZJrXnP5wn3qd19+Y/+oMCabZ75z/qy4oHhtDoP6RdHj1Q2uk/PlS3RHzW6T9eUTL9eP3oPwAf8QzbOug/PodqBsBO6D9AQQBXOizpP2C36TduHuo/3ohrWvZ86j/8hdg7IzzqP1DxfVOZ2+k/VEWR3YLa6T8GiYiFpEXqPwIux0OZxuo//M6jD6oP6z/Oz4x5cijrP7iQfKemT+s/sqTr/BGh6z/AGgKV+u3rP+gAZycp+Os/aHpTvk/L6z9c50+WA8frP+xwPifGPuw/+CQokNIP7T/kj/ojf6ftPxT+tRI3ie0/CHHGpBjY7D+YOAN3JVHsP9Ka99d1pew/hpPVOtbH7T+WGtk/UeDuP9RcKEhlBe8/EsjggaUZ7j/YkEI59fnsP+YS7A9+wew/WFYp9anF7T/Yn/XEeDvvP+Ruws1m5O8/SkFbQHUt7z9gyrv5SbrtP971TZnG1+w/bJpIGQlS7T+wGp74JrzuP25Dn+AY0u8/CkBa9aeb7z8YId7+ukfuP9o2IkqM++w/QAFQjNXH7D/oRLjMtbntP+TQFx0B3O4/4gP5vcoc7z8olIuKez7uP3Z8khBT/ew/4BZkXVFW7D+AktAWkKXsPxTK+HckaO0/DFIZVcnI7T9C7NiD9WPtP1ot/dE7jew/OC+k0drn6z8aHrL6sMjrPwba2Rcu++s/Sm0l5KYQ7D/wGXpL59brPwzHOtoWeus/HPMmrrI86z8S1gajniLrP9ybMDUG8uo/enMqFLiF6j+SKzhRiAzqP+phn6Tn4uk/3PPHQbYm6j9atLFiIn3qP5j3Af8HWuo/Zp8W35+Q6T+UzqRFGproPypeTEplOOg/zsr6P+e86D8ywQ1IQaXpPz6KqIKU/uk/QIpSex1E6T/mJptC7OrnP9yABYxoCuc/slc7y25i5z+6hsJFmaHoPzaK9mAUoOk/7iQ5fZRl6T+Evh5qRQ/oP0bjTB+tvuY/6M3vPXSZ5j8kPm48CMDnP5ZMZkjyLek/sCOZBNmi6T+UM11l8MDoP5z5L9VGXec/KuyJ7Sy85j9eCgNbP2/nP+rQSRLF2+g/eg6v1krQ6T+uWYbGT5jpPzyUnr/4keg/0lhNKvrH5z/0a8j9UvvnP4AOaK2GAuk/LmOrc+0F6j92SW6AqU7qP/SFFayf4Ok/oOTucuRb6T84ot6RKFjpPwqOZC1S4ek/dh3ZYJuI6j/KgcGiBuPqP2ZBpzcx6+o/hIZHtOTr6j+aG64O7BzrP1ZsRh1CZ+s/ehuZWxGP6z+AhqKOJovrP8TL/jepnes/aDEguY8J7D8mSyowQbXsPzSFbzw9K+0/muY6UuMK7T/MgUUEd3zsP5R7ElH/Jew/mi7cStyV7D9qjx8uJqvtP57oGFK5me4/RLltpqab7j+MmEu7cLPtPyhbW3ZUwOw/pjawIQi/7D9O54iuEd3tPzxDHSkkPu8/5JiWh8S37z98Ahr+A+HuP8wyYoTpe+0/AEvHsCTP7D/AXn7ymIDtPx4co8vI++4/CFcFz7nz7z/AOM21Co3vP+BqQk7PIe4/IKSF9Pjt7D8qDz11pPLsPz5z6HsrFO4/skz/RWE87z9qovPG7lnvPyAutMPWT+4/rsWGWEwA7T8m6K365HXsP1hovcKD+Ow/TEXMuFHg7T9M218FWT/uP6y42+Sdt+0/LH80ErC67D/MQ7D1kQrsP+RxfSvrBOw/wqJkv7Ri7D84vaV6V5bsP0DmbkUkWew/Kr5XPH/b6z/qj4LJ+3jrP3bGqH38UOs/oug5JOMz6z8Wq/9zLe7qP54titMBkuo/kiV+LGBl6j/Wjz1YmYbqP9DkReavsuo/6H9p79576j8CQvfbksPpP1L9cChC9eg/DkloY0Oy6D/yRynX7TDpP77ypV0E7+k/mhP1/m0W6j/q54bTbUbpP8Qy4O/XAug/9Gw4X6lP5z/2hfSGTMXnPyB6+GUF9ug/CHFAYTLA6T8y3EBYYVDpPzIGRjgw6uc/IOGWev+35j+IixGr/MLmP9h933BbAOg/tAUMo5RU6T9KRmyvMI/pP5Ii7KxufOg/3pMiH54T5z/g2m+xGpjmPyojAnqXeOc/QAjkZ/bx6D9Yk+hYH8XpP4bjdeTEVOk/yDM9/rMn6D9eigD4TWLnP054BnbevOc/1idy4wzr6D/uDwR6M/TpP/ZFcXlyG+o/5KX82tV86T/ELX0t/droP+jVGsUx4Og/+k2OYx2O6T8sOOFl/VfqPwT1pSj6t+o/5I6okkOk6j+mr2T92nvqP+wmHoAGlOo/yJ7F2ivn6j/E2IiRmjLrP/aSOKQdU+s/VO4kzV5w6z/gzskVisXrP0AHLccRSuw/CLr4MZCm7D9Q14sLm4/sP4yuX9ZTKew/WOj+CRn+6z9E5IN9In3sP14UzUfxeu0/ELW1vdw+7j/SoRtzzSbuPza6DrHSTe0/5uYdViSM7D9mLxQH7bvsP55l4b005+0/mpPYeOkp7z/EPTxG4XTvP3TqhB2ZiO4/GFrde1497T+ePJkxZcrsP+qFXRQXrO0/YqCZxrkr7z8gX1JSJ/3vPz6dwkZyaO8/WikCaSvx7T/EvqUlT+HsP86BozB1Ie0/aLxM8vZq7j8MSPovzYzvP5QK0Jnwf+8/toy+er9N7j+m3ZEivPvsPzKn7Qgfmew/QtK/H0ZR7T9WrU/YKFbuP/JDl0LRp+4/TJfyskL37T8G0CVg9djsP+K1NUdWKuw/vqktRdhI7D/GvZGYSNPsPwzMIIKcHO0/8PRvr6zQ7D8eOnN9Py3sP8AAee1Eq+s/8sjilcOB6z9w0mMXT4LrPya+e7nNY+s/atHA7cAb6z9WLYfVCeHqP+RI0o5r2+o/bn/LOIbj6j/qwHxbl6XqP4JrMb0MCOo/HK10hadh6T8i3G2PxTPpP1ApHxp6oek/8qQNMakx6j+O6DpgQS7qP+5YRaJ/Vek/Kjmcpnkw6D9eTbPQH6nnPxy843fTMeg/BlrfZexI6T+cjqoo6NvpP1K+LUCuPuk/HCXSTGbV5z+mE+AciMnmPxYJlte8Aec/GHVH4GRK6D8CR0h95nnpP7K8Z69EeOk/XBZiO0096D9MNeut0dvmP1zAxmt3jOY/TFZ8qtmV5z9elqeQ3A/pP87gBowUt+k/XufPdGQN6T9QrVpBvMLnP3pdEkjPDec/TnKKs8CU5z9OflsXHeToP3Rhtvt05uk/fD8YlEHi6T9AZp5U+xLpP/5X+nZqXeg/mPHzW8F26D+ACeA3ZE3pPwbF7vwgM+o/lI8YIwWM6j82huruFVPqP25Pq8w2Auo/ZGpxyiQL6j/YJf2UzHHqPwqP/YTt4+o/xBcnAnUh6z/mM/grvDzrPxwCcTtlcus/apuUfyzR6z+M7azOOB7sP85Vb34mG+w/cOCrT2ff6z+gRDJuWdfrP44h4+jBWOw/nv/hcvQ27T9OttnzpNLtP2Rnse5bq+0/ENDwXgzs7D9Sf/jydl3sPxBbVquLtew/xmvIVETh7T+6EpG7aP7uP4KNI6N6Hu8/iNwU70go7j/ATk0hNgHtPx5zixvQyOw/nhKiRkDR7T88cakKzkjvP/4oVcrO7e8/kMkZf1Yw7z9qhhKwWrntPwDkBV5T1+w/fu6x2rtS7T8sfjtMM7ruP/K12CXAye8/dNFDUwyO7z9mf0ouZTruPzKeTZOj8uw/oOhnfQLB7D/MZvNAiq3tPxxua0g+xe4/bBwzi3D+7j+cMT8CByLuP2TgGIAI6uw/plIyk7dJ7D9mZ1ZZ25TsP/hyErkGSu0/ohIKt7Oe7T8oGI5QsTntPzB79j6Nbuw/sA31VILV6z8A7DvFP7frP0DyMRJB3es/tIc00Vnj6z8gBXH96KTrP2yidbFCUus/Dq+aDK0k6z8Q/4cSxxHrP5599fBv2eo/ygZIVtJd6j9Ke7OK7NvpP2bXCAE0uOk/aBQdS1UL6j+ind5UNG3qP6TU5ieTSOo/INhfJ7dz6T9eAUGll3PoP6iXOfmFE+g/II+ONqmj6D/60VbwuJfpP+JPHCDu8+k/7GM4/Ikz6T8wq3xvlNPnP3KxFIgy8+Y/aHPLY65S5z/6+pJwUJroP9YKSdMXnOk/sHgCDJtf6T+mcnQkNQfoP7oFjtviuOY/tmgrYGKZ5j+yWkqfUcTnP2ZYT4k7Muk/DK2BbCml6T9Kwjntf8ToP1g3qddJZ+c/oHBHV8fN5j/cravjQ4PnP+SmtDZP6+g/BCBb6ATa6T+0IrL70aLpP7RvMVIPpug/epuDMNDn5z+8a0WNRR/oP9JIf8d8H+k/3jdmqcwX6j80hytW51zqPxa4Qfr09+k/JhzSsHKC6T8qa1nsIIfpPxoePc+DCuo/hE1HyTuj6j/4aj4K8vPqP44Z7Q67AOs/0jSgDMcQ6z9ClE1SSk7rP+S20r8Il+s/roj8xZmw6z/+WVABhZ7rP6Rp+6xNr+s/OBtjK7cm7D8Y9QpQ9d/sP7w4BMTMWO0/Ivbjft0t7T9M0BKVqpDsPyhtkySLM+w/ptZB+gep7D+8z9vHEcntPwjft+lXvO4/DDZyihq47j8Kh/CcJMTtP2go6AlGyew/vo3iGujI7D8kSDY3sOztP+RzvVKQUO8/iAWpHTnG7z/qHNUf7+fuP6J/OQrTfe0/lLhcIArR7D8y2O9hMITtP/SgImLu/e4/kIsnynrw7z9+1wColoTvP14WEASjGO4/Tk3Vv9Xn7D9CDxwHxe3sPzRiJj5LCu4/GLTT4SYp7z/gU8zdQUDvPzbfY5AbOO4/fIOLnnbw7D9S4N7M+WrsP1BhiAR56Ow/yG5qiFTD7T/cMCrp4xfuP/yUrncwke0/LIXUp5qf7D+Y8IZvGPrrP+7KrCdQ8+s/IDDDpb5D7D9ExK992WjsP6amZl+sKOw/WliDtTO26z8yePXNxWLrP1KYvv7hP+s/SHASbhkZ6z/i33ECpcPqP5SpQb75X+o/YpU/6es66j86nXAnEGzqP6jhte58ouo/ynIaHxRo6j9adJQ2zKLpPzRkGJrmyug/1F8wqt+K6D9qV0g1kRbpP/CJkLmb4Ok/PvGXKbwJ6j8wX4ylETLpPw6MMeuh5uc/HozDFtEz5z/6iUBAHrLnP+oxyrl17Og/PjZLMiG66T+EEZtVakfpPzxY0nDF3ec/Xlflx/us5j/I5ac24r3mP2qLg3SvAOg/QgXn3BZW6T9u7EX4LI/pPxBbPXkPfeg/kM7GKnkZ5z8IlSBxnqTmP4Yhy5qih+c/aEHcJ7j96D9s9B5dj8zpP04pIO26Xek/tG3Zx7I56D8EVOedqn7nPziOdUFJ3Oc/4LmdAr4D6T9YZu2UYgPqP4aeI6DXKOo/DMX5sBiU6T+wOF9ZqQDpPz6/QBGmDOk/Ru8509Cz6T8Qm0BpzW/qP+wRmTMYyOo/KsWGH+y66j+6bZfDUKLqP3T4zbbDxeo/oK9vop0V6z8WSnyULlLrP4BMo/WuZes//jq7TmSD6z8oLcyitOXrP0rfT8fCd+w/JJr676vV7D9i5yZRo7LsPyyDEFxlPew/HnOLpeUM7D/c5BFWiJPsP77VwQA/ne0/KoLvOH9l7j/qIZan4EXuP3I2WWz5X+0/OHSc7pGW7D8yjzQKisjsPwYq43ch++0/knbwUnBB7z/wkXYpA4jvP5BbOtT7ku4/dvGxh7dB7T/ojMqfpM7sP3Lxp2T0su0/MLDxBmsy7z/6P+AwL//vPzgTsprxZO8/eMkiy8br7T/gAP0fvt3sP1wL46/CHu0/hKzUDfhj7j/6QULFu33vP0bYCAxGa+8/IkaemK867j+0/qRzI+/sPwLqHWPfj+w/chiFulFC7T/wjE3fEDvuPxZkMpTBg+4/oqRywxvV7T8CPIXvgsHsP7wluwKhG+w/pKkDITU37D+4DlRX3LPsP4wy+cLQ7+w/mGdmnpCi7D/0hagI8grsP16os1ntlus/sG2KMFhw6z+MgFT5h2XrP5i9kGtIN+s/XFoznDbp6j8uRZAHorfqPzbyb8Uewuo/GExnBw/T6j8qPpaRY4/qP8z4pH6e4+k/XmtBDRQ06T8mqDcptQrpP8L3GI+shuk/8tQaFKEi6j/cUqofZh/qP/ADAR0xPek/lgu5gIcP6D9GhiFsK4nnPyQeAZvoG+g/Hg+WJpQ96T9StEJs0tPpP8DaaixwMuk/CHNJ5FHE5z9uyv3uSLnmPyAJoBD39+Y/gEvdJURH6D/c/ft46XjpP7BEmsDFdek/JljZuYI66D8K5Oc9CN3mP46VZm24k+Y/TH47dx2g5z8UucNxJhjpP5z2R+lMvOk/6vXHRnAU6T/uyyDr89HnP6ZHsFgLJuc/6jSHBVSv5z9sbRMPmfjoP04LtF4d8+k/InD3v7Lu6T90pJZininpPxRr2cJcgeg/SKBd+e2f6D+0mqviNm/pP1LO8HIeSOo/+vyCMmab6j9YtMOPoWrqP8Dy0iCTKeo/VnJEiVQ86j8y2JUJIJ7qP5zMhIotAes/ChLz5zcz6z8iZyACK1HrP2oImUdJles/DmGtMCQB7D8SBevx+E3sP2b5zCyGPew/2FDfUQ/z6z/i7FxveOfrPwzn5kx0cuw/yPKhAmJd7T+WgYUEpPztP/7KNB1DzO0/wo/kZxb/7D9STPXCQWnsP4R6nLoZxew/QDxzMa357T8CQDMj4xrvP+5TgQPFNe8/+AQ/uIQ17j8mW/uuogftP4iT4/l9z+w/okfUYMXb7T9obJeGYVTvP4Ak0ioe9e8/JgMTbnAx7z+8R/fhUbftP1QQivEv1uw/cpZkRYJS7T8KzLy8qrbuP/Z5lx9bv+8//DcclY1+7z8MlVqA0SvuP1gI0sYK6ew/Sukp0n257D/AYwsLLaDtPwyFl43PrO4/hGM3FW/e7j+sZTH0bQTuP7Diyoon1uw/VtZTP6087D9ep2HlaYPsPwawrB7PKu0/SuMOu35z7T8Wd4ULrQ7tP5LHtASQT+w/OFpOBQTD6z/qJuPrfqXrP6Y0UjTRvus//Dwlbpm16z9YHOuRynLrP/QBLnyeKus/FgDN6+MM6z82UZRwAAHrP6RGcb3RwOo/kp0gqRc26j/0ly/J4avpP2KzdChVjuk/qiL09bHw6T9cFMHatV3qP76Zzv5rN+o/sKzbSmVX6T+UWJsqNU7oPzieO5gd8Oc/huuGzbqL6D8QfScQBovpPwLjpInQ6ek/ogEsi7wj6T9sqTMOpb3nP3Y+HFzi3eY/4tV31rxE5z+oMEGrQpToP7pwWFXTmOk/cngQrWha6T9K+OhhhwDoP05EGNwYteY/KgmQZGGb5j8qVAVPIMrnPyzR5xFiN+k/Gm2teyqo6T9qhuFFMsnoP/44IK0Qc+c/9M97O1zh5j8axlCe2pjnP5SR41jB++g/lmeviE7k6T/WTLKcHa7pP5wKYu1xu+g/eihwbTUJ6D+wnpyIhUToP+i7F0YyPek/nLxXLAoq6j8mHNkek2vqP1B4nxcMEOo//lPp7fGp6T/y+HQX2bbpPwaxo8UKNOo/lP2cg+i96j9c4i8D8gTrP8aotsSKFus/rBWm5fg16z8Ee3sLuH/rP/StFxKFxus/YFwRk7HR6z8uBCz5lbHrP8wew2jVwOs/dhcBD7BD7D/Y7m7mGArtPyz75qRjhe0/6ksoycpP7T9ERn1eHKTsP8LTwKioQOw/Em5v0ri77D8osLsQBubtP2bND2dz3e4/2GAauOnS7j+YOD7Al9PtP+JCQyR80ew/0kSoKynS7D/I41G/N/vtP9C+lvM5Ye8/YGmfxKPS7z+udRnQLO3uP6qpN224fu0/6BVj/EHS7D+OQCtSyobtP94jy0pn/u4/JDyLciHr7z+42KVdQXrvP/hohalBDu4/aPV9ygHh7D+QBqKaH+jsPyyEFkIV/+0/dOtIVRsU7z80poU61CTvP07PFXYvH+4/fCM9lQDg7D84SL5GiV/sPyLvJmOM1+w/FCCx/A2l7T/g60KxIe/tP2B49KLfae0/AhL49ByE7D+KB0quYOnrPzYpsf1E4es/ckRGmhkk7D8AwBO8tDrsP3yWXQ7i9+s/qhxz7u2Q6z9W4ddNq0zrP87pHm67Lus/1E9q6yb+6j8SkJmTHZnqP7b224lQLuo/QDGslhkR6j98q+4KGlLqP/Tg+H6bkuo/kCMMLIFU6j9sqmiPhILpP57lEqGIoeg/vmX648Vk6D/6CLvTVv3oP/j8J2Hn0uk/eKUmL4P96T9uSNuIdR7pP2AagvfJy+c/gDQoFMYZ5z80Ythhm6DnPw5HVToB5Og/1KoBw7m06T+cKdOLPz/pP35k6pzJ0uc/gn2crvuj5j9GmQ3fy7rmP0QnG0F0Aug/4lao/WpY6T8eM30a44/pPwj0h3Ltfug/xPRsSDQh5z9A3iNbLLPmP5C9NSZBmOc/JOO5YWAK6T8YjW4FmtTpPwa2tICYZ+k/hJghlCdN6D+UG+znvZznPzbgCWYc/ec/5mcQxj4d6T8w9oC+ABPqPzidOifHNuo/8k/gHUis6T8+m4aVeCfpP5IP/r0IOuk/TGb+IP7Z6T/WInkFxofqP/gaD7Rm2Oo/Ut1zBv7R6j+KQ0nPQ8nqP+AoRV3E9+o/CsBRS/dD6z8Gm2Gje3HrP/DHSMUSeOs/pK5rtmiW6z9Irj5c0AXsP9QlCcMMpew/TGuQoAAE7T8aTRefz9TsP/R6/WbbUOw/xmfiJVwb7D+GIkbag6nsPyY+vkCqvu0/9Lxw/r+K7j8KB0E6emPuPxb2Bo4Hce0/lNt/jVyg7D8YVeXBjtTsPxTA65/2De4/uvTqOTxX7z8+WVYeMpnvP+zDnDrQm+4/yOREZCNF7T/84FpGOdLsP2CN0kPFuO0/4C/L51037z8yanWCF//vP7CvusSZX+8/BiIYqDrl7T8WKqfFfNnsP5ZeItU1G+0/JjU4oIFb7j+UAXLyuWzvP0T9joDJVO8/JEfzf2km7j+GWXfx4+HsP6aa2YAFhuw/Ai2Ea1Uy7T+0LkiLgR7uP2TWkAM8Xu4/NBuqyvSx7T8whxvOk6nsP2QU4JqWDOw/JtWbh/8k7D9+jnKskpPsPzrV68kqwuw/7k/EF/Nz7D+8KifYhOjrP9wCKkmTgus/MOqGCcNe6z+eh8pTc0jrP+xj7ciVCus/4le2L9e26j/efayzqo7qP44NSjw9qeo/MI59OszC6j9YzxjuTnnqP64le2KRv+k/VoFcaVUH6T+4LGg6vuLoP4xA2r7TbOk//nT6LS0U6j9a7T7Y8hDqPyK5itCXJek/NCYDQeHv5z8204wn5GrnP9YPTDmBB+g/eF99LzYz6T/U+e8oWMzpP3Ap1jABJ+k/LA3wobK05z+qCXrcB6vmP2b0GJQg8OY/rDBJJHtF6D+cvpfpsXjpP5TFCogJdOk/lAGT2Qw56D9+gGJfNODmPzTwSHYKneY/UH7abe6r5z8E8gCVUSHpP+5EUaAqwuk/pHs6yoEc6T+coKHlyOLnP55hBz0fQOc/aqVW1GLL5z8wclrq7g3pP5ye3mxDAOo/Hqr+r8v76T9GfyvtWUHpP9p+gJqipug/xo1+qzLK6D/U8TfzoZHpP6QgMM9cXeo/wkvleROr6j+Wp47RvILqPyZBG0udUeo/Ktz8zPtt6j+qwX2QisrqPxACoFVMHus/bnltgetE6z/Ee2tztmXrP5TIQSFDuOs/PKa7H+Mw7D+8BHWOJX3sP9LCGJ45X+w/ZDv7I0AG7D909rTcWffrPwQTax3Ri+w/fAcH3giD7T/oy/E6aSXuP0LFIBnf6+0/7s4YIDAR7T9YiAOTgXTsP4CPnCgY1Ow/+MdR8QMR7j/CZU+csjXvPxwp/PI6S+8/+lhkUFVB7j9OipG/OQ3tP/RlcTaE1ew/KmlVSDLl7T9kE4YILF7vP4Y74MxR+u8/JL14yMQw7z8IGp/OMrTtP77QbC9d1Ow/Xm3of1pR7T+IzVJgjLHuP+6C+J7tsu8/tNOYJDRt7z/WJtfTCBzuP4b+gjrH3uw/kFrEt0mx7D8gxCPUoZHtPxg6kW2+ku4/qrfbONW87j/0vUlfv+XtPxA6pUa6wew/dj3PvTcv7D9G6K/hQXHsP1D2akSKCu0/DiQLpz1H7T8GZRrg/OLsP4KFcLxSMOw/3CqN5mew6z9qvhVndZPrPwJJ/1nrn+s/LgotMnqH6z+oJ37YokDrPyARWfc7A+s/2iwiSWH16j/u7Wl/UfDqP8RXdIc2qOo/kFn3b5oO6j/WLbUJfnzpP6r98FtdZek/7COf0dbW6T/u/2/ArE7qPxTFflmaJuo/Djg2Trg76T9S0+e/BCroPw5/Eak7zuc/OFbr3CR16D9U2xh0LH/pP/4QDg9A4Ok/EJeM670U6T9OUUD7KannPy4ifPyByuY/htbom5445z+QmIcucI/oP0jg41xHluk/vDQNGgFW6T/Auq+rQfvnP0qCxzRSs+Y/lkPWWm+f5j8K2+crb9HnPy5YKd1hPek/SFc/fdur6T9cLwu8B8/oPzDP8haYgOc/qoeExeL25j9WDr/z96/nP5o7kjQSDek/xvrS/SLv6T+OflJXL7rpP0alvAQZ0ug/cFmGkBss6D+qu2E6AWvoPxCeuGWYW+k/MFHDaJ086j9AciRJp3rqP8afcrDbKOo/nBnvLVHS6T+It+xVO+fpP2xgCcjTXeo/CJqXipXY6j9S1tGf/xXrPw658leXLOs/Iib1wWlb6z+aYYjBHrHrP0yevrSh9es/3m5LkEry6z+MexvoUcTrP3CE1gE50us/4oWI3Wxg7D8c3y0omDPtP/wHg8XtsO0/kpMBLJ1w7T/61mlaxbbsP2R7GLlSTew/4jXRheXN7D8QlalU9AHuP7R1Vyv8/O4/9BauUwns7j/uwQmFxeHtP2BibZD02Ow/wq35fcba7D/kVQSFnwjuP6KRLdsXcO8/brugZf/c7z+SjnQSvfDuP9a6inWbfu0/sHhlxcvS7D92ZTp2Y4jtP6Rpqukw/e4/MHGYqK/j7z8eaYM9EW7vP4jXpUuyAu4/OgGR+IDZ7D+yM0g+teHsP/7oERyM8u0/zONiw0b97j/Qzjr7sgfvPxyH6ZYfBe4/7rUnyvLO7D+UBVDXl1PsPxh9K47Dxew/kCuhM4qF7T9C4ZmwJMXtP5blHCq+Qe0/vOM3LkRo7D88ZHzlcdjrP5zv9JjQzus/KMLaz9ID7D/coW/H/QvsP1aLsqTbxus/Pg6Kyb5r6z8WyfGutTbrP5IOArmPHes/SIUPahfj6j963ICUqm7qPyxE3c8c/ek/+ujbgvvn6T+G3d15wTjqP6b3I78Rg+o/JE1YBC9B6j8y67B/y2LpP/LHfqs7eeg/+hbIoQZA6D9q/o41SOXoP8ZZl9Trxek/Zn3uhcjx6T+KR6DvowvpP9ohkOFdsuc/wMkKGpQB5z8yxy7cyZDnP8YPM1mp3Og/0MUWyf2v6T/0R3o45jfpPyLNEBtEyec/aDMXRgSd5j8u3jysubnmP2pAiHWmBeg/2uq1eY5b6T/sGmezU5HpPy6fAEkKgug/yKgg380q5z+4VEOGvcPmP0B9Dn9pquc/usxZhucX6T8yfvTVO93pP777ZzFbcuk/+gAHwgti6D8shMnRerznP4orcN9HH+g/4OYDH4I36T/aT5ScBiPqP6zLLAk8Reo/hiPk9lrF6T+M5IM8Wk/pPxCai/BEaOk/Jv/lSJMA6j/AJIRH3J/qP0IzCRff6Oo/mjy95W/p6j+w7I4Ko/DqPzymxcfxKes/zt+l2iNy6z/qrDIkdJDrP3Aho6xBius/NO809mOp6z+Asn6EziXsP77W8r/a0ew/jl8jfHkx7T/q0M25EfbsP3L6SrSuY+w/aj08n3Yp7D98dY5LCr/sP0ID+5Ai3+0/cDt9242u7j/ctJ0rjn/uP0xQnJn3gO0/PIJHAoGp7D+guavu9N/sPzCdtJ2pH+4/Tk47/0Fr7z9UKuI3Z6jvP3YVc8kUo+4/QJNHg6JH7T8OD2FLIdXsP5xxTdSEve0/aHOu9o067z+W4rIk4PzvPzplYTJvWO8/tiOXUozd7T/eDlOTjdTsP45G/3nOFu0/fA5b9ZRR7j+mSfRCzlnvP8LsdzGGPO8/CLcibvgQ7j+qKfqmBNTsP6iVUduUe+w/rPpYQFYh7T/EWvQ0hgDuP8a+SaZRN+4/OJsz8t6N7T+EmYa5M5HsP9KhMm09/es/ps9fQD4S7D+ohtTneHLsP+rSiu6+k+w/rl/jnulE7D8oDR2/B8brP/YL8nU/bus/dL0cLwtN6z/a8l+3HSvrP0xWigfK3eo/9n3Th7mE6j9o6jXnNWbqPzhVHyXRkOo/bMt1SMSy6j+sHKxwY2PqP+ad4nn2m+k/okgET4Db6D8qV0EW8rvoP5Q31Zf5U+k/1B9/lFIG6j/6MVEm7gLqP7zT0+G/Duk/bJivkpbR5z9KHBVlV07nPzq5HYCk9Oc/CKP6/9Qp6T9s17VKfMXpP063+CBoHOk/HN32zpGm5z9ionIAzJ7mP37LbEc76uY/GC3/EwhF6D8wfpWoPnnpP1alMQISc+k/CuY51u446D8wqZVJVuXmP0IOaJ1oqOY/PgKR5ES55z8UHOwPWCvpP0RxbHSryOk/uGMdmZcl6T98xiq5NfXnP+7+gHv/W+c/0jCO8t7o5z+CBdNXEyTpP/afDwXhDeo/vAKk/YcJ6j92JxEpJVrpPz5hzv4rzeg/fAWYxXv16D/uPsrYlLTpP2TlDEHScuo/EFHyyQa76j8m1H4RXpvqP6i0DeBDeuo/agC7DgSg6j8+L53h9/bqP6SBIxI9O+s/9mrinohW6z9+FIzYVXrrP/YPhfdC2+s/Zl+FaFNg7D8mRYSDqavsP4iexKUygOw/pN84afIY7D9GL/QJ9wbsP5pEoTDMpOw/9pVy6tan7T9IeEoN4kzuP1asQwYjCu4/AlMYY1Mi7T+i5s1IMn/sP7rhV0R/4uw/2NBLHjwn7j+MlQoLyk7vP04+FdrTXu8/HDoh2LdL7j/0bMWM+hHtP56tWJnf2uw/ggkhc4Dt7T8=",
          "dtype": "f8"
         },
         "z": {
          "bdata": "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",
          "dtype": "f8"
         }
        },
        {
         "hoverinfo": "none",
         "marker": {
          "color": "limegreen",
          "size": 2
         },
         "mode": "markers",
         "name": "Start",
         "scene": "scene",
         "showlegend": false,
         "type": "scatter3d",
         "x": [
          -0.7898226081072581
         ],
         "y": [
          0.8196230690945268
         ],
         "z": [
          0.6945505524765017
         ]
        },
        {
         "hoverinfo": "none",
         "marker": {
          "color": "crimson",
          "size": 2
         },
         "mode": "markers",
         "name": "End",
         "scene": "scene",
         "showlegend": false,
         "type": "scatter3d",
         "x": [
          -0.8363996889802388
         ],
         "y": [
          0.935241913663319
         ],
         "z": [
          0.6860808059654853
         ]
        },
        {
         "hoverinfo": "x+y+z",
         "line": {
          "color": {
           "bdata": "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",
           "dtype": "f8"
          },
          "colorscale": [
           [
            0,
            "#440154"
           ],
           [
            0.1111111111111111,
            "#482878"
           ],
           [
            0.2222222222222222,
            "#3e4989"
           ],
           [
            0.3333333333333333,
            "#31688e"
           ],
           [
            0.4444444444444444,
            "#26828e"
           ],
           [
            0.5555555555555556,
            "#1f9e89"
           ],
           [
            0.6666666666666666,
            "#35b779"
           ],
           [
            0.7777777777777778,
            "#6ece58"
           ],
           [
            0.8888888888888888,
            "#b5de2b"
           ],
           [
            1,
            "#fde725"
           ]
          ],
          "width": 3
         },
         "mode": "lines",
         "name": "Dataset 2",
         "scene": "scene2",
         "type": "scatter3d",
         "x": {
          "bdata": "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",
          "dtype": "f8"
         },
         "y": {
          "bdata": "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",
          "dtype": "f8"
         },
         "z": {
          "bdata": "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",
          "dtype": "f8"
         }
        },
        {
         "hoverinfo": "none",
         "marker": {
          "color": "limegreen",
          "size": 2
         },
         "mode": "markers",
         "name": "Start",
         "scene": "scene2",
         "showlegend": false,
         "type": "scatter3d",
         "x": [
          -0.7862561935438168
         ],
         "y": [
          0.8154911838507135
         ],
         "z": [
          0.6926869918188012
         ]
        },
        {
         "hoverinfo": "none",
         "marker": {
          "color": "crimson",
          "size": 2
         },
         "mode": "markers",
         "name": "End",
         "scene": "scene2",
         "showlegend": false,
         "type": "scatter3d",
         "x": [
          -0.8237282936669938
         ],
         "y": [
          0.926844508096464
         ],
         "z": [
          0.6912808053207835
         ]
        }
       ],
       "layout": {
        "annotations": [
         {
          "font": {
           "size": 16
          },
          "showarrow": false,
          "text": "true",
          "x": 0.225,
          "xanchor": "center",
          "xref": "paper",
          "y": 1,
          "yanchor": "bottom",
          "yref": "paper"
         },
         {
          "font": {
           "size": 16
          },
          "showarrow": false,
          "text": "preds",
          "x": 0.775,
          "xanchor": "center",
          "xref": "paper",
          "y": 1,
          "yanchor": "bottom",
          "yref": "paper"
         }
        ],
        "font": {
         "family": "Arial",
         "size": 12
        },
        "height": 600,
        "margin": {
         "b": 50,
         "l": 50,
         "r": 50,
         "t": 80
        },
        "paper_bgcolor": "white",
        "plot_bgcolor": "rgb(240, 240, 240)",
        "scene": {
         "aspectmode": "data",
         "bgcolor": "rgb(240, 240, 240)",
         "domain": {
          "x": [
           0,
           0.45
          ],
          "y": [
           0,
           1
          ]
         },
         "xaxis": {
          "gridcolor": "rgb(200, 200, 200)",
          "showbackground": true
         },
         "yaxis": {
          "gridcolor": "rgb(200, 200, 200)",
          "showbackground": true
         },
         "zaxis": {
          "gridcolor": "rgb(200, 200, 200)",
          "showbackground": true
         }
        },
        "scene2": {
         "aspectmode": "data",
         "bgcolor": "rgb(240, 240, 240)",
         "domain": {
          "x": [
           0.55,
           1
          ],
          "y": [
           0,
           1
          ]
         },
         "xaxis": {
          "gridcolor": "rgb(200, 200, 200)",
          "showbackground": true
         },
         "yaxis": {
          "gridcolor": "rgb(200, 200, 200)",
          "showbackground": true
         },
         "zaxis": {
          "gridcolor": "rgb(200, 200, 200)",
          "showbackground": true
         }
        },
        "showlegend": false,
        "template": {
         "data": {
          "bar": [
           {
            "error_x": {
             "color": "#2a3f5f"
            },
            "error_y": {
             "color": "#2a3f5f"
            },
            "marker": {
             "line": {
              "color": "#E5ECF6",
              "width": 0.5
             },
             "pattern": {
              "fillmode": "overlay",
              "size": 10,
              "solidity": 0.2
             }
            },
            "type": "bar"
           }
          ],
          "barpolar": [
           {
            "marker": {
             "line": {
              "color": "#E5ECF6",
              "width": 0.5
             },
             "pattern": {
              "fillmode": "overlay",
              "size": 10,
              "solidity": 0.2
             }
            },
            "type": "barpolar"
           }
          ],
          "carpet": [
           {
            "aaxis": {
             "endlinecolor": "#2a3f5f",
             "gridcolor": "white",
             "linecolor": "white",
             "minorgridcolor": "white",
             "startlinecolor": "#2a3f5f"
            },
            "baxis": {
             "endlinecolor": "#2a3f5f",
             "gridcolor": "white",
             "linecolor": "white",
             "minorgridcolor": "white",
             "startlinecolor": "#2a3f5f"
            },
            "type": "carpet"
           }
          ],
          "choropleth": [
           {
            "colorbar": {
             "outlinewidth": 0,
             "ticks": ""
            },
            "type": "choropleth"
           }
          ],
          "contour": [
           {
            "colorbar": {
             "outlinewidth": 0,
             "ticks": ""
            },
            "colorscale": [
             [
              0,
              "#0d0887"
             ],
             [
              0.1111111111111111,
              "#46039f"
             ],
             [
              0.2222222222222222,
              "#7201a8"
             ],
             [
              0.3333333333333333,
              "#9c179e"
             ],
             [
              0.4444444444444444,
              "#bd3786"
             ],
             [
              0.5555555555555556,
              "#d8576b"
             ],
             [
              0.6666666666666666,
              "#ed7953"
             ],
             [
              0.7777777777777778,
              "#fb9f3a"
             ],
             [
              0.8888888888888888,
              "#fdca26"
             ],
             [
              1,
              "#f0f921"
             ]
            ],
            "type": "contour"
           }
          ],
          "contourcarpet": [
           {
            "colorbar": {
             "outlinewidth": 0,
             "ticks": ""
            },
            "type": "contourcarpet"
           }
          ],
          "heatmap": [
           {
            "colorbar": {
             "outlinewidth": 0,
             "ticks": ""
            },
            "colorscale": [
             [
              0,
              "#0d0887"
             ],
             [
              0.1111111111111111,
              "#46039f"
             ],
             [
              0.2222222222222222,
              "#7201a8"
             ],
             [
              0.3333333333333333,
              "#9c179e"
             ],
             [
              0.4444444444444444,
              "#bd3786"
             ],
             [
              0.5555555555555556,
              "#d8576b"
             ],
             [
              0.6666666666666666,
              "#ed7953"
             ],
             [
              0.7777777777777778,
              "#fb9f3a"
             ],
             [
              0.8888888888888888,
              "#fdca26"
             ],
             [
              1,
              "#f0f921"
             ]
            ],
            "type": "heatmap"
           }
          ],
          "histogram": [
           {
            "marker": {
             "pattern": {
              "fillmode": "overlay",
              "size": 10,
              "solidity": 0.2
             }
            },
            "type": "histogram"
           }
          ],
          "histogram2d": [
           {
            "colorbar": {
             "outlinewidth": 0,
             "ticks": ""
            },
            "colorscale": [
             [
              0,
              "#0d0887"
             ],
             [
              0.1111111111111111,
              "#46039f"
             ],
             [
              0.2222222222222222,
              "#7201a8"
             ],
             [
              0.3333333333333333,
              "#9c179e"
             ],
             [
              0.4444444444444444,
              "#bd3786"
             ],
             [
              0.5555555555555556,
              "#d8576b"
             ],
             [
              0.6666666666666666,
              "#ed7953"
             ],
             [
              0.7777777777777778,
              "#fb9f3a"
             ],
             [
              0.8888888888888888,
              "#fdca26"
             ],
             [
              1,
              "#f0f921"
             ]
            ],
            "type": "histogram2d"
           }
          ],
          "histogram2dcontour": [
           {
            "colorbar": {
             "outlinewidth": 0,
             "ticks": ""
            },
            "colorscale": [
             [
              0,
              "#0d0887"
             ],
             [
              0.1111111111111111,
              "#46039f"
             ],
             [
              0.2222222222222222,
              "#7201a8"
             ],
             [
              0.3333333333333333,
              "#9c179e"
             ],
             [
              0.4444444444444444,
              "#bd3786"
             ],
             [
              0.5555555555555556,
              "#d8576b"
             ],
             [
              0.6666666666666666,
              "#ed7953"
             ],
             [
              0.7777777777777778,
              "#fb9f3a"
             ],
             [
              0.8888888888888888,
              "#fdca26"
             ],
             [
              1,
              "#f0f921"
             ]
            ],
            "type": "histogram2dcontour"
           }
          ],
          "mesh3d": [
           {
            "colorbar": {
             "outlinewidth": 0,
             "ticks": ""
            },
            "type": "mesh3d"
           }
          ],
          "parcoords": [
           {
            "line": {
             "colorbar": {
              "outlinewidth": 0,
              "ticks": ""
             }
            },
            "type": "parcoords"
           }
          ],
          "pie": [
           {
            "automargin": true,
            "type": "pie"
           }
          ],
          "scatter": [
           {
            "fillpattern": {
             "fillmode": "overlay",
             "size": 10,
             "solidity": 0.2
            },
            "type": "scatter"
           }
          ],
          "scatter3d": [
           {
            "line": {
             "colorbar": {
              "outlinewidth": 0,
              "ticks": ""
             }
            },
            "marker": {
             "colorbar": {
              "outlinewidth": 0,
              "ticks": ""
             }
            },
            "type": "scatter3d"
           }
          ],
          "scattercarpet": [
           {
            "marker": {
             "colorbar": {
              "outlinewidth": 0,
              "ticks": ""
             }
            },
            "type": "scattercarpet"
           }
          ],
          "scattergeo": [
           {
            "marker": {
             "colorbar": {
              "outlinewidth": 0,
              "ticks": ""
             }
            },
            "type": "scattergeo"
           }
          ],
          "scattergl": [
           {
            "marker": {
             "colorbar": {
              "outlinewidth": 0,
              "ticks": ""
             }
            },
            "type": "scattergl"
           }
          ],
          "scattermap": [
           {
            "marker": {
             "colorbar": {
              "outlinewidth": 0,
              "ticks": ""
             }
            },
            "type": "scattermap"
           }
          ],
          "scattermapbox": [
           {
            "marker": {
             "colorbar": {
              "outlinewidth": 0,
              "ticks": ""
             }
            },
            "type": "scattermapbox"
           }
          ],
          "scatterpolar": [
           {
            "marker": {
             "colorbar": {
              "outlinewidth": 0,
              "ticks": ""
             }
            },
            "type": "scatterpolar"
           }
          ],
          "scatterpolargl": [
           {
            "marker": {
             "colorbar": {
              "outlinewidth": 0,
              "ticks": ""
             }
            },
            "type": "scatterpolargl"
           }
          ],
          "scatterternary": [
           {
            "marker": {
             "colorbar": {
              "outlinewidth": 0,
              "ticks": ""
             }
            },
            "type": "scatterternary"
           }
          ],
          "surface": [
           {
            "colorbar": {
             "outlinewidth": 0,
             "ticks": ""
            },
            "colorscale": [
             [
              0,
              "#0d0887"
             ],
             [
              0.1111111111111111,
              "#46039f"
             ],
             [
              0.2222222222222222,
              "#7201a8"
             ],
             [
              0.3333333333333333,
              "#9c179e"
             ],
             [
              0.4444444444444444,
              "#bd3786"
             ],
             [
              0.5555555555555556,
              "#d8576b"
             ],
             [
              0.6666666666666666,
              "#ed7953"
             ],
             [
              0.7777777777777778,
              "#fb9f3a"
             ],
             [
              0.8888888888888888,
              "#fdca26"
             ],
             [
              1,
              "#f0f921"
             ]
            ],
            "type": "surface"
           }
          ],
          "table": [
           {
            "cells": {
             "fill": {
              "color": "#EBF0F8"
             },
             "line": {
              "color": "white"
             }
            },
            "header": {
             "fill": {
              "color": "#C8D4E3"
             },
             "line": {
              "color": "white"
             }
            },
            "type": "table"
           }
          ]
         },
         "layout": {
          "annotationdefaults": {
           "arrowcolor": "#2a3f5f",
           "arrowhead": 0,
           "arrowwidth": 1
          },
          "autotypenumbers": "strict",
          "coloraxis": {
           "colorbar": {
            "outlinewidth": 0,
            "ticks": ""
           }
          },
          "colorscale": {
           "diverging": [
            [
             0,
             "#8e0152"
            ],
            [
             0.1,
             "#c51b7d"
            ],
            [
             0.2,
             "#de77ae"
            ],
            [
             0.3,
             "#f1b6da"
            ],
            [
             0.4,
             "#fde0ef"
            ],
            [
             0.5,
             "#f7f7f7"
            ],
            [
             0.6,
             "#e6f5d0"
            ],
            [
             0.7,
             "#b8e186"
            ],
            [
             0.8,
             "#7fbc41"
            ],
            [
             0.9,
             "#4d9221"
            ],
            [
             1,
             "#276419"
            ]
           ],
           "sequential": [
            [
             0,
             "#0d0887"
            ],
            [
             0.1111111111111111,
             "#46039f"
            ],
            [
             0.2222222222222222,
             "#7201a8"
            ],
            [
             0.3333333333333333,
             "#9c179e"
            ],
            [
             0.4444444444444444,
             "#bd3786"
            ],
            [
             0.5555555555555556,
             "#d8576b"
            ],
            [
             0.6666666666666666,
             "#ed7953"
            ],
            [
             0.7777777777777778,
             "#fb9f3a"
            ],
            [
             0.8888888888888888,
             "#fdca26"
            ],
            [
             1,
             "#f0f921"
            ]
           ],
           "sequentialminus": [
            [
             0,
             "#0d0887"
            ],
            [
             0.1111111111111111,
             "#46039f"
            ],
            [
             0.2222222222222222,
             "#7201a8"
            ],
            [
             0.3333333333333333,
             "#9c179e"
            ],
            [
             0.4444444444444444,
             "#bd3786"
            ],
            [
             0.5555555555555556,
             "#d8576b"
            ],
            [
             0.6666666666666666,
             "#ed7953"
            ],
            [
             0.7777777777777778,
             "#fb9f3a"
            ],
            [
             0.8888888888888888,
             "#fdca26"
            ],
            [
             1,
             "#f0f921"
            ]
           ]
          },
          "colorway": [
           "#636efa",
           "#EF553B",
           "#00cc96",
           "#ab63fa",
           "#FFA15A",
           "#19d3f3",
           "#FF6692",
           "#B6E880",
           "#FF97FF",
           "#FECB52"
          ],
          "font": {
           "color": "#2a3f5f"
          },
          "geo": {
           "bgcolor": "white",
           "lakecolor": "white",
           "landcolor": "#E5ECF6",
           "showlakes": true,
           "showland": true,
           "subunitcolor": "white"
          },
          "hoverlabel": {
           "align": "left"
          },
          "hovermode": "closest",
          "mapbox": {
           "style": "light"
          },
          "paper_bgcolor": "white",
          "plot_bgcolor": "#E5ECF6",
          "polar": {
           "angularaxis": {
            "gridcolor": "white",
            "linecolor": "white",
            "ticks": ""
           },
           "bgcolor": "#E5ECF6",
           "radialaxis": {
            "gridcolor": "white",
            "linecolor": "white",
            "ticks": ""
           }
          },
          "scene": {
           "xaxis": {
            "backgroundcolor": "#E5ECF6",
            "gridcolor": "white",
            "gridwidth": 2,
            "linecolor": "white",
            "showbackground": true,
            "ticks": "",
            "zerolinecolor": "white"
           },
           "yaxis": {
            "backgroundcolor": "#E5ECF6",
            "gridcolor": "white",
            "gridwidth": 2,
            "linecolor": "white",
            "showbackground": true,
            "ticks": "",
            "zerolinecolor": "white"
           },
           "zaxis": {
            "backgroundcolor": "#E5ECF6",
            "gridcolor": "white",
            "gridwidth": 2,
            "linecolor": "white",
            "showbackground": true,
            "ticks": "",
            "zerolinecolor": "white"
           }
          },
          "shapedefaults": {
           "line": {
            "color": "#2a3f5f"
           }
          },
          "ternary": {
           "aaxis": {
            "gridcolor": "white",
            "linecolor": "white",
            "ticks": ""
           },
           "baxis": {
            "gridcolor": "white",
            "linecolor": "white",
            "ticks": ""
           },
           "bgcolor": "#E5ECF6",
           "caxis": {
            "gridcolor": "white",
            "linecolor": "white",
            "ticks": ""
           }
          },
          "title": {
           "x": 0.05
          },
          "xaxis": {
           "automargin": true,
           "gridcolor": "white",
           "linecolor": "white",
           "ticks": "",
           "title": {
            "standoff": 15
           },
           "zerolinecolor": "white",
           "zerolinewidth": 2
          },
          "yaxis": {
           "automargin": true,
           "gridcolor": "white",
           "linecolor": "white",
           "ticks": "",
           "title": {
            "standoff": 15
           },
           "zerolinecolor": "white",
           "zerolinewidth": 2
          }
         }
        },
        "width": 1080
       }
      }
     },
     "metadata": {},
     "output_type": "display_data"
    }
   ],
   "source": [
    "#best RMSE\n",
    "Best_param_num = np.argmin([data[i]['metrics'] ['RMSE'] for i in range(len(data))]).item()\n",
    "print(f\"Parameters {Best_param_num} {data[Best_param_num]['parameters']}, RMSE = {data[Best_param_num]['metrics']['RMSE']}\")\n",
    "viz.compare_plot(datasets=[data[Best_param_num]['true_value'], data[Best_param_num]['predictions']], titles=[\"true\",\"preds\"], figsize=(1080,600))"
   ]
  },
  {
   "cell_type": "markdown",
   "id": "5ffb76ee",
   "metadata": {},
   "source": [
    "## Other Parameters"
   ]
  },
  {
   "cell_type": "code",
   "execution_count": 5,
   "id": "e13d6bac",
   "metadata": {},
   "outputs": [
    {
     "name": "stdout",
     "output_type": "stream",
     "text": [
      "Parameters 10 {'SpectralRadius': 0.7, 'LeakyRate': 0.3, 'InputScaling': 0.5}, RMSE = 0.03307243616133429\n"
     ]
    },
    {
     "data": {
      "application/vnd.plotly.v1+json": {
       "config": {
        "plotlyServerURL": "https://plot.ly"
       },
       "data": [
        {
         "hoverinfo": "x+y+z",
         "line": {
          "color": {
           "bdata": "EsWJFMI55j/a9f/T3vflPywXm+eOCOc/tqsZyFB96D+yMUBcHBDpP6pbJLiMQOg/DFDK3SzE5j8clZRxruflP8bMrzrsa+Y/5l+UDzzd5z+cFs5RmfjoP5CkROcrxug/9ph+Aw9y5z9IPp5SvSXmP3SNx2fgA+Y/EA9dhBYq5z8Q8hjJCpfoP0yKRlGIC+k/REZUwash6D/GZr8LAabmPzr8CmWb5OU/zpfMV6KG5j8Y3zdkXv7nP5g+OM8sA+k/GOhcc/Cw6D+Ito+6lk/nP0oGZFouFOY/KOP2RJYS5j/yqE5oM0znPwqGNH64rug/eM+P+hAE6T+2VKselwHoP/gBbkheieY/JMVJWHbk5T+WIG9pG6PmPxAyvjSOHug/LO2obewK6T/4TZbneJnoP4S8Q4JuLec/HBf1kzUF5j/aUh5F5SPmPzbXpp2mbuc/7AKwMy7E6D9e0cAfxPnoP8b4vQWK4Oc/5JXLbXlu5j82YLKPP+flP3ZyleIiweY/+pBoGZA96D/mdxPgyQ/pP5j/tpPwf+g/RphMZdUL5z9g4z6h7vjlPwa0NHatN+Y/2nNNjzCR5z+iECFORNfoP9wIisO07Og/IJCydsG+5z9i3tAehFXmP06R7ebx7OU/slDuVoHg5j+Ov7bXKlvoP1zp0Su8Eek/KvV1l4Zk6D/iKTxmCevmP+7rAitw7+U/3iGLVcpN5j8aDDR+kbPnPzDsiJPX5+g/XnGQAPvc6D+uhazLe5znP1YY3WusPuY//AJo2oL15T/Q9iLh/ADnP+CLBMwnd+g/elE3ub8Q6T/M84KLbUfoPwgKEg1Hy+Y/4uMDt8vo5T/oHDETE2bmPzrJ/PaJ1ec/SBBZbMn16D9SW/Dcs8roP7YMt0X4eec/cpSxfRwq5j9ePbua4gDmP0xQso1ZIuc/fGhhTlOR6D/6OTFa1gzpP45/IiTbKOg/QqqC98is5j+U3q6HDeXlP1TRRt1agOY/QmkWR9v25z8eSukbAAHpP+4MrRQBtug/Jl8HmHZX5z/a0KFH+hfmPwwD2yn8DuY/KN2WyVlE5z/OPeoRfanoP9SC60YHBuk/ulcQzgcJ6D8o4Mlsx4/mP1Iwe4U85OU/jHm2MnGc5j+kFHPwRxfoP+wt+O9mCek/ftFt2wif6D92R2pyNjXnP0hciUFnCOY/rIzTgbUf5j8kA+zTvmbnP0QB6314v+g/Xh5+EF/86D8S7VtGLujnP/KhyvV3dOY/KgoqMlrm5T/GI7k8IrrmP1I1CBuUNug/mjTdZu4O6T9yT/qV9YXoPzwOuwt3E+c/ZugFKoD75T+yldHE7zLmPwSIvzFJiec/guQvAB3T6D8o4bmJ7+/oP/CX/y2Lxuc/bktB+gxb5j9gxf6lYuvlPzIThC432eY/Vo4/A4ZU6D84yydMjBHpP9iR/4v1aug/Ms41rXby5j9eCGrRXPHlP1CaGnaHSOY//PM6I7mr5z8kVuZXRuToP6L4RKbP4Og/NA35mVyk5z9CE7xjtUPmP+r885ZM8+U/lrtsqnb55j9QUJVk5nDoP/74dMs7Eek/vNWhkjpO6D88C4M/ctLmPxyfye0P6uU/VF6Lu1Rg5j/qSUwZz83nP+AYhdjU8ug/zik9UBvP6D/gSbag4YHnP5QYBkecLuY/vMjgaQn+5T/WcMkrpRrnP9KdmN+Ai+g/JNdYef0N6T/4zoaw+S/oPx7HTdqks+Y/9l1x+Kbl5T+yayWnK3rmP3i39SpM7+c/CgZDpK3+6D/cL7Q087roP/KwpOVZX+c/6u6ilOgb5j/mwWxNhQvmPzQpy3SFPOc/qKOVWiSk6D8YEU1S1wfpP3Tv9LtqEOg/ht0yV0eW5j/ISAgVKuTlPzqyI4jcleY/1EhnifIP6D9+BazdugfpP/hhXod8pOg/hHK9IwU95z9g8vHQvAvmP0JUpV6nG+Y/1BaE/9he5z/+XzNco7roPwSlo6/U/ug/ClPG88fv5z+Wf9Poj3rmP2zziQKc5eU/sv3+QjSz5j/09BPyhS/oPyYF/M/rDek/8lPsveCL6D+izuS3IhvnPyZEeNQ2/uU/AE7r1lEu5j8QHk5xYIHnPxCeYl/Uzug/LCOVMgbz6D+wRuqTTc7nP7hczraxYOY/aos1Fvrp5T8k/8Gv/NHmP/Dl6B3MTeg/1Af1DTUR6T+4P4NDTXHoP4BH+ivx+eY/Qn3LlG/z5T8MGOdCYkPmP3DEtg/co+c/XmL+H5Lg6D84FZClgeToPwxWNmY5rOc/ypdWf9xI5j94FXlAPPHlP1p8/P388eY/lKPcLI1q6D9OkvWGkBHpPzr56iTzVOg/2Fxpw63Z5j9aG4H2euvlP26EHsKxWuY/oMggNgzG5z+QJJXfu+/oPzYs/9Nh0+g/NP5eUMqJ5z+MZBQ/PDPmP5hu0xtV++U/rqGfHfoS5z/6FBANlIXoP8YcKpL9Duk/EqoGtgY36D/4zBoKlLrmP3Tudqhn5uU/zty1ThV05j9IUjfLsefnP+rb1aE1/Og/GCTYWMa/6D+MeeDfP2fnP2iO9t/4H+Y/1A2MBTII5j9W/f8rtzTnP5Znv9yunug/xijF74AJ6T+yBz8xvxfoP/ofimbdnOY/BBq6CD/k5T+CH9cMXo/mP0Z6ZLWOCOg/suo3YOgF6T9en0Nk06noP4IrtNTZROc/XhaI7zUP5j+mTBpAuxfmP7yoNeT1Vuc/Al1URq+16D/KPTrAJAHpPwh1llFW9+c/gK3Yr8CA5j+uoTwTBeXlP8CiLaFZrOY/3C5wTWYo6D9GKno0wgzpPzjO1Xixkeg/LIelq9ci5z+wDlJdEgHmPzoQ9B7UKeY/9D0IEnd55z/OoOjVasroP/wGjXH49eg/OCEa6AfW5z/UtZPIcWbmPww8e1q46OU/WovXjdLK5j+sl27O/UboP95orHm2EOk/kMfHII136D8GEygpeAHnP2J/wkGo9eU/GI97O1s+5j84yJUG+5vnP5hWoke73Og/SpTXohDo6D9Gb31tEbTnPwAW8j4hTuY/ON4fClLv5T9yrh+VkOrmP3LLOcIcZOg/VL6E470R6T/IBcSbllvoP97ufOX44OY/Wh8Drgzt5T+Co6OyKlXmP0gZ3g1Cvuc/6GNRzn7s6D+SlDr+htfoP85mo5Cxkec/Irw38/s35j8Cl5zzxfjlP5bzSSFZC+c/aqOnaY1/6D80adiL1g/pP0aD2YUBPug/doYE25XB5j/iFBeFT+flP55q3WoYbuY/fHdS5Azg5z8iutNRmPnoPwyXfwl6xOg/iqTwwidv5z88+eDEKiTmPySIp6QCBeY/lIi0sO8s5z9wUrkfHZnoPxpSHfYDC+k/oBg8eAQf6D8SOI33iKPmP9RSiV575OU/FmvLYfaI5j+0EpsrHQHoP6RMx6TvA+k/ahTD7Qyv6D+YyjDDs0znP1jMM0fSEuY/Lu5sh/ET5j9gsYNFFk/nP5ReF7ecsOg/AibtCE8D6T+yjX2k2P7nP+iDZrEJh+Y/KnTfcpXk5T9WqisBk6XmP2DQst01Ieg/1uAosXEL6T885o82Z5foPxj38SeVKuc/mse9fRIE5j9sA0AMdyXmP5rtC9iNcec/pgEi0eDF6D8WOpj9xfjoP3S8/2q53ec/rC4GoUxs5j+QdveRneflP+aOXnq5w+Y/Av6FvRtA6D8OcI+bEBDpPwZb4oi0feg//ron6goJ5z8Icj6hBvjlP0Y6eNxyOeY/Tk0nyxaU5z/ka/0twtjoP3q35UV86+g/TBVe7eO75z+ov/Qfg1PmP/79XyOO7eU/EOraJzLj5j9mBEvElV3oP7r9vdzDEek/aOWcUiRi6D9oJ/HwUujmP+quae3E7uU/0swgFsBP5j+4o5xhcbbnP1C1AfUd6eg/OsIuaIrb6D9QYZqdlpnnPzhAuO3aPOY/3getMFz25T8OduTzwgPnP2Tuvopteeg/XIxhUYgQ6T+EsPty6UToPwZgWZ+pyOY/QDfed17o5T/yhAqQNWjmP0SWxDNe2Oc/wqoM9dX26D84Hh3SDcnoP9Ih28oQd+c/Tv9l230o5j84o7J59wHmP/A0vsMvJec/EsGRrW+T6D8u3ts/YAzpPxaZsdw5Jug/kCzjZEmq5j/wPp4Q3+TlP2qQxSWmguY/JLqOpJ755z8U3Tnc0AHpP+xVWKIotOg/VtWTLJJU5z/evHN+kRbmPwA+g5JKEOY/Ghma5jpH5z+YgzosbKvoP3imEFRTBek/DAZYMk4G6D+iQa9Rao3mPyacQSxN5OU/QlnwCuGe5j9aaRFV9RnoP4zrnWb6Cek/oOmOaQGd6D86+utsWjLnPxBQWus2B+Y/yuP5Cjsh5j/eSHSHpWnnP0Rwk8E2weg/xOs7kW776D8GKuVdYeXnPwB2A69BcuY/7tsL2Knm5T+qNEklsrzmP/KazpUmOeg/duutg0MP6T+GikfjwoPoP5ByPrOoEOc/LCKIeIr65T9+yYSfqTTmP6okCiEwjOc/2qSLNafU6D807O85xO7oP1aC8SOww+c/jrHynAFZ5j9grvu38OvlP84i2Gzi2+Y/yEPd1PhW6D8uQA1yohHpP+ZFAqebaOg/xK6JL7vv5j/eohOKo/DlP4BP2XJySuY/ptYW85qu5z9ON2SnmeXoP6xgX65r3+g/krGQs3ih5z9GNte12EHmP9Qc1g4Y9OU/Svl+UTj85j9cDigINXPoP9yLjtESEek/xNc70r1L6D+W36mnzs/mP4gEkGaU6eU/iuwlUG1i5j9Eev13ptDnP6RO5s/u8+g/lHg5QYHN6D+Wlooz+n7nP05yUrjxLOY/Ng0g0BD/5T8QjzgleB3nP3RsBROnjeg/PjtHq5UN6T/CIe+rXi3oP6wFLwceseY/gJ1RFWrl5T9KMUb1bXzmPxioBNoT8uc/HIYeO4z/6D8M82MDJrnoP/iazk10XOc/BHNmOHMa5j+yruW7xgzmP97uPIpkP+c/LNNiJh6m6D/uRaZvMQfpP6yUPkK2Deg/Llyc8uGT5j9Mj2JGLOTlP+pfcmREmOY/fu5QZ6US6D96AzB5XAjpP1JV9IZ/oug/xDz0uSY65z8eIUNYfwrmP+KwGIQgHeY/wAtF5L5h5z8yQ9wabbzoPzDdkerx/eg/lOEBA//s5z/g0t9eUHjmP5ZJUkTd5eU/mmjTPL215j+gyMADHzLoPzq/40VPDuk/tG3XmbeJ6D/oAZ/HUBjnP9h+R4kz/eU/ogRF+/8v5j/kIhnMR4TnPxb4EcRq0Og/vr+hLejx6D/m7OtPdcvnP4wQuy2cXuY/LMv673nq5T9aAFUZotTmP7Qd3pdGUOg/UOWuplkR6T9uq6n4+27oP0QzqOkw9+Y/At2oVajy5T/M3ENMQkXmP/r0lIS/puc/Vl+mPPLh6D8qTZ5wKuPoP05qHA9Xqec/umDaz/RG5j/mN0TG+fHlP/amC/W59OY/MOkWfORs6D+kLPb+dRHpP0qfTvp9Uug/zN/aQgTX5j+OjCkz8erlP4ABhTrAXOY/HkZMcObI5z/KzlUq4/DoP+ZGf+jT0eg/kJXfOOOG5z/QxEbthTHmP2zh2e9O/OU/rOZvlMkV5z+iTXLfw4foP1QZaRqkDuk/PB/eNHI06D+kch41BrjmPzpDLV8c5uU/mgh5ak525j++QfOGfernP5B7rvkh/eg/ksg0lQS+6D9O4nZjWWTnP56T0hR3HuY/kAm2WmYJ5j8QWrLykzfnP1osDymzoOg/zrViLekI6T8Cx5gcEBXoP4Zw3fNvmuY/vu9xxDLk5T+kOZixvZHmP/ChtMlGC+g/xg/0EJgG6T/4fJcG4afoP3zOvE35Qec/oEYXc+sN5j/EO1XdJxnmP9p/WLLaWec/6lKqU4S36D/Wwk3LTwDpP4a8jJ2R9Oc/0uxzGnh+5j+Cw5nqN+XlP9iZbm3bruY/BomdtQUr6D/yY9f5Mw3pP3pn7hiSj+g/uGp+aQIg5z8034mRAQDmP6qxTWN2K+Y/sOhYkF585z+Y3pFCDczoP4raIdPn9Og/RISwsDLT5z8yBmVHUmTmP1Lzp+8p6eU/mG0R4XHN5j803kuzf0noP8hWr4HpEOk/wj6FqUR16D/wIWJms/7mP4qyHh7T9OU/RHP7IjBA5j9E09vY357nP3KGWw8o3ug/NKAVUsbm6D9CpzDtMLHnP8YoF70uTOY/hDl6iwHw5T9ydkuYSO3mP0AkE4N8Zug/BAf+z7ER6T9uVN1DKVnoP5xGNr5J3uY/Cozku3Ts5T/SrNvbLlfmP8Ccztwewec/Gq3ZT7Pt6D+uicZcBdboP8rtxBbLjuc/qjfBCDo25j+IQTkdsvnlP2Dq0M8kDuc/CCbKpMaB6D/kFBJziw/pPzrRFchzO+g/HpJ6QwG/5j+80+3c9eblP1blJx1IcOY/0lttZ9zi5z+yDsdTkvroP/ITFt/Dwug/cm7YqUBs5z+cGTGwnCLmP37spsIpBuY/ZHmy4ckv5z/+Do26K5voPywcsWJ6Cuk/IhwtC1sc6D/aqPayE6HmPwTAzqVg5OU/hmoolE2L5j+wOuoy2gPoP7bHuFmtBOk/vEAWYyWt6D8WSF1m0UnnP0JfAed6EeY/RlMheVEV5j8K5Uy1+VHnP/7Mr+V8sug//nvF+IcC6T/gos5xGPznP7QMK0m4hOY/BCfl2rnk5T+OWbRhDajmP4IhXVvbI+g/CjX3uvEL6T96b3PPUZXoP7CcI9q8J+c/Al3IS/QC5j/CSRlIDSfmPzgV5DF1dOc/RudAHY/H6D9sfxvgwvfoP7JDY4bn2uc/mBxdXCNq5j/M9YvXAOjlPyCePXZSxuY/RA4kz6RC6D+WnOoNUhDpP1wbzx11e+g/ZvOO60EG5z/U17ytI/flP558s3Q8O+Y/nv4Ys/yW5z+0YHV9O9roP/5TT/k+6ug/zLAviwW55z+gXwD8hVHmP9gxS48v7uU/hji+8+Tl5j+yeem7/V/oP6ZU2z7GEek/VEqWCb9f6D/KMHxlnuXmP5i9Otse7uU/3FwvvrlR5j+q6lx+ULnnP/ZVco9f6ug/RCoeNhXa6D86rUEJsZbnP2DUKZYNO+Y/zn4BmTr35T+YkNWUigbnP7btg/eve+g/ABnbnksQ6T8gS+m3YkLoP3jYOIUOxuY/uNODefbn5T+qAKqiW2rmPx65kjgx2+c/VizliN336D+cxVprY8foP6oHCV0pdOc/xge2o+Mm5j8YNfRDEQPmPwIZVBgHKOc/qtnrY4iV6D98Krjo5AvpP7wZNlmWI+g/6OxRi8yn5j9ctgfmteTlP5hNuav0hOY/Bi37WmD85z84BAKDnALpP0qa4BlMsug/aAdjQa5R5z+4cL9bLRXmPwLdnLadEeY/IjdwsBxK5z8ocZZNV63oPxa48zuaBOk/3DY0xZID6D8ixxJQEIvmP4ZWaSFj5OU/hkpTwlOh5j8ccJ6moBzoPy5wd6iICuk/GjPkLvaa6D9OPfxZfy/nP0Ya7m4LBuY//NT8FsUi5j+iPdl0jGznPyhzfcPwwug/eKTEDXn66D+MJ/0Rk+LnP2zRctwOcOY/6m1rxP7m5T/WDmqJRL/mP6g2U5W2O+g/2tUKWpMP6T98yBq8jIHoP+a13L3bDec/ApEiy5n55T8q2iu8ZzbmP1LV0NYWj+c/QBY66CzW6D+C3j4QlO3oP/IG/SbUwOc/CBwyCPpW5j8Q+dX+g+zlP44sj76P3uY/uKWcx2hZ6D8IlJNJsxHpPwjoPag+Zug/slT1ggHt5j8C2uhn7+/lP+Tax2hhTOY/0lh4Fnyx5z8mEpk76OboP7L71A8D3ug/1LyMTJSe5z8ittwdAEDmPxQ0WaDo9OU/ttnxn/v+5j/ybYxugHXoPwioKIvkEOk/igh7WD5J6D8QTotLLc3mP9g3Fhwe6eU/MtrWjYlk5j8wj3u4fNPnP2L1HdwD9eg/fD9ox+LL6D/wGvu4EnznP4T6WoVLK+Y/utxaKx0A5j/qEvhWTCDnPxZ77bDJj+g/ulhdnCgN6T/IJ29TwSroP/6PTdaZruY/vozbfDLl5T9kJ6KVs37mP6YkOfvZ9Oc/BA0FwGUA6T+Q0UWrVLfoP4BK5huPWec/eGCsdQIZ5j/gwI3xDA7mP+TPrmZEQuc/iBvzChSo6D+81YBhhgbpPwK5X97/Cug/dmTqkX+R5j+gJIzGM+TlP+D8/zWvmuY/mOOWSlYV6D/SsU7l+AjpP0BzZKt+oOg/KjStKEk35z9IJWCuRgnmP4owHTqeHuY/SKdGHaVk5z8QVMSnMr7oP5K+5RgK/eg/FndblTTq5z8sLec0FHbmP86SQ88j5uU/sO10yUi45j+A76axtTToP6Z1h3itDuk/6Ihj7YqH6D+I9OAggBXnP4YKTDk1/OU/3qwlcbIx5j+uC8oHL4fnPyY9OrT80eg/4NNJRMXw6D+oyRL/m8jnP6TIfVqKXOY/9qSBA//q5T/Ci4OuSdfmP6bCU0m+Uug/ArP88XgR6T92Qr1+p2zoP3hqg19y9OY/QovzNObx5T9UPyVgJkfmP4QDN2eiqec/KEE5qk3j6D/+X4WIzuHoP4huHh10puc/BqU2JRFF5j9YB8RsvPLlPxD/gqx49+Y/Dg46ozhv6D9sHSwpVhHpP+DJyv8FUOg/Asvx5VzU5j/wyQSobOrlP+iD927SXuY/hE4opr/L5z8krhmUBfLoP7D1wYNB0Og/2NKQ+fuD5z+gjenn0y/mP341EcJN/eU/RMw5XZoY5z/U2/ov8InoP2q+SF5FDuk/XrIqSNsx6D9eYk3rerXmP8DROV7W5eU/Lozr7Ip45j9YfCzOR+3nP9A7o0cJ/ug/unh/mj686D9IFpwyc2HnP6Cxx9X5HOY/IkpWgp8K5j8gjX+acTrnP4b7OqCzoug/pJrEOUwI6T9UMDsFXxLoP34XMG8FmOY/CGDjzivk5T9g+WRhIJTmP5T0/fv8Deg/floymEIH6T+cCMy76qXoP65dJ4UZP+c/itgDuqUM5j+Ko2UYmRrmP8Z6GO+/XOc/yO2lP1W56D80xN/Bdf/oP0Y+VlPL8ec/RPR50DJ85j/4L0gNcOXlP9gHeuNfseY/7im60aIt6D9CyqJ/oA3pP6KbGh1vjeg/yPArVy4d5z/ikZi39f7lP25jVggdLeY/tEL8CUZ/5z/Y3UhJq83oP/r3TUbS8+g/YnqRUlzQ5z+koPhoNmLmPxJZ+MKg6eU/OGrpdxPQ5j82hEzm/kvoP4TsvD0XEek/LrQx7vhy6D9QCrNC8PvmP/gsqxED9OU/UILvJQlC5j80lDIzxKHnP+7uqDSQ3+g/FlweQnfl6D9yhca3T67nP0zPny5ASuY/MFMdNLbw5T9MWLx0AvDmP/w+OzHZaOg/gtjkbaAR6T8mKMgFuVboPx4jS6Kc2+Y/CGXq/OHr5T8k1LjTNlnmP2QhbMH6w+c/0m8K++Lu6D+IyhM0f9ToP4AHr1rki+c/tuYEW3w05j/SesBNo/rlP8Qa2unxEOc/jPQUcvyD6D/MWecSOw/pP1ilX4fjOOg/gEXKH2+85j/oL0R6oeblP7hNQUp7cuY/ZFKBj6rl5z9kjWRUh/voPzxdv20Jweg/SgvpwVlp5z86CMAZEyHmP4x27L1VB+Y/9nDQDaUy5z8Mj7WSNp3oP/I5zZjrCek/WnELg68Z6D9I9zFGoZ7mP8CONDtL5OU/6i0S56eN5j9yfv9wlQboP/gak+tlBek/Wuuy2Tmr6D+oh7et70bnP2ylRz4oEOY/vmh8FbYW5j9kYASu3VTnPzrvuQNZtOg/mrmxzLsB6T8Ey86PVvnnP0K4eRdqguY/3jvhj+Pk5T+kGcKCiqrmPwwd5qR+Jug/7DxoiWwM6T+Glza5OJPoP0B8WaLlJOc/QNDQAdsB5j+wMF3zpyjmP4Z9fKFcd+c/wCRvEjnJ6D9m2KvKuvboP5Y7VGEU2Oc/+kMIp/1n5j9oXSRfaejlP1znhc3tyOY//EXKRStF6D+aJko2jhDpP+7G/Vkyeeg/JBjPcnoD5z8WM7DJRfblP+IE7TgKPeY/pmZ0PeKZ5z/Et503sNvoP85t6+H86Og/oCS7WSa25z8I8Zi5jE/mP0pOkyjW7uU/XEaVsZno5j+W4om2YmLoP4L5IVLDEek/DG9ixFZd6D+wQObM6+LmP3jFoPZ97eU/GMwdR7dT5j9wYN3KLrznP6yEqF6c6+g/evo8b5vY6D+A2k8Yy5PnP855NmtEOeY/xDV+EB745T/Ooq26UwnnPx7Zxgrvfeg/tpduogkQ6T9gVrxi2T/oP5DgY8d1w+Y/av9PvZPn5T8o9OFDhWzmP/A69/sC3uc/aPpxJOD46D80CzqutMXoP8rU9AVCcec/Nlz7200l5j+WKtP1LwTmP7i59YHfKuc/Gs5vap2X6D+u6WFWZAvpP2Brf6LwIOg/Ejoec1Kl5j80xnQIkuTlP5xkbWdGh+Y/lqAmYSD/5z+8e5kNYwPpP+qAfYFrsOg/mnwc4MpO5z+4eyrkzRPmPyA5u5H1EuY/atp4Hf9M5z+U8ZRvPq/oPxQKAAHcA+k/PvXEj9UA6D/ITNBvuYjmP4Y6qWR+5OU/hvmxUMmj5j+2oDDcSR/oP9gdqrMRC+k/ZN4/MueY6D8aTSVDpSznP7RLLdDkBOY/zM+3oFMk5j9i8GmSc2/nPxjc432mxOg/PtFLiX756D8mNQNsw9/nP8BlcIXfbeY/FOUs9ljn5T98PIRg2cHmP/wQBxFEPug/Okfp6N0P6T9A/9YnU3/oPyKq8DQQC+c/Jib5JK745T8us/QUKjjmP7rQYkn9kec/bnslE67X6D98t54QX+zoP842r0D3vec/VBfHQvZU5j9qsqF4HO3lP4j0txo/4eY/Hp1Z09Vb6D80h4LSvhHpP3xdl5feY+g/MjSTsEnq5j/AaENtQO/lP2z/cFFUTuY/gk7Bg1y05z92QScQMujoPzApWs+V3Og/HCSWbq+b5z8cAPehKz7mP7KSxEi+9eU/ZvqKjMAB5z9AvhiQyHfoP7AW3viwEOk/Pri2LbxG6D8Kwu8zjsrmPyi/5w+t6OU/tI2Rbalm5j/exk3RUdbnP5jdj/kT9ug/gO8y6D/K6D9GXrw6K3nnP8itobOpKeY/nBsQeC4B5j84wZW3ISPnPxI6MLLokeg/cvEHTrYM6T+gosOvISjoP7Q/EVAYrOY/turILwDl5T+woKKA/IDmP0o0T4We9+c//AggMDoB6T84G2wyf7XoP8yFl1mqVuc/KHBEUZYX5j/6SyPqVw/mP4CRhwAlRec/eJW6AQaq6D8cQRgq1gXpP1QIZ5lHCOg/tHQTPSCP5j94AGyVQOTlPx4KuvQcneY/rgk7KgUY6D9gbP0fkAnpP+zAYPt5nug/1I97eWw05z/iAl3XEgjmP3YruHsgIOY/HIbaoItn5z9QzwD987/oPyB6pT0d/Og/rLomtGjn5z+q/V9y23PmP1hAcqJv5uU/YDVj4Na65j+KAyHzSTfoP/yKrGYGD+k/Rh7Uv1qF6D/a0RHNsBLnP/xl1+c7++U/OiTiMmkz5j92Xq4aFornP4QinSqK0+g/LqNYep3v6D+KSOOqwcXnP8x9AER8WuY/vAUNT4nr5T+sym9m89nmPziDCiozVeg/0gJ275IR6T+YL4XdT2roP+yVtZa18eY/SE40NSnx5T8Eezl4DknmP1z6+a2ErOc/zuwvZKTk6D/ukc/xbeDoP0AR4ZmQo+c/wkW7hTFD5j9a6W0xhPPlP5aKNxs5+uY/uEN/molx6D9YvAEGMRHpP15Vnj2LTeg/hHKLtbfR5j/Urc1W7enlP/AMi1joYOY/SCcxzpfO5z/muBYZI/PoP4hwB6uqzug/AmMlnBSB5z+ehaY0Ji7mPzRQJo9R/uU/PrWVbmwb5z/Cc2f3GIzoP/KDBV/hDek/3M2S+EEv6D/+ICc18rLmP8h1hqaV5eU/9ieVzsp65j9mP5GXEPDnP4Kdr4jr/ug/qrWkbnS66D/cH/9WjV7nP26JzyeBG+Y/UJdWeN0L5j8cBdUZUD3nP1BzkzuwpOg/6I/3FqoH6T92AiX0qw/oPy7Vk+CdleY/3LolKCrk5T/I6UUUhpbmP7xIMkOxEOg/0G+48+cH6T9QlHCK8KPoP6xzjIQ6POc/UHeNyGQL5j8Sj3nsDhzmP/wZyZClX+c/CP81BCK76D/iM8emlv7oP2SzN3wD7+c/HDGB2fB55j/OkYx6reXlP7oS5/rms+Y/vGgLmT0w6D+UDXLEBw7pP+CLfYxIi+g/WLUgflsa5z8C4PzS7v3lPx5ligjILuY/uEk/dS2C5z82ZKbkRM/oPwq3sM638ug/QoI314TN5z8EUlo0HmDmPwZZ39Ic6uU//hSWSbfS5j9YRRhfe07oPypfPK0/Eek/vvB49qlw6D90tFXHLvnmP2LCHh848+U/6v8rPuZD5j84QvILqKTnP96F17Lz4Og/GixRdyPk6D+WIN3WbavnP7ZcAJpVSOY/7MetAXDx5T98hlYhvvLmPxgrz8Qya+g/FlVzvYkR6T9e8anpRVToP/gSrJrx2OY/+Nj+clTr5T+uUHKTQlvmP/T+KbLVxuc/nm3tyw3w6D9sJjmJ9NLoPzJVEmb9iOc/XATU78Iy5j8SjQ2CmfvlP8IoCWbAE+c/5PMkyi6G6D+wD2Vs5Q7pP/jrR8xQNug/svuKeN+55j9iajReUublP/Sn0OqxdOY/9i0wU3fo5z800HlQd/zoP8wbQbtKv+g/hpjTFHNm5z8AHLEGjh/mP8Q1jpKGCOY/vACEK4E15z9cdF+hPZ/oP8CvTppXCek/yBXC6AEX6D+CvWu5MZzmP4JUAh875OU/TPSsUgWQ5j9kGrvcTgnoP1bW7VcZBuk/cOgCWEqp6D/819+iDkTnPxrmcVHaDuY/WBLXVx8Y5j+6hAImwlfnP3B3/woxtug/oOpbh+oA6T9M87MHk/bnP2T7BSQfgOY/+m9IkRLl5T/+2QRcCq3mP8Q6frEfKeg/4tXhGuIM6T8ygtv6G5HoP+7AEIoPIuc/HtWCo8YA5j/i0K8IRyrmP37mIR1Eeuc/8vsdq97K6D8S27vArfXoP3bDQQVA1ec/6l80iNtl5j8e1mMn1+jlP9R8gneLy+Y/FjgKGa9H6D/yeuUTxRDpP14b/UTsdug//KQxibQA5z/Mqv33bPXlPyZRHyPcPuY/cOaMYMec5z+UWZhXIN3oP5wb7gO25+g/rn6ZYkaz5z9s8FVfl03mP45zDO2B7+U/XmFVWFDr5j9q2iusxGToP8q3mxa7Eek/WtgLi+ta6D/2LjIwO+DmP6JQtUHi7OU/0B9GqrhV5j+MSIk9DL/nP6z8gV7U7Og/lk95GB3X6D+MfHLU5JDnP06J1XJ/N+Y/JJ4rlAb55T8M0R1cHgznP8r3Br0qgOg/VJb4XMIP6T+gxe17TT3oPwLmh27fwOY/BpGMRDbn5T8IA3lssm7mPzhiiHTT4Oc/YkVTxN356D/mp1mgAcToPxppUM9abuc/LBqCibwj5j9mapGLUwXmP0rrIve4Lec/Tm4ouq6Z6D8ipoaK3grpP6irZcFIHug/JoiOJNui5j8aSV14c+TlP4i3IlGbieY/ymbhrd4B6D9+H2l5JATpP4h5dN+Grug/HCVmEuhL5z90w0occxLmP7gkYR9SFOY/QNMQJOJP5z843tqLIbHoP/IssKUYA+k/9PAwmxb+5z94PLe4ZYbmP6g6pvWe5OU/ONfVrUGm5j+qYOPs8CHoP0hsa4aVC+k/uriDetSW6D+Q0u0xzCnnPw7n7xLDA+Y/qoP3ouYl5j+qOHPWWnLnP2ybEetXxug/UkAWB3/46D+IwVt18tznP8heSLGza+Y/qBIjbLjn5T9kO/ihcMTmP+wiYwDPQOg/LkRQLyMQ6T9ay+otFn3oP8J/0CFGCOc/zBQficf35T/OFP+j8DnmPzQzEG/jlOc/UjlHsSrZ6D/Smhc/JevoPyYrmHoZu+c/FHdsU/ZS5j8Ui2Ejuu3lP8iTWnjw4+Y/SMT57z9e6D9WlrMMxRHpP+rb/Xx7Yeg/Qp93wZPn5j9Y1muclu7lPyIwUiZLUOY/WthVMTy35z+OLcEgd+noP2pXs/Ej2+g/fvpXI8qY5z/S3UJIWzzmP97eTgWZ9uU/1rAJDocE5z+gKC1lDXroP4j4Wht4EOk/aDlRWjdE6D8wvplp8cfmP063fUNB6OU/BGc96Mxo5j/eAv24JdnnP2gDriQf9+g/1KMQqZjI6D/a0YDCQ3bnPzAGmkgMKOY/6FmvskQC5j/syJk9+CXnPxp1tg8ElOg/zJ7EwT4M6T/Sea/JfyXoP4Bu2XyZqeY/ZNDBLtPk5T9q36WuSIPmPzwFCG9h+uc/5t2piAkC6T90CPeepbPoP55cjBDGU+c/NgXvzy4W5j8Ch1ShpxDmP/yFKk4GSOc/gOw5BPSr6D+aILnLIAXpPxD0anyNBeg/WpEE/MOM5j+kWdeyUuTlP/L5gpiNn+Y/8i5I/bEa6D/QF0MnIgrpP+Zopn1xnOg/HpnttZAx5z/WcT7X4wbmPxRH30OnIeY/SG5PZXJq5z8uvLQUscHoP9KD6Fsr++g/wNe5aJvk5z+wcbYepnHmP2IS4bzA5uU/BtcVeWe95j8uX5G/2znoP8b2KQ9aD+k/+E54GCeD6D+AT5TV4g/nP+JPKphH+uU/pgPBOiQ15j9mERT7/IznP6bKCiIT1eg/zEir03Du6D9cE+Rc5sLnPwaNIPFxWOY/yDnP0Bjs5T8ONzQ4n9zmP2TUzjGlV+g/qhLEnqcR6T8m0NUc9WfoP6ieZJj67uY/cOrhWHHw5T82yyKO+krmP5yaOk9mr+c/7koQZvbl6D8W5hWxCN/oP3zoCY+soOc/0pCq91VB5j/qxqYRUfTlPy5z+Df7/OY/IhUqWtdz6D/SFfOVBhHpP1SCEbwNS+g/DK99uhTP5j9gfS1Bc+nlP3A6SPABY+Y/gqbm3m7R5z/+QpO1O/ToP9ifnmMPzeg/skpQKi1+5z/09hjZfCzmP55etVNa/+U/mqUXvz8e5z+Eo4EuPo7oP/Zr7R14Dek/AsfETqYs6D9MiyIbbLDmP8pN6zha5eU/wj/yBw595j9modTZ1/LnPy7I37nI/+g/1iOfF6a46D+m5U3ap1vnP3g51A8NGuY//hOROCAN5j/egB1nL0DnP7TedfSopug/8hcZxwIH6T+kJVry9gzoP7KCEVA5k+Y/7nM+0C3k5T+gSzjC7pjmP9oYSZZjE+g/rK9eIYgI6T/SlR558qHoP8xJhFVcOec/XMTkoigK5j/cJLFUiR3mPwwevo2LYuc/WNRWm+q86D+mn+58sv3oPygoeiE67Oc/6N8TPbJ35j9wcJkx8OXlP4IDRKtwtuY/gDTeAtYy6D8iM+zGaQ7pP2A6Rm4eieg/LjTL54kX5z9K6CTn7PzlP2BKV153MOY/gqVuyBSF5z9kklIP2tDoP2YU+W+Y8eg/IgwhSKzK5z++XIiwCV7mP/i2vh2e6uU/xJhFTV3V5j8GN2IV9VDoP2Ceps9iEek/cPQPyldu6D9ooX39bvbmPwScH0ly8uU/tHZ3ZcdF5j+gaXJZi6fnP/4oRIVS4ug/fsQc9sri6D/gkxVUi6jnPxgfnwVvRuY/pMK+8S7y5T/gufmUe/XmP/ov9TWJbeg/LDT1vm0R6T9gTbH3z1HoP+SdQrBI1uY/Qqr6H8zq5T/YqDIUUl3mP0KjfqWvyec/fHecvjPx6D8usFxhZdHoP+A5oEIWhuc/yqPwzA0x5j/UBem2lPzlPwI6/zqQFuc/xtykpV2I6D+ajamAig7pP2K0Zp+7M+g/frNJVlK35j/qSsaJCOblP/o2cffrduY/ZvoeqULr5z/CguVEYv3oP9Q0cM2Hveg/fHJIrIxj5z/gQBd8DR7mP/5okTy8CeY/XiY/MV445z9eacXfQKHoP7ISJGm+COk/HOtCRVIU6D+QfMYUxZnmP+bQbVEw5OU/xmQSz2WS5j/OcgNtBgzoP4CkcZzHBuk/Oll95Fan6D8EJnRPLkHnP36H2ySRDeY/0pl6O40Z5j8W1Z0Tp1rnPzKqV/UEuOg/oBF/KxQA6T8ObrnizfPnP4ZieHbXfeY/ML193kbl5T9MWCPljK/mP35ZXXi+K+g/UkHbbVIN6T98mnCb+47oP5qgwpo6H+c/Wpx5NLf/5T/ajaaC6ivmP8qGIJsrfec/slDN4X/M6D82T87Fm/ToP4z0nntq0uc/kmEBB71j5j9IKNsuSunlP3bAdWsrzuY/Xo98QDBK6D8Q8QSm9hDpP7ziY+aidOg/Uun4N/D95j98onk7mfTlP4iVNS2yQOY/0Bq2Eqyf5z+AV5jYi97oP2xrmmNq5ug/DM5jr2Ww5z/CHcLzpUvmPxaIeNoy8OU/8sfu3gju5j/+IdqUI2foP6gDZIytEek/kOGmZX1Y6D+kGFyYjN3mP/RygL5L7OU/EG/14L1X5j9uvs7M6MHnP4iB7IoH7ug/GpjQNprV6D+EJllH/o3nPxxX8LK+NeY/hv8AIfT55T+qCNRv6g7nP2i3zgZjgug/rgpnz3UP6T+qn/4LvzroPzZnSINLvuY/xsxxEN7m5T8AjyoV43DmP5SC3pii4+c/ghU6Zdb66D/EfWZHSsLoP9Z8z8Jza+c/viCGsS8i5j/8eGEBfAbmPwIGVm6TMOc/8DouTLyb6D/maeWGUwrpP1ghyL6eG+g/LGffp2ag5j8AUSc2WuTlP9Z4D2Hzi+Y/4IIBOJsE6D9m0urD4ATpP7jjFzqerOg/FNTj4QVJ5z8uuqYIHRHmP+zlAluzFeY/RkmUusVS5z9+ShucALPoP0jykCxQAuk/1nOj8FX75z+mZI4yFYTmP7BB89PE5OU/nu990byo5j8ipdvPlSToP6SxAx8UDOk/4CibDr6U6D/4vNgv9CbnP9qj/TqmAuY/7FF6GH4n5j+e9EI3QnXnP8YNXgUFyOg/pvV5inr36D/isW43INrnP0i8O2eLaeY/piEPJR3o5T8axh5FCsfmP/rW6FpXQ+g/UFVYLGMQ6T/ILdDV1XroP+h3zY19Bec/XrGW+uX25T8sp1xjuzvmP9D5KT7Jl+c/bOynvaLa6D9EusGf5unoPxblSt46uOc/LjzQQPpQ5j/U1gb9XO7lP35geM6j5uY/jFRsFadg6D8Y9BH4xRHpP4y4amAVX+g/nIewvt/k5j9+WJn38e3lPxiz2+BFUuY/6sacFRu65z9QCilpt+roPyoltHut2eg/MI1+dOSV5z/yPs8WjzrmP+5oHdN49+U/HAopG08H5z82ljXmTnzoPyYzXfM5EOk/XASz5q9B6D/YkEL1VsXmPxK+QLja5+U/7ni19vNq5j8yZhhm+NvnP07B/Fkl+Og/WE2GD+3G6D+8YvxZXHPnPxqFqUlzJuY/dvWW118D5j9AJorfzyjnPyb1d8Iblug//IEi+cEL6T8Aiv2p2yLoP6ad+2Qdp+Y/sINceqvk5T/cPf8XmIXmP5JNKq8i/ec/EPjtxtMC6T/AbRT3x7HoP9KrbUriUOc/Kg5d9ssU5j+iS8AS/BHmP5BP+EXoSuc/vF/+C96t6D9wQcFIZgTpP8CbhpDRAug/UtOf1mqK5j+ArJEeauTlP34nNRkBouY/zsfNulwd6D8uCzj5rgrpP1ZKADllmug/WouQ57Uu5z+EOfixuQXmP3w8eY0yI+Y/LHL1YFlt5z9ocxHpacPoPw5o1nY0+ug/fB9xvMzh5z/WHEtBdG/mP1QWgR0X5+U/pm37ivq/5j/+n2IOazzoP/pP6HCoD+k/jtGq/u+A6D/WtMZDFg3nP8jfdE1Y+eU/CBT6guM25j9YCEqf44/nP+I8YpWX1ug/WsAsVD/t6D8yEKEeCsDnP9JzrmhrVuY/RCHphq3s5T+IY+UaTd/mPwANdVgUWug/pLGh/7YR6T+S/IpEl2XoP2Q2rm1B7OY/5CZjor7v5T/gPHWb6kzmP1wXWkFHsuc/VFJyq0Pn6D9aZALLnt3oP1DhQAbInec/7rA4gX4/5j9Kc8IKI/XlP2jejvm+/+Y/GGOI2iF26D8gAY7Z1hDpP1TzdYONSOg/7CuX/XPM5j94Crxo/ujlP8BcKy8fZeY/SkvMzkTU5z+8E+ZlT/XoP1JM5bJvy+g/vuTErUV75z9GwM3a1yrmP2b3SQxoAOY/rqdPRRQh5z88AB/OX5DoPxQMYJwJDek/UNd2Uwgq6D9A2K2l6K3mP4LqLhYk5eU/qgt0kVR/5j9o2a6LnfXnPygKUdigAOk/FEh3m9O26D8SGzXGwljnP1CfsJKdGOY/ROjPvmcO5j8URcF4D0PnP15ATMSdqOg/Uo1XTFYG6T8c3eQIQAroP7rCpsXXkOY/EGghxzbk5T/YRzFjWpvmP95bQOwTFug/pkoNHyMJ6T+ubn6O8J/oP0hfogF/Nuc/7hQpTfEI5j9MzhtMCB/mP87xR9xxZec/InYU/66+6D/SEU9HyfzoP7hybUxv6ec/jAmxAnd15j+II5AxOOblP6DdFuz8uOY/mv6GBmw16D824MmFxg7pP4Clr8nwhug/ltKVnbkU5z9mRW737/vlP8w7HAQrMuY/gh/X+fuH5z/MNgTEatLoP/SO5y108Og/wsnOrtLH5z/cZnbk+FvmP8xm5qEk6+U/6m8fegXY5j/+suQAbFPoP2ZVhqSAEek/EoS4cAJs6D/kc1rusPPmP7ROQpKx8eU/eDOKlaxH5j/YdQ4SbqrnP5aDWqes4+g/ICsAw23h6D8QfRI5qKXnP6Sa1XeMROY/gMrSAfPy5T8Apn7GOvjmP7Tz3Xzcb+g/KgHIckwR6T9EhhY4V0/oP1A78euh0+Y//DylBUnq5T9S9BdPZV/mP1TX45GIzOc/eIZBz1Ty6D9uxrTB0c/oP/TuC/oug+c/1LUO+Fwv5j8A2wzplP3lP37QVl9hGec/stFI/YiK6D8Qx+NQKg7pPwBAXAkkMeg/UPWMwce05j/muvD9w+XlP3jesmgpeeY/hAb5hwzu5z9AaJYuSP7oP/LOLarAu+g/ZFD4kaZg5z+QT/d+kRzmP/gR7Lf2CuY/NtdxFTw75z/owC5HQKPoP2ztTAcgCOk/muSGoaAR6D+YXltgW5fmPzwem9Iq5OU/mhNSVMmU5j+sWcUYvA7oP2B02LZwB+k/MpSmhV+l6D8o8Q+9Tj7nP44U0LxMDOY/aNagu/8a5j9CeCttjF3nP6yDp7zUueg/KDXnuzj/6D8g8B8qB/HnP2KWbhaTe+Y/BmzSdoDl5T8mULsVErLmP5bFwvBaLug/8j/dgL0N6T8EORCi14zoP9yV5N1mHOc/NK4/uKz+5T/KdMhbki3mP4TgxBETgOc//scLsRzO6D/C1HXdhPPoPxAy5M2Tz+c/9AaDKqJh5j/scgp0wunlPzgbnKDN0OY/utjDs65M6D+iSQPsIhHpP4rr1kVWcug/CLFjiC375j+O/OaWyvPlP8isDVGMQuY/JPpGSpCi5z+SfN+18t/oP2IcRQUa5eg/WBi4SYSt5z92zFp9uEnmP2qGiO7o8OU/ePhKPMPw5j/y+Klof2noP+QYqLOaEek/fsFRXAxW6D+sYVkO4NrmP1ru+G666+U/JjFs5MZZ5j+Alh5vxMTnP+g+5t817+g/mJBOzxLU6D+u0LR6F4vnPzIwYTECNOY/Rr7ks+b65T9kT3fstxHnPyqvs+CXhOg/aq+5+iMP6T/223kbLjjoP8RTQg66u+Y/PDEmIovm5T9sLaU2F3PmP4womF9w5uc/oJLnA8r76D/0rBypjsDoP3LZIuqMaOc/SIU1Wacg5j+2imRTqQfmP+oiCN5uM+c/nnulGcad6D+mYk5NwwnpP0zfjKPyGOg/XNxDBfWd5j+cOCdCRuTlP/pNX49OjuY/mvli9lUH6D+WoqnqlwXpP8ZKyJexqug/phU3WCRG5z8kOrWtyw/mPzB4BEAZF+Y/FpFc16lV5z98xhSa27ToP+qTQJiCAek/GmNPmZP45z/cLRDlx4HmP64+Ev/v5OU/Eqthszqr5j8kbkN8OCfoPz7Ey3uNDOk/wk+A9aOS6D+kimZGHSTnP1hKDkyOAeY/aJLu+xkp5j98WCarKXjnPxQKMMetyeg/yKjcFnH26D9OYai7TNfnP1BYf65mZ+Y/8LKgH4fo5T8adEhBpsnmP7yeIhjdReg/MrYr350Q6T9gWQwnknjoP47PM4K2Auc/ZGdRfAn25T94CBFNij3mPxJFAq2umuc/6HNfMxbc6D9mV8U2o+joPwAoXXVbtec/FIaTEQJP5j9Sn3EDBe/lP5YlDBRZ6eY/cKKqOwtj6D8IjpqUwRHpP5Yw4UmsXOg/1GtFsS3i5j+Y0/GAUu3lPx7acHpEVOY/QDr/Jvm85z9YLzHl8uvoP7oHP3Iy2Og/lPO2a/6S5z9QvZ0TxzjmP0wsRK9d+OU/LgyfqhgK5z/muqkLjX7oPwKitIH2D+k/9BtQ2yU/6D9atJzfvsLmP5rQhm955+U/rofJkR5t5j/+wzDPyd7nP9wOEJYm+eg/7ocpIT3F6D9ARuIKdXDnP06DJbzeJOY/eGoV438E5j9u2ueTqCvnP7gZdsMvmOg/qt7C9T8L6T8KU4BZNSDoP4CDxBCkpOY/jqUdE4nk5T+kRfe06ofmPxpRgjzi/+c/xtBI6JgD6T+4MQBB5q/oP2a24hD/Tec/ovYvyW0T5j+4gfU5VRPmPx7yUN7KTec/XASkEsSv6D8Opp+jpgPpP1DX3N4TAOg/QlK91BSI5j+GwkzYhuTlP2jdn253pOY/Rv3jWQUg6D/srwWUNgvpP9K0RTRVmOg/EvDsF9wr5z9KYm5rlATmP4a2XVPCJOY/yLkZikBw5z9ET1Z0HsXoPzw3qJE4+eg/Xq2tuPze5z+8MnLhRW3mP0K5McNy5+U/lnp6DZDC5j9O8QfX9z7oP3a94YrxD+k/fPnRebV+6D8kogIhSwrnP7py1gpu+OU/rkW3Bac45j++5J79yZLnP9qJkn8X2Og/qpfa/wjs6D+U96b5LL3nP5ZobrFoVOY/BENpb0ft5T+iS48F/eHmP9CV25WAXOg/lpLbEcER6T+G5o1cNmPoP4Y6rB+K6eY/mk4MFBHv5T/ctbeZ3k7mP74kunontec/jkP8L4zo6D8w1k1EMNzoP3wyMAnjmuc/fEuMKKs95j+ghwMa+vXlP+B2vlaEAuc/ZLLyE2l46D9I3HHRoRDpP4ZJJpwKRug/Kimfh9XJ5j96i//OjujlPwB0JA5AZ+Y/KidplBnX5z+UN3YmXvboP2zwR57Lyeg/goU2MF545z/cGkM/NynmPyovX7V6AeY/0JzJ9+kj5z/2+CDPfZLoPwh4ztuVDOk/DspmD2gn6D/sYS7dZ6vmPwgQBj/z5OU/bo2AY56B5j8Mb92jYfjnPwJ1MeFzAek/MvZCAP206D96dmAk3lXnP0QKMLUyF+Y/mtPMBrQP5j8mECVF8EXnP8gvjaSOqug/BNXzqKQF6T9kjNdAhwfoP2KIR0l5juY/YImwDEXk5T+ABRrvyJ3mP+IdHTzCGOg/1Gu/6rgJ6T+gJkXR6p3oP2SJeJKiM+c/TMBqy74H5j8skLrNiyDmP/AvuHJYaOc/jmiGKW/A6D9wNPQI2/voP6i2ZAaj5uc/ZGrNMT9z5j9aLoB5heblPwIH3bSLu+Y/JlRim/836D9QQ9X/HQ/pP2yMAKa/hOg/opvmqOoR5z9U2yUH+PrlP2RpKvTiM+Y/sjHG/+KK5z9SVID99tPoP2LQSwxL7+g/iuPGFPjE5z+m2gnX61nmPzpKlV2w6+U//K1Dx6/a5j/s1WQZ4FXoP2LUdyuZEek/wj498qlp6D8+5RSj9PDmP5a0Cv318OU/hDwQyJVJ5j9CSiIsUK3nP1D6lhQC5eg/wqWJ4gvg6D+ofniPxKLnP1C97/atQuY/RLxaL7zz5T/EDris+/rmP9B6xZEscug/IPJa2SUR6T+wHxuz20zoPy4ck1b90OY/rHi0Jcvp5T8wpzM9fGHmP67n1m1gz+c/zhIX+nDz6D/0JoSvOc7oP5QsB5ZHgOc/nK/UdrAt5j+EXCAVmv7lP0Q2qMkzHOc/shXTybCM6D8S3FXexA3pP0Df0RKKLug/3EDRwj+y5j/Qn5i7hOXlP+oSGjdqe+Y/sDxt5tTw5z8M9YwKKf/oP/YAa1f1ueg/vHSRz8Bd5z/8q0YUGhvmP3DygwA2DOY/UumIzho+5z+Y4+7QO6XoP9RC2nZ8B+k/EOeNBu0O6D+0kzmk9JTmP7ibnKIq5OU/hltx2i+X5j9ku/PWbxHoP5hm7aQUCOk/ThkQQmSj6D+GOUz1bzvnP3o4ix0NC+Y/wDt003Yc5j9AL/8ocmDnPybe4Vqgu+g/fmNxO1j+6D+ocS3nPu7nP25GewtSeeY/ICSGWb/l5T/KqWHlmbTmP9zS9RH1MOg/aC6CUiMO6T8wjuAVsIroP64A6FyUGec/ujtPMqf95T/+7o2OPi/mPxjWW3f6guc/yER2E7XP6D9uOVYLafLoPy55jAW8zOc/9sbB+Ypf5j8A8V/1P+rlP1rHKA5y0+Y/HgeMaipP6D/OXEzlSRHpP8INA2sGcOg/Zvapg2z45j8il/gMAfPlP7hxeIhqROY/YAuW/XOl5z+4T77qVOHoP+C2UO3E4+g/oE80O6Kq5z9qv5ACz0fmP0Co3Cak8eU//MlMZ3/z5j/KHbof2GvoP077poyCEek/lkk0d5hT6D9AohibNdjmP6osBFUu6+U/+jverdNb5j8y8uwan8fnP7RofVlf8Og/ptcO54bS6D9okTV4MIjnPz5v9fNJMuY/8NWsSd775T+aLazIhhTnP6ZKV0PJhug/pu8B4MwO6T94uvCymjXoP3CVCRgrueY/cO2+ej3m5T82FY3JTnXmP86uV7886ec/uFYunbj86D8CTUXLzr7oP4wC/U6mZec/bmiuhSMf5j+SqKx92wjmP4R2rTxLNuc/3OK+G8yf6D/OWaPfLQnpP9i5oHhEFug/euzlRIab5j8+sJ+cN+TlP352M9SskOY/6tPn3w4K6D+y2kHrSQbpP+i+8/7AqOg/Mi7/fkND5z+I4dwPfw7mPyQxusmDGOY/REvBcI5Y5z9MAZZ/srboPzqObOuvAOk/lNVqns/15z/Ycu3XfX/mP8C9cnYg5eU/QE4tS7ut5j/06U3p2CnoP7A3LpsBDek/jB44NoaQ6D/MYxJ/RyHnP6BayEl7AOY/dKX0R7oq5j/wRmkoEXvnPxRd/SpSy+g/LOG0r2L16D8YRHkLeNTnP+rZO45FZeY/Rrh1Wvbo5T+MIr6NRMzmPzi7oy9gSOg/NlwGR9MQ6T8spi8pS3boP/6dSgjx/+Y/hLgvETL15T9e8RFbXT/mP9aV7LGTnec/CBuVDYXd6D/OyFoIW+foP25WZ0l7suc/4HZKzA1N5j/6snA0su/lP4onCkAQ7OY/8Py3Wmxl6D82DVzitxHpP3xgbkFAWug/GCg3on3f5j/6+Yk6uOzlPz5OaOxGVuY/6PLoW9a/5z8SwruQKe3oP4KwRdqy1ug/EmevEhiQ5z8YYaFEAzfmPxZTx5ZH+eU/WmQbs+MM5z/o7grOx4DoP/olQsetD+k/+oeiQJk86D9yMVIxKcDmP5xilWod5+U/ekU8skxv5j9OkN3qmeHnP2wgjNUi+ug/iMCb44jD6D8WBeXejW3nP9gkVqVOI+Y/YiZo0aQF5j/A4TBRgi7nPw6UwAtAmug/tLZXubgK6T9myhHhjB3oPz6Wd4gtouY/SiB4+Wvk5T9SwMt9QIrmP3YS4g2gAug/7gMo6lgE6T/W8QKDAK7oP27pkG0cS+c/dAH5TBQS5j8A4HISsxTmP1JPkA2uUOc/yoLSEaax6D9kftTe4QLpPzZelHBU/ec/9rMq/sGF5j8KoKjfqOTlP5rwiZDwpuY/SCap0asi6D/mQ+f1uAvpP7zRWXZBlug/mKWIUAMp5z8Si3QHdAPmP05HVZBWJuY/6tkK1ydz5z/abdGwzsboP1I6p683+Og/kNLTZivc5z/8H3UGG2vmPyrvwKzT5+U/oEvx9yfF5j9E9vwQgkHoPzIWIlw1EOk/TrFfkXd86D9g2Zx2gQfnP8ibXdOI9+U/fPMUvW465j9kUGMMsJXnPxgsmduS2eg/mqzA2s3q6D+aq4f3TrrnP+qwF9JpUuY/vnBOiObt5T/yKznvruTmP2RJ6+HpXug/eA9Q1cUR6T88A89s0mDoP2wfcLfU5uY/yrYhsGju5T+usWSC1lDmP9Clv/EGuOc/Vrpk78/p6D9CJ8AhvdroP/aVgqH9l+c/muq+89s75j+6cps81vblP7INRkZLBec/ADfN/qx66D9s1E9+ZxDpP5zxhQ6FQ+g/DjdVYTnH5j/C1Gx1JOjlP9KAF4ZkaeY/RmdIJu3Z5z+wXrvzZ/foP5rIQSsjyOg/eKJYu3Z15z8ipOgLmyfmP5adX0uSAuY/FoENzcAm5z8iHXUqmJToP0Beu90cDOk/0ixai8Uk6D/ekADK6ajmPzjrE7TH5OU/1vtyduuD5j+UKiMZJPvnP4wHwNFBAuk/uPYlTCKz6D8GAXr++VLnPyy2DnzMFeY/IqsxDAUR5j8mwavC0UjnP3J8vY57rOg/sMY+3+0E6T+yd0ijzAToP9Q23uIdjOY/NlW8oFjk5T8aLNRdOqDmP66k6nxuG+g/GtB/gkkK6T+gBDNI4ZvoP9SflRHHMOc/zKepIZEG5j+wDH/UEyLmPx5aXUc/a+c/GhbVFCvC6D+sufnE5/roP+47uFjV4+c/kE/R0Qpx5j9qaGcI2OblP+ZPC/0cvuY/BCPVuJA66D/SLuozcA/pP6hMiwqLgug/PgofEx0P5z8AxIcZBfrlPwQkxCifNeY/JquK0MmN5z8+0Ju2ftXoP0LTBg8d7ug/NJWQgxzC5z/yax2P4lfmPx5o+E5B7OU/ht/KK1zd5j8edbBWUVjoPyI5KWSsEek/CgZ0Vk5n6D/6288kOu7mP6ph64s/8OU/ytKm9oJL5j+40QyeMbDnP6J8hMhS5ug/UiRXWaXe6D8gB+9g4J/nP+iAK4nTQOY/qJC2d4r05T9Un3M+vv3mP0Qz8mx5dOg/iPYu8/kQ6T++5QlxXUroP5I7/PhazuY/GM7MgVLp5T+4sYrXlmPmP1K/2C830uc/6iVoO4j06D/gah8wnczoP8zqRSBgfec/xAfZTggs5j8A0Ls3pP/lP7w6hXAHH+c/1jkPBNWO6D9AMFIqWg3pP4j0dsTtK+g/vHSLYrqv5j8SM5HDSuXlPy6EIFuufeY/Clkwu5vz5z8U0dnVBADpP64AJtsluOg/ZkLBbtta5z+Y7OpApxnmPzQzLhJ6DeY/8uXtUvpA5z+iJGZ2M6foP+BP7rnTBuk/nBlefTcM6D+olGbokJLmP6zjcsEv5OU/XnNrWZmZ5j/KAoieIRToP9rTjGSzCOk/rkhYIGWh6D/mRL8BkjjnP9KGOEvSCeY//MwPfvId5j9QWms9WGPnP/JrB8pnveg/MHALrXL96D+wDy0jdevnP9LiJV0Ud+Y/UMTGhQPm5T/uaKJLJLfmPy5qRdOMM+g/muR14YMO6T9e3BP+hIjoPwovOiHDFuc/9qQRpqb85T9ejmAV7zDmP0Z/MsLhhec/6EC4A0nR6D9WEiRTSPHoP3odFizjyec/3Dq5e3dd5j9MNTixwurlP3i7SKsY1uY/JpeIXKNR6D8YO16RaxHpP7QIol2zbeg/VtP+Mq315j/A7k6gPPLlP5aXN81MRuY/6BL9Ileo5z/QypZysuLoP8JeMSBr4ug/0Kp6jb+n5z8CM8aJ6UXmP9gpA4Fk8uU/oJTRVj325j9WpDOyLW7oP7REsRdlEek/0rp/viFR6D98XoFHjdXmP1YSdnKn6uU/bm5yNuRd5j94pLHGeMrnP74N0POD8eg/KiQ8g/bQ6D80No5JSYXnP3Q/awCWMOY/fgEe39r85T/eXhD7VhfnPxphZif3iOg/TJRigHAO6T+evv7aBDPoPzqDKametuY/mEM/G/Xl5T/uKXrGiXfmP2jFw64H7Oc/yiLxLaL96D8uJLmzCr3oP9Y8Dfu/Yuc/6KEAPKQd5j9y0zp8EgrmPxKKt4AoOec/GMG4S86h6D8SaNc/kwjpP5Kf90aUE+g/FrrlbhqZ5j+slMFFLuTlP97BoicOk+Y/UiV468UM6D9C1GDD9gbpP24hFHbMpug/0AvaX2NA5z/6eXQzNw3mPxR7afPyGeY/BDQZfXNb5z8s0XhGhbjoP8TC1SjY/+g/or0zCQrz5z+kvMsSN33mPwLZcjlW5eU/aiOGkD6w5j8mXjQOdyzoP6JVp3twDek/tsfT12SO6D/6UFXjch7nPzwMwzdt/+U/mkwe914s5j/Irlil+H3nPwo6SSvyzOg/4OiJWE/06D8CTVYwotHnP9IRjg0oY+Y/eI0a1Grp5T8ey8Ah5c7mP3j5B5ngSug/zOQ1YwMR6T/4UdXjAHToP4CeUykt/eY/Yh8BvF/05T8=",
           "dtype": "f8"
          },
          "colorscale": [
           [
            0,
            "#440154"
           ],
           [
            0.1111111111111111,
            "#482878"
           ],
           [
            0.2222222222222222,
            "#3e4989"
           ],
           [
            0.3333333333333333,
            "#31688e"
           ],
           [
            0.4444444444444444,
            "#26828e"
           ],
           [
            0.5555555555555556,
            "#1f9e89"
           ],
           [
            0.6666666666666666,
            "#35b779"
           ],
           [
            0.7777777777777778,
            "#6ece58"
           ],
           [
            0.8888888888888888,
            "#b5de2b"
           ],
           [
            1,
            "#fde725"
           ]
          ],
          "width": 3
         },
         "mode": "lines",
         "name": "Dataset 1",
         "scene": "scene",
         "type": "scatter3d",
         "x": {
          "bdata": "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",
          "dtype": "f8"
         },
         "y": {
          "bdata": "StyZKFo66j+MxZH6IsXpP8xT4tNUouk/CB1XXW0A6j9AvyFQeZLqP6ZV6J6n9Oo/ehlU6UcS6z8Iu3N40yXrPySXvOJ3Yus/LF36/Uuy6z8AF1vEoNXrP8rrbgH1vOs/DFgyfeWv6z8ay0KRZwjsP5ajLI58xOw/lF4OoXpr7T8gJb/fInftP8Bc9RCG4+w/0AN6QfZO7D9CkHdC13TsP0YOS9nCdO0/oqW/0A6c7j+Gsr2cLfnuPzAcGpq9Pe4/+OJKOMgZ7T/eyVEueKvsP9S6mG3Reu0/lgb9vu3w7j9Up3UOcNPvP0qf61D6Xe8/lkJz+Dn67T+mC2BeiujsP7beF4VEIu0/Vm52sfJ37j9W3xl3abrvP8TYAyGpyu8/ZE6+uXuZ7j9ULG6+CjDtP3wBD3jrvew/eAHlWwiM7T+sLpYwScbuPy4ph2YSRO8/GoNQ9siQ7j98mKn2UUXtP+p4xHYMbuw/fBujmJuX7D96lP7cvWHtP96pNFkm7e0/+kaRAMGs7T+OviTDutTsP9b55vGfD+w/DBdT53rV6z/yQtn2AQzsPxgM1nEKPew/rm6SltMX7D80ArteHbTrP4jeS9C8Xus/vr1r6QM46z98EgcNExXrPy54PHeMweo/qkGDJhZP6j/Mba2pEQ/qP5bVLPBVNOo/qhT9pLuE6j+sGQM0sn3qPy5U1wDv1+k/PrasUF7m6D+yWDWHAGDoP9KVAnDvtOg/TuaIQdiP6T/Cqf3S+gzqP57tz1UEh+k/3igTYzo/6D+KMKHebzfnP8zpo4odT+c/EsXa0z9u6D966zUXfIrpP34J7VfOj+k/PpZ4w51e6D8oJOq53fLmPzCxxJ6ah+Y/YHJfCqh65z+WOKPFVPToP6wbLxzopuk/iIplMo/56D/UhxB/Zo/nP06/n5OcseY/TOg7nN4n5z8GGQNl64voP8qnjyBTr+k/CqIHq2Su6T+m2D/WRrPoPzb0+GKUv+c/gBSX3ti75z+qrwuyaq/oP9CRryFQz+k/TEmEQmZE6j9c+ck//+bpP9zTrLjcSek/jisnMzkf6T9AR4gSTJjpP7jOkWGGUeo/kPpyWsDI6j/m5lHcZNnqP+KPrZ5Vx+o/5vGZ9AHh6j94sQZAyinrP8ww7507Z+s/KpTrMDd36z8+FjNdEITrPy6nsRbu1Os/SlpSFrdt7D/+yvRj9PDsPwxS2xVf9ew//m6Hpr1/7D/UwNz4+hrsP+alDV9zYOw/ksOG0PdY7T+22u8Z/ljuP/Q5ldz8j+4/cuuRAWrR7T8Cco+AydTsP7BxLSMZnuw/bKHcuz6N7T+KGeWVPPXuPxTjck0xqu8/nh+3SiEQ7z+uXV6o17LtP4yYQISp0uw/VqwP7zRG7T+aKk1BULTuP+Qz//3V3u8/ZPgXTq2+7z8eYs54CHDuP8LGxlnsF+0/BtoAMRDc7D/skk46Pt7tPyTiVPyzJe8/YC8gpJyE7z+88Jn2xKPuP+g9xCraQ+0/jB8opO2D7D+IPb5CluDsP+CW0oCx1O0/1ITfeHhk7j+UeR/0/APuP5CSmELBA+0/ejjCeyIv7D8Q/+JK1ArsP2htCKjQbOw/TnsQQMu/7D+0Jtgp2ZvsP2xKJlbeGew/lLY18Vee6z8IHN5xHmbrP0ILDq45U+s/VMqHdI8l6z9KbHdD4tLqP/yL1uuJlOo/fC46ssCa6j+M5vkWu8DqP0q2moFFouo/MD+WrAkJ6j/28ORb8D3pPwDYf9E52eg/ahT33TMu6T+KnltdX+PpP5JiZzIpLuo/Xp++uG+N6T+GAqCkXlXoPxTgmNNVeec/sF0FnA2z5z8kzkDj8sroP5SiVQIkt+k/9rLMX+yE6T8wupFM3DzoP8JxXV976eY/+r3/1mmu5j9qCfpYZr7nPwKEsmC2Jek/sMRp04Kg6T9YUdq89r3oP2iIBM4ER+c/dMv1QhyK5j8usPa6si/nP0r8051Zp+g/bPaDrlWv6T+M2gLYWnbpP/JskeYWT+g/gt5Moj1Z5z9cqpa83HnnPzRflkFGl+g/lrTV8sfC6T9sV9QmZhrqP6iTOxWIi+k/HD6Zw1bM6D/8r0RNa6XoP+Sus69fQek/5EO40Ycf6j/y66jFsKDqP8SkCHNxmOo/bl824rZc6j/eATm9y1nqP2QEL8/xpuo/SEmXsK8F6z9KPIJ6QzvrP24UqyuMVus/EJYDbS2U6z+UCqLXXAbsP9SFXgLqbOw/BmVUT6V17D9UwjtdsSTsP2RI1JPt6+s/Krz1Rh9F7D+ki3qeACvtP1AdiWNvAe4/KCqqnVwa7j/yU2Ksi2TtP6wiOK9ylew/Bo21NLuR7D+WapxMb5TtPz7RqeOs4+4/bNRmqRVq7z9kBPobrLTuP6ydluAFau0/CAkt/tnA7D9qruBTpGjtP9CzxzPC4u4/wIlbRKvr7z9MFpuTrJvvP/aJ5a/yOe4/sOQhY1n/7D8CvnJnXP7sP+S0lII1Lu4/+uKbEZt27z/mDSoTMa7vP/QEUA3loe4/ps2narw47T+G/rTCCpzsP5btUsl5L+0/cHiE9Y1G7j/uEf4R0s7uP8jp3+YGR+4/APZ8Fe4h7T+eNGnMe0nsP4CO3eJzRuw/bPQpc77W7D8c8FCkPUTtP7SqEukRFu0/cu/5qZFv7D94s+VTJtLrP/T5r9FklOs/JB7YZoyc6z80mVO+2JbrP4ztbwUOXOs/WleJKQoU6z+Cnx2nn/XqP+S/HMEq9uo/ON9Y/YXM6j8CDnu6Z0rqPySRpe4Fp+k/WFqG3lRb6T+QB7tK5KTpP/iBGQZML+o/Ah7xV3tN6j9YF8PwhZ7pP26XNUM1gOg/7gNUPwfQ5z9IAfb1JCLoP3yEuuUkJ+k/cisPZe3e6T8kcnCpxHvpPxifYF2IKeg/Gpqsbaz35j8eeGE7buvmP+ZTxxegDeg/XOL7KuZW6T++cJcEbJbpPyy1VWcahug/+nyICvQO5z98ZJVl2nrmP1KibBHVTOc/SEA2InvM6D+egIyNp63pP0YN5zYaOuk/AunSX8Du5z8yJr455QLnP/iKM0txTuc/DLhNtl+R6D9sdcInXLzpP4wLfUCh6+k/GqUJMq4p6T+Ogx/24lDoPzTrTDxCOeg/8DoFpXX96D8WXEHbLvvpP/zhhH3neeo/+Gw19nBO6j+s5qFpMujpP0RYCGZz0ek/DscgXBou6j9gOmi2nLLqP25md3apB+s/SDbCj9wk6z/EUqPqbkXrPyDJBYLukOs/zlSjEgfk6z8uBa9WD/zrP14GgKqX0+s/umma8gPA6z+WhJNvPSDsPzpjGIs16uw/WOOn7O6X7T9COaBsyZztP+ZjmozC+uw/Xs5Mdllc7D+UkSOYCYTsPwQLCW94je0/qm/on3q77j/Y6GCzhhXvP65colS3T+4/oMO7r7si7T/K/YY/6bLsP3T1tXCVhu0/BIVRLPn/7j/0g6df8d/vP46a+0PSY+8/iGDua9n67T8wNNw2h+jsPxg2wSPHI+0/tG7THEV47j/+01YHTLXvPyqK5oOjv+8/klmZoxGN7j8g+VuzFSftP3qiFm7at+w/0ESTZnWC7T9opioeFrPuPwK5wro3KO8/BsEPA5V07j/iTPEY+jDtP2xpDnNcYew/7t3FgC+J7D/Os1iqWkftP3C7XGK+xe0/FuVtPGeC7T/khA02+rPsP2qJNqvZ++s/qHWyPkbF6z+cUCzVcfHrP/Z22++PEuw/yF9pfsvl6z88GpQjm4nrP86x5uP5Q+s/VAPUnuom6z/K+9Cm1/7qP2A/JOo5nOo/wNiIEJwe6j+Y3wlWmOHpP+qrMjdnFeo/CAebXSRz6j+4d2P/NW3qP9RbVZ/TvOk/qiZZje2/6D+ckUHtjTjoPwJWP2z4l+g/5LjGJdJ/6T8IJJZxDwLqP+ZKa/gqd+k/0pZodHwn6D9MrMcjxB3nP7ImG1HnO+c/fAkwPWNk6D9eidBbnYXpPxSIs66piek/dHRBqXBV6D8UpI0xa+rmP2KXe2dehOY/YCZ5VM985z/4l4Lf6/foP1yYN8TMqOk/mjzjzHn76D9igerbVJbnP0xt7TQUwOY/On9/BUs65z+yXLZ2h5voP0KJewoxuek/LnfgzVe36T/MrW/F/8PoP2hjJwMN3Oc/QtP703fe5z90hNIUUs3oPwDQOUZ34uk/WNxcK/JR6j+oZ+tlOPvpPxyaN5vdbOk/fNdxxspM6T+KdCLK+8LpP5oj5xOnbuo/GI1EIGLa6j9aBfp+x+zqPzjVUJfl6Oo/NOtTzswQ6z8aIHGaJVvrP1LtS4wWjOs/lB3iv7uM6z+kZEMy/ZTrP1R1CwmV7+s/mmEILO6W7D92dbcK7B/tPxKnSw7nG+0/qMHllQyX7D/2LBOJNynsPzL2NLBWcuw/JFoQ1/J17T8aY21z8XzuP/5lTa7Or+4/2Dj0A3vl7T+CS0wxSd/sP9ByC9XUp+w//jHO0suc7T/aQGO+QQnvPzx5URDJu+8/op+CpSAa7z+oJyNfZbbtP6YP0nH61Ow/MPrP/35K7T8khwOgmLjuPyrdhXjB3u8/4idc9OC47z9AirJS+GfuPwaYEEv0Ee0/kF9SmRPY7D8UpHt18tbtP6hW5mbvFe8/9B6Pn2Rt7z+Ca4sAb4zuP7I7tUNKM+0/cDHlU0h57D+WfgQ7CtPsP7CRDlZtu+0/NOu/o5U/7j866+l8fN3tPzpTN0Pe5uw/VAkHQrEd7D80i9y64/rrP9x+SqFoUew/mNJe+RGV7D8Onw8mPmvsP5a6fgf/8es/Ws1D3MeF6z/mLmkNR1XrP4DWVestO+s/EOamXbT96j9oDLuA4qDqP06rozFCZ+o/ovidDtt86j9Su8neTK/qP+K6JV/pj+o/QMYrpFTq6T+ukqcYqRPpPyQ/u24nr+g/NnXQ0BwQ6T/+u5oer9LpP9pml3yOIeo/TuYAviB66T+CMGEU5zjoP34HGiL9Wuc/BCcGkk+c5z9a1J9ny77oPx5RhIZRsOk/6lYxowF86T9Ag4YQhS/oP+6ZwQbh2+Y/9s9WMBSm5j/63G/xdLznP9YreT9pJuk/VMGQ0w6g6T/wW4gYCL3oPwwkR7boSec/yJnKA4eT5j9E8/6ACD3nP+Ayux3usug/7gvHRKa26T/ctm9vnX3pPzZq6/C+Xeg/0MslE1dy5z+O9lFH9JfnPzLzC4CwsOg//gcfEdrS6T9EvN1yuCbqPzxv+XyBn+k/Ms78wYHu6D/sV5JtktDoP2ZNa/J8aOk/OIcAZn056j8Uu7HuBLHqP7YSeOmNrOo/QpZCsrt/6j/m0ldzDYrqP8DbfbUI1+o/9J0312Yo6z+SxEGqiE/rP4jR+49ZaOs/2nfwvoix6z9W8REQijLsP7oLv3SKnew/NMTV9juc7D+wrZXhnTvsPxbem+r7+us/lsc1BddZ7D/8o6y4L0ztP6CNrBtxKe4/lnJ7IOc87j+E2hQRCHrtP8SBrLs1oew/KA3zSuKd7D9wxI74CajtPw5NYfi3/O4/7sgEQGyA7z+A2yOEPcLuP4LdfuoIcO0/CPBas2vF7D98PWy7CHDtP7yn+mFx6+4/SMfey9Tw7z9e4zBH7JrvP7hWH+bWNe4/BHJj9hr87D/SYlQRmfzsPxo5e2y5Ke4/xGjBMeVq7z+OxHsF+pvvPwDNBOdmj+4/0qjOObkr7T82UtssXZPsP8aAmX8mI+0/xlWT8yEv7j+ehLPeO63uP8at7WnbJO4/pOSi5vsI7T9qGNT9QTrsP2yJhsLZNuw/8qeZpP+67D+iWsS5IBrtP2p2jx3A5+w/ADe74dlK7D82FvTH4rvrPzLCL/G+g+s/cklPKtiC6z/SMswqDG3rP7TsbxxvKes/fO9JJ8zn6j/amQaSOdnqP4xHsSvy5Oo/CKYSHTW46j+uCEIbQyjqP/KwPwx+eek/spDRP3sv6T86RXxbaYbpPzzzbfZFHuo/hhzMtR8/6j82VLaplofpP7DKjPsbX+g/qu5M2X+t5z/8mkVllAjoP+gNgklBGek/mnU/dUvW6T9i8R7s1m/pPzrO3Hi3F+g/glPXft/k5j9WXgdbVt7mP4LxGjAcCOg/rngx6w1V6T8uWa+ZjJPpP8K1TkDigeg/jnldR1AN5z/Uu6tcA3/mP9iCaltAVec/QoZ/al7U6D/2ZMOljrLpP+xkAhliP+k/StpZOLP65z/iZ/K29RfnP9w8zBOnZ+c/6s8VoVWm6D8qP+QgiMnpP2b7gLuv9uk/JoPfEO086T9afE2MaHHoP76uFEg1Yeg/wFq8Z5Ag6T+CMa667hHqP/TASnMDieo/EtQ/yhtj6j+IlV8iDwzqP6xU97lDAeo/gl6aFxlc6j9KjKgywNLqP2IwWXakGus/mEfjRZc36z+sLrVzQ2XrPyoLFQFov+s/0DorC2gV7D8yyB/b7yHsP6b+zvXH6es/RlwYhevP6z8Cc9im3zfsP+IQ7o5iD+0/pi/oOWDD7T/EDETePMHtPyRZ3vIJEe0/0kdrqS1p7D84oK6RxZLsP/rjQVVRpe0/nOdLb27Z7j9ECwHxHDDvP4Kae101YO4/FvPB1cUq7T9kCWZpvLnsP3yNd35rke0/9pp882cN7z/GFh58YurvP9wWOKXJZ+8/Nk7oPj767T9++402y+fsP6wQ2HB1JO0/aM2msSN37j9Qo1lNK67vP+SorXqgsu8/5mhs6EB/7j84+BcrWh3tP4J3wYQhsew/jCxB9ch37T+IuH00Pp7uPxTvgHicCu8/jFr/pBFX7j80duAV7RvtP8SJ4DE5VOw/PFlOxhN67D+Atn4r3yvtP9L/Fbgdne0/1Lhk8CNX7T+w0ceTypLsPx62HoDk5+s/kK9VQsa06z+GU7tbWdbrPyAdEzuG5+s/yGxIdHuz6z8yK5VbK1/rP+4e3WJrKes/sJrHMuQV6z/wJmZHiujqP7JmIb3yduo/Tv+4yoru6T9UTMAS2rTpP6b7TCY09+k/5pUDyANi6j8aL4ko/1zqPzxv8dMtouk/9LHl23Ka6D80Fb49ehLoP5z4YBhWfOg/6hXQ8rJw6T+4K9WQrffpPzxNYXP6Z+k/9LmxYvwQ6D844xmf5QXnP0RKWGWJKuc/bl5cDd5b6D9SMK4thYHpP+6lbIg5hOk/RI6xfX9N6D9uwmqu3+PmPxw3DFk9g+Y/XCd2oJ+A5z9UnrB/fPzoP8yyG0Neq+k/hH9wJ2r+6D+GboAq8J7nP/aFeL6P0OY/Kk8ivW9O5z82fjsNMazoP15Dwbqow+k/3mqAEATB6T+QV7dy9NXoP0yhHsEe+uc/UstVaIkC6D9+L7t0IezoP6DBObQP9uk/ylDkKedf6j9iV0cQLBDqP1CTnNfckOk/4ILxTUB76T9gs5rdJ+7pPx516rvoi+o/OrD3Qhns6j9yJYX1bwDrP3RBsKnXCus/GjzSQ8xA6z+mwhPxWozrP0CKxLKRsOs/6Dkbt/Gh6z/WzDeczqXrP2xSyXwjCuw/7JIVg7y/7D+cQYlSDk7tP3ItSJFtQe0/3oxl9pCt7D8+pb7jADfsP2IX2B/Tg+w/Rk+esx+S7T/25eUEhp/uP4LPSL0Dzu4/0pwzUDn47T/8YMW1/OjsPwplJGj8sOw/UECot2er7T8YvdSCqRvvPyx0M2Rey+8/sHMaAFoi7z9QxvFe0bjtPx7/vFia1uw/xsX64OdN7T+4UPTsVrvuP7zXX/aa3O8/wsfbhRix7z/ikVUfjF7uP+bYY1o5C+0/GiGrj1/T7D+6W2ggbM7tPx7xZyBhBO8/FLcrtFFU7z+AImJYvXPuP2ZGBI/9Ie0/QGPlsB5u7D+8lDS5rMTsP7QApuPioO0/3uL7IkwZ7j8wXJd87rXtPyaxyctyyew/XHS0RfoL7D8G6NV5ierrPwCNg9tNNew/JPqwqpZp7D9ozRKFKDrsPyw1BSoHyus/JOkaiEpt6z9kRmVsZUTrPxqjH8/vIus/puUtW7vV6j/mtqbOGW/qP7xVVw6COuo/jmheuoRf6j9S4fv4NJ7qP7D8WhK7feo/irb2/vzL6T/u/TgCNuroP9I7mjlHhug/lmt7hivz6D+KEN4qwcLpP2rhYnhpFeo/iqpdQnJn6T/4iG7eoh3oP94UrfFZPuc/7uzP/EWH5z82QGhm2LPoP1p+TWcyquk/WMTUOcxz6T9ARS9gdCPoP9ixQ48x0OY/LlVKms2f5j9c2g17FrznPz4vqPwFKOk/crIBrEug6T+kZZIKNr3oP25+fRqVTuc/uo+lQQaf5j+w+PXQF0znP7pK1SGMv+g/ImKDS5e+6T9MQDkXs4XpP4B/uKXKbeg/0O9IOTGN5z8iFZ4emrfnPxALSHISy+g/Wlye0Gvj6T+21pb7jDPqP7zNnq1dtOk/gho5U9wR6T+E/iaEzPzoPxRXqLA7kOk/Akmc/69T6j9wQKUxicHqP0yfySgSweo/6sGxNk+j6j9Gssxnt7rqP9iyglEsB+s/oHh3+uhK6z9a7CphoGPrP1ABicUneus/zu/wGevO6z+Ej31id17sP7j6WeaGzew/pN1QLgPC7D+I6Ayn6FHsP06lKSayCew/nE+JOjpu7D/C8BucpWztP2j4nao0UO4/ulGPIQBe7j+u0bNOXI7tP57wAE9JrOw/RLbv3n+p7D98aWbEtLrtP7zKpOEsFO8/eJ80p9aU7z8WE0A/Kc7uPzI0TCEFde0/GF8SWVTJ7D/ohC7SgHbtP5J91s6F8u4/MqTQP+bz7z/E9RHFOZjvP0APWQNvMO4/iPAuzx747D/skJa6DvrsP1y+wpPjI+4/DpQcYUZd7z9Musfw1YfvP047ulOIe+4/FMW1q/Ud7T8yI5KVGorsPx6YIxHfFe0/nAhc3kIW7j/WdZC5FYruP/gtNDaFAe4/5iTdpm3v7D/gJgbJrSrsP/DeHEe2Juw/9pbTYWGe7D9EXguzDu/sP3iRZhzEuOw/voWacOMl7D96JEf4k6XrP2aiOMbxcus/3Asz181o6z9oo94o9ELrP3b25XDT9uo/nERxd+O76j8iyeBcOb3qPzRwrwrx0+o/4DgEX/ij6j/0IuwmXgbqP5RH+0SiTOk/LFvkRaME6T+qeZnf5GjpP6r2UdTeDeo/tPgSmyUx6j8Q0eZdO3HpP1yVHyQkP+g/qulpjo6M5z9OQhOIj/DnP0xI4ultDOk/AN0B3UnO6T/QVNmYnWTpP34aRhoyB+g/xiobtfjT5j+4aU4cOdPmPw4XZg4QBOg/2sKVcQ5U6T8qhOzOYZHpP1JdQBzbfug/8HPbQooN5z+SlRSeSIXmP66mzXxeX+c/THeH20Ld6D9uGO0QHLjpP/CDghaXRek/ag9AYi8I6D/abViT6C7nPzLLiO1+guc/MnrPYky86D8kiQ46P9fpP+bVbiNaAuo/FhSjIjhR6T+aL7KmTZPoP/JCvKBliug/jrxRiWtE6T/Co+ATAynqP5z2omVpmOo/LtzUtlJ46j8K3U/0qTDqP7hzh0mwMeo/ZHJaZFSK6j9g5/k81fLqP2prcbOQLes/Mjw8ZnBK6z/+YD0EQ4XrP1ClkzHP7es/2i5Ck1hG7D/+5yjsMUfsP5wZjQ99/+s/+kc8xpXf6z9GjNo3Q0/sPzAUetrxM+0/ig9Fi7rt7T+AnaLFbeTtP8wfJBxUJu0/WhM9Vm517D9ygiYUBKHsP/aD4g9BvO0/zOV0eNv17j+GCa355EjvP0xH9IUyb+4/oKnxEeUx7T/4qqCg7r/sPyAtLLhMm+0/2j3w2jEZ7z9yaL9hvvLvP9C47Zzgae8/eP9EOWv47T96J+qHV+bsP4bojIdNJO0/8BfeW4x07j8M5NYyCaXvP8KSkPOmo+8/UjgaHBJw7j+E/k/23RLtPy4gqfTCqew/8AIkgwVs7T9U/oUAyYfuP+jBsApO6+4/cgXExU047j+Ya4PYNQbtPxS80XWoRuw/7NVGmE1q7D8eJW8RVg/tP3Z6PitWc+0/tq8gVAsr7T8ALMOpO3HsP+xPcGDJ0+s/WKkxZwGk6z9Qd5e0w7rrP0YPVVsAvOs/iC4FXPqA6z8S3fs44TTrP76myLkcD+s/IhiGe/cE6z8gIXKWNNLqPz4ffwrIUeo/LrQZZvi+6T8kl4Ku6ojpP6oNWBbJ2ek/Fpi6UWBR6j9UqgTHFE3qPzaSX6cKiOk/XCUSSgB26D9wmeCG1u3nP277tDkTYug/eFTNcX9i6T/4PtY32e3pP27PPOx6Wek/kqkJV8b75z+McpXQ3+/mP/jyPikKG+c/aprzk7FU6D+EE6T2M37pP6IINkiBf+k/CPNzSdBG6D+kEaveP9/mPz4P3V03hOY/LBoBzxSG5z8eKKCLAgLpP5DnTpmbruk/SC5sKGEC6T/YayvcNqnnP0Y7DDMI4+Y/uPXEBkJk5z+KZSiR3r3oP1ajm/G0zuk/pp0Qm2bL6T9QICUCH+noP+yr+iq9Geg/ciYRqfwn6D9iJ59vyQvpPzyEY+QPCuo/rMG+xD9u6j/6owJq0iXqPyrgBUzLtek/Qidhy4Sq6T9qADkvvBnqPyjkguo9qeo/6NlZXd796j/KX4lRVhTrP1jTKAkdLes/dFsLm+pw6z/Qbrv6U73rP4AgwR2d1Os/tGxagNC26z8KATCzfbbrP/pGOESNJOw/ojab+Q7o7D9itiY4RnvtPxzeqrHiZe0/IKEPUkLD7D/G+nLbUUTsP8ArFEbglOw/6BDKJXCt7T8SIyJCq8DuP06ErEOP6u4/7LrBqp4J7j9MYnp24fHsP14Mh4aLuew/PC0G1Qm57T+ATiuuaSzvP97CT1Dq2O8/coE4yMso7z9SmBL4HLrtP/Jf3wmJ1+w/ylDGPGxQ7T/kJzllh7zuP4IzPXNi2O8/ruDm61in7z9qPAaWylPuPxCD6tO/A+0/OIMhG/XN7D9KUzKYrMTtPzyVC1oP8e4/3vQQkm857z8Qx+gBvVnuPzKN1FL9D+0/3jxdanVi7D8eqOxXgrXsPz6c91Qche0/7IcJ26zx7T+MbK3CZY3tPyitcSyNq+w/Slh3dwX66z9kj4PAy9nrP7yV576LGOw/YnQTd2w97D/OdsC0rgjsP8hMaQkJous/XLYToepU6z+EJxtagDPrP8w2urmJCus/1K1qhbat6j8yAufhnj3qPzipbF5dDuo/yoTK3clC6j+av1cBeo3qPx4jIZ7Ca+o/4LKlQhGu6T+eUwuqqsHoP1wtz1WrXug/7D7+Z2vX6D8cY/njmrPpP/zcRTC/Ceo/Ni0xAG5V6T/Aib8ToAPoPx7w+5N5I+c/8AFkuPhz5z8aV/pgHKroP/xkoz/IpOk/0tPE+1Bs6T84B4wQshjoPwyfYahzxuY/AqrF+Zeb5j9EmMeZSL3nPxzCR/2JKuk/mNIutTmh6T/wMibfgr7oP35FUA8KVec/GLL355Ss5j9Wo6Dt11znP+A7F9orzeg/4Dyq2yTH6T9GLWbymY7pP0p4DRw1f+g/nOVb6sCp5z96ZV7/vtjnP5AuSHxe5ug/IGOeCXX06T9itsj93kDqP1ii8BQVyuk/Njs8rlc26T/APcRtBSrpP0TQtBiJuOk/4K3UZBNu6j/EQ0O4NtLqP6yJZA321eo/+lmMGmLH6j/Iy5ins+vqPyaJKbtGN+s/ypHH1CZt6z8q28RfgnfrPygGR3Pvi+s/IEzMN0fs6z9Uvg+BEIrsP54uPJ7J/Ow/SOjt1+rm7D8U0H0ZiWfsP6Z5TX4KGOw/rM5GMj+C7D/2vXpTUoztP7BGduynde4/JP/Rs5l97j8cAr1YgaHtPx55IPCptuw/DocjTY607D/aEUZVZcztPxQFg2//Ke8/du+DDEyn7z+YdQsvbNjuP0pzi4P6eO0/JhsBbpLM7D+cfGi5B3ztP+JwxOX59+4/uOx8mt307z8EMBT6l5PvP2KHbvu/Ke4/2jjMxGfz7D9gunIpvfbsP1pezwi0HO4/0I6fPMNN7z+6XB6jznHvP8T3h2dUZu4/3FaraHkP7T8oAPKURoDsPzZ351+nB+0/UIBMGPr77T9ANTlQb2XuP1LD6X0V3e0/PMvIE1DV7D9OPcMaxhrsP/Q87VoPFuw/pmDkHO+A7D+EKd18GsPsPxrT3Ikziew/dP5agr8A7D/+6D+5Q4/rP6I6uQcEYus/sEeTbHhO6z+Y0JSSoxjrP9IbrwVSxOo/Pp3KsmOQ6j9sPkvMqqHqP875ZRYuw+o/NEHXqtiP6j/+w+jGyOTpP46aJHSHIOk/rjEV3N/a6D+O/yWfYkzpP5Q51XUc/uk/ohPcEJMj6j/0Cixgf1vpPxQ9TaZdIOg/uPjCVEJt5z8gF5Z3H9rnP+5sSkmuAOk/nvkHWOvG6T9kQisKH1rpPzh8gvcB+Oc/ergkwwDF5j9GW7lEGsrmP6I7f/J6Aeg/So+riOZT6T90Rexa7Y/pP+omf9AIfeg/kGCU3qMP5z/u2k8Up43mPz6XArIoa+c/ng4MWiLn6D/MrkE8Tb7pP9yK9Wm4TOk/vCxJITEX6D9KZ1EqtEfnP0jBI23rnuc/8s4xMDjT6D9yJ9KoeuXpP6Kz8XicDuo/tqcLSIhm6T9ExDMhhLboPwAl4krAtOg/NoWqtvVo6T9CcGD1YEDqP4yFuRQTqOo/AAicfQ2O6j9wcOw/81XqPwqYKT+jYuo/ONC0DLe46j/uoW9wzRLrPxQSi1dmQOs/yKqnMGBd6z8ccxtdX6XrP4ycf9sOHOw/QPSLkcJ27D/SIpmFxWvsP4IhXW6uFOw/ykNoXfzu6z+mID4mXWbsPxrmMt/RV+0/WskMYOoW7j9yNpBXTQbuP6r5E2WZOu0/vLRAOheB7D9crigqvq7sPyhyInc70u0/IsQ2n7MQ7z+YxRlM1F/vPzCRRVmqfO4/OLW6NRg47T8aZ88UfcXsPzD2TJ4ypO0/1Fo/Yk8j7z9qE+IEAfnvP1jhpTEYau8/rEnoqmP17T8uAj2bLeTsP/7QktlNI+0/pncMsX1w7j8KtAqR6JnvPw7F3MG+ku8/gJfPZY5f7j/s5EgrpwftPzD1xzfBoew/xMXzDy5f7T+MIGHYvm/uPyi0FaZayu4/IOxL0lgY7j9e1jqB3+/sPxI9FiWwOOw/tOW4euJZ7D9SgpycyvHsP9CjVh96SO0/UnKm9TH+7D88KZVVXU/sPwKogDiRv+s/GG5cRf6S6z8eAiBbvJ7rP9rS3aYRkOs/Kl1KLl9O6z/6+rHEzwrrP5IVKh8Z9eo/csmlQCv06j94VmdV4LvqPw423vrKLOo/Bk/DwvqP6T+4sRKK3V3pPwo0a+0xvek//BAGJ0BB6j82fVvffT3qP2BgVwF3buk/wAWifKdS6D+Y+Fcps8rnP7IRceQ5Seg/1lH99ztV6T9aRV83luTpP64CCE20S+k/NEyB8+Xn5z/eJQ9hvdvmP0wH3xtvDec/nDzdf95O6D+2pM7OqXvpP+b77wyEe+k/GkOxjGhB6D8qeSuQj9zmP2jOwmZLh+Y/ZsIbBCqN5z800sqFeQjpP4RI6IaDsuk/GKDOQl8H6T9WY1CZJrXnP5wn3qd19+Y/+oMCabZ75z/qy4oHhtDoP6RdHj1Q2uk/PlS3RHzW6T9eUTL9eP3oPwAf8QzbOug/PodqBsBO6D9AQQBXOizpP2C36TduHuo/3ohrWvZ86j/8hdg7IzzqP1DxfVOZ2+k/VEWR3YLa6T8GiYiFpEXqPwIux0OZxuo//M6jD6oP6z/Oz4x5cijrP7iQfKemT+s/sqTr/BGh6z/AGgKV+u3rP+gAZycp+Os/aHpTvk/L6z9c50+WA8frP+xwPifGPuw/+CQokNIP7T/kj/ojf6ftPxT+tRI3ie0/CHHGpBjY7D+YOAN3JVHsP9Ka99d1pew/hpPVOtbH7T+WGtk/UeDuP9RcKEhlBe8/EsjggaUZ7j/YkEI59fnsP+YS7A9+wew/WFYp9anF7T/Yn/XEeDvvP+Ruws1m5O8/SkFbQHUt7z9gyrv5SbrtP971TZnG1+w/bJpIGQlS7T+wGp74JrzuP25Dn+AY0u8/CkBa9aeb7z8YId7+ukfuP9o2IkqM++w/QAFQjNXH7D/oRLjMtbntP+TQFx0B3O4/4gP5vcoc7z8olIuKez7uP3Z8khBT/ew/4BZkXVFW7D+AktAWkKXsPxTK+HckaO0/DFIZVcnI7T9C7NiD9WPtP1ot/dE7jew/OC+k0drn6z8aHrL6sMjrPwba2Rcu++s/Sm0l5KYQ7D/wGXpL59brPwzHOtoWeus/HPMmrrI86z8S1gajniLrP9ybMDUG8uo/enMqFLiF6j+SKzhRiAzqP+phn6Tn4uk/3PPHQbYm6j9atLFiIn3qP5j3Af8HWuo/Zp8W35+Q6T+UzqRFGproPypeTEplOOg/zsr6P+e86D8ywQ1IQaXpPz6KqIKU/uk/QIpSex1E6T/mJptC7OrnP9yABYxoCuc/slc7y25i5z+6hsJFmaHoPzaK9mAUoOk/7iQ5fZRl6T+Evh5qRQ/oP0bjTB+tvuY/6M3vPXSZ5j8kPm48CMDnP5ZMZkjyLek/sCOZBNmi6T+UM11l8MDoP5z5L9VGXec/KuyJ7Sy85j9eCgNbP2/nP+rQSRLF2+g/eg6v1krQ6T+uWYbGT5jpPzyUnr/4keg/0lhNKvrH5z/0a8j9UvvnP4AOaK2GAuk/LmOrc+0F6j92SW6AqU7qP/SFFayf4Ok/oOTucuRb6T84ot6RKFjpPwqOZC1S4ek/dh3ZYJuI6j/KgcGiBuPqP2ZBpzcx6+o/hIZHtOTr6j+aG64O7BzrP1ZsRh1CZ+s/ehuZWxGP6z+AhqKOJovrP8TL/jepnes/aDEguY8J7D8mSyowQbXsPzSFbzw9K+0/muY6UuMK7T/MgUUEd3zsP5R7ElH/Jew/mi7cStyV7D9qjx8uJqvtP57oGFK5me4/RLltpqab7j+MmEu7cLPtPyhbW3ZUwOw/pjawIQi/7D9O54iuEd3tPzxDHSkkPu8/5JiWh8S37z98Ahr+A+HuP8wyYoTpe+0/AEvHsCTP7D/AXn7ymIDtPx4co8vI++4/CFcFz7nz7z/AOM21Co3vP+BqQk7PIe4/IKSF9Pjt7D8qDz11pPLsPz5z6HsrFO4/skz/RWE87z9qovPG7lnvPyAutMPWT+4/rsWGWEwA7T8m6K365HXsP1hovcKD+Ow/TEXMuFHg7T9M218FWT/uP6y42+Sdt+0/LH80ErC67D/MQ7D1kQrsP+RxfSvrBOw/wqJkv7Ri7D84vaV6V5bsP0DmbkUkWew/Kr5XPH/b6z/qj4LJ+3jrP3bGqH38UOs/oug5JOMz6z8Wq/9zLe7qP54titMBkuo/kiV+LGBl6j/Wjz1YmYbqP9DkReavsuo/6H9p79576j8CQvfbksPpP1L9cChC9eg/DkloY0Oy6D/yRynX7TDpP77ypV0E7+k/mhP1/m0W6j/q54bTbUbpP8Qy4O/XAug/9Gw4X6lP5z/2hfSGTMXnPyB6+GUF9ug/CHFAYTLA6T8y3EBYYVDpPzIGRjgw6uc/IOGWev+35j+IixGr/MLmP9h933BbAOg/tAUMo5RU6T9KRmyvMI/pP5Ii7KxufOg/3pMiH54T5z/g2m+xGpjmPyojAnqXeOc/QAjkZ/bx6D9Yk+hYH8XpP4bjdeTEVOk/yDM9/rMn6D9eigD4TWLnP054BnbevOc/1idy4wzr6D/uDwR6M/TpP/ZFcXlyG+o/5KX82tV86T/ELX0t/droP+jVGsUx4Og/+k2OYx2O6T8sOOFl/VfqPwT1pSj6t+o/5I6okkOk6j+mr2T92nvqP+wmHoAGlOo/yJ7F2ivn6j/E2IiRmjLrP/aSOKQdU+s/VO4kzV5w6z/gzskVisXrP0AHLccRSuw/CLr4MZCm7D9Q14sLm4/sP4yuX9ZTKew/WOj+CRn+6z9E5IN9In3sP14UzUfxeu0/ELW1vdw+7j/SoRtzzSbuPza6DrHSTe0/5uYdViSM7D9mLxQH7bvsP55l4b005+0/mpPYeOkp7z/EPTxG4XTvP3TqhB2ZiO4/GFrde1497T+ePJkxZcrsP+qFXRQXrO0/YqCZxrkr7z8gX1JSJ/3vPz6dwkZyaO8/WikCaSvx7T/EvqUlT+HsP86BozB1Ie0/aLxM8vZq7j8MSPovzYzvP5QK0Jnwf+8/toy+er9N7j+m3ZEivPvsPzKn7Qgfmew/QtK/H0ZR7T9WrU/YKFbuP/JDl0LRp+4/TJfyskL37T8G0CVg9djsP+K1NUdWKuw/vqktRdhI7D/GvZGYSNPsPwzMIIKcHO0/8PRvr6zQ7D8eOnN9Py3sP8AAee1Eq+s/8sjilcOB6z9w0mMXT4LrPya+e7nNY+s/atHA7cAb6z9WLYfVCeHqP+RI0o5r2+o/bn/LOIbj6j/qwHxbl6XqP4JrMb0MCOo/HK10hadh6T8i3G2PxTPpP1ApHxp6oek/8qQNMakx6j+O6DpgQS7qP+5YRaJ/Vek/Kjmcpnkw6D9eTbPQH6nnPxy843fTMeg/BlrfZexI6T+cjqoo6NvpP1K+LUCuPuk/HCXSTGbV5z+mE+AciMnmPxYJlte8Aec/GHVH4GRK6D8CR0h95nnpP7K8Z69EeOk/XBZiO0096D9MNeut0dvmP1zAxmt3jOY/TFZ8qtmV5z9elqeQ3A/pP87gBowUt+k/XufPdGQN6T9QrVpBvMLnP3pdEkjPDec/TnKKs8CU5z9OflsXHeToP3Rhtvt05uk/fD8YlEHi6T9AZp5U+xLpP/5X+nZqXeg/mPHzW8F26D+ACeA3ZE3pPwbF7vwgM+o/lI8YIwWM6j82huruFVPqP25Pq8w2Auo/ZGpxyiQL6j/YJf2UzHHqPwqP/YTt4+o/xBcnAnUh6z/mM/grvDzrPxwCcTtlcus/apuUfyzR6z+M7azOOB7sP85Vb34mG+w/cOCrT2ff6z+gRDJuWdfrP44h4+jBWOw/nv/hcvQ27T9OttnzpNLtP2Rnse5bq+0/ENDwXgzs7D9Sf/jydl3sPxBbVquLtew/xmvIVETh7T+6EpG7aP7uP4KNI6N6Hu8/iNwU70go7j/ATk0hNgHtPx5zixvQyOw/nhKiRkDR7T88cakKzkjvP/4oVcrO7e8/kMkZf1Yw7z9qhhKwWrntPwDkBV5T1+w/fu6x2rtS7T8sfjtMM7ruP/K12CXAye8/dNFDUwyO7z9mf0ouZTruPzKeTZOj8uw/oOhnfQLB7D/MZvNAiq3tPxxua0g+xe4/bBwzi3D+7j+cMT8CByLuP2TgGIAI6uw/plIyk7dJ7D9mZ1ZZ25TsP/hyErkGSu0/ohIKt7Oe7T8oGI5QsTntPzB79j6Nbuw/sA31VILV6z8A7DvFP7frP0DyMRJB3es/tIc00Vnj6z8gBXH96KTrP2yidbFCUus/Dq+aDK0k6z8Q/4cSxxHrP5599fBv2eo/ygZIVtJd6j9Ke7OK7NvpP2bXCAE0uOk/aBQdS1UL6j+ind5UNG3qP6TU5ieTSOo/INhfJ7dz6T9eAUGll3PoP6iXOfmFE+g/II+ONqmj6D/60VbwuJfpP+JPHCDu8+k/7GM4/Ikz6T8wq3xvlNPnP3KxFIgy8+Y/aHPLY65S5z/6+pJwUJroP9YKSdMXnOk/sHgCDJtf6T+mcnQkNQfoP7oFjtviuOY/tmgrYGKZ5j+yWkqfUcTnP2ZYT4k7Muk/DK2BbCml6T9Kwjntf8ToP1g3qddJZ+c/oHBHV8fN5j/cravjQ4PnP+SmtDZP6+g/BCBb6ATa6T+0IrL70aLpP7RvMVIPpug/epuDMNDn5z+8a0WNRR/oP9JIf8d8H+k/3jdmqcwX6j80hytW51zqPxa4Qfr09+k/JhzSsHKC6T8qa1nsIIfpPxoePc+DCuo/hE1HyTuj6j/4aj4K8vPqP44Z7Q67AOs/0jSgDMcQ6z9ClE1SSk7rP+S20r8Il+s/roj8xZmw6z/+WVABhZ7rP6Rp+6xNr+s/OBtjK7cm7D8Y9QpQ9d/sP7w4BMTMWO0/Ivbjft0t7T9M0BKVqpDsPyhtkySLM+w/ptZB+gep7D+8z9vHEcntPwjft+lXvO4/DDZyihq47j8Kh/CcJMTtP2go6AlGyew/vo3iGujI7D8kSDY3sOztP+RzvVKQUO8/iAWpHTnG7z/qHNUf7+fuP6J/OQrTfe0/lLhcIArR7D8y2O9hMITtP/SgImLu/e4/kIsnynrw7z9+1wColoTvP14WEASjGO4/Tk3Vv9Xn7D9CDxwHxe3sPzRiJj5LCu4/GLTT4SYp7z/gU8zdQUDvPzbfY5AbOO4/fIOLnnbw7D9S4N7M+WrsP1BhiAR56Ow/yG5qiFTD7T/cMCrp4xfuP/yUrncwke0/LIXUp5qf7D+Y8IZvGPrrP+7KrCdQ8+s/IDDDpb5D7D9ExK992WjsP6amZl+sKOw/WliDtTO26z8yePXNxWLrP1KYvv7hP+s/SHASbhkZ6z/i33ECpcPqP5SpQb75X+o/YpU/6es66j86nXAnEGzqP6jhte58ouo/ynIaHxRo6j9adJQ2zKLpPzRkGJrmyug/1F8wqt+K6D9qV0g1kRbpP/CJkLmb4Ok/PvGXKbwJ6j8wX4ylETLpPw6MMeuh5uc/HozDFtEz5z/6iUBAHrLnP+oxyrl17Og/PjZLMiG66T+EEZtVakfpPzxY0nDF3ec/Xlflx/us5j/I5ac24r3mP2qLg3SvAOg/QgXn3BZW6T9u7EX4LI/pPxBbPXkPfeg/kM7GKnkZ5z8IlSBxnqTmP4Yhy5qih+c/aEHcJ7j96D9s9B5dj8zpP04pIO26Xek/tG3Zx7I56D8EVOedqn7nPziOdUFJ3Oc/4LmdAr4D6T9YZu2UYgPqP4aeI6DXKOo/DMX5sBiU6T+wOF9ZqQDpPz6/QBGmDOk/Ru8509Cz6T8Qm0BpzW/qP+wRmTMYyOo/KsWGH+y66j+6bZfDUKLqP3T4zbbDxeo/oK9vop0V6z8WSnyULlLrP4BMo/WuZes//jq7TmSD6z8oLcyitOXrP0rfT8fCd+w/JJr676vV7D9i5yZRo7LsPyyDEFxlPew/HnOLpeUM7D/c5BFWiJPsP77VwQA/ne0/KoLvOH9l7j/qIZan4EXuP3I2WWz5X+0/OHSc7pGW7D8yjzQKisjsPwYq43ch++0/knbwUnBB7z/wkXYpA4jvP5BbOtT7ku4/dvGxh7dB7T/ojMqfpM7sP3Lxp2T0su0/MLDxBmsy7z/6P+AwL//vPzgTsprxZO8/eMkiy8br7T/gAP0fvt3sP1wL46/CHu0/hKzUDfhj7j/6QULFu33vP0bYCAxGa+8/IkaemK867j+0/qRzI+/sPwLqHWPfj+w/chiFulFC7T/wjE3fEDvuPxZkMpTBg+4/oqRywxvV7T8CPIXvgsHsP7wluwKhG+w/pKkDITU37D+4DlRX3LPsP4wy+cLQ7+w/mGdmnpCi7D/0hagI8grsP16os1ntlus/sG2KMFhw6z+MgFT5h2XrP5i9kGtIN+s/XFoznDbp6j8uRZAHorfqPzbyb8Uewuo/GExnBw/T6j8qPpaRY4/qP8z4pH6e4+k/XmtBDRQ06T8mqDcptQrpP8L3GI+shuk/8tQaFKEi6j/cUqofZh/qP/ADAR0xPek/lgu5gIcP6D9GhiFsK4nnPyQeAZvoG+g/Hg+WJpQ96T9StEJs0tPpP8DaaixwMuk/CHNJ5FHE5z9uyv3uSLnmPyAJoBD39+Y/gEvdJURH6D/c/ft46XjpP7BEmsDFdek/JljZuYI66D8K5Oc9CN3mP46VZm24k+Y/TH47dx2g5z8UucNxJhjpP5z2R+lMvOk/6vXHRnAU6T/uyyDr89HnP6ZHsFgLJuc/6jSHBVSv5z9sbRMPmfjoP04LtF4d8+k/InD3v7Lu6T90pJZininpPxRr2cJcgeg/SKBd+e2f6D+0mqviNm/pP1LO8HIeSOo/+vyCMmab6j9YtMOPoWrqP8Dy0iCTKeo/VnJEiVQ86j8y2JUJIJ7qP5zMhIotAes/ChLz5zcz6z8iZyACK1HrP2oImUdJles/DmGtMCQB7D8SBevx+E3sP2b5zCyGPew/2FDfUQ/z6z/i7FxveOfrPwzn5kx0cuw/yPKhAmJd7T+WgYUEpPztP/7KNB1DzO0/wo/kZxb/7D9STPXCQWnsP4R6nLoZxew/QDxzMa357T8CQDMj4xrvP+5TgQPFNe8/+AQ/uIQ17j8mW/uuogftP4iT4/l9z+w/okfUYMXb7T9obJeGYVTvP4Ak0ioe9e8/JgMTbnAx7z+8R/fhUbftP1QQivEv1uw/cpZkRYJS7T8KzLy8qrbuP/Z5lx9bv+8//DcclY1+7z8MlVqA0SvuP1gI0sYK6ew/Sukp0n257D/AYwsLLaDtPwyFl43PrO4/hGM3FW/e7j+sZTH0bQTuP7Diyoon1uw/VtZTP6087D9ep2HlaYPsPwawrB7PKu0/SuMOu35z7T8Wd4ULrQ7tP5LHtASQT+w/OFpOBQTD6z/qJuPrfqXrP6Y0UjTRvus//Dwlbpm16z9YHOuRynLrP/QBLnyeKus/FgDN6+MM6z82UZRwAAHrP6RGcb3RwOo/kp0gqRc26j/0ly/J4avpP2KzdChVjuk/qiL09bHw6T9cFMHatV3qP76Zzv5rN+o/sKzbSmVX6T+UWJsqNU7oPzieO5gd8Oc/huuGzbqL6D8QfScQBovpPwLjpInQ6ek/ogEsi7wj6T9sqTMOpb3nP3Y+HFzi3eY/4tV31rxE5z+oMEGrQpToP7pwWFXTmOk/cngQrWha6T9K+OhhhwDoP05EGNwYteY/KgmQZGGb5j8qVAVPIMrnPyzR5xFiN+k/Gm2teyqo6T9qhuFFMsnoP/44IK0Qc+c/9M97O1zh5j8axlCe2pjnP5SR41jB++g/lmeviE7k6T/WTLKcHa7pP5wKYu1xu+g/eihwbTUJ6D+wnpyIhUToP+i7F0YyPek/nLxXLAoq6j8mHNkek2vqP1B4nxcMEOo//lPp7fGp6T/y+HQX2bbpPwaxo8UKNOo/lP2cg+i96j9c4i8D8gTrP8aotsSKFus/rBWm5fg16z8Ee3sLuH/rP/StFxKFxus/YFwRk7HR6z8uBCz5lbHrP8wew2jVwOs/dhcBD7BD7D/Y7m7mGArtPyz75qRjhe0/6ksoycpP7T9ERn1eHKTsP8LTwKioQOw/Em5v0ri77D8osLsQBubtP2bND2dz3e4/2GAauOnS7j+YOD7Al9PtP+JCQyR80ew/0kSoKynS7D/I41G/N/vtP9C+lvM5Ye8/YGmfxKPS7z+udRnQLO3uP6qpN224fu0/6BVj/EHS7D+OQCtSyobtP94jy0pn/u4/JDyLciHr7z+42KVdQXrvP/hohalBDu4/aPV9ygHh7D+QBqKaH+jsPyyEFkIV/+0/dOtIVRsU7z80poU61CTvP07PFXYvH+4/fCM9lQDg7D84SL5GiV/sPyLvJmOM1+w/FCCx/A2l7T/g60KxIe/tP2B49KLfae0/AhL49ByE7D+KB0quYOnrPzYpsf1E4es/ckRGmhkk7D8AwBO8tDrsP3yWXQ7i9+s/qhxz7u2Q6z9W4ddNq0zrP87pHm67Lus/1E9q6yb+6j8SkJmTHZnqP7b224lQLuo/QDGslhkR6j98q+4KGlLqP/Tg+H6bkuo/kCMMLIFU6j9sqmiPhILpP57lEqGIoeg/vmX648Vk6D/6CLvTVv3oP/j8J2Hn0uk/eKUmL4P96T9uSNuIdR7pP2AagvfJy+c/gDQoFMYZ5z80Ythhm6DnPw5HVToB5Og/1KoBw7m06T+cKdOLPz/pP35k6pzJ0uc/gn2crvuj5j9GmQ3fy7rmP0QnG0F0Aug/4lao/WpY6T8eM30a44/pPwj0h3Ltfug/xPRsSDQh5z9A3iNbLLPmP5C9NSZBmOc/JOO5YWAK6T8YjW4FmtTpPwa2tICYZ+k/hJghlCdN6D+UG+znvZznPzbgCWYc/ec/5mcQxj4d6T8w9oC+ABPqPzidOifHNuo/8k/gHUis6T8+m4aVeCfpP5IP/r0IOuk/TGb+IP7Z6T/WInkFxofqP/gaD7Rm2Oo/Ut1zBv7R6j+KQ0nPQ8nqP+AoRV3E9+o/CsBRS/dD6z8Gm2Gje3HrP/DHSMUSeOs/pK5rtmiW6z9Irj5c0AXsP9QlCcMMpew/TGuQoAAE7T8aTRefz9TsP/R6/WbbUOw/xmfiJVwb7D+GIkbag6nsPyY+vkCqvu0/9Lxw/r+K7j8KB0E6emPuPxb2Bo4Hce0/lNt/jVyg7D8YVeXBjtTsPxTA65/2De4/uvTqOTxX7z8+WVYeMpnvP+zDnDrQm+4/yOREZCNF7T/84FpGOdLsP2CN0kPFuO0/4C/L51037z8yanWCF//vP7CvusSZX+8/BiIYqDrl7T8WKqfFfNnsP5ZeItU1G+0/JjU4oIFb7j+UAXLyuWzvP0T9joDJVO8/JEfzf2km7j+GWXfx4+HsP6aa2YAFhuw/Ai2Ea1Uy7T+0LkiLgR7uP2TWkAM8Xu4/NBuqyvSx7T8whxvOk6nsP2QU4JqWDOw/JtWbh/8k7D9+jnKskpPsPzrV68kqwuw/7k/EF/Nz7D+8KifYhOjrP9wCKkmTgus/MOqGCcNe6z+eh8pTc0jrP+xj7ciVCus/4le2L9e26j/efayzqo7qP44NSjw9qeo/MI59OszC6j9YzxjuTnnqP64le2KRv+k/VoFcaVUH6T+4LGg6vuLoP4xA2r7TbOk//nT6LS0U6j9a7T7Y8hDqPyK5itCXJek/NCYDQeHv5z8204wn5GrnP9YPTDmBB+g/eF99LzYz6T/U+e8oWMzpP3Ap1jABJ+k/LA3wobK05z+qCXrcB6vmP2b0GJQg8OY/rDBJJHtF6D+cvpfpsXjpP5TFCogJdOk/lAGT2Qw56D9+gGJfNODmPzTwSHYKneY/UH7abe6r5z8E8gCVUSHpP+5EUaAqwuk/pHs6yoEc6T+coKHlyOLnP55hBz0fQOc/aqVW1GLL5z8wclrq7g3pP5ye3mxDAOo/Hqr+r8v76T9GfyvtWUHpP9p+gJqipug/xo1+qzLK6D/U8TfzoZHpP6QgMM9cXeo/wkvleROr6j+Wp47RvILqPyZBG0udUeo/Ktz8zPtt6j+qwX2QisrqPxACoFVMHus/bnltgetE6z/Ee2tztmXrP5TIQSFDuOs/PKa7H+Mw7D+8BHWOJX3sP9LCGJ45X+w/ZDv7I0AG7D909rTcWffrPwQTax3Ri+w/fAcH3giD7T/oy/E6aSXuP0LFIBnf6+0/7s4YIDAR7T9YiAOTgXTsP4CPnCgY1Ow/+MdR8QMR7j/CZU+csjXvPxwp/PI6S+8/+lhkUFVB7j9OipG/OQ3tP/RlcTaE1ew/KmlVSDLl7T9kE4YILF7vP4Y74MxR+u8/JL14yMQw7z8IGp/OMrTtP77QbC9d1Ow/Xm3of1pR7T+IzVJgjLHuP+6C+J7tsu8/tNOYJDRt7z/WJtfTCBzuP4b+gjrH3uw/kFrEt0mx7D8gxCPUoZHtPxg6kW2+ku4/qrfbONW87j/0vUlfv+XtPxA6pUa6wew/dj3PvTcv7D9G6K/hQXHsP1D2akSKCu0/DiQLpz1H7T8GZRrg/OLsP4KFcLxSMOw/3CqN5mew6z9qvhVndZPrPwJJ/1nrn+s/LgotMnqH6z+oJ37YokDrPyARWfc7A+s/2iwiSWH16j/u7Wl/UfDqP8RXdIc2qOo/kFn3b5oO6j/WLbUJfnzpP6r98FtdZek/7COf0dbW6T/u/2/ArE7qPxTFflmaJuo/Djg2Trg76T9S0+e/BCroPw5/Eak7zuc/OFbr3CR16D9U2xh0LH/pP/4QDg9A4Ok/EJeM670U6T9OUUD7KannPy4ifPyByuY/htbom5445z+QmIcucI/oP0jg41xHluk/vDQNGgFW6T/Auq+rQfvnP0qCxzRSs+Y/lkPWWm+f5j8K2+crb9HnPy5YKd1hPek/SFc/fdur6T9cLwu8B8/oPzDP8haYgOc/qoeExeL25j9WDr/z96/nP5o7kjQSDek/xvrS/SLv6T+OflJXL7rpP0alvAQZ0ug/cFmGkBss6D+qu2E6AWvoPxCeuGWYW+k/MFHDaJ086j9AciRJp3rqP8afcrDbKOo/nBnvLVHS6T+It+xVO+fpP2xgCcjTXeo/CJqXipXY6j9S1tGf/xXrPw658leXLOs/Iib1wWlb6z+aYYjBHrHrP0yevrSh9es/3m5LkEry6z+MexvoUcTrP3CE1gE50us/4oWI3Wxg7D8c3y0omDPtP/wHg8XtsO0/kpMBLJ1w7T/61mlaxbbsP2R7GLlSTew/4jXRheXN7D8QlalU9AHuP7R1Vyv8/O4/9BauUwns7j/uwQmFxeHtP2BibZD02Ow/wq35fcba7D/kVQSFnwjuP6KRLdsXcO8/brugZf/c7z+SjnQSvfDuP9a6inWbfu0/sHhlxcvS7D92ZTp2Y4jtP6Rpqukw/e4/MHGYqK/j7z8eaYM9EW7vP4jXpUuyAu4/OgGR+IDZ7D+yM0g+teHsP/7oERyM8u0/zONiw0b97j/Qzjr7sgfvPxyH6ZYfBe4/7rUnyvLO7D+UBVDXl1PsPxh9K47Dxew/kCuhM4qF7T9C4ZmwJMXtP5blHCq+Qe0/vOM3LkRo7D88ZHzlcdjrP5zv9JjQzus/KMLaz9ID7D/coW/H/QvsP1aLsqTbxus/Pg6Kyb5r6z8WyfGutTbrP5IOArmPHes/SIUPahfj6j963ICUqm7qPyxE3c8c/ek/+ujbgvvn6T+G3d15wTjqP6b3I78Rg+o/JE1YBC9B6j8y67B/y2LpP/LHfqs7eeg/+hbIoQZA6D9q/o41SOXoP8ZZl9Trxek/Zn3uhcjx6T+KR6DvowvpP9ohkOFdsuc/wMkKGpQB5z8yxy7cyZDnP8YPM1mp3Og/0MUWyf2v6T/0R3o45jfpPyLNEBtEyec/aDMXRgSd5j8u3jysubnmP2pAiHWmBeg/2uq1eY5b6T/sGmezU5HpPy6fAEkKgug/yKgg380q5z+4VEOGvcPmP0B9Dn9pquc/usxZhucX6T8yfvTVO93pP777ZzFbcuk/+gAHwgti6D8shMnRerznP4orcN9HH+g/4OYDH4I36T/aT5ScBiPqP6zLLAk8Reo/hiPk9lrF6T+M5IM8Wk/pPxCai/BEaOk/Jv/lSJMA6j/AJIRH3J/qP0IzCRff6Oo/mjy95W/p6j+w7I4Ko/DqPzymxcfxKes/zt+l2iNy6z/qrDIkdJDrP3Aho6xBius/NO809mOp6z+Asn6EziXsP77W8r/a0ew/jl8jfHkx7T/q0M25EfbsP3L6SrSuY+w/aj08n3Yp7D98dY5LCr/sP0ID+5Ai3+0/cDt9242u7j/ctJ0rjn/uP0xQnJn3gO0/PIJHAoGp7D+guavu9N/sPzCdtJ2pH+4/Tk47/0Fr7z9UKuI3Z6jvP3YVc8kUo+4/QJNHg6JH7T8OD2FLIdXsP5xxTdSEve0/aHOu9o067z+W4rIk4PzvPzplYTJvWO8/tiOXUozd7T/eDlOTjdTsP45G/3nOFu0/fA5b9ZRR7j+mSfRCzlnvP8LsdzGGPO8/CLcibvgQ7j+qKfqmBNTsP6iVUduUe+w/rPpYQFYh7T/EWvQ0hgDuP8a+SaZRN+4/OJsz8t6N7T+EmYa5M5HsP9KhMm09/es/ps9fQD4S7D+ohtTneHLsP+rSiu6+k+w/rl/jnulE7D8oDR2/B8brP/YL8nU/bus/dL0cLwtN6z/a8l+3HSvrP0xWigfK3eo/9n3Th7mE6j9o6jXnNWbqPzhVHyXRkOo/bMt1SMSy6j+sHKxwY2PqP+ad4nn2m+k/okgET4Db6D8qV0EW8rvoP5Q31Zf5U+k/1B9/lFIG6j/6MVEm7gLqP7zT0+G/Duk/bJivkpbR5z9KHBVlV07nPzq5HYCk9Oc/CKP6/9Qp6T9s17VKfMXpP063+CBoHOk/HN32zpGm5z9ionIAzJ7mP37LbEc76uY/GC3/EwhF6D8wfpWoPnnpP1alMQISc+k/CuY51u446D8wqZVJVuXmP0IOaJ1oqOY/PgKR5ES55z8UHOwPWCvpP0RxbHSryOk/uGMdmZcl6T98xiq5NfXnP+7+gHv/W+c/0jCO8t7o5z+CBdNXEyTpP/afDwXhDeo/vAKk/YcJ6j92JxEpJVrpPz5hzv4rzeg/fAWYxXv16D/uPsrYlLTpP2TlDEHScuo/EFHyyQa76j8m1H4RXpvqP6i0DeBDeuo/agC7DgSg6j8+L53h9/bqP6SBIxI9O+s/9mrinohW6z9+FIzYVXrrP/YPhfdC2+s/Zl+FaFNg7D8mRYSDqavsP4iexKUygOw/pN84afIY7D9GL/QJ9wbsP5pEoTDMpOw/9pVy6tan7T9IeEoN4kzuP1asQwYjCu4/AlMYY1Mi7T+i5s1IMn/sP7rhV0R/4uw/2NBLHjwn7j+MlQoLyk7vP04+FdrTXu8/HDoh2LdL7j/0bMWM+hHtP56tWJnf2uw/ggkhc4Dt7T8=",
          "dtype": "f8"
         },
         "z": {
          "bdata": "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",
          "dtype": "f8"
         }
        },
        {
         "hoverinfo": "none",
         "marker": {
          "color": "limegreen",
          "size": 2
         },
         "mode": "markers",
         "name": "Start",
         "scene": "scene",
         "showlegend": false,
         "type": "scatter3d",
         "x": [
          -0.7898226081072581
         ],
         "y": [
          0.8196230690945268
         ],
         "z": [
          0.6945505524765017
         ]
        },
        {
         "hoverinfo": "none",
         "marker": {
          "color": "crimson",
          "size": 2
         },
         "mode": "markers",
         "name": "End",
         "scene": "scene",
         "showlegend": false,
         "type": "scatter3d",
         "x": [
          -0.8363996889802388
         ],
         "y": [
          0.935241913663319
         ],
         "z": [
          0.6860808059654853
         ]
        },
        {
         "hoverinfo": "x+y+z",
         "line": {
          "color": {
           "bdata": "ACw23kE85j8cU+0lzgzmP/Cvj15JFOc/BMgPaEJ16D/8d7qt9P/oP4za/KiPPeg/IPJvnvjZ5j8MC2RuCQTmP+waiMtPbuY/0jmrkBS/5z8qiVuqbdboP+iRglXuw+g/1NNUJH2a5z+8vaMpAVrmPxRXNlQUEuY/+v0W3Fr/5j8UZrzR11XoP7CcD3QH7+g/8rhfsKhL6D/o39htu/vmP6b2c5FWHeY/JOR3iTls5j+sgcwUtKHnPxzAF5TXsOg/YKVyT1e06D+4fCGUUrHnP8pqoVHMh+Y/FP7lcj0z5j8IT+MQWffmP/6mGk+qJeg/jPDCqL+56D+MLUsuMT3oP2ToRG9RIuc/eIle1Kla5j8cCJiuN4zmPyx7sCFLhec/FAdu2uBq6D9AIjqQZ3zoP+h4oJbgtOc/Ki1PRVbD5j9YTHIymXPmP9Y9Ba+IA+c/aBpgcafw5z8OyPY1s27oP5AWa9dwGeg/rBapX4ZB5z/4xLACgqDmPyyeKKDqu+Y/YGs1j8R15z8ujtesliroP2BBAj6+Qug/vNDQEjWx5z/IU7bNmfbmP0wmTa8useY/YNI48b4X5z8YQvd1gc3nP4LlSsgpNug/aFrc+iH95z+k07YNjVjnPxZ25zx41uY/3O9TKtjj5j8wJcZPM3HnP2r/0D/aAug/AJof0sgd6D9AIF9AUq/nP7rc38W3GOc/EEaIt33a5j9cdQLUbSfnPwBQOyu/uuc/5BYMZIIV6D9Mgp6rNuznP0AZ3GD3ZOc/JMFgKHv05j+YTcYbCvrmP8ZbG+Sybuc/RD3ch67s5z/AzP4mKAjoP0r83VJMq+c/GBta+hAn5z9AmqznxuzmP6QmuVIpLec/2iLGQUKv5z9QTJoLZQLoP2QWIIum3+c/IGk1pw1m5z8UhSZPmP7mP7R99gijAec/THHAZmBr5z+qtANPsN/nPyzV9xUi+uc/subhFbek5z/8wtYA5innP0gZNM1+8+Y/hOAuUKsv5z/ocjDqpqnnP5a3fQGq9+c//Cs0J8/W5z+EWyKpnGTnP2LzpxpIBOc/GGnH4qYI5z84J/UjQG3nP5ySj1qW2uc/lDchLFXy5z/w1BA1PqHnPxwvLyG2Luc/yM++cuL95j+YLD5rRTjnPyAA/42Uquc/CoiaIcDx5z/U6xwaYdHnPxLim1VQZ+c/rO21oxUQ5z9gnjHTchbnP+gZZEyWc+c/aK8wDgzW5z/gx/ohVOnnP7T9/5Penuc/WntIqaQ45z9QTp9+tA7nP97aFmqOQ+c/oFYriKin5z+wfx6dJ+TnPyBxAtKfxuc/KGgwX+dq5z9k9vAGuiDnP+4LfCmDJuc/MP7iaLN05z94WF0CMsbnPwwMaFqQ1ec/rGTztSCY5z+Ij7EnfETnPxYSFbH4Iec/LNUCIdFL5z8iWcFwdJvnP8jJl0HPy+c/1oiw8EC15z/gQCElm23nP2CwohAKM+c/wivA+kY25z+0Av489XHnP7yFM7w4sec/6NTgm4y+5z+eXwJD45DnP7iImX8VUec/jr1Yzok15z9MUF2eAlTnP+CjfON1kOc/THaSmcO25z9Ect+hvqfnP4hs11tYcuc/mKzA7BhF5z9cOc7f7EXnP2ySA8eKcuc/8JozBNGj5z9C3vGwPbDnP+hFU/bxjuc/DEl35Mtd5z/QRlLZ8UbnP0AKdeP9XOc/pOyV/wOM5z9qeMEMpavnP+S9Rq7Woec/uhmqO1B45z+a8qVsN1PnP7bCMHXuUec/OGO2GK505z8IKcR1HZ3nP961MYHYqOc/eNvMYqmO5z8MRFWKqmXnP2Bc+rD6UOc/aL1n5bdh5z8MVLE/yojnP+ZZc4BZpOc/KEojUfyc5z/0peXccXnnP+AYnuRZWOc/1NvUML5V5z8kmwvgL3PnP1yOH3TLluc/sO8jyb6h5z/4Ww4TvornP2Q0yNOwZec/OKGaOktS5z8oh5GqxGDnPzQSkbEXhOc/CGpQCHid5z801RM4+pbnP7rXqwxZduc/cFMwNcBX5z9kXFdfXVXnP0q92rnjcOc/yBUR00aS5z9I6GnUp5znPxj7GVVJh+c/cNHpuOhk5z8gOFBJUVPnP5jIFniZYec/cHr1ekOD5z/ojIWrO5vnPzDov+oalec/JEctaK925z/QFNBnqlrnP8xWALZfWec/7lVFRNhz5z+WFs/XLJPnP1QZp/SPnOc/tCLYpn6I5z+8k5597WjnPx5oAPxnWec/+iiaSTln5z8US64iNobnPzwUQYihm+c/8BdEgXeV5z/QzapPu3nnP85PYYvCYOc/0jJVr/Bf5z8w4HbFdXfnP4AsHOiikuc/QsEXSiya5z+sG182LYjnPwBc2ASrbOc/iEWnhkNf5z86/8T91GrnP+CZnmWdhOc/gOtX6xeW5z9Eh7Vvk5DnP9y4KLhkeec/AvgvkKJk5z+a959SmGPnPwA4uJU4duc/SJ3gNM6L5z/ckVm1zpHnP2y3BfOdg+c/sNw4RNtt5z9cjyp4BmPnP2zzyyeqa+c/8HiD9Yx/5z8YWcB/Vo3nP4A5+QKXiec/dqHr5SR45z+I48JNN2jnP0Q+bB4hZ+c/wlrq7C515z9gezT674XnPzKpyYA6i+c/Oii+GCiB5z9cQQ6X6nDnPw5QdGyIaOc/HFa9k+Ju5z+U4cqdMX7nP8risddgiec/sMNKWFmH5z+8g3HwfHrnPxL7Vug0buc/cFy2AAZt5z/wEMllvXfnPxLo7n0Xhec/RJqYq+WJ5z9aD71XioLnP8xtZlLEdec/nNQrlaxu5z8c2sx/OHPnP1g5i45Vf+c/4t3Cp6CI5z/QY3GnWofnPxRw4ezjfOc/GPRPpVdy5z8e4YUKp3DnP3gbLr4Eeec/ULyszwmE5z9CM/gULYjnP5xCPRLqgec/xDJ2d6J25z+swGqY4W/nP+QV/1Mpc+c/AOnLrU995z/mpsnWU4XnP1TxODwmhOc/oHbHkqx65z8cNP6g43DnP0JAoRjzbuc/zHgTEDF25z968vZuEIDnPwQiIIHWg+c/HAmpICF+5z9IiVwawnPnP6DuvseGbec/gLRiq51w5z9cFF48KnrnPxhgOdLNgec/QslE8+mA5z/0VjveUHjnP1TwJRd/b+c/oPTPOhhu5z/IPD84UXXnP3h52kv0fuc/LKlT9cyC5z84AePLwH3nP0j6qvJudOc/8Ki3nh1v5z9cZyiqjHLnP9ZnB2nme+c/DjjOykaD5z+IN+23mILnP3w+UbbNeuc/7F3C3/Jy5z/Y3Xq1BXLnP8jIb+fueOc/dFlkS9KB5z80/2cCN4XnP65NowB8gOc/HvOxDQF45z8wXSwBP3PnP44UNAVNduc/KkAz8HF+5z9ovx41o4TnP3ypsueog+c/oNPrQIh85z+8txKMd3XnP655W2RqdOc/Oj95YwB65z8Ih5OZJ4HnP2S9FRmeg+c/HNf8RFB/5z8KsnbV93fnP3g2WNS9c+c/FOWH8up15z9GBKyTOnznP/B0CLX9gOc/mlY4QQ6A5z8YuVJsQnrnP4TXw3eEdOc/FMryV4Jz5z/UWbWMvXfnPzhs0KRKfec/loq+GFB/5z94nu6FJ3znP7CeFHyeduc/VOdB8Glz5z9g/x6pG3XnP2SkgMwPeuc/PMec5Pt95z/iOefnp33nPyrccEeXeec/TDSL9nF15z9oQYo30HTnPxqbUiw1eOc/yOW9rr985z8UjWBJuH7nPyBs+yC5fOc/irY5FcN45z8OQtXgbHbnP+xMa7TOd+c/FEva5st75z9MndWtHn/nP4xXAAUsf+c/JL/0CS985z8okqrG7njnP2SnK6RReOc/cGWte+l65z+YGNA5iX7nP4CvH90ugOc/fE6iu5N+5z9w7pG9NHvnP4hG1u39eOc/8hQ94sd55z8s77o5zXznP6xWZrlgf+c/ZDM5kj1/5z8A5p4gc3znP2jX6tZMeec/ci/eUFR45z8sqFZMJ3rnP9QR2qj5fOc/NJNOUih+5z801Q7WfXznP/Bp+KI2eec/7B647Op25z/wuTqbUnfnPyyrkgTQeec/FKiU1/575z/spstdx3vnP2BBf30qeec/vicHVTx25z9CjpWDVnXnP9zp//0Sd+c/qBW+bsx55z8kjKibDnvnP+Zse6C1eec/sk4loeZ25z/uxi0lDnXnP/T6S4DGdec/AgB6/3d45z9EDEKZ4HrnPxRaowYKe+c/5NZSxPl45z9MBrampnbnP5j/G1NBduc/Vq26WE945z8WL+HgO3vnP0j2ayO6fOc/2Iv9acJ75z8mE4IocHnnPxB6wR0FeOc/ZG2sUfJ45z+s4Gh6nHvnP2givDDpfec/JFVk/BN+5z8Ed5srMXznP9hdQYsSeuc/IFb1pq155z8sGBIHbHvnPyJIASrZfec/Gspg5ux+5z/s/MKLzH3nP0TM2ih+e+c/dEamfft55z9wzZJKe3rnP1CTwytufOc/bPrVQAd+5z+W2U6Oz33nP3CVZvnie+c/2EqRfct55z84Vj1bJnnnP/ANUVtFeuc/UJWwbvZ75z/gbFSWlnznP8gkFfJ5e+c/bHMgPnR55z+4ubA2F3jnP+yvfy5YeOc/IjvN+Md55z9uOV8tAHvnP7i99Xfceuc/pKj3v2555z/MNTRJ43fnP0A9Kh94d+c/tEI3x3B45z9kpaY36HnnP2w5u0Weeuc/zDIg2Ah65z/EUkY4wHjnP+YlJKLyd+c/wItwo1945z8wvDA0u3nnP35rFQr4euc//js7QTF75z8UHOGiaHrnP0Su64t7eec/OF+Zu1955z+8ziz8UnrnP1J/vxqte+c/lKzz7XR85z+4bFgxNHznP4zfyvJVe+c/nsceO8R65z/cEvIEHnvnPwCW1skyfOc/orEaCjF95z/KWMVQW33nP+od7kGnfOc/UKGPK8F75z8Ek0w4dXvnP0TD9YUBfOc/dEQgseR85z8gFKzWT33nP0wvauzXfOc/aC9Iz8575z9uW0U/+nrnP2yiKNHpeuc/0DpiDn575z+eHx3BBnznP0aFLjrce+c/VLyzFO965z883kL303nnP0L7qBBDeec/0jtU5Xp55z/kg6AvDXrnPzp6BlpAeuc/pF45cLB55z+UvwjhpHjnPwiBMz7Sd+c/8rsO1r535z/iETF7UHjnPzKZfUDleOc/xqy0qOB45z/ES73JMnjnP8D/Uhdld+c/NBNm2iJ35z94nxpwpXfnP1ikm+KDeOc/eP+DvQ555z/6Yu6153jnP0ZoBshReOc/oOksUfV35z/WdjQwTXjnP+jUx408eec/iByNlSh65z8kurqJfnrnPwT9Qj0xeuc/GNmOvMF55z9YoBUozXnnP7wL+uuDeuc/RGLxsIB75z8Q+ucMIXznPzZzaW8RfOc/kvXcy5J75z8A6Q08P3vnP/wNrjGDe+c/sERZxUB85z/sCHAA7HznP07E6iEFfec/ur+fm4V85z9weqCJ4nvnP7TP2Uule+c/pElzvvV75z8cdW9Qe3znPyolbdmsfOc/ODcBh0d85z9A3Y4PhnvnP6Q/bi/reuc/GhArwNB65z+0MtecHXvnP6DZQfJfe+c/gAAz4TF75z9ciG8okHrnP+h9f9zZeec/8ssM3Xx55z/akpIbmXnnP0oBxIHpeec/SMwjGgN65z/cc/F9sXnnP6jGvUEheec/KtNLu7Z45z+YnWJ5t3jnP+7V4kUReec/ELyiaG155z8A/wSpfHnnP0Zz3ac5eec/tBhAMep45z82qFU24XjnPyThg0A4eec/uFTi/7t55z/C2V0pGnrnPxwr02wneuc/SLiRyAF65z/k6J3Z83nnP45TIr8zeuc/0HzvqLV65z90/Ix+N3vnP6A3tLh5e+c/hEHhB3R75z/sHziyWXvnPyrzV6pre+c/XM9Oq8B75z8stjO0MnznPyRMyVCAfOc/iPgcGIR85z8q8qT5UnznP7gwxoMofOc/wHWBIzN85z+CEejkbHznPxSalpGhfOc/fKf375t85z+IuRf2UnznP8xoaabwe+c/CGnvjK175z9ErAyvoHvnP9zWBPese+c/0OWRY5t75z/4zu/0SnvnP7Cs6CvNeuc/MLhTFld65z8kD5ZDFHrnPxIJfXwCeuc/TAeSIvV55z9EIPrXvHnnP5THlA5Reec/2IXH2Nd45z9eeAaehXjnP2Skk8tweOc/GA+dpn945z/yEQ+cf3jnP+Aj+p9ReOc/Tse3PgV45z/85as4y3fnP4rkpYfLd+c/1vBTMwN45z9I5qBTR3jnP9jhIlZqeOc/1ETHFmN45z++0LoPVHjnP/6bk7lseOc/eBT85b945z/sW8kjM3nnP1YF00SVeec/DP16Lsh55z9sMHSp2XnnP7heu/z1eec/5Ju7YEB65z9YXd/Is3rnPxiCJ9ome+c/UjUvJW975z+YcifKhHvnP8pL9s2He+c/pAqfEqN75z9w7Wya5nvnPwwHH8I5fOc/mHcG0HB85z9iII6KcnznPxRvSCtNfOc/sHtwGCl85z90PmSnJXznPxYxXbM+fOc/SE4ZaFF85z9AT1E9O3znP+AMR9j3e+c/hp4hU6R75z9kBdD4ZXvnP8Bg6fJKe+c/KMilyT975z9sz8fjIXvnP2D9WTjeeuc/Ohw8p4F65z8YKMWjLXrnPwr1VuD7eec/5K3gpOl55z/Ch4r623nnP8gVDB24eec/BCfWrnp55z+KPVAjOnnnP2hTGzYTeec/4AI51xB55z8iuXgHJHnnP4qiW88xeec/RPnJmSp55z/E233jFnnnP3y8gQkPeec/RLQJACZ55z/0hT1lWXnnP3AB0hiUeec/0Jo/ZcB55z+g9FjV2XnnP9ZSBsHveec/1Is0DRd65z9U4Y7DV3rnP2AoACOmeuc/0EHtjex65z8UGStfHXvnP3Zb8WI9e+c/EK8rbV575z/83G0qj3vnP8w8SyfOe+c/fq//3gp85z/wduJ9M3znPx5TC2BDfOc/UGLMEkZ85z+E27umTHznP/Ci27ZefOc/3qcb53N85z+mdQQke3znP8Yo6i5pfOc/eBFc/UF85z+QPJoZFXznPzj5A1zwe+c/JC+EcdR75z/w6A/ktHvnPwhtbmiDe+c/dHZ5oTx75z9wo0Vz63rnP4QldDOgeuc/fIrpZGN65z9g4A1fL3rnP3rfuTL2eec/gq9qmK555z84fuO9XHnnP/Sy7XAPeec/8H/JMNR45z8MhUh2rHjnPwQhrV6NeOc/YC0d5Wl45z98l3nEPnjnP0i51cIVeOc/EA+Uof135z8gjqq5/XfnP2jm2vYPeOc/DnV1USZ45z/QUQ70NnjnP2gCG4VEeOc/fGpReFt45z8Q5+nShnjnPyLmGirGeOc/tA9ofQ155z9YPd32TnnnPxRKoQ+Geec/umCmerp55z90Pmpt+HnnP3RgGxVFeuc/kHx2P5l65z8cJWDC5nrnPxpe3NUje+c/ZOs+g1J75z8i+L/UfXvnP6LA4mKve+c/vkK0ZuZ75z+g3Nj8F3znP8AwvDI4fOc/dP6u5kN85z94LlT6QnznPyAaciNBfOc/mMuSwUN85z8k+ceDRXznP6Cu3W87fOc/0MUitx585z9idJXJ8nvnPyZvzpHCe+c/NBIGfJd75z/6sykhcnvnP/DJ+cNKe+c/fL7w6xh75z+STMFg23rnP1zwEbeZeuc/jMH3WF565z9gpEdhLnrnP0q0SkMGeuc/RBh139155z+MPshAsHnnP2iziU6Aeec/ylyUmVZ55z/U6d5oOnnnP3yedhQseec/sPpvYSV55z94rilOH3nnP8q0LjAYeec/Uua9+RR55z8UDV7KHHnnPzDAP8Qyeec/fJr4aFN55z+0o5CPd3nnP8zBpjuaeec/uBE4ULx55z9kPe4a43nnPzAqXCgTeuc/NBbo4Et65z/Ea86Xh3rnP+jV7dW/euc/eJ7GHvJ65z888uwrIXvnP2iUQblRe+c/eGepvYV75z8KyEUlunvnP2Row+Poe+c/GOIqfw185z9sDAEvKHznP2yaAfw8fOc/hLKMvU985z94GhpvYHznP4BNQ/VqfOc/4mQhb2p85z8krBMxXXznP+D6SwhGfOc/fOulxSl85z/4JLA5C3znPyZSyxHpe+c/2kbfXL975z/263xbi3vnP6YmC1JOe+c/JBkM+Qx75z/oG5ARzHrnP2yL5BCNeuc/VOTQt0165z8iCtvhCnrnP9zu9xfEeec/4l460nx55z+ozy5YOnnnP8gpXBcAeec/MFb4k8145z8o1R6wn3jnP/AbVSR0eOc/TFf9JEx45z/IT+rsK3jnPwgFNJYXeOc/wKVS+w945z8IcepNEnjnP6gmCbYaeOc/9AuFryd45z84nOs8O3jnP3rwi+xYeOc/ju4VbYJ45z8mScuptXjnP1Tu8A3ueOc/VJv90id55z8oVQl9YnnnP4qtJGageec/NojdyeN55z98/MnpK3rnP0jEjcZ0euc/zMNzprl65z/ObEc2+HrnP6Ck0pMxe+c/yv3ZaGh75z8UxCjJnXvnP6gt44/Pe+c/XOG8oPl75z8cvqPsGHznP9Q+1JktfOc/mHQQezp85z+ADmtcQnznP/jO/YRFfOc/GNCgj0F85z8EmJyrM3znPyKaBUUbfOc/7izkyfp75z/OdS3w1XvnP9y4xweve+c/ggQyp4V75z+QyXvFV3vnPzTasjgke+c/rMSQaex65z+EQSzOs3rnP/bF+q59euc/TOA0KEt65z+YevwSG3rnP+jwJ9Preec/LNRebL155z8wWSIWknnnP3AMUN9seec/kqcqmk955z8SWcbXOXnnP7wTf8Epeec/uN16Ax555z9oB2MeF3nnP0TQ+AkXeec/ZNFniR955z94MnmnMHnnP5w+YZ9Ieec/ZjHINmV55z+OC5NXhXnnP0ZPno+peec/DBAxGNN55z9knu9GAnrnPyJmX781euc/CtLODGt65z+ixIYXoHrnP/QCwzXUeuc/SlRU+Qd75z+KAJzyO3vnP4TPbX9ve+c/pM6SqKB75z9oZWokzXvnP5QMDp7ze+c/qD/3LRR85z9MN1WnL3znP36RzVtGfOc/zENgZld85z94AXwUYXznP7Yxvg5ifOc/aItKQ1p85z9CWErOSnznP3zjTvs0fOc/NsvhPBl85z/obNX69nvnPxqtDF3Ne+c/iBg1YZx75z9ODx1NZXvnP2g41B0qe+c/9IZmcex65z88SUbYrHrnP6RZUx9reuc/QhoLTSd65z/40A904nnnP9xxIKSeeec/+OduBV555z+UpNPgIXnnP/Q5l2XqeOc/tuXbWLd45z8kIeIRiXjnP5TTBuZgeOc/tFaJpUB45z+4peuYKXjnP1iXsdsbeOc/NOFvnxZ45z+0i2gZGXjnP643IksjeOc/MEOx+DV45z9I3tXWUXjnP9A3PKh2eOc/6uC3DqN45z9CC9k41XjnP6TERNYLeec/3EgpgkZ55z/ElNNMhXnnPxg97tDHeec/bPqDpAx65z8Wr2ikUXrnPzoqodqUeuc/+I5qO9V65z/cMeiaEnvnP+zTwOtMe+c/8uludIN75z/gFtSttHvnP4bcF+jee+c/xJznJgF85z/A7sh4G3znPyxCDoMufOc/SGQArDp85z9ciOGdP3znP7oM74s8fOc/REmx+DB85z9wRjNPHXznPwiz1ssCfOc/pPT5y+J75z8AvaAdvnvnP7AsG+OUe+c/GFIgG2d75z+ajb9QNXvnP14I09gAe+c/1EOYact65z9EjQdolnrnP6j9J4Jieuc/yGp05i965z8UDB/g/nnnPxSx80zQeec/ciL9h6V55z9YYkXef3nnPyRXCQZgeec/1krQCUZ55z9sVniyMXnnP/xfCRAjeec/Mq+nqxp55z9elpU7GXnnP9rcOR4feec/GNliDix55z/iCDhOP3nnP0anLSBYeec/EEPHJXZ55z/i+KhWmXnnP1QxD53Beec/WFqGcO555z9gW8TFHnrnP5TvvV9Reuc/UIsnPIV65z90e3DBuXrnPyIHVYzueuc/8OxwDSN75z9sqNJNVnvnP6TivA2He+c//LU+I7R75z8cJIfJ3HvnPwrKOaEAfOc/OJZqZh985z++vTKfOHznP6hV7IlLfOc/8BRRWld85z/EyJmRW3znPyaqEyhYfOc/SHp9Z0185z9ksOiYO3znP0yNW80ifOc/JIfp7wJ85z+WymoQ3HvnP7qw7qWue+c/gDfbj3t75z/o58TUQ3vnP9SoBFYIe+c/HIRlt8l65z+cL5SMiHrnPxKt56FFeuc/+IwDHwJ65z8mOvdiv3nnP4bL7LV+eec/TCBIEEF55z+muugjB3nnP9SbDZvReOc/NIaAUqF45z8mumRZd3jnP2L60LNUeOc/1Bo7Ejp45z+I0Ti5J3jnP9rxZKsdeOc/QHea7ht45z9QPAqvInjnP+6fNiEyeOc/esncPEp45z/QDOmManjnP3i5hj6SeOc/wOsoY8B45z+4gCYu9HjnPxBncPsseec/5MdSHWp55z/KxdSgqnnnP6TEOUDteec/KpzykjB65z/0Kz5Vc3rnP5Qu1420euc/2KshdvN65z+QCqo+L3vnPyh6+Odme+c/KO38VJl75z8IAaiJxXvnP2KM/+Hqe+c/akz8FAl85z+kYdsDIHznPzgVXYIvfOc/HqnsSDd85z+4yOkbN3znPxaw1AQvfOc/RGstax985z/c7G/3CHznP5pG71jse+c/LHgcH8p75z/0mUzEonvnP6K+hNx2e+c/rLhLPEd75z8cRanzFHvnP2zV+B/heuc/EPcYuqx65z+y/S6IeHrnP/xTiTpFeuc/WLJglhN65z9WhsSG5HnnP/TDqQO5eec/8gJg45F55z8Ih1i8b3nnPwieCe5Seec/CEICxjt55z/IODyfKnnnP7C1WOAfeec/vo3Q2ht55z+IdH6nHnnnPwDTNx4oeec/DJlq7jd55z9UnfzCTXnnP5j5alNpeec/kJJ1VYp55z/oVdldsHnnP8h1eMzaeec/MJXE1Qh65z9urSmiOXrnP869OWpseuc/iNQ6eqB65z9wulgd1XrnP74XSIUJe+c/HA91xTx75z/E5aXnbXvnP+6wagqce+c/GE7/ccZ75z+MIWeA7HvnP9x0qp4NfOc/ekM3LSl85z8MepqKPnznP/TyWixNfOc/tIpktlR85z9IsPT+VHznPyIoo/1NfOc/PGiHtT985z8o0u4tKnznP6SJAoANfOc/RLSF7el75z+sC//sv3vnPxjCmSCQe+c/XOTqPlt75z8M/kIAInvnP0bGpR7leuc/qPwJZqV65z9AhFHEY3rnP4hyjUgheuc/YCdQD9955z8wJ8YpnnnnPxosaJFfeec/mNz2LiR55z8cw8Lq7HjnP0xGYbS6eOc/mBaHd4545z8w0SsEaXjnP0wALvtKeOc/8LXxzDR45z+UvDvIJnjnP5SZBSoheOc/voPRHiR45z9MQDGzL3jnP7g/SMBDeOc/wFgI5V945z8MCWmSg3jnP3SKDCGueOc/KtRW39545z/6rT0OFXnnP6r2otJPeec/kO1WK4555z+09RL4znnnP5jFQQ8Reuc/tD3hU1N65z+AzgO9lHrnP1R5GU3Ueuc/0LQdBRF75z+kNvriSXvnPwyuRPB9e+c/kGX3V6x75z+8AoVz1HvnP6T28cb1e+c/MPDo8Q985z+YAJSkInznPyjs5KItfOc/QM2/0zB85z9UWMlOLHznP/jPlVwgfOc/+Ip6aA185z+U6SLv83vnP8QkEHfUe+c/vALqlq975z8SxkcBhnvnP0hT8ohYe+c/hEtLFyh75z98MWma9XrnP5zNP/fBeuc/Rqk+CI565z/CaO2lWnrnP5Sjva4oeuc/rNaABPl55z9q7kJ/zHnnPx52eN6jeec/RLOzwn955z8Sb7CyYHnnP5xpGCVHeec/pPj2hDN55z+ylAcsJnnnPzRwGlcfeec/7KvkHR955z/2Q5d0JXnnP8DhZDUyeec/8LfSKUV55z88+X8MXnnnP5yM+4J8eec/ENMzFqB55z/w9TExyHnnP+49cij0eec/hHkNRSN65z8qqhXMVHrnP7xNMf6Heuc/KNRPErx65z+cD3Iy8HrnP+YSmH8je+c/PILHG1V75z8QPxI0hHvnP3CJvQSwe+c/8pXG1td75z8Ms477+nvnP75iyswYfOc/MpnrsjB85z98KpQuQnznP9Is+95MfOc/Ys63gVB85z/MaNHtTHznP3zrog9CfOc/bnQA6i985z80xTCcFnznP9JI4mf2e+c/vs4Fss975z8Wxof9onvnPzDBuONwe+c/vEW6Dzp75z/UwDs//3rnP97k5EXBeuc/lBIxDoF65z+yuWqUP3rnP6oKNt39eec/Eomb7Lx55z+U58zBfXnnP7CTmldBeec/FLxvpQh55z+sBTec1HjnP+TSHh6meOc/SFy29H145z90tGzKXHjnP35TxylDeOc/BM4JgDF45z9EgX0eKHjnP45XODcneOc/vDqu1i545z94lanePnjnP3oVoAZXeOc/nKJO4XZ45z8WvpnjnXjnP7T2PWjLeOc/1C89r/545z8cgTHcNnnnP+BsF/hyeec/ZvGC+LF55z/kgNjJ8nnnP5Aj0lc0euc/TA1LkXV65z9ydHxotXrnPzjq3dPyeuc/ROcf0yx75z/Qy+l3YnvnP/KCfO6Se+c/YN8mgr175z8Ywrmc4XvnP5yLA8T+e+c/xMJ5mRR85z+4AbfdInznPwpuknUpfOc/PEK4bCh85z+UHGLzH3znP3AOi1gQfOc/qAt8BPp75z9g9rV23XvnP7jg4ka7e+c/uHuOJZR75z/65WnZaHvnPzAdtTg6e+c/gOWKIQl75z+Y3op01nrnP4LdKxOjeuc/DqvY32965z9YSJO8PXrnP8CDVIYNeuc/kIxXDuB55z/sA2QUtnnnPxACZkSQeec/lDT7Nm955z8QomFyU3nnPyQWRGk9eec/HgISdy155z/AwfHbI3nnP4Ae6Logeec/EJIkGyR55z9QJv/qLXnnPxTcIwI+eec/0BV+IVR55z94qrHxb3nnP7QAYgKReec/QN4CzLZ55z/w8/az4HnnP8BTCxEOeuc/4PxXLj565z9uKChMcHrnP1iTX6Cjeuc/SAtTWNd65z9Az9qcCnvnP0iok5c8e+c/9Atcd2x75z/MZNZymXvnP7w6bMnCe+c/tDyCxOd75z9Mm0S6B3znP4Ld9hEifOc/yDRLSDZ85z88eCDyQ3znP4YvOb1KfOc//Lz9b0p85z8sJePpQnznPyy6MyU0fOc/NNN5OR585z8uoPRcAXznPx7Z/+Pde+c/SJa9PrR75z+8P2v2hHvnP2xRq6tQe+c/jObWFRh75z/EjCkC3HrnPwzjYVGdeuc/QKJv81x65z/MKiHiG3rnPwrhURzbeec/VLxpopt55z98HKpzXnnnP/i68ookeec/CKoO2u545z9eg9xDvnjnP0wYsJaTeOc/DCk7iG945z9AAS+zUnjnPxAFmJU9eOc/IJ6zjjB45z+0zuTbK3jnP0CXq5UveOc/uqsIrjt45z/mfA3xT3jnP7CTEQdseOc/SGw5d4945z8cOlSpuXjnP9bWQefpeOc/ovwHXx955z9cTqYmWXnnPyI5p0GWeec/SExMp9V55z/cZv1HFnrnPwBzfhFXeuc/RHuc8pZ65z+89Xrf1HrnP8j+B9cPe+c/tPTy6EZ75z8cvdI6eXvnPxicjgume+c/pAA8tcx75z/kRYSu7HvnPzyIiYwFfOc/EMBJBRd85z9EN4nxIHznP7h2ME0jfOc/jMvcNR585z8gnWzoEXznP9wurr7+e+c/WL++LeV75z98SKXExXvnPyzuKSqhe+c/ThtNGXh75z8gd7RcS3vnP3ayE8obe+c/eNBvPup65z+cEUabt3rnP2Dz18OEeuc/eJnMmVJ65z/C9wP5IXrnP3CDRrPzeec/IFK7jMh55z8wmI05oXnnP2iGXVx+eec/bBGvhGB55z8I7tYsSHnnPzw8oLc1eec/HA1pbil55z8YaFOAI3nnPxpyhQIkeec/kPfb8Cp55z/C7mQuOHnnP6g9eIVLeec/vAvhp2R55z/sVrwvg3nnP9oTVKGmeec/1u6kbc555z96ZOr0+XnnPwAFw4goeuc/lNMJbll65z9kWenei3rnP8Rfmw2/euc/NJTQJ/J65z+2ikVaJHvnPxIC+dNUe+c/KL3UyIJ75z8QIxR0rXvnP67I4hrUe+c/WAhsD/Z75z/GAR60EnznP9wim34pfOc/WB74+Tl85z8aulDIQ3znP8gAF6RGfOc/XO17YUJ85z8UJPXvNnznP058gFskfOc/iiMwzQp85z+8k9KK6nvnPxId8vXDe+c/DFmYipd75z/OlRPeZXvnP2RgmZ0ve+c/5BRgjPV65z/cQ+KAuHrnP6QEXWF5euc/mJXuHzl65z+gLb+2+HnnP9C2USS5eec/ljHBZ3t55z9auJd8QHnnP1TXKlYJeec/tAvJ2tZ45z+yPzTfqXjnPzgbvSKDeOc/iIn2S2N45z/wq7flSnjnP1zOM1w6eOc/CBJD+jF45z/otEHnMXjnP+xH7CU6eOc/YGVSlEp45z80Pp/sYnjnP0gXWsaCeOc/QJr1l6l45z/oldm41njnP5A9OmQJeec/lsPkvEB55z+m+83Re3nnP5iu8KK5eec/tP8ZJvl55z/KVZFLOXrnPwwt0AJ5euc/+A5/P7d65z8cx6f+8nrnP6wkv0sre+c/KMkWRV975z9o+oEfjnvnP9S1TSm3e+c/TO7UzNl75z/WptaS9XvnP5aTZyQKfOc/jMgpTBd85z/A9432HHznP2C/LjEbfOc/wNmWKRJ85z/4QMIrAnznP/Q+baDre+c/Ag8DC8975z/i6vEGrXvnP+i7XUSGe+c/nPxvhFt75z/sK5+VLXvnP7xRJFD9euc/QDmSkst65z+g8Vk+mXrnP9ZRGzRneuc/QknbTzZ65z9i8mdlB3rnPybtKz3beec/uPN9kbJ55z/sN0QMjnnnP67quERueec/wPVDvVN55z8EfZHhPnnnP8IBIAUweec/WBtkYid55z9kKWwaJXnnP6ytzzQpeec/PD3EnzN55z/4bV4wRHnnP1ZuKKNaeec/4Ck0nXZ55z90Uaitl3nnP+Chn0+9eec/PHkp7OZ55z/KV1fcE3rnPzRnamtDeuc/gJtE2XR65z/gNC1dp3rnPxoG0ijaeuc/on1Wawx75z/onEpUPXvnPxCXhRZse+c/wHP86pd75z8mxqwTwHvnP4hal97je+c/RCSnqAJ85z+gRFjgG3znPyIWCAgvfOc/HED3tzt85z/MxxagQXznP+AprIlAfOc/0rO6WDh85z/AlwsNKXznP6hitMISfOc/ImwXsvV75z9AR3Qv0nvnP3jNIaqoe+c/dJR2q3l75z8sy0rVRXvnP2T+9t8Ne+c/gLrFl9J65z9M/evZlHrnP6AJLpFVeuc/fHVOshV65z/mC0041nnnP6AgaSCYeec/ZFzgZVx55z9UsXz9I3nnPwRoHdHveOc/8MFru8B45z+cw9iDl3jnP9Jg6Np0eOc/fHbEVll45z/IpB9wRXjnP1JwiH85eOc/xKZZuzV45z/uM2k2OnjnP2RTet9GeOc/cPNggVt45z/EzsLDd3jnP+KfdCybeOc/oJODIcV45z9UqPnr9HjnPyCxVLspeec/5L6LqWJ55z8YtXK/nnnnP6w3V/nceec/poDISxx65z8m6IeoW3rnP8Z9lgOaeuc/mhE9WNZ65z8g1NutD3vnPzAqVBxFe+c/GPf2z3V75z9AzfgMoXvnP1iucjLGe+c/dPDnvOR75z8cGDhI/HvnP/yb4JAMfOc/gOyDdBV85z/McMTxFnznP2JgkCcRfOc/ZDv1UwR85z+8Y3/S8HvnP+AWHhrXe+c/SNSJurd75z9U6z5Zk3vnP7wnL65qe+c/dk5OgD575z8YkA2iD3vnPyoTyO3eeuc/KGsdQq165z/8vEF+e3rnPyTSW35Keuc/LFAQGBt65z8AKlAX7nnnP+B4bjvEeec/yKd1NJ555z90MbagfHnnP/xilgpgeec/gNq15kh55z9yRXaSN3nnP2y47VIseec/6HU4VCd55z+QexupKHnnPzgs8Uoweec/nNrlGT555z/oco/dUXnnP+4U5UVreec/hGyO7Il55z9Eo3lWrXnnP7C6qPXUeec/OGUxKwB65z8ip3NJLnrnP1CTi5Zeeuc/OE35TpB65z+EzG+ownrnP1RXt9T0euc/GKeWBCZ75z8egb9qVXvnP1SVwD6Ce+c/NGv6v6t75z+8i4s40XvnP3AKIQDye+c/PM+Zfg185z9QN3MuI3znPzjB/Z4yfOc/8MZZdjt85z/UFjZzPXznP5A8Qm44fOc/XKtDWyx85z+ATsJJGXznP+Y/SmX/e+c/aF9G9d575z/QLHZcuHvnP+Di+heMe+c/JBrzvVp75z8acZ77JHvnP2hdC5Preuc/RoJaWK965z94k6YucXrnPz6unAQyeuc/ysnL0PJ55z/Y1rCNtHnnP9wNizV4eec/1GQNvj555z88qQgUCXnnPzQeKRfYeOc/jHTclax45z8Mcm9Jh3jnPxS0ctJoeOc/yGR7tVF45z9gIlpYQnjnP3Dz4f86eOc/TKFRzjt45z+MkGfCRHjnP/xaIbdVeOc/xtwnZG545z+YHOtejnjnP+iBcRy1eOc/LG7X8+F45z+2WnEhFHnnP0gEecpKeec/7NkqAYV55z9suTvJwXnnP4D4khwAeuc/3Ho08D565z+kEEE5fXrnP1TC7PG5euc/uLxIHvR65z82jsPQKnvnPzYwSy5de+c/sB0Dcop75z8A8oHwsXvnP1x2hxrTe+c/tNwaf+175z+8QgXNAHznP4zHpdMMfOc/dJglgxF85z9EjxbsDnznP5SUhT4FfOc/gNqGyPR75z+gHUL03XvnP2wcikXBe+c/kG0RV5975z8Y5lLXeHvnP0A/QoVOe+c/DIrULCF75z/E22uj8XrnPxTKMcTAeuc/PhNwbI965z+wMPp3XnrnP0blub0ueuc/yOxrDAF65z8QDpQn1nnnPxDtrMSueec/FjmZiIt55z/Q2l4FbXnnPyjFNbhTeec/WirxB0B55z+8ksRDMnnnP0o8YqIqeec/GKlvQSl55z84vk8lLnnnPxI/RDk5eec/7AXoT0p55z/E3/8jYXnnPw7bm1l9eec/bAWBf5555z808NQQxHnnP/gYB3fteec/mLH1Cxp65z+8sUkcSXrnP8CqAup5euc/Phsor6t65z+44JWg3XrnP1CV2/AOe+c/COko0z575z/CMEF+bHvnP2gsbi+Xe+c/WCZnLb575z9gUiDL4HvnPxCXd2r+e+c/eoG2fhZ85z8m2OKOKHznP/jA1jc0fOc/aGIXLjl85z9uUV8/N3znP9Cr0lMufOc/hFzVbh585z9UB3+vB3znPzyfqVDqe+c/JkaXqMZ75z8YICsonXvnPxAksVlue+c/gJkz3zp75z+i82BwA3vnP346CNjIeuc/Ztsz8Yt65z8g8OqjTXrnPwh6oeEOeuc/ODBiodB55z/aXMDbk3nnP7xQpIZZeec/gGMHkSJ55z9Mr7Te73jnPzjFIkTCeOc/iDB6gpp45z9Emd1DeXjnPxjuCRhfeOc/uGBlcUx45z+w+pGiQXjnP7pplNw+eOc/zAibLUR45z+8oG2AUXjnP9IQjJxmeOc/JMr/JoN45z9COuCjpnjnP86ZhHjQeOc/qEJX7v945z8Akzk2NHnnPyx1ZGxseec/RFGwnKd55z8w6i3H5HnnP6Bk9+Qieuc/CNod7WB65z9E75XZnXrnP5hPBqzYeuc/+KRdchB75z+8ThlLRHvnP2AXKWlze+c/sgBeF5175z+o11O7wHvnPzwOyNfde+c/QuxUDvR75z8Ypo0gA3znPzCwfPAKfOc/oqmIgAt85z9YxcXyBHznP/AIu4f3e+c/iCGlnON75z+E2UOpyXvnP1Q1Qj2qe+c/CKJK/YV75z+KN9ifXXvnPzbW1Okxe+c/GDETqwN75z8mLLS603rnPxC6h/Oieuc/vGF5MHJ65z/oGxdJQnrnP/y7Pg4Ueuc/XL37Ruh55z+IB56tv3nnP1ztEe2aeec/IG2Bnnp55z+YlEVHX3nnP7zHLFdJeec/EEMYJzl55z9Qj/H3LnnnPwAW+PEqeec/ZhxnJC155z+UJXSFNXnnP4ibpPJDeec/4OB3MVh55z/wbmHwcXnnP9QIDsiQeec/JETvPLR55z989wjB23nnP8jO+7UGeuc/YDBHbzR65z+YSbs0ZHrnP8ZKE0WVeuc/Jtiv2MZ65z+kJmok+HrnP4RteFwoe+c/ONhbt1Z75z+4Js9wgnvnP0xOrMyqe+c/CD+/Gc975z8ucXy07nvnP5CGkgkJfOc/cJBOmB185z/wPMr0K3znP+K62skzfOc/uCC32jR85z8y3k0EL3znP3QBQj4ifOc/Vk2Kmw585z+U6KxK9HvnPwTkkpXTe+c/cn7v4Kx75z9gXjirgHvnP9gDLotPe+c/ogv2LRp75z+Y+spU4XrnP1T4RtKleuc/omlQh2h65z/KN7FfKnrnP0AAZE7seec/8CylSa955z/4ethGdHnnP8hMVTY8eec/pEIt/wd55z8sVgF72HjnPyB8+nGueOc/6Jj7lop45z8c9SKEbXjnP9TQsLdXeOc/1P9mkUl45z8M5XJQQ3jnP8Aw8BFFeOc/7MoP0E545z9QO+thYHjnP+5LCXx5eOc/dlOUsZl45z+gtj12wHjnPxRUxSDteOc/4EwX7h555z/EHe8EVXnnP3Qb7HmOeec/wLwAVMp55z9goiORB3rnP1hUJytFeuc/TrScHIJ65z8odKRlvXrnP/xDlRD2euc/aGleNit75z8knJACXHvnP1RZ+baHe+c/cqC/rq175z80gfRgzXvnP1zxjWLme+c/ZJTGZ/h75z/48uBEA3znP7jUT+4GfOc/NDVIeAN85z98+MMV+XvnP8A5/xboe+c/qKB859B75z/OKZ8LtHvnP7z76B2Se+c/TFDvy2t75z8MjxPTQXvnP6zAEf0Ue+c/IJZ0HOZ65z+UFf8ItnrnPzxSG5yFeuc/7FlcrVV65z+4ACAPJ3rnP3DCW4v6eec/rMqe4NB55z+CL1K/qnnnPzBKP8eIeec/+KpihWt55z8EhBByU3nnP7Ddbe9Aeec/4LBASDR55z/oJRivLXnnP0B4zT0teec/1B9d9TJ55z840Ba+PnnnP8jKIWhQeec/uiBSrGd55z8k9kothHnnP5B/6Xileec/KBL0Cct55z92DAhK9HnnP1imwJMgeuc/1AgQNU965z/MmsNxf3rnP0Q1LIaweuc/7sjiqeF65z86taESEnvnP/KfKvdAe+c/gBgwkm175z/K+Tkll3vnP4xfe/u8e+c/4BqRbN575z94qB/f+nvnP/CsR8sRfOc/uOjnvCJ85z/om6NVLXznPyCXpE4xfOc/VMQQei585z9iqivEJHznP0QuHTQUfOc/qopX7Px75z+cQ5cq33vnP47geEe7e+c/9JKhtZF75z8KlnkAY3vnP7jeeMove+c/IIIIy/h65z+GCf3LvnrnPwDZr6aCeuc/3uy/QEV65z8UhYSIB3rnPzCwPnHKeec/iNUY74555z+4QAXzVXnnP8g/jmYgeec/TLWrJ+945z8iErMEw3jnP+Bjd7iceOc/YFSv5nx45z+scbYYZHjnP0DUvbpSeOc/oFd+GUl45z/IOHxgR3jnPwgh6ZhNeOc/mGUuqVt45z+wgyVVcXjnPzSxAD+OeOc/yOTg6LF45z+kRhK323jnP0TL4/IKeec/nOEKzj555z8op4BmdnnnP34Bw8qweec/oGhh/ux55z8sTLv+KXrnPzD11Mdmeuc/2KonWaJ65z+UklK623rnP+Yck/8Re+c/iLDtTUR75z/QqPHecXvnP3yjBgSae+c/tH40Kbx75z+sHVvX13vnP8DT0rXse+c/sv9xi/p75z/yzfc+AXznP8RO39YAfOc/pBChePl75z8GNWxn63vnP5RdYgLXe+c/dLljwrx75z+m13k3nXvnP5zF8AV5e+c//Isu41B75z9+XlmSJXvnP0LW3OD3euc/iDbeosh65z+2D6+vmHrnP56WTN5oeuc/ht74ATp65z+A8vnmDHrnP+KUiU/ieec/dC//8Lp55z/ELDxxl3nnP2KIYWR4eec/yPnTSl555z9qxpKPSXnnP/wZ5IY6eec/qLJYbTF55z+0rydnLnnnP9hQ4n8xeec/Tnx+qjp55z9c+LXBSXnnP9iEt4heeec/hl0mrHh55z9EH2TDl3nnP9Z9IFK7eec/xKIpyuJ55z86e3eNDXrnP1a2a/A6euc/EMo/PGp65z9A+JmxmnrnP7r2QYvLeuc/2HztAPx65z+GlxxKK3vnPwxI/aBYe+c/YLBNRYN75z+O4jN/qnvnP2hWAqLNe+c/BPXfDux75z/Mo0o3BXznP0I7a58YfOc/SvQx4CV85z8injKpLHznP1BXOMIsfOc/LAyJDCZ85z/YmdGDGHznP9AptD4EfOc/sDTzbul75z/GpjRhyHvnP6TjWXyhe+c/ztdqQHV75z8k4RNFRHvnP3wMuDcPe+c/7P0a2dZ65z+w1af6m3rnPwKCXHtfeuc/QCZjRCJ65z8YeGVF5XnnP5AUqHCpeec/Psf9tm955z98gqQDOXnnP9ZMHzgGeec/KJ8hKNh45z/8faGVr3jnP17kJS2NeOc/LMtmgnF45z/AMFMNXXjnP0YGkCdQeOc/QNeACkt45z8kZujNTXjnP9BXLGdYeOc/yGtDqWp45z9IvlFFhHjnP7pW8sukeOc/ZPUor8t45z+c2vJE+HjnP2Q+acopeec/gnhkZ1955z8YkIsymHnnP9wsuTXTeec/UNKccg965z/2AX7nS3rnP9RdBpSHeuc/2Cj4fcF65z9ed7e1+HrnP7wCjlose+c/AMuTnlt75z9AdinKhXvnP1CP9D6qe+c/pERResh75z/O6DAX4HvnPzgYYM/we+c/yvEyfPp75z9wLJkW/XvnP6D+nrb4e+c/bKFiku175z9msoj823vnP+i+O2LEe+c/mNfESKd75z+iMcxKhXvnPwagURVfe+c/tBltZDV75z/gkOf/CHvnP1YevLfaeuc/Yu6QYKt65z9YjjbQe3rnP/A4O9pMeuc/LqGeTB965z9EirHs83nnPwAwK3TLeec/XC59jqZ55z9UNm3WhXnnPwiF+tNpeec/cMOT+lJ55z9iv6CnQXnnP9BGYiE2eec/CFopljB55z/Y4eUbMXnnP4AhDLA3eec/9DzPN0R55z/sZa6AVnnnP2SPUUFueec/suWxGot55z8cr4mZrHnnP2ilBjjSeec/BlG5X/t55z/2b7trJ3rnP8wCB6tVeuc/Ji73YoV65z/0vOvRtXrnP9aqBzLmeuc/hMICvBV75z/cBwaqQ3vnP1hiijpve+c/AsYws5d75z9k8YpjvHvnP1S8y6fce+c/CORV6/d75z8gSSCrDXznP2yw5ncdfOc/RFEe+CZ85z++0qXpKXznP+zIKCMmfOc/TE8vlRt85z8SDdNKCnznP1y/E2rye+c/oGTGM9R75z+WThsDsHvnP9yzuEyGe+c/4thonVd75z+si1yYJHvnP8p7BPXteuc/gOiFfLR65z9kMNEGeXrnP9TzYnc8euc/MKa6uf955z9sjJO9w3nnP8wu73KJeec/UCECxlF55z+YrBWbHXnnPyY2csrteOc/rjlnHMN45z+8HoZFnnjnP5gqJeN/eOc/XCw/eGh45z/0T8NqWHjnPxS3ZgFQeOc//BkHYk945z+OxaqQVnjnP7jlJm9leOc/6D1xvXt45z/MW54amXjnP4gbiQa9eOc/qBQc5OZ45z/8cjH8FXnnP1ri+YBJeec/CMLXkYB55z9i5pg/unnnP0jf9pD1eec/NCBEhzF65z8ejSsjbXrnP7TVZ2mneuc/ZKxYZ9965z9wPV03FHvnP4ZD3QRFe+c/pKTsD3F75z+4fHiwl3vnPxjQ71i4e+c/QKVdmNJ75z+A3u0b5nvnP9S+2a/ye+c/vHe8P/h75z+8WVPW9nvnPyYzsJzue+c/kv/m2N975z8EOULsynvnP+7hClGwe+c/7Lfyl5B75z+Y8i9lbHvnP3iAWm1Ee+c/HOcachl75z+wxro+7HrnP4SQpqS9euc/iE/vd4565z8YfdqLX3rnP6zQjK8xeuc/2MzbqgV65z+QilA73HnnP9zxZBG2eec/qDYDzpN55z/8G04AdnnnP+oxtyNdeec/dANnnkl55z+k+vm/O3nnP46gk8Azeec/TNNIwDF55z88k+DGNXnnP+oj6sM/eec/MnEmj0955z9g6kHpZHnnP1Ra23x/eec/XqPT35555z90seGUwnnnP45sZQ3qeec/MPVzqxR65z/Q/xbEQXrnP9CzuKFweuc/KAm1hqB65z9APAmw0HrnP+6RGVgAe+c/JlOFuS575z9YngASW3vnP+JvK6WEe+c/VBNdv6p75z9+C1u4zHvnP6Ru8vXpe+c/ULNq7gF85z/oAMkqFHznP1RG20ggfOc/PJ8C/SV85z+k87QTJXznP1g9rnIdfOc/en7KGQ985z/QOYIj+nvnPwApBMXee+c/9ADoTb175z9SVHcnlnvnP8gLi9Npe+c/Un796jh75z+w77IbBHvnP6gbPCbMeuc/ZHYY25F65z+04J8XVnrnP/SzncIZeuc/tCipyN155z+4LEkYo3nnP3ir851qeec/AAj6PzV55z8O+nXaA3nnP+QZSzvXeOc/hA5SHrB45z84f8Ipj3jnP8qJ8Op0eOc/qIxx02F45z/Si7o2VnjnP2RYSEhSeOc/zPReGlZ45z+EgmqdYXjnP7BoCKB0eOc/iHi7z4545z+AsEm6r3jnP6YNvs/WeOc/CLcEZQN55z843xO3NHnnP84gkO5peec/cPrXI6J55z9wgV9j3HnnP1iAQ7IXeuc/sgn6ElN65z+IHAaKjXrnPxxJlCLGeuc/lE/n8vt65z/yZH0gLnvnP7gY2eNbe+c/0pfbi4R75z+sNqGAp3vnP9yQ1EXEe+c/HBtwfNp75z8+lOnj6XvnP1Q+xlrye+c/4Bea3vN75z/OVneL7nvnP9we1prie+c/AsT+YdB75z/O2gJQuHvnP6jdUuuae+c/8k3/znh75z+o7rSnUnvnP7gOhDApe+c/ytiCL/165z/sT1pyz3rnP+wLzcqgeuc/FP9FC3J65z/0k3wDRHrnP3xUOn0Xeuc/RBVNOe155z+MVK/sxXnnP0ws7z2ieec/SuLawoJ55z9203j+Z3nnPyg0T19Seec/yOj+PUJ55z9QlDPcN3nnPxLo6WMzeec/WEAM5zR55z+wr2RfPHnnP/zC4q5Jeec/LIYyoFx55z+QnKHndHnnPy6bTiSSeec/DDye4bN55z9udPGY2XnnP971lrMCeuc/9CfyjC565z/INdF0XHrnP9Bd67GLeuc/hEyAhLt65z947BAp63rnPz6/KdsZe+c/koY22EZ75z8sw1ZicXvnP5hXKsOYe+c/JHeNTrx75z+k7jpl23vnPwzQS3f1e+c/RpaLBgp85z9U/JeoGHznPwz+wwghfOc/oM616SJ85z8sBrgmHnznPzLYtrQSfOc/iNziogB85z+QzPMa6HvnP1iaBmHJe+c/EnET06R75z+kg/nnenvnP4QMIC5Me+c/moytSRl75z+8Iljy4nrnPxjJ0/Cpeuc/yk3lG2965z+89yJVM3rnP3DnbYX3eec/VFYxmbx55z9U1HZ8g3nnP2hu4BZNeec/GjqbRxp55z9i/V3h63jnP6R+iKbCeOc/cGx4RZ945z94pShVgnjnP+z3LlJseOc/eCcrnF145z/gK7hzVnjnP7Yr7vhWeOc/MMOAKl945z/IvoHlbnjnPxKuzOWFeOc/4K0bx6N45z9IosEGyHjnP0D2AQbyeOc/Bvf5DCF55z8QKgxOVHnnP5SwuumKeec/jATb8sN55z/sMwtz/nnnP+RHT285euc/aMm87HN65z/8VRr1rHrnP0r0WZvjeuc/AELW/xZ75z9qnDxURnvnPyD1EN9we+c/4vu6/pV75z/EkA8stXvnP97nTPzNe+c/EFODIuB75z9gJWhw63vnP3iAk9bve+c/uP4sZO175z/0AA5G5HvnP4LlYsXUe+c/bIXWRb975z+AB1VDpHvnP8RfdE+Ee+c/draRDmB75z+wbrM0OHvnPyqrP4INe+c/WAOXwOB65z8EpKK+snrnP5RnZE2Eeuc/JIuWPFZ65z9YmmdXKXrnPy4BXmH+eec/2HBtE9Z55z+K+0YZsXnnPxB56w6Qeec/oneGfnN55z8It5beW3nnPxjwZ5BJeec/9IDg3jx55z+ge6T9NXnnP2SPjgg1eec/9FN+Azp55z8InnraRHnnPyy7JWJVeec/6raAWGt55z80IvplhnnnP9o4xB6meec/6q9tBMp55z/Y8reH8XnnPyoWpQoceuc/3FK34kh65z9EbFtbd3rnP3z8drimeuc/4EATOdZ65z9UpxwaBXvnPzINL5kye+c/BFlm91175z+A3yp8hnvnPyDU8Here+c/BOnhRsx75z8cNGhT6HvnP4B0kRj/e+c/tO5BJBB85z/0Ry4ZG3znPyoUlLAffOc/SDCpux185z+IirokFXznP7yd8+8FfOc/6LHIO/B75z9g4v5A1HvnP2QDTlKye+c/RMKZ24p75z/ExsBgXnvnP5wyAnwte+c/npf72/h65z/eXUNBwXrnPwqOpXuHeuc/3AULZ0x65z8aNhXoEHrnP1yfeujVeec/yEMyU5x55z8oJH4QZXnnP3KC5gExeec/LAI5/gB55z/AvJ/N1XjnP1jx5CWweOc/AAv4ppB45z9QQcjXd3jnP1APiCNmeOc/ECFr11t45z8QKO4gWXjnP9hPtQxeeOc/NNoKhmp45z++0ANXfnjnPxbYTCmZeOc/xBudh7p45z+kLcnf4XjnP56pa4UOeec/Rp8VtT955z+YT/WXdHnnP+DR3keseec/Os2f0+V55z9otIVDIHrnP3jp/J1aeuc/iOAu7JN65z9gxoU+y3rnPxBQ/bD/euc/KBsqbzB75z9QWeO3XHvnPw5KfeCDe+c/FCmGV6V75z84lPqmwHvnP/Tr6XXVe+c/aK+GieN75z+sOaLF6nvnP3h+lizre+c/3FOj3uR75z+wdccY2HvnP5auHzPFe+c/IG7Ynqx75z9Qhb/jjnvnPzjPhJ1se+c/oDK5eEZ75z+4tZsvHXvnP/5RxIbxeuc/COG7ScR65z+W5I9HlnrnP9IccE9oeuc/qudiLTt65z/aRBynD3rnP3woAnnmeec/wnxnU8B55z+Y6wXYnXnnP+Y3vZd/eec/WKedEGZ55z9+wEGsUXnnP2Ruer5Ceec/fH5PhDl55z9gXlUjNnnnP/gGWKk4eec/1BxaDEF55z8Ye+YqT3nnPzidscxieec/yKuHo3t55z8gToNMmXnnPzbPiFG7eec/MJcAK+F55z9WfctBCnrnPyD7avE1euc/5NhWimN65z/0gXlUknrnP67Jy5HBeuc/kJAIgfB65z80Y3BgHnvnP6TilHBKe+c/socj93N75z/mHqdBmnvnP3I2N6i8e+c/CKQMkNp75z/qRfJt83vnP4g0icgGfOc/5MJXOhR85z847JpzG3znPwgp0jscfOc/EB7+chZ85z+qMIsSCnznP1TF4S33e+c/Ws+W8t175z9+WziovnvnPzjysq+Ze+c/4ANOgm975z9aFT+wQHvnP1AN1d4Ne+c/8M8+xtd65z9qRfIun3rnPwbtuu5keuc/8DB55Sl65z9Mw5357nnnP9xUbhS1eec/tN8iHn155z/seez5R3nnP7Ie+IEWeec/xP6Ag+l45z+Mpwa7wXjnP5iXu9CfeOc/PJlAVYR45z8ocsC+b3jnPxwafmZieOc/2Lrlhlx45z9sQS46XnjnP0xNlnlneOc/bOBDHXh45z8Adsrcj3jnP2QpV1CueOc/DIZ+8tJ45z8giqMi/XjnP/SF6ycseec/EOyuNF955z/I/VNqlXnnP1Cffd3Neec/0Jt2mgd65z9UUMCpQXrnP5QXqxR7euc/NPHe6bJ65z8gs7tB6HrnP9SPeUIae+c/+ND0I0h75z/OOBIzcXvnPwx2rNSUe+c/SFb+h7J75z8s0IDoyXvnP8B2N6/ae+c/tFNps+R75z8wbMfq53vnP647BWnke+c/uDDqXtp75z8imOUYynvnP6xoMP2ze+c/jPqJiZh75z8k7Z1QeHvnPyRNIvdTe+c/nH+9MCx75z8qj8O8AXvnPzhE2mLVeuc/nvWS76d65z9oSQgxenrnP7A3jfNMeuc/5JN5/iB65z8IOR8R93nnP/a38d/Peec/aB/pEax55z8=",
           "dtype": "f8"
          },
          "colorscale": [
           [
            0,
            "#440154"
           ],
           [
            0.1111111111111111,
            "#482878"
           ],
           [
            0.2222222222222222,
            "#3e4989"
           ],
           [
            0.3333333333333333,
            "#31688e"
           ],
           [
            0.4444444444444444,
            "#26828e"
           ],
           [
            0.5555555555555556,
            "#1f9e89"
           ],
           [
            0.6666666666666666,
            "#35b779"
           ],
           [
            0.7777777777777778,
            "#6ece58"
           ],
           [
            0.8888888888888888,
            "#b5de2b"
           ],
           [
            1,
            "#fde725"
           ]
          ],
          "width": 3
         },
         "mode": "lines",
         "name": "Dataset 2",
         "scene": "scene2",
         "type": "scatter3d",
         "x": {
          "bdata": "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",
          "dtype": "f8"
         },
         "y": {
          "bdata": "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",
          "dtype": "f8"
         },
         "z": {
          "bdata": "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",
          "dtype": "f8"
         }
        },
        {
         "hoverinfo": "none",
         "marker": {
          "color": "limegreen",
          "size": 2
         },
         "mode": "markers",
         "name": "Start",
         "scene": "scene2",
         "showlegend": false,
         "type": "scatter3d",
         "x": [
          -0.8021531865223427
         ],
         "y": [
          0.8173630655413476
         ],
         "z": [
          0.6948556270666586
         ]
        },
        {
         "hoverinfo": "none",
         "marker": {
          "color": "crimson",
          "size": 2
         },
         "mode": "markers",
         "name": "End",
         "scene": "scene2",
         "showlegend": false,
         "type": "scatter3d",
         "x": [
          -0.8831974531705471
         ],
         "y": [
          0.9285678548082701
         ],
         "z": [
          0.7336025571648692
         ]
        }
       ],
       "layout": {
        "annotations": [
         {
          "font": {
           "size": 16
          },
          "showarrow": false,
          "text": "true",
          "x": 0.225,
          "xanchor": "center",
          "xref": "paper",
          "y": 1,
          "yanchor": "bottom",
          "yref": "paper"
         },
         {
          "font": {
           "size": 16
          },
          "showarrow": false,
          "text": "preds",
          "x": 0.775,
          "xanchor": "center",
          "xref": "paper",
          "y": 1,
          "yanchor": "bottom",
          "yref": "paper"
         }
        ],
        "font": {
         "family": "Arial",
         "size": 12
        },
        "height": 600,
        "margin": {
         "b": 50,
         "l": 50,
         "r": 50,
         "t": 80
        },
        "paper_bgcolor": "white",
        "plot_bgcolor": "rgb(240, 240, 240)",
        "scene": {
         "aspectmode": "data",
         "bgcolor": "rgb(240, 240, 240)",
         "domain": {
          "x": [
           0,
           0.45
          ],
          "y": [
           0,
           1
          ]
         },
         "xaxis": {
          "gridcolor": "rgb(200, 200, 200)",
          "showbackground": true
         },
         "yaxis": {
          "gridcolor": "rgb(200, 200, 200)",
          "showbackground": true
         },
         "zaxis": {
          "gridcolor": "rgb(200, 200, 200)",
          "showbackground": true
         }
        },
        "scene2": {
         "aspectmode": "data",
         "bgcolor": "rgb(240, 240, 240)",
         "domain": {
          "x": [
           0.55,
           1
          ],
          "y": [
           0,
           1
          ]
         },
         "xaxis": {
          "gridcolor": "rgb(200, 200, 200)",
          "showbackground": true
         },
         "yaxis": {
          "gridcolor": "rgb(200, 200, 200)",
          "showbackground": true
         },
         "zaxis": {
          "gridcolor": "rgb(200, 200, 200)",
          "showbackground": true
         }
        },
        "showlegend": false,
        "template": {
         "data": {
          "bar": [
           {
            "error_x": {
             "color": "#2a3f5f"
            },
            "error_y": {
             "color": "#2a3f5f"
            },
            "marker": {
             "line": {
              "color": "#E5ECF6",
              "width": 0.5
             },
             "pattern": {
              "fillmode": "overlay",
              "size": 10,
              "solidity": 0.2
             }
            },
            "type": "bar"
           }
          ],
          "barpolar": [
           {
            "marker": {
             "line": {
              "color": "#E5ECF6",
              "width": 0.5
             },
             "pattern": {
              "fillmode": "overlay",
              "size": 10,
              "solidity": 0.2
             }
            },
            "type": "barpolar"
           }
          ],
          "carpet": [
           {
            "aaxis": {
             "endlinecolor": "#2a3f5f",
             "gridcolor": "white",
             "linecolor": "white",
             "minorgridcolor": "white",
             "startlinecolor": "#2a3f5f"
            },
            "baxis": {
             "endlinecolor": "#2a3f5f",
             "gridcolor": "white",
             "linecolor": "white",
             "minorgridcolor": "white",
             "startlinecolor": "#2a3f5f"
            },
            "type": "carpet"
           }
          ],
          "choropleth": [
           {
            "colorbar": {
             "outlinewidth": 0,
             "ticks": ""
            },
            "type": "choropleth"
           }
          ],
          "contour": [
           {
            "colorbar": {
             "outlinewidth": 0,
             "ticks": ""
            },
            "colorscale": [
             [
              0,
              "#0d0887"
             ],
             [
              0.1111111111111111,
              "#46039f"
             ],
             [
              0.2222222222222222,
              "#7201a8"
             ],
             [
              0.3333333333333333,
              "#9c179e"
             ],
             [
              0.4444444444444444,
              "#bd3786"
             ],
             [
              0.5555555555555556,
              "#d8576b"
             ],
             [
              0.6666666666666666,
              "#ed7953"
             ],
             [
              0.7777777777777778,
              "#fb9f3a"
             ],
             [
              0.8888888888888888,
              "#fdca26"
             ],
             [
              1,
              "#f0f921"
             ]
            ],
            "type": "contour"
           }
          ],
          "contourcarpet": [
           {
            "colorbar": {
             "outlinewidth": 0,
             "ticks": ""
            },
            "type": "contourcarpet"
           }
          ],
          "heatmap": [
           {
            "colorbar": {
             "outlinewidth": 0,
             "ticks": ""
            },
            "colorscale": [
             [
              0,
              "#0d0887"
             ],
             [
              0.1111111111111111,
              "#46039f"
             ],
             [
              0.2222222222222222,
              "#7201a8"
             ],
             [
              0.3333333333333333,
              "#9c179e"
             ],
             [
              0.4444444444444444,
              "#bd3786"
             ],
             [
              0.5555555555555556,
              "#d8576b"
             ],
             [
              0.6666666666666666,
              "#ed7953"
             ],
             [
              0.7777777777777778,
              "#fb9f3a"
             ],
             [
              0.8888888888888888,
              "#fdca26"
             ],
             [
              1,
              "#f0f921"
             ]
            ],
            "type": "heatmap"
           }
          ],
          "histogram": [
           {
            "marker": {
             "pattern": {
              "fillmode": "overlay",
              "size": 10,
              "solidity": 0.2
             }
            },
            "type": "histogram"
           }
          ],
          "histogram2d": [
           {
            "colorbar": {
             "outlinewidth": 0,
             "ticks": ""
            },
            "colorscale": [
             [
              0,
              "#0d0887"
             ],
             [
              0.1111111111111111,
              "#46039f"
             ],
             [
              0.2222222222222222,
              "#7201a8"
             ],
             [
              0.3333333333333333,
              "#9c179e"
             ],
             [
              0.4444444444444444,
              "#bd3786"
             ],
             [
              0.5555555555555556,
              "#d8576b"
             ],
             [
              0.6666666666666666,
              "#ed7953"
             ],
             [
              0.7777777777777778,
              "#fb9f3a"
             ],
             [
              0.8888888888888888,
              "#fdca26"
             ],
             [
              1,
              "#f0f921"
             ]
            ],
            "type": "histogram2d"
           }
          ],
          "histogram2dcontour": [
           {
            "colorbar": {
             "outlinewidth": 0,
             "ticks": ""
            },
            "colorscale": [
             [
              0,
              "#0d0887"
             ],
             [
              0.1111111111111111,
              "#46039f"
             ],
             [
              0.2222222222222222,
              "#7201a8"
             ],
             [
              0.3333333333333333,
              "#9c179e"
             ],
             [
              0.4444444444444444,
              "#bd3786"
             ],
             [
              0.5555555555555556,
              "#d8576b"
             ],
             [
              0.6666666666666666,
              "#ed7953"
             ],
             [
              0.7777777777777778,
              "#fb9f3a"
             ],
             [
              0.8888888888888888,
              "#fdca26"
             ],
             [
              1,
              "#f0f921"
             ]
            ],
            "type": "histogram2dcontour"
           }
          ],
          "mesh3d": [
           {
            "colorbar": {
             "outlinewidth": 0,
             "ticks": ""
            },
            "type": "mesh3d"
           }
          ],
          "parcoords": [
           {
            "line": {
             "colorbar": {
              "outlinewidth": 0,
              "ticks": ""
             }
            },
            "type": "parcoords"
           }
          ],
          "pie": [
           {
            "automargin": true,
            "type": "pie"
           }
          ],
          "scatter": [
           {
            "fillpattern": {
             "fillmode": "overlay",
             "size": 10,
             "solidity": 0.2
            },
            "type": "scatter"
           }
          ],
          "scatter3d": [
           {
            "line": {
             "colorbar": {
              "outlinewidth": 0,
              "ticks": ""
             }
            },
            "marker": {
             "colorbar": {
              "outlinewidth": 0,
              "ticks": ""
             }
            },
            "type": "scatter3d"
           }
          ],
          "scattercarpet": [
           {
            "marker": {
             "colorbar": {
              "outlinewidth": 0,
              "ticks": ""
             }
            },
            "type": "scattercarpet"
           }
          ],
          "scattergeo": [
           {
            "marker": {
             "colorbar": {
              "outlinewidth": 0,
              "ticks": ""
             }
            },
            "type": "scattergeo"
           }
          ],
          "scattergl": [
           {
            "marker": {
             "colorbar": {
              "outlinewidth": 0,
              "ticks": ""
             }
            },
            "type": "scattergl"
           }
          ],
          "scattermap": [
           {
            "marker": {
             "colorbar": {
              "outlinewidth": 0,
              "ticks": ""
             }
            },
            "type": "scattermap"
           }
          ],
          "scattermapbox": [
           {
            "marker": {
             "colorbar": {
              "outlinewidth": 0,
              "ticks": ""
             }
            },
            "type": "scattermapbox"
           }
          ],
          "scatterpolar": [
           {
            "marker": {
             "colorbar": {
              "outlinewidth": 0,
              "ticks": ""
             }
            },
            "type": "scatterpolar"
           }
          ],
          "scatterpolargl": [
           {
            "marker": {
             "colorbar": {
              "outlinewidth": 0,
              "ticks": ""
             }
            },
            "type": "scatterpolargl"
           }
          ],
          "scatterternary": [
           {
            "marker": {
             "colorbar": {
              "outlinewidth": 0,
              "ticks": ""
             }
            },
            "type": "scatterternary"
           }
          ],
          "surface": [
           {
            "colorbar": {
             "outlinewidth": 0,
             "ticks": ""
            },
            "colorscale": [
             [
              0,
              "#0d0887"
             ],
             [
              0.1111111111111111,
              "#46039f"
             ],
             [
              0.2222222222222222,
              "#7201a8"
             ],
             [
              0.3333333333333333,
              "#9c179e"
             ],
             [
              0.4444444444444444,
              "#bd3786"
             ],
             [
              0.5555555555555556,
              "#d8576b"
             ],
             [
              0.6666666666666666,
              "#ed7953"
             ],
             [
              0.7777777777777778,
              "#fb9f3a"
             ],
             [
              0.8888888888888888,
              "#fdca26"
             ],
             [
              1,
              "#f0f921"
             ]
            ],
            "type": "surface"
           }
          ],
          "table": [
           {
            "cells": {
             "fill": {
              "color": "#EBF0F8"
             },
             "line": {
              "color": "white"
             }
            },
            "header": {
             "fill": {
              "color": "#C8D4E3"
             },
             "line": {
              "color": "white"
             }
            },
            "type": "table"
           }
          ]
         },
         "layout": {
          "annotationdefaults": {
           "arrowcolor": "#2a3f5f",
           "arrowhead": 0,
           "arrowwidth": 1
          },
          "autotypenumbers": "strict",
          "coloraxis": {
           "colorbar": {
            "outlinewidth": 0,
            "ticks": ""
           }
          },
          "colorscale": {
           "diverging": [
            [
             0,
             "#8e0152"
            ],
            [
             0.1,
             "#c51b7d"
            ],
            [
             0.2,
             "#de77ae"
            ],
            [
             0.3,
             "#f1b6da"
            ],
            [
             0.4,
             "#fde0ef"
            ],
            [
             0.5,
             "#f7f7f7"
            ],
            [
             0.6,
             "#e6f5d0"
            ],
            [
             0.7,
             "#b8e186"
            ],
            [
             0.8,
             "#7fbc41"
            ],
            [
             0.9,
             "#4d9221"
            ],
            [
             1,
             "#276419"
            ]
           ],
           "sequential": [
            [
             0,
             "#0d0887"
            ],
            [
             0.1111111111111111,
             "#46039f"
            ],
            [
             0.2222222222222222,
             "#7201a8"
            ],
            [
             0.3333333333333333,
             "#9c179e"
            ],
            [
             0.4444444444444444,
             "#bd3786"
            ],
            [
             0.5555555555555556,
             "#d8576b"
            ],
            [
             0.6666666666666666,
             "#ed7953"
            ],
            [
             0.7777777777777778,
             "#fb9f3a"
            ],
            [
             0.8888888888888888,
             "#fdca26"
            ],
            [
             1,
             "#f0f921"
            ]
           ],
           "sequentialminus": [
            [
             0,
             "#0d0887"
            ],
            [
             0.1111111111111111,
             "#46039f"
            ],
            [
             0.2222222222222222,
             "#7201a8"
            ],
            [
             0.3333333333333333,
             "#9c179e"
            ],
            [
             0.4444444444444444,
             "#bd3786"
            ],
            [
             0.5555555555555556,
             "#d8576b"
            ],
            [
             0.6666666666666666,
             "#ed7953"
            ],
            [
             0.7777777777777778,
             "#fb9f3a"
            ],
            [
             0.8888888888888888,
             "#fdca26"
            ],
            [
             1,
             "#f0f921"
            ]
           ]
          },
          "colorway": [
           "#636efa",
           "#EF553B",
           "#00cc96",
           "#ab63fa",
           "#FFA15A",
           "#19d3f3",
           "#FF6692",
           "#B6E880",
           "#FF97FF",
           "#FECB52"
          ],
          "font": {
           "color": "#2a3f5f"
          },
          "geo": {
           "bgcolor": "white",
           "lakecolor": "white",
           "landcolor": "#E5ECF6",
           "showlakes": true,
           "showland": true,
           "subunitcolor": "white"
          },
          "hoverlabel": {
           "align": "left"
          },
          "hovermode": "closest",
          "mapbox": {
           "style": "light"
          },
          "paper_bgcolor": "white",
          "plot_bgcolor": "#E5ECF6",
          "polar": {
           "angularaxis": {
            "gridcolor": "white",
            "linecolor": "white",
            "ticks": ""
           },
           "bgcolor": "#E5ECF6",
           "radialaxis": {
            "gridcolor": "white",
            "linecolor": "white",
            "ticks": ""
           }
          },
          "scene": {
           "xaxis": {
            "backgroundcolor": "#E5ECF6",
            "gridcolor": "white",
            "gridwidth": 2,
            "linecolor": "white",
            "showbackground": true,
            "ticks": "",
            "zerolinecolor": "white"
           },
           "yaxis": {
            "backgroundcolor": "#E5ECF6",
            "gridcolor": "white",
            "gridwidth": 2,
            "linecolor": "white",
            "showbackground": true,
            "ticks": "",
            "zerolinecolor": "white"
           },
           "zaxis": {
            "backgroundcolor": "#E5ECF6",
            "gridcolor": "white",
            "gridwidth": 2,
            "linecolor": "white",
            "showbackground": true,
            "ticks": "",
            "zerolinecolor": "white"
           }
          },
          "shapedefaults": {
           "line": {
            "color": "#2a3f5f"
           }
          },
          "ternary": {
           "aaxis": {
            "gridcolor": "white",
            "linecolor": "white",
            "ticks": ""
           },
           "baxis": {
            "gridcolor": "white",
            "linecolor": "white",
            "ticks": ""
           },
           "bgcolor": "#E5ECF6",
           "caxis": {
            "gridcolor": "white",
            "linecolor": "white",
            "ticks": ""
           }
          },
          "title": {
           "x": 0.05
          },
          "xaxis": {
           "automargin": true,
           "gridcolor": "white",
           "linecolor": "white",
           "ticks": "",
           "title": {
            "standoff": 15
           },
           "zerolinecolor": "white",
           "zerolinewidth": 2
          },
          "yaxis": {
           "automargin": true,
           "gridcolor": "white",
           "linecolor": "white",
           "ticks": "",
           "title": {
            "standoff": 15
           },
           "zerolinecolor": "white",
           "zerolinewidth": 2
          }
         }
        },
        "width": 1080
       }
      }
     },
     "metadata": {},
     "output_type": "display_data"
    }
   ],
   "source": [
    "select = 10\n",
    "print(f\"Parameters {select} {data[select]['parameters']}, RMSE = {data[select]['metrics']['RMSE']}\")\n",
    "viz.compare_plot(datasets=[data[select]['true_value'], data[select]['predictions']], titles=[\"true\",\"preds\"], figsize=(1080,600))"
   ]
  },
  {
   "cell_type": "code",
   "execution_count": 6,
   "id": "bbd1c172",
   "metadata": {},
   "outputs": [
    {
     "data": {
      "application/vnd.plotly.v1+json": {
       "config": {
        "plotlyServerURL": "https://plot.ly"
       },
       "data": [
        {
         "hoverinfo": "x+y",
         "line": {
          "color": "#440154",
          "width": 1.5
         },
         "mode": "lines",
         "name": "Component 1",
         "showlegend": false,
         "type": "scatter",
         "x": {
          "bdata": "AAABAAIAAwAEAAUABgAHAAgACQAKAAsADAANAA4ADwAQABEAEgATABQAFQAWABcAGAAZABoAGwAcAB0AHgAfACAAIQAiACMAJAAlACYAJwAoACkAKgArACwALQAuAC8AMAAxADIAMwA0ADUANgA3ADgAOQA6ADsAPAA9AD4APwBAAEEAQgBDAEQARQBGAEcASABJAEoASwBMAE0ATgBPAFAAUQBSAFMAVABVAFYAVwBYAFkAWgBbAFwAXQBeAF8AYABhAGIAYwBkAGUAZgBnAGgAaQBqAGsAbABtAG4AbwBwAHEAcgBzAHQAdQB2AHcAeAB5AHoAewB8AH0AfgB/AIAAgQCCAIMAhACFAIYAhwCIAIkAigCLAIwAjQCOAI8AkACRAJIAkwCUAJUAlgCXAJgAmQCaAJsAnACdAJ4AnwCgAKEAogCjAKQApQCmAKcAqACpAKoAqwCsAK0ArgCvALAAsQCyALMAtAC1ALYAtwC4ALkAugC7ALwAvQC+AL8AwADBAMIAwwDEAMUAxgDHAMgAyQDKAMsAzADNAM4AzwDQANEA0gDTANQA1QDWANcA2ADZANoA2wDcAN0A3gDfAOAA4QDiAOMA5ADlAOYA5wDoAOkA6gDrAOwA7QDuAO8A8ADxAPIA8wD0APUA9gD3APgA+QD6APsA/AD9AP4A/wAAAQEBAgEDAQQBBQEGAQcBCAEJAQoBCwEMAQ0BDgEPARABEQESARMBFAEVARYBFwEYARkBGgEbARwBHQEeAR8BIAEhASIBIwEkASUBJgEnASgBKQEqASsBLAEtAS4BLwEwATEBMgEzATQBNQE2ATcBOAE5AToBOwE8AT0BPgE/AUABQQFCAUMBRAFFAUYBRwFIAUkBSgFLAUwBTQFOAU8BUAFRAVIBUwFUAVUBVgFXAVgBWQFaAVsBXAFdAV4BXwFgAWEBYgFjAWQBZQFmAWcBaAFpAWoBawFsAW0BbgFvAXABcQFyAXMBdAF1AXYBdwF4AXkBegF7AXwBfQF+AX8BgAGBAYIBgwGEAYUBhgGHAYgBiQGKAYsBjAGNAY4BjwGQAZEBkgGTAZQBlQGWAZcBmAGZAZoBmwGcAZ0BngGfAaABoQGiAaMBpAGlAaYBpwGoAakBqgGrAawBrQGuAa8BsAGxAbIBswG0AbUBtgG3AbgBuQG6AbsBvAG9Ab4BvwHAAcEBwgHDAcQBxQHGAccByAHJAcoBywHMAc0BzgHPAdAB0QHSAdMB1AHVAdYB1wHYAdkB2gHbAdwB3QHeAd8B4AHhAeIB4wHkAeUB5gHnAegB6QHqAesB7AHtAe4B7wHwAfEB8gHzAQ==",
          "dtype": "i2"
         },
         "xaxis": "x",
         "y": {
          "bdata": "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",
          "dtype": "f8"
         },
         "yaxis": "y"
        },
        {
         "hoverinfo": "x+y",
         "line": {
          "color": "#31688e",
          "width": 1.5
         },
         "mode": "lines",
         "name": "Component 2",
         "showlegend": false,
         "type": "scatter",
         "x": {
          "bdata": "AAABAAIAAwAEAAUABgAHAAgACQAKAAsADAANAA4ADwAQABEAEgATABQAFQAWABcAGAAZABoAGwAcAB0AHgAfACAAIQAiACMAJAAlACYAJwAoACkAKgArACwALQAuAC8AMAAxADIAMwA0ADUANgA3ADgAOQA6ADsAPAA9AD4APwBAAEEAQgBDAEQARQBGAEcASABJAEoASwBMAE0ATgBPAFAAUQBSAFMAVABVAFYAVwBYAFkAWgBbAFwAXQBeAF8AYABhAGIAYwBkAGUAZgBnAGgAaQBqAGsAbABtAG4AbwBwAHEAcgBzAHQAdQB2AHcAeAB5AHoAewB8AH0AfgB/AIAAgQCCAIMAhACFAIYAhwCIAIkAigCLAIwAjQCOAI8AkACRAJIAkwCUAJUAlgCXAJgAmQCaAJsAnACdAJ4AnwCgAKEAogCjAKQApQCmAKcAqACpAKoAqwCsAK0ArgCvALAAsQCyALMAtAC1ALYAtwC4ALkAugC7ALwAvQC+AL8AwADBAMIAwwDEAMUAxgDHAMgAyQDKAMsAzADNAM4AzwDQANEA0gDTANQA1QDWANcA2ADZANoA2wDcAN0A3gDfAOAA4QDiAOMA5ADlAOYA5wDoAOkA6gDrAOwA7QDuAO8A8ADxAPIA8wD0APUA9gD3APgA+QD6APsA/AD9AP4A/wAAAQEBAgEDAQQBBQEGAQcBCAEJAQoBCwEMAQ0BDgEPARABEQESARMBFAEVARYBFwEYARkBGgEbARwBHQEeAR8BIAEhASIBIwEkASUBJgEnASgBKQEqASsBLAEtAS4BLwEwATEBMgEzATQBNQE2ATcBOAE5AToBOwE8AT0BPgE/AUABQQFCAUMBRAFFAUYBRwFIAUkBSgFLAUwBTQFOAU8BUAFRAVIBUwFUAVUBVgFXAVgBWQFaAVsBXAFdAV4BXwFgAWEBYgFjAWQBZQFmAWcBaAFpAWoBawFsAW0BbgFvAXABcQFyAXMBdAF1AXYBdwF4AXkBegF7AXwBfQF+AX8BgAGBAYIBgwGEAYUBhgGHAYgBiQGKAYsBjAGNAY4BjwGQAZEBkgGTAZQBlQGWAZcBmAGZAZoBmwGcAZ0BngGfAaABoQGiAaMBpAGlAaYBpwGoAakBqgGrAawBrQGuAa8BsAGxAbIBswG0AbUBtgG3AbgBuQG6AbsBvAG9Ab4BvwHAAcEBwgHDAcQBxQHGAccByAHJAcoBywHMAc0BzgHPAdAB0QHSAdMB1AHVAdYB1wHYAdkB2gHbAdwB3QHeAd8B4AHhAeIB4wHkAeUB5gHnAegB6QHqAesB7AHtAe4B7wHwAfEB8gHzAQ==",
          "dtype": "i2"
         },
         "xaxis": "x2",
         "y": {
          "bdata": "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",
          "dtype": "f8"
         },
         "yaxis": "y2"
        },
        {
         "hoverinfo": "x+y",
         "line": {
          "color": "#35b779",
          "width": 1.5
         },
         "mode": "lines",
         "name": "Component 3",
         "showlegend": false,
         "type": "scatter",
         "x": {
          "bdata": "AAABAAIAAwAEAAUABgAHAAgACQAKAAsADAANAA4ADwAQABEAEgATABQAFQAWABcAGAAZABoAGwAcAB0AHgAfACAAIQAiACMAJAAlACYAJwAoACkAKgArACwALQAuAC8AMAAxADIAMwA0ADUANgA3ADgAOQA6ADsAPAA9AD4APwBAAEEAQgBDAEQARQBGAEcASABJAEoASwBMAE0ATgBPAFAAUQBSAFMAVABVAFYAVwBYAFkAWgBbAFwAXQBeAF8AYABhAGIAYwBkAGUAZgBnAGgAaQBqAGsAbABtAG4AbwBwAHEAcgBzAHQAdQB2AHcAeAB5AHoAewB8AH0AfgB/AIAAgQCCAIMAhACFAIYAhwCIAIkAigCLAIwAjQCOAI8AkACRAJIAkwCUAJUAlgCXAJgAmQCaAJsAnACdAJ4AnwCgAKEAogCjAKQApQCmAKcAqACpAKoAqwCsAK0ArgCvALAAsQCyALMAtAC1ALYAtwC4ALkAugC7ALwAvQC+AL8AwADBAMIAwwDEAMUAxgDHAMgAyQDKAMsAzADNAM4AzwDQANEA0gDTANQA1QDWANcA2ADZANoA2wDcAN0A3gDfAOAA4QDiAOMA5ADlAOYA5wDoAOkA6gDrAOwA7QDuAO8A8ADxAPIA8wD0APUA9gD3APgA+QD6APsA/AD9AP4A/wAAAQEBAgEDAQQBBQEGAQcBCAEJAQoBCwEMAQ0BDgEPARABEQESARMBFAEVARYBFwEYARkBGgEbARwBHQEeAR8BIAEhASIBIwEkASUBJgEnASgBKQEqASsBLAEtAS4BLwEwATEBMgEzATQBNQE2ATcBOAE5AToBOwE8AT0BPgE/AUABQQFCAUMBRAFFAUYBRwFIAUkBSgFLAUwBTQFOAU8BUAFRAVIBUwFUAVUBVgFXAVgBWQFaAVsBXAFdAV4BXwFgAWEBYgFjAWQBZQFmAWcBaAFpAWoBawFsAW0BbgFvAXABcQFyAXMBdAF1AXYBdwF4AXkBegF7AXwBfQF+AX8BgAGBAYIBgwGEAYUBhgGHAYgBiQGKAYsBjAGNAY4BjwGQAZEBkgGTAZQBlQGWAZcBmAGZAZoBmwGcAZ0BngGfAaABoQGiAaMBpAGlAaYBpwGoAakBqgGrAawBrQGuAa8BsAGxAbIBswG0AbUBtgG3AbgBuQG6AbsBvAG9Ab4BvwHAAcEBwgHDAcQBxQHGAccByAHJAcoBywHMAc0BzgHPAdAB0QHSAdMB1AHVAdYB1wHYAdkB2gHbAdwB3QHeAd8B4AHhAeIB4wHkAeUB5gHnAegB6QHqAesB7AHtAe4B7wHwAfEB8gHzAQ==",
          "dtype": "i2"
         },
         "xaxis": "x3",
         "y": {
          "bdata": "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",
          "dtype": "f8"
         },
         "yaxis": "y3"
        }
       ],
       "layout": {
        "annotations": [
         {
          "font": {
           "size": 12
          },
          "showarrow": false,
          "text": "Component 1",
          "x": 0.01,
          "xanchor": "left",
          "xref": "paper",
          "y": 1,
          "yanchor": "bottom",
          "yref": "paper"
         },
         {
          "font": {
           "size": 12
          },
          "showarrow": false,
          "text": "Component 2",
          "x": 0.01,
          "xanchor": "left",
          "xref": "paper",
          "y": 0.6499999999999999,
          "yanchor": "bottom",
          "yref": "paper"
         },
         {
          "font": {
           "size": 12
          },
          "showarrow": false,
          "text": "Component 3",
          "x": 0.01,
          "xanchor": "left",
          "xref": "paper",
          "y": 0.3,
          "yanchor": "bottom",
          "yref": "paper"
         }
        ],
        "font": {
         "family": "Arial",
         "size": 12
        },
        "height": 600,
        "hovermode": "x unified",
        "margin": {
         "b": 50,
         "l": 50,
         "r": 50,
         "t": 50
        },
        "paper_bgcolor": "white",
        "plot_bgcolor": "rgb(240, 240, 240)",
        "template": {
         "data": {
          "bar": [
           {
            "error_x": {
             "color": "#2a3f5f"
            },
            "error_y": {
             "color": "#2a3f5f"
            },
            "marker": {
             "line": {
              "color": "#E5ECF6",
              "width": 0.5
             },
             "pattern": {
              "fillmode": "overlay",
              "size": 10,
              "solidity": 0.2
             }
            },
            "type": "bar"
           }
          ],
          "barpolar": [
           {
            "marker": {
             "line": {
              "color": "#E5ECF6",
              "width": 0.5
             },
             "pattern": {
              "fillmode": "overlay",
              "size": 10,
              "solidity": 0.2
             }
            },
            "type": "barpolar"
           }
          ],
          "carpet": [
           {
            "aaxis": {
             "endlinecolor": "#2a3f5f",
             "gridcolor": "white",
             "linecolor": "white",
             "minorgridcolor": "white",
             "startlinecolor": "#2a3f5f"
            },
            "baxis": {
             "endlinecolor": "#2a3f5f",
             "gridcolor": "white",
             "linecolor": "white",
             "minorgridcolor": "white",
             "startlinecolor": "#2a3f5f"
            },
            "type": "carpet"
           }
          ],
          "choropleth": [
           {
            "colorbar": {
             "outlinewidth": 0,
             "ticks": ""
            },
            "type": "choropleth"
           }
          ],
          "contour": [
           {
            "colorbar": {
             "outlinewidth": 0,
             "ticks": ""
            },
            "colorscale": [
             [
              0,
              "#0d0887"
             ],
             [
              0.1111111111111111,
              "#46039f"
             ],
             [
              0.2222222222222222,
              "#7201a8"
             ],
             [
              0.3333333333333333,
              "#9c179e"
             ],
             [
              0.4444444444444444,
              "#bd3786"
             ],
             [
              0.5555555555555556,
              "#d8576b"
             ],
             [
              0.6666666666666666,
              "#ed7953"
             ],
             [
              0.7777777777777778,
              "#fb9f3a"
             ],
             [
              0.8888888888888888,
              "#fdca26"
             ],
             [
              1,
              "#f0f921"
             ]
            ],
            "type": "contour"
           }
          ],
          "contourcarpet": [
           {
            "colorbar": {
             "outlinewidth": 0,
             "ticks": ""
            },
            "type": "contourcarpet"
           }
          ],
          "heatmap": [
           {
            "colorbar": {
             "outlinewidth": 0,
             "ticks": ""
            },
            "colorscale": [
             [
              0,
              "#0d0887"
             ],
             [
              0.1111111111111111,
              "#46039f"
             ],
             [
              0.2222222222222222,
              "#7201a8"
             ],
             [
              0.3333333333333333,
              "#9c179e"
             ],
             [
              0.4444444444444444,
              "#bd3786"
             ],
             [
              0.5555555555555556,
              "#d8576b"
             ],
             [
              0.6666666666666666,
              "#ed7953"
             ],
             [
              0.7777777777777778,
              "#fb9f3a"
             ],
             [
              0.8888888888888888,
              "#fdca26"
             ],
             [
              1,
              "#f0f921"
             ]
            ],
            "type": "heatmap"
           }
          ],
          "histogram": [
           {
            "marker": {
             "pattern": {
              "fillmode": "overlay",
              "size": 10,
              "solidity": 0.2
             }
            },
            "type": "histogram"
           }
          ],
          "histogram2d": [
           {
            "colorbar": {
             "outlinewidth": 0,
             "ticks": ""
            },
            "colorscale": [
             [
              0,
              "#0d0887"
             ],
             [
              0.1111111111111111,
              "#46039f"
             ],
             [
              0.2222222222222222,
              "#7201a8"
             ],
             [
              0.3333333333333333,
              "#9c179e"
             ],
             [
              0.4444444444444444,
              "#bd3786"
             ],
             [
              0.5555555555555556,
              "#d8576b"
             ],
             [
              0.6666666666666666,
              "#ed7953"
             ],
             [
              0.7777777777777778,
              "#fb9f3a"
             ],
             [
              0.8888888888888888,
              "#fdca26"
             ],
             [
              1,
              "#f0f921"
             ]
            ],
            "type": "histogram2d"
           }
          ],
          "histogram2dcontour": [
           {
            "colorbar": {
             "outlinewidth": 0,
             "ticks": ""
            },
            "colorscale": [
             [
              0,
              "#0d0887"
             ],
             [
              0.1111111111111111,
              "#46039f"
             ],
             [
              0.2222222222222222,
              "#7201a8"
             ],
             [
              0.3333333333333333,
              "#9c179e"
             ],
             [
              0.4444444444444444,
              "#bd3786"
             ],
             [
              0.5555555555555556,
              "#d8576b"
             ],
             [
              0.6666666666666666,
              "#ed7953"
             ],
             [
              0.7777777777777778,
              "#fb9f3a"
             ],
             [
              0.8888888888888888,
              "#fdca26"
             ],
             [
              1,
              "#f0f921"
             ]
            ],
            "type": "histogram2dcontour"
           }
          ],
          "mesh3d": [
           {
            "colorbar": {
             "outlinewidth": 0,
             "ticks": ""
            },
            "type": "mesh3d"
           }
          ],
          "parcoords": [
           {
            "line": {
             "colorbar": {
              "outlinewidth": 0,
              "ticks": ""
             }
            },
            "type": "parcoords"
           }
          ],
          "pie": [
           {
            "automargin": true,
            "type": "pie"
           }
          ],
          "scatter": [
           {
            "fillpattern": {
             "fillmode": "overlay",
             "size": 10,
             "solidity": 0.2
            },
            "type": "scatter"
           }
          ],
          "scatter3d": [
           {
            "line": {
             "colorbar": {
              "outlinewidth": 0,
              "ticks": ""
             }
            },
            "marker": {
             "colorbar": {
              "outlinewidth": 0,
              "ticks": ""
             }
            },
            "type": "scatter3d"
           }
          ],
          "scattercarpet": [
           {
            "marker": {
             "colorbar": {
              "outlinewidth": 0,
              "ticks": ""
             }
            },
            "type": "scattercarpet"
           }
          ],
          "scattergeo": [
           {
            "marker": {
             "colorbar": {
              "outlinewidth": 0,
              "ticks": ""
             }
            },
            "type": "scattergeo"
           }
          ],
          "scattergl": [
           {
            "marker": {
             "colorbar": {
              "outlinewidth": 0,
              "ticks": ""
             }
            },
            "type": "scattergl"
           }
          ],
          "scattermap": [
           {
            "marker": {
             "colorbar": {
              "outlinewidth": 0,
              "ticks": ""
             }
            },
            "type": "scattermap"
           }
          ],
          "scattermapbox": [
           {
            "marker": {
             "colorbar": {
              "outlinewidth": 0,
              "ticks": ""
             }
            },
            "type": "scattermapbox"
           }
          ],
          "scatterpolar": [
           {
            "marker": {
             "colorbar": {
              "outlinewidth": 0,
              "ticks": ""
             }
            },
            "type": "scatterpolar"
           }
          ],
          "scatterpolargl": [
           {
            "marker": {
             "colorbar": {
              "outlinewidth": 0,
              "ticks": ""
             }
            },
            "type": "scatterpolargl"
           }
          ],
          "scatterternary": [
           {
            "marker": {
             "colorbar": {
              "outlinewidth": 0,
              "ticks": ""
             }
            },
            "type": "scatterternary"
           }
          ],
          "surface": [
           {
            "colorbar": {
             "outlinewidth": 0,
             "ticks": ""
            },
            "colorscale": [
             [
              0,
              "#0d0887"
             ],
             [
              0.1111111111111111,
              "#46039f"
             ],
             [
              0.2222222222222222,
              "#7201a8"
             ],
             [
              0.3333333333333333,
              "#9c179e"
             ],
             [
              0.4444444444444444,
              "#bd3786"
             ],
             [
              0.5555555555555556,
              "#d8576b"
             ],
             [
              0.6666666666666666,
              "#ed7953"
             ],
             [
              0.7777777777777778,
              "#fb9f3a"
             ],
             [
              0.8888888888888888,
              "#fdca26"
             ],
             [
              1,
              "#f0f921"
             ]
            ],
            "type": "surface"
           }
          ],
          "table": [
           {
            "cells": {
             "fill": {
              "color": "#EBF0F8"
             },
             "line": {
              "color": "white"
             }
            },
            "header": {
             "fill": {
              "color": "#C8D4E3"
             },
             "line": {
              "color": "white"
             }
            },
            "type": "table"
           }
          ]
         },
         "layout": {
          "annotationdefaults": {
           "arrowcolor": "#2a3f5f",
           "arrowhead": 0,
           "arrowwidth": 1
          },
          "autotypenumbers": "strict",
          "coloraxis": {
           "colorbar": {
            "outlinewidth": 0,
            "ticks": ""
           }
          },
          "colorscale": {
           "diverging": [
            [
             0,
             "#8e0152"
            ],
            [
             0.1,
             "#c51b7d"
            ],
            [
             0.2,
             "#de77ae"
            ],
            [
             0.3,
             "#f1b6da"
            ],
            [
             0.4,
             "#fde0ef"
            ],
            [
             0.5,
             "#f7f7f7"
            ],
            [
             0.6,
             "#e6f5d0"
            ],
            [
             0.7,
             "#b8e186"
            ],
            [
             0.8,
             "#7fbc41"
            ],
            [
             0.9,
             "#4d9221"
            ],
            [
             1,
             "#276419"
            ]
           ],
           "sequential": [
            [
             0,
             "#0d0887"
            ],
            [
             0.1111111111111111,
             "#46039f"
            ],
            [
             0.2222222222222222,
             "#7201a8"
            ],
            [
             0.3333333333333333,
             "#9c179e"
            ],
            [
             0.4444444444444444,
             "#bd3786"
            ],
            [
             0.5555555555555556,
             "#d8576b"
            ],
            [
             0.6666666666666666,
             "#ed7953"
            ],
            [
             0.7777777777777778,
             "#fb9f3a"
            ],
            [
             0.8888888888888888,
             "#fdca26"
            ],
            [
             1,
             "#f0f921"
            ]
           ],
           "sequentialminus": [
            [
             0,
             "#0d0887"
            ],
            [
             0.1111111111111111,
             "#46039f"
            ],
            [
             0.2222222222222222,
             "#7201a8"
            ],
            [
             0.3333333333333333,
             "#9c179e"
            ],
            [
             0.4444444444444444,
             "#bd3786"
            ],
            [
             0.5555555555555556,
             "#d8576b"
            ],
            [
             0.6666666666666666,
             "#ed7953"
            ],
            [
             0.7777777777777778,
             "#fb9f3a"
            ],
            [
             0.8888888888888888,
             "#fdca26"
            ],
            [
             1,
             "#f0f921"
            ]
           ]
          },
          "colorway": [
           "#636efa",
           "#EF553B",
           "#00cc96",
           "#ab63fa",
           "#FFA15A",
           "#19d3f3",
           "#FF6692",
           "#B6E880",
           "#FF97FF",
           "#FECB52"
          ],
          "font": {
           "color": "#2a3f5f"
          },
          "geo": {
           "bgcolor": "white",
           "lakecolor": "white",
           "landcolor": "#E5ECF6",
           "showlakes": true,
           "showland": true,
           "subunitcolor": "white"
          },
          "hoverlabel": {
           "align": "left"
          },
          "hovermode": "closest",
          "mapbox": {
           "style": "light"
          },
          "paper_bgcolor": "white",
          "plot_bgcolor": "#E5ECF6",
          "polar": {
           "angularaxis": {
            "gridcolor": "white",
            "linecolor": "white",
            "ticks": ""
           },
           "bgcolor": "#E5ECF6",
           "radialaxis": {
            "gridcolor": "white",
            "linecolor": "white",
            "ticks": ""
           }
          },
          "scene": {
           "xaxis": {
            "backgroundcolor": "#E5ECF6",
            "gridcolor": "white",
            "gridwidth": 2,
            "linecolor": "white",
            "showbackground": true,
            "ticks": "",
            "zerolinecolor": "white"
           },
           "yaxis": {
            "backgroundcolor": "#E5ECF6",
            "gridcolor": "white",
            "gridwidth": 2,
            "linecolor": "white",
            "showbackground": true,
            "ticks": "",
            "zerolinecolor": "white"
           },
           "zaxis": {
            "backgroundcolor": "#E5ECF6",
            "gridcolor": "white",
            "gridwidth": 2,
            "linecolor": "white",
            "showbackground": true,
            "ticks": "",
            "zerolinecolor": "white"
           }
          },
          "shapedefaults": {
           "line": {
            "color": "#2a3f5f"
           }
          },
          "ternary": {
           "aaxis": {
            "gridcolor": "white",
            "linecolor": "white",
            "ticks": ""
           },
           "baxis": {
            "gridcolor": "white",
            "linecolor": "white",
            "ticks": ""
           },
           "bgcolor": "#E5ECF6",
           "caxis": {
            "gridcolor": "white",
            "linecolor": "white",
            "ticks": ""
           }
          },
          "title": {
           "x": 0.05
          },
          "xaxis": {
           "automargin": true,
           "gridcolor": "white",
           "linecolor": "white",
           "ticks": "",
           "title": {
            "standoff": 15
           },
           "zerolinecolor": "white",
           "zerolinewidth": 2
          },
          "yaxis": {
           "automargin": true,
           "gridcolor": "white",
           "linecolor": "white",
           "ticks": "",
           "title": {
            "standoff": 15
           },
           "zerolinecolor": "white",
           "zerolinewidth": 2
          }
         }
        },
        "title": {
         "font": {
          "family": "Arial",
          "size": 20
         },
         "text": "",
         "x": 0.5,
         "xanchor": "center",
         "y": 0.95,
         "yanchor": "top"
        },
        "width": 1080,
        "xaxis": {
         "anchor": "y",
         "domain": [
          0,
          1
         ],
         "gridcolor": "rgb(200, 200, 200)",
         "matches": "x3",
         "showgrid": true,
         "showticklabels": false
        },
        "xaxis2": {
         "anchor": "y2",
         "domain": [
          0,
          1
         ],
         "gridcolor": "rgb(200, 200, 200)",
         "matches": "x3",
         "showgrid": true,
         "showticklabels": false
        },
        "xaxis3": {
         "anchor": "y3",
         "domain": [
          0,
          1
         ],
         "gridcolor": "rgb(200, 200, 200)",
         "showgrid": true,
         "title": {
          "text": "Time"
         }
        },
        "yaxis": {
         "anchor": "x",
         "domain": [
          0.7,
          1
         ],
         "gridcolor": "rgb(200, 200, 200)",
         "showgrid": true,
         "title": {
          "text": "Component 1"
         }
        },
        "yaxis2": {
         "anchor": "x2",
         "domain": [
          0.35,
          0.6499999999999999
         ],
         "gridcolor": "rgb(200, 200, 200)",
         "showgrid": true,
         "title": {
          "text": "Component 2"
         }
        },
        "yaxis3": {
         "anchor": "x3",
         "domain": [
          0,
          0.3
         ],
         "gridcolor": "rgb(200, 200, 200)",
         "showgrid": true,
         "title": {
          "text": "Component 3"
         }
        }
       }
      }
     },
     "metadata": {},
     "output_type": "display_data"
    },
    {
     "data": {
      "application/vnd.plotly.v1+json": {
       "config": {
        "plotlyServerURL": "https://plot.ly"
       },
       "data": [
        {
         "hoverinfo": "x+y",
         "line": {
          "color": "#440154",
          "width": 1.5
         },
         "mode": "lines",
         "name": "Component 1",
         "showlegend": false,
         "type": "scatter",
         "x": {
          "bdata": "AAABAAIAAwAEAAUABgAHAAgACQAKAAsADAANAA4ADwAQABEAEgATABQAFQAWABcAGAAZABoAGwAcAB0AHgAfACAAIQAiACMAJAAlACYAJwAoACkAKgArACwALQAuAC8AMAAxADIAMwA0ADUANgA3ADgAOQA6ADsAPAA9AD4APwBAAEEAQgBDAEQARQBGAEcASABJAEoASwBMAE0ATgBPAFAAUQBSAFMAVABVAFYAVwBYAFkAWgBbAFwAXQBeAF8AYABhAGIAYwBkAGUAZgBnAGgAaQBqAGsAbABtAG4AbwBwAHEAcgBzAHQAdQB2AHcAeAB5AHoAewB8AH0AfgB/AIAAgQCCAIMAhACFAIYAhwCIAIkAigCLAIwAjQCOAI8AkACRAJIAkwCUAJUAlgCXAJgAmQCaAJsAnACdAJ4AnwCgAKEAogCjAKQApQCmAKcAqACpAKoAqwCsAK0ArgCvALAAsQCyALMAtAC1ALYAtwC4ALkAugC7ALwAvQC+AL8AwADBAMIAwwDEAMUAxgDHAMgAyQDKAMsAzADNAM4AzwDQANEA0gDTANQA1QDWANcA2ADZANoA2wDcAN0A3gDfAOAA4QDiAOMA5ADlAOYA5wDoAOkA6gDrAOwA7QDuAO8A8ADxAPIA8wD0APUA9gD3APgA+QD6APsA/AD9AP4A/wAAAQEBAgEDAQQBBQEGAQcBCAEJAQoBCwEMAQ0BDgEPARABEQESARMBFAEVARYBFwEYARkBGgEbARwBHQEeAR8BIAEhASIBIwEkASUBJgEnASgBKQEqASsBLAEtAS4BLwEwATEBMgEzATQBNQE2ATcBOAE5AToBOwE8AT0BPgE/AUABQQFCAUMBRAFFAUYBRwFIAUkBSgFLAUwBTQFOAU8BUAFRAVIBUwFUAVUBVgFXAVgBWQFaAVsBXAFdAV4BXwFgAWEBYgFjAWQBZQFmAWcBaAFpAWoBawFsAW0BbgFvAXABcQFyAXMBdAF1AXYBdwF4AXkBegF7AXwBfQF+AX8BgAGBAYIBgwGEAYUBhgGHAYgBiQGKAYsBjAGNAY4BjwGQAZEBkgGTAZQBlQGWAZcBmAGZAZoBmwGcAZ0BngGfAaABoQGiAaMBpAGlAaYBpwGoAakBqgGrAawBrQGuAa8BsAGxAbIBswG0AbUBtgG3AbgBuQG6AbsBvAG9Ab4BvwHAAcEBwgHDAcQBxQHGAccByAHJAcoBywHMAc0BzgHPAdAB0QHSAdMB1AHVAdYB1wHYAdkB2gHbAdwB3QHeAd8B4AHhAeIB4wHkAeUB5gHnAegB6QHqAesB7AHtAe4B7wHwAfEB8gHzAQ==",
          "dtype": "i2"
         },
         "xaxis": "x",
         "y": {
          "bdata": "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",
          "dtype": "f8"
         },
         "yaxis": "y"
        },
        {
         "hoverinfo": "x+y",
         "line": {
          "color": "#31688e",
          "width": 1.5
         },
         "mode": "lines",
         "name": "Component 2",
         "showlegend": false,
         "type": "scatter",
         "x": {
          "bdata": "AAABAAIAAwAEAAUABgAHAAgACQAKAAsADAANAA4ADwAQABEAEgATABQAFQAWABcAGAAZABoAGwAcAB0AHgAfACAAIQAiACMAJAAlACYAJwAoACkAKgArACwALQAuAC8AMAAxADIAMwA0ADUANgA3ADgAOQA6ADsAPAA9AD4APwBAAEEAQgBDAEQARQBGAEcASABJAEoASwBMAE0ATgBPAFAAUQBSAFMAVABVAFYAVwBYAFkAWgBbAFwAXQBeAF8AYABhAGIAYwBkAGUAZgBnAGgAaQBqAGsAbABtAG4AbwBwAHEAcgBzAHQAdQB2AHcAeAB5AHoAewB8AH0AfgB/AIAAgQCCAIMAhACFAIYAhwCIAIkAigCLAIwAjQCOAI8AkACRAJIAkwCUAJUAlgCXAJgAmQCaAJsAnACdAJ4AnwCgAKEAogCjAKQApQCmAKcAqACpAKoAqwCsAK0ArgCvALAAsQCyALMAtAC1ALYAtwC4ALkAugC7ALwAvQC+AL8AwADBAMIAwwDEAMUAxgDHAMgAyQDKAMsAzADNAM4AzwDQANEA0gDTANQA1QDWANcA2ADZANoA2wDcAN0A3gDfAOAA4QDiAOMA5ADlAOYA5wDoAOkA6gDrAOwA7QDuAO8A8ADxAPIA8wD0APUA9gD3APgA+QD6APsA/AD9AP4A/wAAAQEBAgEDAQQBBQEGAQcBCAEJAQoBCwEMAQ0BDgEPARABEQESARMBFAEVARYBFwEYARkBGgEbARwBHQEeAR8BIAEhASIBIwEkASUBJgEnASgBKQEqASsBLAEtAS4BLwEwATEBMgEzATQBNQE2ATcBOAE5AToBOwE8AT0BPgE/AUABQQFCAUMBRAFFAUYBRwFIAUkBSgFLAUwBTQFOAU8BUAFRAVIBUwFUAVUBVgFXAVgBWQFaAVsBXAFdAV4BXwFgAWEBYgFjAWQBZQFmAWcBaAFpAWoBawFsAW0BbgFvAXABcQFyAXMBdAF1AXYBdwF4AXkBegF7AXwBfQF+AX8BgAGBAYIBgwGEAYUBhgGHAYgBiQGKAYsBjAGNAY4BjwGQAZEBkgGTAZQBlQGWAZcBmAGZAZoBmwGcAZ0BngGfAaABoQGiAaMBpAGlAaYBpwGoAakBqgGrAawBrQGuAa8BsAGxAbIBswG0AbUBtgG3AbgBuQG6AbsBvAG9Ab4BvwHAAcEBwgHDAcQBxQHGAccByAHJAcoBywHMAc0BzgHPAdAB0QHSAdMB1AHVAdYB1wHYAdkB2gHbAdwB3QHeAd8B4AHhAeIB4wHkAeUB5gHnAegB6QHqAesB7AHtAe4B7wHwAfEB8gHzAQ==",
          "dtype": "i2"
         },
         "xaxis": "x2",
         "y": {
          "bdata": "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",
          "dtype": "f8"
         },
         "yaxis": "y2"
        },
        {
         "hoverinfo": "x+y",
         "line": {
          "color": "#35b779",
          "width": 1.5
         },
         "mode": "lines",
         "name": "Component 3",
         "showlegend": false,
         "type": "scatter",
         "x": {
          "bdata": "AAABAAIAAwAEAAUABgAHAAgACQAKAAsADAANAA4ADwAQABEAEgATABQAFQAWABcAGAAZABoAGwAcAB0AHgAfACAAIQAiACMAJAAlACYAJwAoACkAKgArACwALQAuAC8AMAAxADIAMwA0ADUANgA3ADgAOQA6ADsAPAA9AD4APwBAAEEAQgBDAEQARQBGAEcASABJAEoASwBMAE0ATgBPAFAAUQBSAFMAVABVAFYAVwBYAFkAWgBbAFwAXQBeAF8AYABhAGIAYwBkAGUAZgBnAGgAaQBqAGsAbABtAG4AbwBwAHEAcgBzAHQAdQB2AHcAeAB5AHoAewB8AH0AfgB/AIAAgQCCAIMAhACFAIYAhwCIAIkAigCLAIwAjQCOAI8AkACRAJIAkwCUAJUAlgCXAJgAmQCaAJsAnACdAJ4AnwCgAKEAogCjAKQApQCmAKcAqACpAKoAqwCsAK0ArgCvALAAsQCyALMAtAC1ALYAtwC4ALkAugC7ALwAvQC+AL8AwADBAMIAwwDEAMUAxgDHAMgAyQDKAMsAzADNAM4AzwDQANEA0gDTANQA1QDWANcA2ADZANoA2wDcAN0A3gDfAOAA4QDiAOMA5ADlAOYA5wDoAOkA6gDrAOwA7QDuAO8A8ADxAPIA8wD0APUA9gD3APgA+QD6APsA/AD9AP4A/wAAAQEBAgEDAQQBBQEGAQcBCAEJAQoBCwEMAQ0BDgEPARABEQESARMBFAEVARYBFwEYARkBGgEbARwBHQEeAR8BIAEhASIBIwEkASUBJgEnASgBKQEqASsBLAEtAS4BLwEwATEBMgEzATQBNQE2ATcBOAE5AToBOwE8AT0BPgE/AUABQQFCAUMBRAFFAUYBRwFIAUkBSgFLAUwBTQFOAU8BUAFRAVIBUwFUAVUBVgFXAVgBWQFaAVsBXAFdAV4BXwFgAWEBYgFjAWQBZQFmAWcBaAFpAWoBawFsAW0BbgFvAXABcQFyAXMBdAF1AXYBdwF4AXkBegF7AXwBfQF+AX8BgAGBAYIBgwGEAYUBhgGHAYgBiQGKAYsBjAGNAY4BjwGQAZEBkgGTAZQBlQGWAZcBmAGZAZoBmwGcAZ0BngGfAaABoQGiAaMBpAGlAaYBpwGoAakBqgGrAawBrQGuAa8BsAGxAbIBswG0AbUBtgG3AbgBuQG6AbsBvAG9Ab4BvwHAAcEBwgHDAcQBxQHGAccByAHJAcoBywHMAc0BzgHPAdAB0QHSAdMB1AHVAdYB1wHYAdkB2gHbAdwB3QHeAd8B4AHhAeIB4wHkAeUB5gHnAegB6QHqAesB7AHtAe4B7wHwAfEB8gHzAQ==",
          "dtype": "i2"
         },
         "xaxis": "x3",
         "y": {
          "bdata": "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",
          "dtype": "f8"
         },
         "yaxis": "y3"
        }
       ],
       "layout": {
        "annotations": [
         {
          "font": {
           "size": 12
          },
          "showarrow": false,
          "text": "Component 1",
          "x": 0.01,
          "xanchor": "left",
          "xref": "paper",
          "y": 1,
          "yanchor": "bottom",
          "yref": "paper"
         },
         {
          "font": {
           "size": 12
          },
          "showarrow": false,
          "text": "Component 2",
          "x": 0.01,
          "xanchor": "left",
          "xref": "paper",
          "y": 0.6499999999999999,
          "yanchor": "bottom",
          "yref": "paper"
         },
         {
          "font": {
           "size": 12
          },
          "showarrow": false,
          "text": "Component 3",
          "x": 0.01,
          "xanchor": "left",
          "xref": "paper",
          "y": 0.3,
          "yanchor": "bottom",
          "yref": "paper"
         }
        ],
        "font": {
         "family": "Arial",
         "size": 12
        },
        "height": 600,
        "hovermode": "x unified",
        "margin": {
         "b": 50,
         "l": 50,
         "r": 50,
         "t": 50
        },
        "paper_bgcolor": "white",
        "plot_bgcolor": "rgb(240, 240, 240)",
        "template": {
         "data": {
          "bar": [
           {
            "error_x": {
             "color": "#2a3f5f"
            },
            "error_y": {
             "color": "#2a3f5f"
            },
            "marker": {
             "line": {
              "color": "#E5ECF6",
              "width": 0.5
             },
             "pattern": {
              "fillmode": "overlay",
              "size": 10,
              "solidity": 0.2
             }
            },
            "type": "bar"
           }
          ],
          "barpolar": [
           {
            "marker": {
             "line": {
              "color": "#E5ECF6",
              "width": 0.5
             },
             "pattern": {
              "fillmode": "overlay",
              "size": 10,
              "solidity": 0.2
             }
            },
            "type": "barpolar"
           }
          ],
          "carpet": [
           {
            "aaxis": {
             "endlinecolor": "#2a3f5f",
             "gridcolor": "white",
             "linecolor": "white",
             "minorgridcolor": "white",
             "startlinecolor": "#2a3f5f"
            },
            "baxis": {
             "endlinecolor": "#2a3f5f",
             "gridcolor": "white",
             "linecolor": "white",
             "minorgridcolor": "white",
             "startlinecolor": "#2a3f5f"
            },
            "type": "carpet"
           }
          ],
          "choropleth": [
           {
            "colorbar": {
             "outlinewidth": 0,
             "ticks": ""
            },
            "type": "choropleth"
           }
          ],
          "contour": [
           {
            "colorbar": {
             "outlinewidth": 0,
             "ticks": ""
            },
            "colorscale": [
             [
              0,
              "#0d0887"
             ],
             [
              0.1111111111111111,
              "#46039f"
             ],
             [
              0.2222222222222222,
              "#7201a8"
             ],
             [
              0.3333333333333333,
              "#9c179e"
             ],
             [
              0.4444444444444444,
              "#bd3786"
             ],
             [
              0.5555555555555556,
              "#d8576b"
             ],
             [
              0.6666666666666666,
              "#ed7953"
             ],
             [
              0.7777777777777778,
              "#fb9f3a"
             ],
             [
              0.8888888888888888,
              "#fdca26"
             ],
             [
              1,
              "#f0f921"
             ]
            ],
            "type": "contour"
           }
          ],
          "contourcarpet": [
           {
            "colorbar": {
             "outlinewidth": 0,
             "ticks": ""
            },
            "type": "contourcarpet"
           }
          ],
          "heatmap": [
           {
            "colorbar": {
             "outlinewidth": 0,
             "ticks": ""
            },
            "colorscale": [
             [
              0,
              "#0d0887"
             ],
             [
              0.1111111111111111,
              "#46039f"
             ],
             [
              0.2222222222222222,
              "#7201a8"
             ],
             [
              0.3333333333333333,
              "#9c179e"
             ],
             [
              0.4444444444444444,
              "#bd3786"
             ],
             [
              0.5555555555555556,
              "#d8576b"
             ],
             [
              0.6666666666666666,
              "#ed7953"
             ],
             [
              0.7777777777777778,
              "#fb9f3a"
             ],
             [
              0.8888888888888888,
              "#fdca26"
             ],
             [
              1,
              "#f0f921"
             ]
            ],
            "type": "heatmap"
           }
          ],
          "histogram": [
           {
            "marker": {
             "pattern": {
              "fillmode": "overlay",
              "size": 10,
              "solidity": 0.2
             }
            },
            "type": "histogram"
           }
          ],
          "histogram2d": [
           {
            "colorbar": {
             "outlinewidth": 0,
             "ticks": ""
            },
            "colorscale": [
             [
              0,
              "#0d0887"
             ],
             [
              0.1111111111111111,
              "#46039f"
             ],
             [
              0.2222222222222222,
              "#7201a8"
             ],
             [
              0.3333333333333333,
              "#9c179e"
             ],
             [
              0.4444444444444444,
              "#bd3786"
             ],
             [
              0.5555555555555556,
              "#d8576b"
             ],
             [
              0.6666666666666666,
              "#ed7953"
             ],
             [
              0.7777777777777778,
              "#fb9f3a"
             ],
             [
              0.8888888888888888,
              "#fdca26"
             ],
             [
              1,
              "#f0f921"
             ]
            ],
            "type": "histogram2d"
           }
          ],
          "histogram2dcontour": [
           {
            "colorbar": {
             "outlinewidth": 0,
             "ticks": ""
            },
            "colorscale": [
             [
              0,
              "#0d0887"
             ],
             [
              0.1111111111111111,
              "#46039f"
             ],
             [
              0.2222222222222222,
              "#7201a8"
             ],
             [
              0.3333333333333333,
              "#9c179e"
             ],
             [
              0.4444444444444444,
              "#bd3786"
             ],
             [
              0.5555555555555556,
              "#d8576b"
             ],
             [
              0.6666666666666666,
              "#ed7953"
             ],
             [
              0.7777777777777778,
              "#fb9f3a"
             ],
             [
              0.8888888888888888,
              "#fdca26"
             ],
             [
              1,
              "#f0f921"
             ]
            ],
            "type": "histogram2dcontour"
           }
          ],
          "mesh3d": [
           {
            "colorbar": {
             "outlinewidth": 0,
             "ticks": ""
            },
            "type": "mesh3d"
           }
          ],
          "parcoords": [
           {
            "line": {
             "colorbar": {
              "outlinewidth": 0,
              "ticks": ""
             }
            },
            "type": "parcoords"
           }
          ],
          "pie": [
           {
            "automargin": true,
            "type": "pie"
           }
          ],
          "scatter": [
           {
            "fillpattern": {
             "fillmode": "overlay",
             "size": 10,
             "solidity": 0.2
            },
            "type": "scatter"
           }
          ],
          "scatter3d": [
           {
            "line": {
             "colorbar": {
              "outlinewidth": 0,
              "ticks": ""
             }
            },
            "marker": {
             "colorbar": {
              "outlinewidth": 0,
              "ticks": ""
             }
            },
            "type": "scatter3d"
           }
          ],
          "scattercarpet": [
           {
            "marker": {
             "colorbar": {
              "outlinewidth": 0,
              "ticks": ""
             }
            },
            "type": "scattercarpet"
           }
          ],
          "scattergeo": [
           {
            "marker": {
             "colorbar": {
              "outlinewidth": 0,
              "ticks": ""
             }
            },
            "type": "scattergeo"
           }
          ],
          "scattergl": [
           {
            "marker": {
             "colorbar": {
              "outlinewidth": 0,
              "ticks": ""
             }
            },
            "type": "scattergl"
           }
          ],
          "scattermap": [
           {
            "marker": {
             "colorbar": {
              "outlinewidth": 0,
              "ticks": ""
             }
            },
            "type": "scattermap"
           }
          ],
          "scattermapbox": [
           {
            "marker": {
             "colorbar": {
              "outlinewidth": 0,
              "ticks": ""
             }
            },
            "type": "scattermapbox"
           }
          ],
          "scatterpolar": [
           {
            "marker": {
             "colorbar": {
              "outlinewidth": 0,
              "ticks": ""
             }
            },
            "type": "scatterpolar"
           }
          ],
          "scatterpolargl": [
           {
            "marker": {
             "colorbar": {
              "outlinewidth": 0,
              "ticks": ""
             }
            },
            "type": "scatterpolargl"
           }
          ],
          "scatterternary": [
           {
            "marker": {
             "colorbar": {
              "outlinewidth": 0,
              "ticks": ""
             }
            },
            "type": "scatterternary"
           }
          ],
          "surface": [
           {
            "colorbar": {
             "outlinewidth": 0,
             "ticks": ""
            },
            "colorscale": [
             [
              0,
              "#0d0887"
             ],
             [
              0.1111111111111111,
              "#46039f"
             ],
             [
              0.2222222222222222,
              "#7201a8"
             ],
             [
              0.3333333333333333,
              "#9c179e"
             ],
             [
              0.4444444444444444,
              "#bd3786"
             ],
             [
              0.5555555555555556,
              "#d8576b"
             ],
             [
              0.6666666666666666,
              "#ed7953"
             ],
             [
              0.7777777777777778,
              "#fb9f3a"
             ],
             [
              0.8888888888888888,
              "#fdca26"
             ],
             [
              1,
              "#f0f921"
             ]
            ],
            "type": "surface"
           }
          ],
          "table": [
           {
            "cells": {
             "fill": {
              "color": "#EBF0F8"
             },
             "line": {
              "color": "white"
             }
            },
            "header": {
             "fill": {
              "color": "#C8D4E3"
             },
             "line": {
              "color": "white"
             }
            },
            "type": "table"
           }
          ]
         },
         "layout": {
          "annotationdefaults": {
           "arrowcolor": "#2a3f5f",
           "arrowhead": 0,
           "arrowwidth": 1
          },
          "autotypenumbers": "strict",
          "coloraxis": {
           "colorbar": {
            "outlinewidth": 0,
            "ticks": ""
           }
          },
          "colorscale": {
           "diverging": [
            [
             0,
             "#8e0152"
            ],
            [
             0.1,
             "#c51b7d"
            ],
            [
             0.2,
             "#de77ae"
            ],
            [
             0.3,
             "#f1b6da"
            ],
            [
             0.4,
             "#fde0ef"
            ],
            [
             0.5,
             "#f7f7f7"
            ],
            [
             0.6,
             "#e6f5d0"
            ],
            [
             0.7,
             "#b8e186"
            ],
            [
             0.8,
             "#7fbc41"
            ],
            [
             0.9,
             "#4d9221"
            ],
            [
             1,
             "#276419"
            ]
           ],
           "sequential": [
            [
             0,
             "#0d0887"
            ],
            [
             0.1111111111111111,
             "#46039f"
            ],
            [
             0.2222222222222222,
             "#7201a8"
            ],
            [
             0.3333333333333333,
             "#9c179e"
            ],
            [
             0.4444444444444444,
             "#bd3786"
            ],
            [
             0.5555555555555556,
             "#d8576b"
            ],
            [
             0.6666666666666666,
             "#ed7953"
            ],
            [
             0.7777777777777778,
             "#fb9f3a"
            ],
            [
             0.8888888888888888,
             "#fdca26"
            ],
            [
             1,
             "#f0f921"
            ]
           ],
           "sequentialminus": [
            [
             0,
             "#0d0887"
            ],
            [
             0.1111111111111111,
             "#46039f"
            ],
            [
             0.2222222222222222,
             "#7201a8"
            ],
            [
             0.3333333333333333,
             "#9c179e"
            ],
            [
             0.4444444444444444,
             "#bd3786"
            ],
            [
             0.5555555555555556,
             "#d8576b"
            ],
            [
             0.6666666666666666,
             "#ed7953"
            ],
            [
             0.7777777777777778,
             "#fb9f3a"
            ],
            [
             0.8888888888888888,
             "#fdca26"
            ],
            [
             1,
             "#f0f921"
            ]
           ]
          },
          "colorway": [
           "#636efa",
           "#EF553B",
           "#00cc96",
           "#ab63fa",
           "#FFA15A",
           "#19d3f3",
           "#FF6692",
           "#B6E880",
           "#FF97FF",
           "#FECB52"
          ],
          "font": {
           "color": "#2a3f5f"
          },
          "geo": {
           "bgcolor": "white",
           "lakecolor": "white",
           "landcolor": "#E5ECF6",
           "showlakes": true,
           "showland": true,
           "subunitcolor": "white"
          },
          "hoverlabel": {
           "align": "left"
          },
          "hovermode": "closest",
          "mapbox": {
           "style": "light"
          },
          "paper_bgcolor": "white",
          "plot_bgcolor": "#E5ECF6",
          "polar": {
           "angularaxis": {
            "gridcolor": "white",
            "linecolor": "white",
            "ticks": ""
           },
           "bgcolor": "#E5ECF6",
           "radialaxis": {
            "gridcolor": "white",
            "linecolor": "white",
            "ticks": ""
           }
          },
          "scene": {
           "xaxis": {
            "backgroundcolor": "#E5ECF6",
            "gridcolor": "white",
            "gridwidth": 2,
            "linecolor": "white",
            "showbackground": true,
            "ticks": "",
            "zerolinecolor": "white"
           },
           "yaxis": {
            "backgroundcolor": "#E5ECF6",
            "gridcolor": "white",
            "gridwidth": 2,
            "linecolor": "white",
            "showbackground": true,
            "ticks": "",
            "zerolinecolor": "white"
           },
           "zaxis": {
            "backgroundcolor": "#E5ECF6",
            "gridcolor": "white",
            "gridwidth": 2,
            "linecolor": "white",
            "showbackground": true,
            "ticks": "",
            "zerolinecolor": "white"
           }
          },
          "shapedefaults": {
           "line": {
            "color": "#2a3f5f"
           }
          },
          "ternary": {
           "aaxis": {
            "gridcolor": "white",
            "linecolor": "white",
            "ticks": ""
           },
           "baxis": {
            "gridcolor": "white",
            "linecolor": "white",
            "ticks": ""
           },
           "bgcolor": "#E5ECF6",
           "caxis": {
            "gridcolor": "white",
            "linecolor": "white",
            "ticks": ""
           }
          },
          "title": {
           "x": 0.05
          },
          "xaxis": {
           "automargin": true,
           "gridcolor": "white",
           "linecolor": "white",
           "ticks": "",
           "title": {
            "standoff": 15
           },
           "zerolinecolor": "white",
           "zerolinewidth": 2
          },
          "yaxis": {
           "automargin": true,
           "gridcolor": "white",
           "linecolor": "white",
           "ticks": "",
           "title": {
            "standoff": 15
           },
           "zerolinecolor": "white",
           "zerolinewidth": 2
          }
         }
        },
        "title": {
         "font": {
          "family": "Arial",
          "size": 20
         },
         "text": "",
         "x": 0.5,
         "xanchor": "center",
         "y": 0.95,
         "yanchor": "top"
        },
        "width": 1080,
        "xaxis": {
         "anchor": "y",
         "domain": [
          0,
          1
         ],
         "gridcolor": "rgb(200, 200, 200)",
         "matches": "x3",
         "showgrid": true,
         "showticklabels": false
        },
        "xaxis2": {
         "anchor": "y2",
         "domain": [
          0,
          1
         ],
         "gridcolor": "rgb(200, 200, 200)",
         "matches": "x3",
         "showgrid": true,
         "showticklabels": false
        },
        "xaxis3": {
         "anchor": "y3",
         "domain": [
          0,
          1
         ],
         "gridcolor": "rgb(200, 200, 200)",
         "showgrid": true,
         "title": {
          "text": "Time"
         }
        },
        "yaxis": {
         "anchor": "x",
         "domain": [
          0.7,
          1
         ],
         "gridcolor": "rgb(200, 200, 200)",
         "showgrid": true,
         "title": {
          "text": "Component 1"
         }
        },
        "yaxis2": {
         "anchor": "x2",
         "domain": [
          0.35,
          0.6499999999999999
         ],
         "gridcolor": "rgb(200, 200, 200)",
         "showgrid": true,
         "title": {
          "text": "Component 2"
         }
        },
        "yaxis3": {
         "anchor": "x3",
         "domain": [
          0,
          0.3
         ],
         "gridcolor": "rgb(200, 200, 200)",
         "showgrid": true,
         "title": {
          "text": "Component 3"
         }
        }
       }
      }
     },
     "metadata": {},
     "output_type": "display_data"
    }
   ],
   "source": [
    "viz.plot_components(trajectory=data[select]['predictions'][:500], figsize=(1080,600), line_width=1.5)\n",
    "viz.plot_components(trajectory=data[select]['true_value'][:500], figsize=(1080,600), line_width=1.5)"
   ]
  }
 ],
 "metadata": {
  "kernelspec": {
   "display_name": "venv",
   "language": "python",
   "name": "python3"
  },
  "language_info": {
   "codemirror_mode": {
    "name": "ipython",
    "version": 3
   },
   "file_extension": ".py",
   "mimetype": "text/x-python",
   "name": "python",
   "nbconvert_exporter": "python",
   "pygments_lexer": "ipython3",
   "version": "3.12.6"
  }
 },
 "nbformat": 4,
 "nbformat_minor": 5
}
