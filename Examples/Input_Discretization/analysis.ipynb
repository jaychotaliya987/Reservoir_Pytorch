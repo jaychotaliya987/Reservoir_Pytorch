{
 "cells": [
  {
   "cell_type": "markdown",
   "id": "4482ce79",
   "metadata": {},
   "source": [
    "## Imports"
   ]
  },
  {
   "cell_type": "code",
   "execution_count": 1,
   "id": "8b92140d",
   "metadata": {},
   "outputs": [],
   "source": [
    "#------------------ General Purpose Imports ---------------------#\n",
    "import numpy as np\n",
    "import matplotlib.pyplot as plt\n",
    "import pandas as pd\n",
    "from timeit import default_timer as timer\n",
    "import pickle\n",
    "\n",
    "#------------------ Machine Learning Imports ---------------------#\n",
    "import torch\n",
    "import scipy\n",
    "import torch.utils.data\n",
    "from sklearn.model_selection import train_test_split\n",
    "\n",
    "#------------------ Dataset imports ---------------------#\n",
    "import dysts\n",
    "from dysts import flows\n"
   ]
  },
  {
   "cell_type": "code",
   "execution_count": 2,
   "id": "ebe7ec87",
   "metadata": {},
   "outputs": [],
   "source": [
    "#------------------ system imports ---------------------#\n",
    "import os\n",
    "import sys\n",
    "sys.path.append(os.path.abspath(os.path.join('../..')))\n",
    "\n",
    "#------------------ reservoirgrid imports ---------------------#\n",
    "from reservoirgrid.models import Reservoir\n",
    "from reservoirgrid.helpers import utils\n",
    "from reservoirgrid.helpers import viz\n",
    "from reservoirgrid.helpers import chaos_utils\n",
    "from reservoirgrid.helpers import reservoir_tests\n",
    "#--------------------------------------------------------------#"
   ]
  },
  {
   "cell_type": "markdown",
   "id": "e00f4161",
   "metadata": {},
   "source": [
    "## Loading System"
   ]
  },
  {
   "cell_type": "code",
   "execution_count": 3,
   "id": "30641749",
   "metadata": {},
   "outputs": [],
   "source": [
    "result_path = \"results/Chaotic/Lorenz/10.0.pkl\"\n",
    "with open(result_path , 'rb') as f:\n",
    "    data = pickle.load(f)"
   ]
  },
  {
   "cell_type": "markdown",
   "id": "aa07d8db",
   "metadata": {},
   "source": [
    "## Best RMSE"
   ]
  },
  {
   "cell_type": "code",
   "execution_count": 4,
   "id": "8227ed6e",
   "metadata": {},
   "outputs": [
    {
     "name": "stdout",
     "output_type": "stream",
     "text": [
      "Parameters 190 {'SpectralRadius': 1.1, 'LeakyRate': 0.7, 'InputScaling': 0.2}, RMSE = 0.2383746287312738\n"
     ]
    },
    {
     "data": {
      "application/vnd.plotly.v1+json": {
       "config": {
        "plotlyServerURL": "https://plot.ly"
       },
       "data": [
        {
         "hoverinfo": "x+y+z",
         "line": {
          "color": {
           "bdata": "RJmeVgZB0z8IXDr2E6TOP+TPXxVEtuI/HHaP9dtE5T9IzI6toNzYP1BdFa0fzso/AOTir2SPzz/sWCDDLIbnP75JIza5t+I/SLqK7yPV0z/YOACSYrHBPyAkcSKjWcI/XClcJvSR5z90/nQq8lHkP+jPGvmX8dQ/yMdNZ8dPwT/gFykQuxeiPzDTEWILmtI/CKvF41Hg6z/ojGWSBJrePzAzlQB7Z88/2CoLZn/VxT+4Tg0GN6vhPzyQY7hax+Y/zFmkc6tJ2T8QLsBzAFvHP/AbuMIB8rA//AeM59cf0T/o7YS856LrP2h8yQtbzt8/WP47x7u+zz/wTK5cfzm/P9RsXaQIbNU/yJvyKiwl6j94fayzD8/eP3AyenzNzc0/cER8fV/YsT/AedZmK1Sfv4BkMKKRfKc/iAantIHc7D/cRZKRbSTjP/j+DTpFS9U/4EPqCR110T8IWN9geZLiP5gtjm3yv+Q/XD0b5z9P2T8wtmXHSIXOP/jmlwj4AtY/MPmN/hl55z+sgsOHoNHgPwwXc1PLbdI/+CuR/rA0xz98LJ2hQVLdPxix8+Mg4Oc/QIk2maUW3D+o/AjpD5DLP7DrTxkhEro/PPBfKmCU1j9AxZ4USEjqPzSFjrTx4d0/aOZaVt2xzD8wFbrxdIOyP2Ao/9JXNbA/wkUE0WDK5j9+ZvrAQqjlP5hso+FLfNY/sGajnquCxz8AUtoc00vRP0Lc8RS/0+g/3M9NBCuL4T9sFSlNNQnSP1CTlWxL/rw/oBMMgmFGtz+2TXjuKrTlP9wEBwKV2+U/CG9hYc+l1j9wtZwd1fzEP0B17f0lUsE/gM96K9FK5T9wxtqlbojlP0SfPNQuh9Y/qAMQMysYwz8AZ9z0+/GVP8Bn4f+V36Q/zkZJe/gv6T+Mj1kbBtXkP0zpGfV9DNY/qPNcbq77yz8gRCWgPwPcPzprQ/9weec/xHiKutht3T8YcWRq9ArPP7gyO7XU7sU/dHN96DrP4T96h9ZSt7LmP7Tjau4QLdk/OBv06pA8xz/wnYpW+DKxP2T9TDbX+tE/GAQE7oSD6z9w1yi2nmffPxh2ncy8Os8/cAuJPlpovj+E1LA32lDVP9K0bjjLNuo/eBeVNLfL3j/IwSQEiMjNP0B2jiQsAbI/4CY+7ww1lr9IN4cYNcHEPxqH2lPi1u0/dG040sK44D/o5GQ/LrHSP/R40Lk7OdE/VAAWSOh/5D+86/xbD+jjPwTycsJzF9c/MISpdwu2yj8Mh/xcenHVP85uHW39Rug/gunuCBeJ4D+QOqx2cVnRPwjHLXuj4sE/IEeNVUE41T8m9v2pBNfpP6DCls19UN8/sH1Yd+ySzj/AJj+DBeayP6CSZUB2J52/YFXFdy+8oj9yxbGo9lzsPwAWFrd1feM/+E5O9/uT1T+Ek4JKWEbRP1b4csvbMuI/gmGDsm335D+glVKZSbTZPwBj0IKbwM4/9B59/R1P1T/G3TTkIGXnP2iPIqhFGeE/vFoAM+TF0j+QX15CWxfHPzAep+0wDNw/UESr9lsf6D9wJ/dU06/cP5Cp58OBScw/0MYXvh/0uT/0JmlMk63UP5DHmBdhluo/bOfHxHbD3j/IOy1QR9HNP4B7PSdCFrQ/wJbMhA1usT9giHkWX7DmP8hW8dIYp+U/8Fl4SrN01j/giWzrZfzGP1AiEfVy588/zq0Pie3A6D9OAuVZhPzhP9D0ep/rgNI/4AJLuV0TvT8gV7YLpBmqP1BKKJd2b+A/2q80QmGo6D+kj2yJiNPZP4Bj8dPOp8k/8P1SMa3QxT/8LWhCJxnlPxgNkOnVKuU/eMq/+4+D1j+QhJQLBjnDP4AdjAEbc5o/INc8TgbvtT8WiMSehm7rP3CY2GpgPeM/YNSstWlQ1D+Q+EOHcePJPwhJKuThN90/dKHcbbeQ5z8Mby32HHzcPwhcN7mUAc0/CLH90TIKwj8+NCb2RBPgP4riITMa3uc/HL4la7db2j+YNgiUCifIPyAEWRxff6U/QK42Dsb8mr/Apis0eUPVP3p0TTsU6es/BHruFzc43T+AG1na//zQP6g7LD24YNQ/DI4NTiCV5j8GprSWFd/hP/ydnDLTOdQ/UNfcwc3UyT+gYTrUmIXcP+4Xpwv0rOc/rGMcZJ/X3D/QnJUPlXfNP6gJXT5WD8I/dJLnLiFt3z+wQUOltgXoPxjd7v+epto/6Jf9UviLyD+A1yE0pa+mP6BlFjnGgJa/PO9IcnD71j/gamFXa3vrP+Az+BVCudw/aAI21eSi0D9omDGkdEjUP9zw7YSjwOY/CKUSwpfO4T98qgj8TP/TPxh6nF+dAMk/eJEILfDF2z+ugRIiKernPxhnjmz8Gd0/CM/D8ch0zT/IjRNhp13AP/h7yiZ7vds/rJd91x/26D8InRbA1wXcP1COZRNePMo/ALNMkY66qT/g3z51XFerv/Dt9nucY7+/UM2aMBzoxL8guUZkq3iqvwAAAAAAAPA/xLm/deg54z+QnUNgamzZP1y6vDXh4No/Bl0/FDkQ4z9A8mpJJlDhPzA1+G+gZNk/EAIhdP2h2D/koNQL9VviP1pw0KdyZ+I/OIkabDmT2j987EonNujWP6ACYdCDAOE/GnFdI6KD4z98x0wdsWXcP+wKGuoQ4dU/+H9tNvwP3j8=",
           "dtype": "f8"
          },
          "colorscale": [
           [
            0,
            "#440154"
           ],
           [
            0.1111111111111111,
            "#482878"
           ],
           [
            0.2222222222222222,
            "#3e4989"
           ],
           [
            0.3333333333333333,
            "#31688e"
           ],
           [
            0.4444444444444444,
            "#26828e"
           ],
           [
            0.5555555555555556,
            "#1f9e89"
           ],
           [
            0.6666666666666666,
            "#35b779"
           ],
           [
            0.7777777777777778,
            "#6ece58"
           ],
           [
            0.8888888888888888,
            "#b5de2b"
           ],
           [
            1,
            "#fde725"
           ]
          ],
          "width": 3
         },
         "mode": "lines",
         "name": "Dataset 1",
         "scene": "scene",
         "type": "scatter3d",
         "x": {
          "bdata": "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",
          "dtype": "f8"
         },
         "y": {
          "bdata": "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",
          "dtype": "f8"
         },
         "z": {
          "bdata": "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",
          "dtype": "f8"
         }
        },
        {
         "hoverinfo": "none",
         "marker": {
          "color": "limegreen",
          "size": 2
         },
         "mode": "markers",
         "name": "Start",
         "scene": "scene",
         "showlegend": false,
         "type": "scatter3d",
         "x": [
          -0.34540540906266815
         ],
         "y": [
          -0.39756905722639746
         ],
         "z": [
          0.3008437963384447
         ]
        },
        {
         "hoverinfo": "none",
         "marker": {
          "color": "crimson",
          "size": 2
         },
         "mode": "markers",
         "name": "End",
         "scene": "scene",
         "showlegend": false,
         "type": "scatter3d",
         "x": [
          0.025110057547239162
         ],
         "y": [
          0.09246274402186128
         ],
         "z": [
          0.46972565951546086
         ]
        },
        {
         "hoverinfo": "x+y+z",
         "line": {
          "color": {
           "bdata": "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",
           "dtype": "f8"
          },
          "colorscale": [
           [
            0,
            "#440154"
           ],
           [
            0.1111111111111111,
            "#482878"
           ],
           [
            0.2222222222222222,
            "#3e4989"
           ],
           [
            0.3333333333333333,
            "#31688e"
           ],
           [
            0.4444444444444444,
            "#26828e"
           ],
           [
            0.5555555555555556,
            "#1f9e89"
           ],
           [
            0.6666666666666666,
            "#35b779"
           ],
           [
            0.7777777777777778,
            "#6ece58"
           ],
           [
            0.8888888888888888,
            "#b5de2b"
           ],
           [
            1,
            "#fde725"
           ]
          ],
          "width": 3
         },
         "mode": "lines",
         "name": "Dataset 2",
         "scene": "scene2",
         "type": "scatter3d",
         "x": {
          "bdata": "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",
          "dtype": "f8"
         },
         "y": {
          "bdata": "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",
          "dtype": "f8"
         },
         "z": {
          "bdata": "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",
          "dtype": "f8"
         }
        },
        {
         "hoverinfo": "none",
         "marker": {
          "color": "limegreen",
          "size": 2
         },
         "mode": "markers",
         "name": "Start",
         "scene": "scene2",
         "showlegend": false,
         "type": "scatter3d",
         "x": [
          -0.439910059719519
         ],
         "y": [
          -0.3822037281965427
         ],
         "z": [
          0.13762222831539506
         ]
        },
        {
         "hoverinfo": "none",
         "marker": {
          "color": "crimson",
          "size": 2
         },
         "mode": "markers",
         "name": "End",
         "scene": "scene2",
         "showlegend": false,
         "type": "scatter3d",
         "x": [
          -0.2399180810669836
         ],
         "y": [
          -0.23545028294544146
         ],
         "z": [
          0.3665991744909941
         ]
        }
       ],
       "layout": {
        "annotations": [
         {
          "font": {
           "size": 16
          },
          "showarrow": false,
          "text": "true",
          "x": 0.225,
          "xanchor": "center",
          "xref": "paper",
          "y": 1,
          "yanchor": "bottom",
          "yref": "paper"
         },
         {
          "font": {
           "size": 16
          },
          "showarrow": false,
          "text": "preds",
          "x": 0.775,
          "xanchor": "center",
          "xref": "paper",
          "y": 1,
          "yanchor": "bottom",
          "yref": "paper"
         }
        ],
        "font": {
         "family": "Arial",
         "size": 12
        },
        "height": 600,
        "margin": {
         "b": 50,
         "l": 50,
         "r": 50,
         "t": 80
        },
        "paper_bgcolor": "white",
        "plot_bgcolor": "rgb(240, 240, 240)",
        "scene": {
         "aspectmode": "data",
         "bgcolor": "rgb(240, 240, 240)",
         "domain": {
          "x": [
           0,
           0.45
          ],
          "y": [
           0,
           1
          ]
         },
         "xaxis": {
          "gridcolor": "rgb(200, 200, 200)",
          "showbackground": true
         },
         "yaxis": {
          "gridcolor": "rgb(200, 200, 200)",
          "showbackground": true
         },
         "zaxis": {
          "gridcolor": "rgb(200, 200, 200)",
          "showbackground": true
         }
        },
        "scene2": {
         "aspectmode": "data",
         "bgcolor": "rgb(240, 240, 240)",
         "domain": {
          "x": [
           0.55,
           1
          ],
          "y": [
           0,
           1
          ]
         },
         "xaxis": {
          "gridcolor": "rgb(200, 200, 200)",
          "showbackground": true
         },
         "yaxis": {
          "gridcolor": "rgb(200, 200, 200)",
          "showbackground": true
         },
         "zaxis": {
          "gridcolor": "rgb(200, 200, 200)",
          "showbackground": true
         }
        },
        "showlegend": false,
        "template": {
         "data": {
          "bar": [
           {
            "error_x": {
             "color": "#2a3f5f"
            },
            "error_y": {
             "color": "#2a3f5f"
            },
            "marker": {
             "line": {
              "color": "#E5ECF6",
              "width": 0.5
             },
             "pattern": {
              "fillmode": "overlay",
              "size": 10,
              "solidity": 0.2
             }
            },
            "type": "bar"
           }
          ],
          "barpolar": [
           {
            "marker": {
             "line": {
              "color": "#E5ECF6",
              "width": 0.5
             },
             "pattern": {
              "fillmode": "overlay",
              "size": 10,
              "solidity": 0.2
             }
            },
            "type": "barpolar"
           }
          ],
          "carpet": [
           {
            "aaxis": {
             "endlinecolor": "#2a3f5f",
             "gridcolor": "white",
             "linecolor": "white",
             "minorgridcolor": "white",
             "startlinecolor": "#2a3f5f"
            },
            "baxis": {
             "endlinecolor": "#2a3f5f",
             "gridcolor": "white",
             "linecolor": "white",
             "minorgridcolor": "white",
             "startlinecolor": "#2a3f5f"
            },
            "type": "carpet"
           }
          ],
          "choropleth": [
           {
            "colorbar": {
             "outlinewidth": 0,
             "ticks": ""
            },
            "type": "choropleth"
           }
          ],
          "contour": [
           {
            "colorbar": {
             "outlinewidth": 0,
             "ticks": ""
            },
            "colorscale": [
             [
              0,
              "#0d0887"
             ],
             [
              0.1111111111111111,
              "#46039f"
             ],
             [
              0.2222222222222222,
              "#7201a8"
             ],
             [
              0.3333333333333333,
              "#9c179e"
             ],
             [
              0.4444444444444444,
              "#bd3786"
             ],
             [
              0.5555555555555556,
              "#d8576b"
             ],
             [
              0.6666666666666666,
              "#ed7953"
             ],
             [
              0.7777777777777778,
              "#fb9f3a"
             ],
             [
              0.8888888888888888,
              "#fdca26"
             ],
             [
              1,
              "#f0f921"
             ]
            ],
            "type": "contour"
           }
          ],
          "contourcarpet": [
           {
            "colorbar": {
             "outlinewidth": 0,
             "ticks": ""
            },
            "type": "contourcarpet"
           }
          ],
          "heatmap": [
           {
            "colorbar": {
             "outlinewidth": 0,
             "ticks": ""
            },
            "colorscale": [
             [
              0,
              "#0d0887"
             ],
             [
              0.1111111111111111,
              "#46039f"
             ],
             [
              0.2222222222222222,
              "#7201a8"
             ],
             [
              0.3333333333333333,
              "#9c179e"
             ],
             [
              0.4444444444444444,
              "#bd3786"
             ],
             [
              0.5555555555555556,
              "#d8576b"
             ],
             [
              0.6666666666666666,
              "#ed7953"
             ],
             [
              0.7777777777777778,
              "#fb9f3a"
             ],
             [
              0.8888888888888888,
              "#fdca26"
             ],
             [
              1,
              "#f0f921"
             ]
            ],
            "type": "heatmap"
           }
          ],
          "histogram": [
           {
            "marker": {
             "pattern": {
              "fillmode": "overlay",
              "size": 10,
              "solidity": 0.2
             }
            },
            "type": "histogram"
           }
          ],
          "histogram2d": [
           {
            "colorbar": {
             "outlinewidth": 0,
             "ticks": ""
            },
            "colorscale": [
             [
              0,
              "#0d0887"
             ],
             [
              0.1111111111111111,
              "#46039f"
             ],
             [
              0.2222222222222222,
              "#7201a8"
             ],
             [
              0.3333333333333333,
              "#9c179e"
             ],
             [
              0.4444444444444444,
              "#bd3786"
             ],
             [
              0.5555555555555556,
              "#d8576b"
             ],
             [
              0.6666666666666666,
              "#ed7953"
             ],
             [
              0.7777777777777778,
              "#fb9f3a"
             ],
             [
              0.8888888888888888,
              "#fdca26"
             ],
             [
              1,
              "#f0f921"
             ]
            ],
            "type": "histogram2d"
           }
          ],
          "histogram2dcontour": [
           {
            "colorbar": {
             "outlinewidth": 0,
             "ticks": ""
            },
            "colorscale": [
             [
              0,
              "#0d0887"
             ],
             [
              0.1111111111111111,
              "#46039f"
             ],
             [
              0.2222222222222222,
              "#7201a8"
             ],
             [
              0.3333333333333333,
              "#9c179e"
             ],
             [
              0.4444444444444444,
              "#bd3786"
             ],
             [
              0.5555555555555556,
              "#d8576b"
             ],
             [
              0.6666666666666666,
              "#ed7953"
             ],
             [
              0.7777777777777778,
              "#fb9f3a"
             ],
             [
              0.8888888888888888,
              "#fdca26"
             ],
             [
              1,
              "#f0f921"
             ]
            ],
            "type": "histogram2dcontour"
           }
          ],
          "mesh3d": [
           {
            "colorbar": {
             "outlinewidth": 0,
             "ticks": ""
            },
            "type": "mesh3d"
           }
          ],
          "parcoords": [
           {
            "line": {
             "colorbar": {
              "outlinewidth": 0,
              "ticks": ""
             }
            },
            "type": "parcoords"
           }
          ],
          "pie": [
           {
            "automargin": true,
            "type": "pie"
           }
          ],
          "scatter": [
           {
            "fillpattern": {
             "fillmode": "overlay",
             "size": 10,
             "solidity": 0.2
            },
            "type": "scatter"
           }
          ],
          "scatter3d": [
           {
            "line": {
             "colorbar": {
              "outlinewidth": 0,
              "ticks": ""
             }
            },
            "marker": {
             "colorbar": {
              "outlinewidth": 0,
              "ticks": ""
             }
            },
            "type": "scatter3d"
           }
          ],
          "scattercarpet": [
           {
            "marker": {
             "colorbar": {
              "outlinewidth": 0,
              "ticks": ""
             }
            },
            "type": "scattercarpet"
           }
          ],
          "scattergeo": [
           {
            "marker": {
             "colorbar": {
              "outlinewidth": 0,
              "ticks": ""
             }
            },
            "type": "scattergeo"
           }
          ],
          "scattergl": [
           {
            "marker": {
             "colorbar": {
              "outlinewidth": 0,
              "ticks": ""
             }
            },
            "type": "scattergl"
           }
          ],
          "scattermap": [
           {
            "marker": {
             "colorbar": {
              "outlinewidth": 0,
              "ticks": ""
             }
            },
            "type": "scattermap"
           }
          ],
          "scattermapbox": [
           {
            "marker": {
             "colorbar": {
              "outlinewidth": 0,
              "ticks": ""
             }
            },
            "type": "scattermapbox"
           }
          ],
          "scatterpolar": [
           {
            "marker": {
             "colorbar": {
              "outlinewidth": 0,
              "ticks": ""
             }
            },
            "type": "scatterpolar"
           }
          ],
          "scatterpolargl": [
           {
            "marker": {
             "colorbar": {
              "outlinewidth": 0,
              "ticks": ""
             }
            },
            "type": "scatterpolargl"
           }
          ],
          "scatterternary": [
           {
            "marker": {
             "colorbar": {
              "outlinewidth": 0,
              "ticks": ""
             }
            },
            "type": "scatterternary"
           }
          ],
          "surface": [
           {
            "colorbar": {
             "outlinewidth": 0,
             "ticks": ""
            },
            "colorscale": [
             [
              0,
              "#0d0887"
             ],
             [
              0.1111111111111111,
              "#46039f"
             ],
             [
              0.2222222222222222,
              "#7201a8"
             ],
             [
              0.3333333333333333,
              "#9c179e"
             ],
             [
              0.4444444444444444,
              "#bd3786"
             ],
             [
              0.5555555555555556,
              "#d8576b"
             ],
             [
              0.6666666666666666,
              "#ed7953"
             ],
             [
              0.7777777777777778,
              "#fb9f3a"
             ],
             [
              0.8888888888888888,
              "#fdca26"
             ],
             [
              1,
              "#f0f921"
             ]
            ],
            "type": "surface"
           }
          ],
          "table": [
           {
            "cells": {
             "fill": {
              "color": "#EBF0F8"
             },
             "line": {
              "color": "white"
             }
            },
            "header": {
             "fill": {
              "color": "#C8D4E3"
             },
             "line": {
              "color": "white"
             }
            },
            "type": "table"
           }
          ]
         },
         "layout": {
          "annotationdefaults": {
           "arrowcolor": "#2a3f5f",
           "arrowhead": 0,
           "arrowwidth": 1
          },
          "autotypenumbers": "strict",
          "coloraxis": {
           "colorbar": {
            "outlinewidth": 0,
            "ticks": ""
           }
          },
          "colorscale": {
           "diverging": [
            [
             0,
             "#8e0152"
            ],
            [
             0.1,
             "#c51b7d"
            ],
            [
             0.2,
             "#de77ae"
            ],
            [
             0.3,
             "#f1b6da"
            ],
            [
             0.4,
             "#fde0ef"
            ],
            [
             0.5,
             "#f7f7f7"
            ],
            [
             0.6,
             "#e6f5d0"
            ],
            [
             0.7,
             "#b8e186"
            ],
            [
             0.8,
             "#7fbc41"
            ],
            [
             0.9,
             "#4d9221"
            ],
            [
             1,
             "#276419"
            ]
           ],
           "sequential": [
            [
             0,
             "#0d0887"
            ],
            [
             0.1111111111111111,
             "#46039f"
            ],
            [
             0.2222222222222222,
             "#7201a8"
            ],
            [
             0.3333333333333333,
             "#9c179e"
            ],
            [
             0.4444444444444444,
             "#bd3786"
            ],
            [
             0.5555555555555556,
             "#d8576b"
            ],
            [
             0.6666666666666666,
             "#ed7953"
            ],
            [
             0.7777777777777778,
             "#fb9f3a"
            ],
            [
             0.8888888888888888,
             "#fdca26"
            ],
            [
             1,
             "#f0f921"
            ]
           ],
           "sequentialminus": [
            [
             0,
             "#0d0887"
            ],
            [
             0.1111111111111111,
             "#46039f"
            ],
            [
             0.2222222222222222,
             "#7201a8"
            ],
            [
             0.3333333333333333,
             "#9c179e"
            ],
            [
             0.4444444444444444,
             "#bd3786"
            ],
            [
             0.5555555555555556,
             "#d8576b"
            ],
            [
             0.6666666666666666,
             "#ed7953"
            ],
            [
             0.7777777777777778,
             "#fb9f3a"
            ],
            [
             0.8888888888888888,
             "#fdca26"
            ],
            [
             1,
             "#f0f921"
            ]
           ]
          },
          "colorway": [
           "#636efa",
           "#EF553B",
           "#00cc96",
           "#ab63fa",
           "#FFA15A",
           "#19d3f3",
           "#FF6692",
           "#B6E880",
           "#FF97FF",
           "#FECB52"
          ],
          "font": {
           "color": "#2a3f5f"
          },
          "geo": {
           "bgcolor": "white",
           "lakecolor": "white",
           "landcolor": "#E5ECF6",
           "showlakes": true,
           "showland": true,
           "subunitcolor": "white"
          },
          "hoverlabel": {
           "align": "left"
          },
          "hovermode": "closest",
          "mapbox": {
           "style": "light"
          },
          "paper_bgcolor": "white",
          "plot_bgcolor": "#E5ECF6",
          "polar": {
           "angularaxis": {
            "gridcolor": "white",
            "linecolor": "white",
            "ticks": ""
           },
           "bgcolor": "#E5ECF6",
           "radialaxis": {
            "gridcolor": "white",
            "linecolor": "white",
            "ticks": ""
           }
          },
          "scene": {
           "xaxis": {
            "backgroundcolor": "#E5ECF6",
            "gridcolor": "white",
            "gridwidth": 2,
            "linecolor": "white",
            "showbackground": true,
            "ticks": "",
            "zerolinecolor": "white"
           },
           "yaxis": {
            "backgroundcolor": "#E5ECF6",
            "gridcolor": "white",
            "gridwidth": 2,
            "linecolor": "white",
            "showbackground": true,
            "ticks": "",
            "zerolinecolor": "white"
           },
           "zaxis": {
            "backgroundcolor": "#E5ECF6",
            "gridcolor": "white",
            "gridwidth": 2,
            "linecolor": "white",
            "showbackground": true,
            "ticks": "",
            "zerolinecolor": "white"
           }
          },
          "shapedefaults": {
           "line": {
            "color": "#2a3f5f"
           }
          },
          "ternary": {
           "aaxis": {
            "gridcolor": "white",
            "linecolor": "white",
            "ticks": ""
           },
           "baxis": {
            "gridcolor": "white",
            "linecolor": "white",
            "ticks": ""
           },
           "bgcolor": "#E5ECF6",
           "caxis": {
            "gridcolor": "white",
            "linecolor": "white",
            "ticks": ""
           }
          },
          "title": {
           "x": 0.05
          },
          "xaxis": {
           "automargin": true,
           "gridcolor": "white",
           "linecolor": "white",
           "ticks": "",
           "title": {
            "standoff": 15
           },
           "zerolinecolor": "white",
           "zerolinewidth": 2
          },
          "yaxis": {
           "automargin": true,
           "gridcolor": "white",
           "linecolor": "white",
           "ticks": "",
           "title": {
            "standoff": 15
           },
           "zerolinecolor": "white",
           "zerolinewidth": 2
          }
         }
        },
        "width": 1080
       }
      }
     },
     "metadata": {},
     "output_type": "display_data"
    }
   ],
   "source": [
    "Best_param_num = np.argmin([data[i]['metrics'] ['RMSE'] for i in range(len(data))]).item()\n",
    "print(f\"Parameters {Best_param_num} {data[Best_param_num]['parameters']}, RMSE = {data[Best_param_num]['metrics']['RMSE']}\")\n",
    "viz.compare_plot(datasets=[data[Best_param_num]['true_value'], data[Best_param_num]['predictions']], titles=[\"true\",\"preds\"], figsize=(1080,600))"
   ]
  },
  {
   "cell_type": "markdown",
   "id": "75453049",
   "metadata": {},
   "source": [
    "## Lyapunov of best RMSE"
   ]
  },
  {
   "cell_type": "code",
   "execution_count": 5,
   "id": "99d1a627",
   "metadata": {},
   "outputs": [
    {
     "name": "stdout",
     "output_type": "stream",
     "text": [
      "Lyapunov of prediction 1\n",
      "Error grows to 0.1 from the truth after 0 time steps\n"
     ]
    }
   ],
   "source": [
    "predictions  = data[Best_param_num]['predictions']\n",
    "truth = data[Best_param_num]['true_value']\n",
    "threshold = 0.1\n",
    "\n",
    "print(f\"Lyapunov of prediction {chaos_utils.lyapunov_time(predictions,threshold=0.1)}\")\n",
    "print(f\"Error grows to {threshold} from the truth after {chaos_utils.comparative_lyapunov_time(truth, predictions, threshold=0.1)} time steps\")"
   ]
  },
  {
   "cell_type": "markdown",
   "id": "5ffb76ee",
   "metadata": {},
   "source": [
    "## Other Parameters"
   ]
  },
  {
   "cell_type": "code",
   "execution_count": 7,
   "id": "e13d6bac",
   "metadata": {},
   "outputs": [
    {
     "name": "stdout",
     "output_type": "stream",
     "text": [
      "Parameters 104 {'SpectralRadius': 0.9, 'LeakyRate': 0.5, 'InputScaling': 1.0}, RMSE = 2.6961595124299853\n"
     ]
    },
    {
     "data": {
      "application/vnd.plotly.v1+json": {
       "config": {
        "plotlyServerURL": "https://plot.ly"
       },
       "data": [
        {
         "hoverinfo": "x+y+z",
         "line": {
          "color": {
           "bdata": "RJmeVgZB0z8IXDr2E6TOP+TPXxVEtuI/HHaP9dtE5T9IzI6toNzYP1BdFa0fzso/AOTir2SPzz/sWCDDLIbnP75JIza5t+I/SLqK7yPV0z/YOACSYrHBPyAkcSKjWcI/XClcJvSR5z90/nQq8lHkP+jPGvmX8dQ/yMdNZ8dPwT/gFykQuxeiPzDTEWILmtI/CKvF41Hg6z/ojGWSBJrePzAzlQB7Z88/2CoLZn/VxT+4Tg0GN6vhPzyQY7hax+Y/zFmkc6tJ2T8QLsBzAFvHP/AbuMIB8rA//AeM59cf0T/o7YS856LrP2h8yQtbzt8/WP47x7u+zz/wTK5cfzm/P9RsXaQIbNU/yJvyKiwl6j94fayzD8/eP3AyenzNzc0/cER8fV/YsT/AedZmK1Sfv4BkMKKRfKc/iAantIHc7D/cRZKRbSTjP/j+DTpFS9U/4EPqCR110T8IWN9geZLiP5gtjm3yv+Q/XD0b5z9P2T8wtmXHSIXOP/jmlwj4AtY/MPmN/hl55z+sgsOHoNHgPwwXc1PLbdI/+CuR/rA0xz98LJ2hQVLdPxix8+Mg4Oc/QIk2maUW3D+o/AjpD5DLP7DrTxkhEro/PPBfKmCU1j9AxZ4USEjqPzSFjrTx4d0/aOZaVt2xzD8wFbrxdIOyP2Ao/9JXNbA/wkUE0WDK5j9+ZvrAQqjlP5hso+FLfNY/sGajnquCxz8AUtoc00vRP0Lc8RS/0+g/3M9NBCuL4T9sFSlNNQnSP1CTlWxL/rw/oBMMgmFGtz+2TXjuKrTlP9wEBwKV2+U/CG9hYc+l1j9wtZwd1fzEP0B17f0lUsE/gM96K9FK5T9wxtqlbojlP0SfPNQuh9Y/qAMQMysYwz8AZ9z0+/GVP8Bn4f+V36Q/zkZJe/gv6T+Mj1kbBtXkP0zpGfV9DNY/qPNcbq77yz8gRCWgPwPcPzprQ/9weec/xHiKutht3T8YcWRq9ArPP7gyO7XU7sU/dHN96DrP4T96h9ZSt7LmP7Tjau4QLdk/OBv06pA8xz/wnYpW+DKxP2T9TDbX+tE/GAQE7oSD6z9w1yi2nmffPxh2ncy8Os8/cAuJPlpovj+E1LA32lDVP9K0bjjLNuo/eBeVNLfL3j/IwSQEiMjNP0B2jiQsAbI/4CY+7ww1lr9IN4cYNcHEPxqH2lPi1u0/dG040sK44D/o5GQ/LrHSP/R40Lk7OdE/VAAWSOh/5D+86/xbD+jjPwTycsJzF9c/MISpdwu2yj8Mh/xcenHVP85uHW39Rug/gunuCBeJ4D+QOqx2cVnRPwjHLXuj4sE/IEeNVUE41T8m9v2pBNfpP6DCls19UN8/sH1Yd+ySzj/AJj+DBeayP6CSZUB2J52/YFXFdy+8oj9yxbGo9lzsPwAWFrd1feM/+E5O9/uT1T+Ek4JKWEbRP1b4csvbMuI/gmGDsm335D+glVKZSbTZPwBj0IKbwM4/9B59/R1P1T/G3TTkIGXnP2iPIqhFGeE/vFoAM+TF0j+QX15CWxfHPzAep+0wDNw/UESr9lsf6D9wJ/dU06/cP5Cp58OBScw/0MYXvh/0uT/0JmlMk63UP5DHmBdhluo/bOfHxHbD3j/IOy1QR9HNP4B7PSdCFrQ/wJbMhA1usT9giHkWX7DmP8hW8dIYp+U/8Fl4SrN01j/giWzrZfzGP1AiEfVy588/zq0Pie3A6D9OAuVZhPzhP9D0ep/rgNI/4AJLuV0TvT8gV7YLpBmqP1BKKJd2b+A/2q80QmGo6D+kj2yJiNPZP4Bj8dPOp8k/8P1SMa3QxT/8LWhCJxnlPxgNkOnVKuU/eMq/+4+D1j+QhJQLBjnDP4AdjAEbc5o/INc8TgbvtT8WiMSehm7rP3CY2GpgPeM/YNSstWlQ1D+Q+EOHcePJPwhJKuThN90/dKHcbbeQ5z8Mby32HHzcPwhcN7mUAc0/CLH90TIKwj8+NCb2RBPgP4riITMa3uc/HL4la7db2j+YNgiUCifIPyAEWRxff6U/QK42Dsb8mr/Apis0eUPVP3p0TTsU6es/BHruFzc43T+AG1na//zQP6g7LD24YNQ/DI4NTiCV5j8GprSWFd/hP/ydnDLTOdQ/UNfcwc3UyT+gYTrUmIXcP+4Xpwv0rOc/rGMcZJ/X3D/QnJUPlXfNP6gJXT5WD8I/dJLnLiFt3z+wQUOltgXoPxjd7v+epto/6Jf9UviLyD+A1yE0pa+mP6BlFjnGgJa/PO9IcnD71j/gamFXa3vrP+Az+BVCudw/aAI21eSi0D9omDGkdEjUP9zw7YSjwOY/CKUSwpfO4T98qgj8TP/TPxh6nF+dAMk/eJEILfDF2z+ugRIiKernPxhnjmz8Gd0/CM/D8ch0zT/IjRNhp13AP/h7yiZ7vds/rJd91x/26D8InRbA1wXcP1COZRNePMo/ALNMkY66qT/g3z51XFerv/Dt9nucY7+/UM2aMBzoxL8guUZkq3iqvwAAAAAAAPA/xLm/deg54z+QnUNgamzZP1y6vDXh4No/Bl0/FDkQ4z9A8mpJJlDhPzA1+G+gZNk/EAIhdP2h2D/koNQL9VviP1pw0KdyZ+I/OIkabDmT2j987EonNujWP6ACYdCDAOE/GnFdI6KD4z98x0wdsWXcP+wKGuoQ4dU/+H9tNvwP3j8=",
           "dtype": "f8"
          },
          "colorscale": [
           [
            0,
            "#440154"
           ],
           [
            0.1111111111111111,
            "#482878"
           ],
           [
            0.2222222222222222,
            "#3e4989"
           ],
           [
            0.3333333333333333,
            "#31688e"
           ],
           [
            0.4444444444444444,
            "#26828e"
           ],
           [
            0.5555555555555556,
            "#1f9e89"
           ],
           [
            0.6666666666666666,
            "#35b779"
           ],
           [
            0.7777777777777778,
            "#6ece58"
           ],
           [
            0.8888888888888888,
            "#b5de2b"
           ],
           [
            1,
            "#fde725"
           ]
          ],
          "width": 3
         },
         "mode": "lines",
         "name": "Dataset 1",
         "scene": "scene",
         "type": "scatter3d",
         "x": {
          "bdata": "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",
          "dtype": "f8"
         },
         "y": {
          "bdata": "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",
          "dtype": "f8"
         },
         "z": {
          "bdata": "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",
          "dtype": "f8"
         }
        },
        {
         "hoverinfo": "none",
         "marker": {
          "color": "limegreen",
          "size": 2
         },
         "mode": "markers",
         "name": "Start",
         "scene": "scene",
         "showlegend": false,
         "type": "scatter3d",
         "x": [
          -0.34540540906266815
         ],
         "y": [
          -0.39756905722639746
         ],
         "z": [
          0.3008437963384447
         ]
        },
        {
         "hoverinfo": "none",
         "marker": {
          "color": "crimson",
          "size": 2
         },
         "mode": "markers",
         "name": "End",
         "scene": "scene",
         "showlegend": false,
         "type": "scatter3d",
         "x": [
          0.025110057547239162
         ],
         "y": [
          0.09246274402186128
         ],
         "z": [
          0.46972565951546086
         ]
        },
        {
         "hoverinfo": "x+y+z",
         "line": {
          "color": {
           "bdata": "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",
           "dtype": "f8"
          },
          "colorscale": [
           [
            0,
            "#440154"
           ],
           [
            0.1111111111111111,
            "#482878"
           ],
           [
            0.2222222222222222,
            "#3e4989"
           ],
           [
            0.3333333333333333,
            "#31688e"
           ],
           [
            0.4444444444444444,
            "#26828e"
           ],
           [
            0.5555555555555556,
            "#1f9e89"
           ],
           [
            0.6666666666666666,
            "#35b779"
           ],
           [
            0.7777777777777778,
            "#6ece58"
           ],
           [
            0.8888888888888888,
            "#b5de2b"
           ],
           [
            1,
            "#fde725"
           ]
          ],
          "width": 3
         },
         "mode": "lines",
         "name": "Dataset 2",
         "scene": "scene2",
         "type": "scatter3d",
         "x": {
          "bdata": "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",
          "dtype": "f8"
         },
         "y": {
          "bdata": "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",
          "dtype": "f8"
         },
         "z": {
          "bdata": "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",
          "dtype": "f8"
         }
        },
        {
         "hoverinfo": "none",
         "marker": {
          "color": "limegreen",
          "size": 2
         },
         "mode": "markers",
         "name": "Start",
         "scene": "scene2",
         "showlegend": false,
         "type": "scatter3d",
         "x": [
          -0.33605638558244905
         ],
         "y": [
          -0.45282351400056764
         ],
         "z": [
          0.2905900367931967
         ]
        },
        {
         "hoverinfo": "none",
         "marker": {
          "color": "crimson",
          "size": 2
         },
         "mode": "markers",
         "name": "End",
         "scene": "scene2",
         "showlegend": false,
         "type": "scatter3d",
         "x": [
          0.2620011302664507
         ],
         "y": [
          2.6034078007997783
         ],
         "z": [
          -0.2633523168846934
         ]
        }
       ],
       "layout": {
        "annotations": [
         {
          "font": {
           "size": 16
          },
          "showarrow": false,
          "text": "true",
          "x": 0.225,
          "xanchor": "center",
          "xref": "paper",
          "y": 1,
          "yanchor": "bottom",
          "yref": "paper"
         },
         {
          "font": {
           "size": 16
          },
          "showarrow": false,
          "text": "preds",
          "x": 0.775,
          "xanchor": "center",
          "xref": "paper",
          "y": 1,
          "yanchor": "bottom",
          "yref": "paper"
         }
        ],
        "font": {
         "family": "Arial",
         "size": 12
        },
        "height": 600,
        "margin": {
         "b": 50,
         "l": 50,
         "r": 50,
         "t": 80
        },
        "paper_bgcolor": "white",
        "plot_bgcolor": "rgb(240, 240, 240)",
        "scene": {
         "aspectmode": "data",
         "bgcolor": "rgb(240, 240, 240)",
         "domain": {
          "x": [
           0,
           0.45
          ],
          "y": [
           0,
           1
          ]
         },
         "xaxis": {
          "gridcolor": "rgb(200, 200, 200)",
          "showbackground": true
         },
         "yaxis": {
          "gridcolor": "rgb(200, 200, 200)",
          "showbackground": true
         },
         "zaxis": {
          "gridcolor": "rgb(200, 200, 200)",
          "showbackground": true
         }
        },
        "scene2": {
         "aspectmode": "data",
         "bgcolor": "rgb(240, 240, 240)",
         "domain": {
          "x": [
           0.55,
           1
          ],
          "y": [
           0,
           1
          ]
         },
         "xaxis": {
          "gridcolor": "rgb(200, 200, 200)",
          "showbackground": true
         },
         "yaxis": {
          "gridcolor": "rgb(200, 200, 200)",
          "showbackground": true
         },
         "zaxis": {
          "gridcolor": "rgb(200, 200, 200)",
          "showbackground": true
         }
        },
        "showlegend": false,
        "template": {
         "data": {
          "bar": [
           {
            "error_x": {
             "color": "#2a3f5f"
            },
            "error_y": {
             "color": "#2a3f5f"
            },
            "marker": {
             "line": {
              "color": "#E5ECF6",
              "width": 0.5
             },
             "pattern": {
              "fillmode": "overlay",
              "size": 10,
              "solidity": 0.2
             }
            },
            "type": "bar"
           }
          ],
          "barpolar": [
           {
            "marker": {
             "line": {
              "color": "#E5ECF6",
              "width": 0.5
             },
             "pattern": {
              "fillmode": "overlay",
              "size": 10,
              "solidity": 0.2
             }
            },
            "type": "barpolar"
           }
          ],
          "carpet": [
           {
            "aaxis": {
             "endlinecolor": "#2a3f5f",
             "gridcolor": "white",
             "linecolor": "white",
             "minorgridcolor": "white",
             "startlinecolor": "#2a3f5f"
            },
            "baxis": {
             "endlinecolor": "#2a3f5f",
             "gridcolor": "white",
             "linecolor": "white",
             "minorgridcolor": "white",
             "startlinecolor": "#2a3f5f"
            },
            "type": "carpet"
           }
          ],
          "choropleth": [
           {
            "colorbar": {
             "outlinewidth": 0,
             "ticks": ""
            },
            "type": "choropleth"
           }
          ],
          "contour": [
           {
            "colorbar": {
             "outlinewidth": 0,
             "ticks": ""
            },
            "colorscale": [
             [
              0,
              "#0d0887"
             ],
             [
              0.1111111111111111,
              "#46039f"
             ],
             [
              0.2222222222222222,
              "#7201a8"
             ],
             [
              0.3333333333333333,
              "#9c179e"
             ],
             [
              0.4444444444444444,
              "#bd3786"
             ],
             [
              0.5555555555555556,
              "#d8576b"
             ],
             [
              0.6666666666666666,
              "#ed7953"
             ],
             [
              0.7777777777777778,
              "#fb9f3a"
             ],
             [
              0.8888888888888888,
              "#fdca26"
             ],
             [
              1,
              "#f0f921"
             ]
            ],
            "type": "contour"
           }
          ],
          "contourcarpet": [
           {
            "colorbar": {
             "outlinewidth": 0,
             "ticks": ""
            },
            "type": "contourcarpet"
           }
          ],
          "heatmap": [
           {
            "colorbar": {
             "outlinewidth": 0,
             "ticks": ""
            },
            "colorscale": [
             [
              0,
              "#0d0887"
             ],
             [
              0.1111111111111111,
              "#46039f"
             ],
             [
              0.2222222222222222,
              "#7201a8"
             ],
             [
              0.3333333333333333,
              "#9c179e"
             ],
             [
              0.4444444444444444,
              "#bd3786"
             ],
             [
              0.5555555555555556,
              "#d8576b"
             ],
             [
              0.6666666666666666,
              "#ed7953"
             ],
             [
              0.7777777777777778,
              "#fb9f3a"
             ],
             [
              0.8888888888888888,
              "#fdca26"
             ],
             [
              1,
              "#f0f921"
             ]
            ],
            "type": "heatmap"
           }
          ],
          "histogram": [
           {
            "marker": {
             "pattern": {
              "fillmode": "overlay",
              "size": 10,
              "solidity": 0.2
             }
            },
            "type": "histogram"
           }
          ],
          "histogram2d": [
           {
            "colorbar": {
             "outlinewidth": 0,
             "ticks": ""
            },
            "colorscale": [
             [
              0,
              "#0d0887"
             ],
             [
              0.1111111111111111,
              "#46039f"
             ],
             [
              0.2222222222222222,
              "#7201a8"
             ],
             [
              0.3333333333333333,
              "#9c179e"
             ],
             [
              0.4444444444444444,
              "#bd3786"
             ],
             [
              0.5555555555555556,
              "#d8576b"
             ],
             [
              0.6666666666666666,
              "#ed7953"
             ],
             [
              0.7777777777777778,
              "#fb9f3a"
             ],
             [
              0.8888888888888888,
              "#fdca26"
             ],
             [
              1,
              "#f0f921"
             ]
            ],
            "type": "histogram2d"
           }
          ],
          "histogram2dcontour": [
           {
            "colorbar": {
             "outlinewidth": 0,
             "ticks": ""
            },
            "colorscale": [
             [
              0,
              "#0d0887"
             ],
             [
              0.1111111111111111,
              "#46039f"
             ],
             [
              0.2222222222222222,
              "#7201a8"
             ],
             [
              0.3333333333333333,
              "#9c179e"
             ],
             [
              0.4444444444444444,
              "#bd3786"
             ],
             [
              0.5555555555555556,
              "#d8576b"
             ],
             [
              0.6666666666666666,
              "#ed7953"
             ],
             [
              0.7777777777777778,
              "#fb9f3a"
             ],
             [
              0.8888888888888888,
              "#fdca26"
             ],
             [
              1,
              "#f0f921"
             ]
            ],
            "type": "histogram2dcontour"
           }
          ],
          "mesh3d": [
           {
            "colorbar": {
             "outlinewidth": 0,
             "ticks": ""
            },
            "type": "mesh3d"
           }
          ],
          "parcoords": [
           {
            "line": {
             "colorbar": {
              "outlinewidth": 0,
              "ticks": ""
             }
            },
            "type": "parcoords"
           }
          ],
          "pie": [
           {
            "automargin": true,
            "type": "pie"
           }
          ],
          "scatter": [
           {
            "fillpattern": {
             "fillmode": "overlay",
             "size": 10,
             "solidity": 0.2
            },
            "type": "scatter"
           }
          ],
          "scatter3d": [
           {
            "line": {
             "colorbar": {
              "outlinewidth": 0,
              "ticks": ""
             }
            },
            "marker": {
             "colorbar": {
              "outlinewidth": 0,
              "ticks": ""
             }
            },
            "type": "scatter3d"
           }
          ],
          "scattercarpet": [
           {
            "marker": {
             "colorbar": {
              "outlinewidth": 0,
              "ticks": ""
             }
            },
            "type": "scattercarpet"
           }
          ],
          "scattergeo": [
           {
            "marker": {
             "colorbar": {
              "outlinewidth": 0,
              "ticks": ""
             }
            },
            "type": "scattergeo"
           }
          ],
          "scattergl": [
           {
            "marker": {
             "colorbar": {
              "outlinewidth": 0,
              "ticks": ""
             }
            },
            "type": "scattergl"
           }
          ],
          "scattermap": [
           {
            "marker": {
             "colorbar": {
              "outlinewidth": 0,
              "ticks": ""
             }
            },
            "type": "scattermap"
           }
          ],
          "scattermapbox": [
           {
            "marker": {
             "colorbar": {
              "outlinewidth": 0,
              "ticks": ""
             }
            },
            "type": "scattermapbox"
           }
          ],
          "scatterpolar": [
           {
            "marker": {
             "colorbar": {
              "outlinewidth": 0,
              "ticks": ""
             }
            },
            "type": "scatterpolar"
           }
          ],
          "scatterpolargl": [
           {
            "marker": {
             "colorbar": {
              "outlinewidth": 0,
              "ticks": ""
             }
            },
            "type": "scatterpolargl"
           }
          ],
          "scatterternary": [
           {
            "marker": {
             "colorbar": {
              "outlinewidth": 0,
              "ticks": ""
             }
            },
            "type": "scatterternary"
           }
          ],
          "surface": [
           {
            "colorbar": {
             "outlinewidth": 0,
             "ticks": ""
            },
            "colorscale": [
             [
              0,
              "#0d0887"
             ],
             [
              0.1111111111111111,
              "#46039f"
             ],
             [
              0.2222222222222222,
              "#7201a8"
             ],
             [
              0.3333333333333333,
              "#9c179e"
             ],
             [
              0.4444444444444444,
              "#bd3786"
             ],
             [
              0.5555555555555556,
              "#d8576b"
             ],
             [
              0.6666666666666666,
              "#ed7953"
             ],
             [
              0.7777777777777778,
              "#fb9f3a"
             ],
             [
              0.8888888888888888,
              "#fdca26"
             ],
             [
              1,
              "#f0f921"
             ]
            ],
            "type": "surface"
           }
          ],
          "table": [
           {
            "cells": {
             "fill": {
              "color": "#EBF0F8"
             },
             "line": {
              "color": "white"
             }
            },
            "header": {
             "fill": {
              "color": "#C8D4E3"
             },
             "line": {
              "color": "white"
             }
            },
            "type": "table"
           }
          ]
         },
         "layout": {
          "annotationdefaults": {
           "arrowcolor": "#2a3f5f",
           "arrowhead": 0,
           "arrowwidth": 1
          },
          "autotypenumbers": "strict",
          "coloraxis": {
           "colorbar": {
            "outlinewidth": 0,
            "ticks": ""
           }
          },
          "colorscale": {
           "diverging": [
            [
             0,
             "#8e0152"
            ],
            [
             0.1,
             "#c51b7d"
            ],
            [
             0.2,
             "#de77ae"
            ],
            [
             0.3,
             "#f1b6da"
            ],
            [
             0.4,
             "#fde0ef"
            ],
            [
             0.5,
             "#f7f7f7"
            ],
            [
             0.6,
             "#e6f5d0"
            ],
            [
             0.7,
             "#b8e186"
            ],
            [
             0.8,
             "#7fbc41"
            ],
            [
             0.9,
             "#4d9221"
            ],
            [
             1,
             "#276419"
            ]
           ],
           "sequential": [
            [
             0,
             "#0d0887"
            ],
            [
             0.1111111111111111,
             "#46039f"
            ],
            [
             0.2222222222222222,
             "#7201a8"
            ],
            [
             0.3333333333333333,
             "#9c179e"
            ],
            [
             0.4444444444444444,
             "#bd3786"
            ],
            [
             0.5555555555555556,
             "#d8576b"
            ],
            [
             0.6666666666666666,
             "#ed7953"
            ],
            [
             0.7777777777777778,
             "#fb9f3a"
            ],
            [
             0.8888888888888888,
             "#fdca26"
            ],
            [
             1,
             "#f0f921"
            ]
           ],
           "sequentialminus": [
            [
             0,
             "#0d0887"
            ],
            [
             0.1111111111111111,
             "#46039f"
            ],
            [
             0.2222222222222222,
             "#7201a8"
            ],
            [
             0.3333333333333333,
             "#9c179e"
            ],
            [
             0.4444444444444444,
             "#bd3786"
            ],
            [
             0.5555555555555556,
             "#d8576b"
            ],
            [
             0.6666666666666666,
             "#ed7953"
            ],
            [
             0.7777777777777778,
             "#fb9f3a"
            ],
            [
             0.8888888888888888,
             "#fdca26"
            ],
            [
             1,
             "#f0f921"
            ]
           ]
          },
          "colorway": [
           "#636efa",
           "#EF553B",
           "#00cc96",
           "#ab63fa",
           "#FFA15A",
           "#19d3f3",
           "#FF6692",
           "#B6E880",
           "#FF97FF",
           "#FECB52"
          ],
          "font": {
           "color": "#2a3f5f"
          },
          "geo": {
           "bgcolor": "white",
           "lakecolor": "white",
           "landcolor": "#E5ECF6",
           "showlakes": true,
           "showland": true,
           "subunitcolor": "white"
          },
          "hoverlabel": {
           "align": "left"
          },
          "hovermode": "closest",
          "mapbox": {
           "style": "light"
          },
          "paper_bgcolor": "white",
          "plot_bgcolor": "#E5ECF6",
          "polar": {
           "angularaxis": {
            "gridcolor": "white",
            "linecolor": "white",
            "ticks": ""
           },
           "bgcolor": "#E5ECF6",
           "radialaxis": {
            "gridcolor": "white",
            "linecolor": "white",
            "ticks": ""
           }
          },
          "scene": {
           "xaxis": {
            "backgroundcolor": "#E5ECF6",
            "gridcolor": "white",
            "gridwidth": 2,
            "linecolor": "white",
            "showbackground": true,
            "ticks": "",
            "zerolinecolor": "white"
           },
           "yaxis": {
            "backgroundcolor": "#E5ECF6",
            "gridcolor": "white",
            "gridwidth": 2,
            "linecolor": "white",
            "showbackground": true,
            "ticks": "",
            "zerolinecolor": "white"
           },
           "zaxis": {
            "backgroundcolor": "#E5ECF6",
            "gridcolor": "white",
            "gridwidth": 2,
            "linecolor": "white",
            "showbackground": true,
            "ticks": "",
            "zerolinecolor": "white"
           }
          },
          "shapedefaults": {
           "line": {
            "color": "#2a3f5f"
           }
          },
          "ternary": {
           "aaxis": {
            "gridcolor": "white",
            "linecolor": "white",
            "ticks": ""
           },
           "baxis": {
            "gridcolor": "white",
            "linecolor": "white",
            "ticks": ""
           },
           "bgcolor": "#E5ECF6",
           "caxis": {
            "gridcolor": "white",
            "linecolor": "white",
            "ticks": ""
           }
          },
          "title": {
           "x": 0.05
          },
          "xaxis": {
           "automargin": true,
           "gridcolor": "white",
           "linecolor": "white",
           "ticks": "",
           "title": {
            "standoff": 15
           },
           "zerolinecolor": "white",
           "zerolinewidth": 2
          },
          "yaxis": {
           "automargin": true,
           "gridcolor": "white",
           "linecolor": "white",
           "ticks": "",
           "title": {
            "standoff": 15
           },
           "zerolinecolor": "white",
           "zerolinewidth": 2
          }
         }
        },
        "width": 1080
       }
      }
     },
     "metadata": {},
     "output_type": "display_data"
    }
   ],
   "source": [
    "select = 104\n",
    "print(f\"Parameters {select} {data[select]['parameters']}, RMSE = {data[select]['metrics']['RMSE']}\")\n",
    "viz.compare_plot(datasets=[data[select]['true_value'], data[select]['predictions']], titles=[\"true\",\"preds\"])"
   ]
  },
  {
   "cell_type": "markdown",
   "id": "a165635e",
   "metadata": {},
   "source": [
    "## Lyapunov Analysis"
   ]
  },
  {
   "cell_type": "code",
   "execution_count": 8,
   "id": "3cd3b647",
   "metadata": {},
   "outputs": [
    {
     "name": "stdout",
     "output_type": "stream",
     "text": [
      "Lyapunov of prediction 3\n",
      "Lyapunov of ground truth 233\n",
      "Error grows to 0.1 from the truth after 2 time steps\n"
     ]
    }
   ],
   "source": [
    "predictions  = data[select]['predictions']\n",
    "truth = data[select]['true_value']\n",
    "threshold = 0.1\n",
    "#print(chaos_utils.lyapunov_time_from_fit(true = truth, pred=predictions, fit_range=1))\n",
    "print(f\"Lyapunov of prediction {chaos_utils.lyapunov_time(predictions,threshold=2.1)}\")\n",
    "print(f\"Lyapunov of ground truth {chaos_utils.lyapunov_time(truth,threshold=2.1)}\")\n",
    "print(f\"Error grows to {threshold} from the truth after {chaos_utils.comparative_lyapunov_time(truth, predictions, threshold=0.1)} time steps\")"
   ]
  },
  {
   "cell_type": "code",
   "execution_count": 9,
   "id": "bbd1c172",
   "metadata": {},
   "outputs": [
    {
     "data": {
      "application/vnd.plotly.v1+json": {
       "config": {
        "plotlyServerURL": "https://plot.ly"
       },
       "data": [
        {
         "hoverinfo": "x+y",
         "line": {
          "color": "#440154",
          "width": 1.5
         },
         "mode": "lines",
         "name": "X",
         "showlegend": false,
         "type": "scatter",
         "x": {
          "bdata": "AAABAAIAAwAEAAUABgAHAAgACQAKAAsADAANAA4ADwAQABEAEgATABQAFQAWABcAGAAZABoAGwAcAB0AHgAfACAAIQAiACMAJAAlACYAJwAoACkAKgArACwALQAuAC8AMAAxADIAMwA0ADUANgA3ADgAOQA6ADsAPAA9AD4APwBAAEEAQgBDAEQARQBGAEcASABJAEoASwBMAE0ATgBPAFAAUQBSAFMAVABVAFYAVwBYAFkAWgBbAFwAXQBeAF8AYABhAGIAYwBkAGUAZgBnAGgAaQBqAGsAbABtAG4AbwBwAHEAcgBzAHQAdQB2AHcAeAB5AHoAewB8AH0AfgB/AIAAgQCCAIMAhACFAIYAhwCIAIkAigCLAIwAjQCOAI8AkACRAJIAkwCUAJUAlgCXAJgAmQCaAJsAnACdAJ4AnwCgAKEAogCjAKQApQCmAKcAqACpAKoAqwCsAK0ArgCvALAAsQCyALMAtAC1ALYAtwC4ALkAugC7ALwAvQC+AL8AwADBAMIAwwDEAMUAxgDHAMgAyQDKAMsAzADNAM4AzwDQANEA0gDTANQA1QDWANcA2ADZANoA2wDcAN0A3gDfAOAA4QDiAOMA5ADlAOYA5wDoAOkA6gDrAOwA7QDuAO8A8ADxAPIA8wD0APUA9gD3APgA+QA=",
          "dtype": "i2"
         },
         "xaxis": "x",
         "y": {
          "bdata": "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",
          "dtype": "f8"
         },
         "yaxis": "y"
        },
        {
         "hoverinfo": "x+y",
         "line": {
          "color": "#31688e",
          "width": 1.5
         },
         "mode": "lines",
         "name": "Y",
         "showlegend": false,
         "type": "scatter",
         "x": {
          "bdata": "AAABAAIAAwAEAAUABgAHAAgACQAKAAsADAANAA4ADwAQABEAEgATABQAFQAWABcAGAAZABoAGwAcAB0AHgAfACAAIQAiACMAJAAlACYAJwAoACkAKgArACwALQAuAC8AMAAxADIAMwA0ADUANgA3ADgAOQA6ADsAPAA9AD4APwBAAEEAQgBDAEQARQBGAEcASABJAEoASwBMAE0ATgBPAFAAUQBSAFMAVABVAFYAVwBYAFkAWgBbAFwAXQBeAF8AYABhAGIAYwBkAGUAZgBnAGgAaQBqAGsAbABtAG4AbwBwAHEAcgBzAHQAdQB2AHcAeAB5AHoAewB8AH0AfgB/AIAAgQCCAIMAhACFAIYAhwCIAIkAigCLAIwAjQCOAI8AkACRAJIAkwCUAJUAlgCXAJgAmQCaAJsAnACdAJ4AnwCgAKEAogCjAKQApQCmAKcAqACpAKoAqwCsAK0ArgCvALAAsQCyALMAtAC1ALYAtwC4ALkAugC7ALwAvQC+AL8AwADBAMIAwwDEAMUAxgDHAMgAyQDKAMsAzADNAM4AzwDQANEA0gDTANQA1QDWANcA2ADZANoA2wDcAN0A3gDfAOAA4QDiAOMA5ADlAOYA5wDoAOkA6gDrAOwA7QDuAO8A8ADxAPIA8wD0APUA9gD3APgA+QA=",
          "dtype": "i2"
         },
         "xaxis": "x2",
         "y": {
          "bdata": "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",
          "dtype": "f8"
         },
         "yaxis": "y2"
        },
        {
         "hoverinfo": "x+y",
         "line": {
          "color": "#35b779",
          "width": 1.5
         },
         "mode": "lines",
         "name": "Z",
         "showlegend": false,
         "type": "scatter",
         "x": {
          "bdata": "AAABAAIAAwAEAAUABgAHAAgACQAKAAsADAANAA4ADwAQABEAEgATABQAFQAWABcAGAAZABoAGwAcAB0AHgAfACAAIQAiACMAJAAlACYAJwAoACkAKgArACwALQAuAC8AMAAxADIAMwA0ADUANgA3ADgAOQA6ADsAPAA9AD4APwBAAEEAQgBDAEQARQBGAEcASABJAEoASwBMAE0ATgBPAFAAUQBSAFMAVABVAFYAVwBYAFkAWgBbAFwAXQBeAF8AYABhAGIAYwBkAGUAZgBnAGgAaQBqAGsAbABtAG4AbwBwAHEAcgBzAHQAdQB2AHcAeAB5AHoAewB8AH0AfgB/AIAAgQCCAIMAhACFAIYAhwCIAIkAigCLAIwAjQCOAI8AkACRAJIAkwCUAJUAlgCXAJgAmQCaAJsAnACdAJ4AnwCgAKEAogCjAKQApQCmAKcAqACpAKoAqwCsAK0ArgCvALAAsQCyALMAtAC1ALYAtwC4ALkAugC7ALwAvQC+AL8AwADBAMIAwwDEAMUAxgDHAMgAyQDKAMsAzADNAM4AzwDQANEA0gDTANQA1QDWANcA2ADZANoA2wDcAN0A3gDfAOAA4QDiAOMA5ADlAOYA5wDoAOkA6gDrAOwA7QDuAO8A8ADxAPIA8wD0APUA9gD3APgA+QA=",
          "dtype": "i2"
         },
         "xaxis": "x3",
         "y": {
          "bdata": "bn4k9AaZ0j/QO5YcTcfLPwAw56Rz2Nc/wu970kd48T+UyoOhw6DaP0AGd6qTN8E/kF8eEzkAuD8EJnrzOvbWP+QGD0nf2Ok//sRv+DHc4D804Zwn1+/NP1gtbYmE58Q/QMRzjSgAzj80Ml169RLZPxKPtNkbB+A/3y0/owh96T/ERN9+Go/OP8aOCskRbfs/NhgShTXA3L8AfoVGwGndPyhGRs+9Av4/Df2hNWtr+L/P3mS4jMDhvyDAaG0JVva/zoG12vDcE0AkBM0OOy8GQDQSr711JxnAaFnJGNFTzj8fqEfgwJEVwJqTy8eARgDAbmteyy/vGUCwiUgXVWvbP1mPlYMWYeg/Orj15Syq4795ZxHDDhLmP/jo++QTvOA/43XyDrvcCMDuvA4NwtAMQJjP488pdATATJc89Bv1BMDwTitasO3Rv8xeTxC84Ne/GJcwcTT0yb++l8154oLtvzG5AW9ulu8/sQ+KSkxRE8D8qH1iSyXqP9bGyrN0gBTAgAd5e7nLmD9sPbpzZgvsv+hHHqi0A+y/qUuUJDn6C0BD9TAcYv4KwAYcBsK4kf0/vKZj6Q81EcCs9jHn7LzjP0DkcQcqQf4/bYkogFTlD8Ag+o62Jc21v9Se14h20OC/kCTLVO2e979669nUv2gRQKO8mXBfqQVACGcT3BR7GMC4DNGu8UDUP5U+Hc3rTRXAjn52H28QAcAaUmctpm8bQPTy28i8m9g/23fa6zPM7T8WlmhlrC3yv9ojHsE1AgRAW8baclAjCMAwJLEhI1wHQHrFwms0XhfA6NnglokP7D8AvDpyjW0cwACVG8Y6Iau/uxHe/bpTBcAE9SC05p8BQKDymwpWzwFAroAm+QSEIMB0vvvJQhfyv3KN/KSvW/K/uL1XtnEk/D9NCidfoIwFQHgSQaVRitq/ln/JyJM2CkB0PmbGv/zgv7g7AUq5jdM/uWAWq/7RBEAx6z+abRsXwIDZT2kemJO/rJwvyk/OB8AKsWz9FHriPwmHGhvSYP2/EJP6AG+NEUD4uCER2dr3v7t0IlL9pB5AQnVU+ZAy5z/WmitlKy8AQF+OXKz6SBHAcO1S919K078dgQAK9rkBwICcza3nI70/hNBi1oZGAMAQkdYZOePFP9KZOG92YP+/UJViiwEGyj+dsL3UJ5T/v+AvfJ8sidS/yPsEiZeszr8WZ/PQc+Tjv2yVFIUfdfO/PtypdDTC6z9MSSQqIpoAwKRTUQ3GRPM/BIB/x2aW4z+Cae7tZc/nP3qS+/Fg8w3A+DJcaj0q6r86ZIMNEMERQOXwZuR0if8/aqo7PptTGcAwjtulKBa4P0Qcf+wC5vK/gOg1vpf03D804Tzz+Pf1v76XI3B2C/M/Mg+kOpaf97/Gd4NI1Ev6PzwXH3NHYQjAi80zhconE0DWaHQy9fgMQKB//Rb1HCDACHf8R85Y6b+WRPsETVD4v4300QSHWBRADsUON4+JCkCCQfVr2uAewBh7az7daeW/z2IeaVThAMAiKET3E9QMQN50EKvvzfC/2JcmqxxDHUCwqv5t2ke2vzCKVLx8SAZAbe3Ph4We/b9grrarb5fOv/2oRbVx6Q5ARVbJqjKlBcDibvrttGkLQHQwolOmXQXAKjpEm5OaFEDiHygTuT3xv5j4kxfjsR5AtRWJ46aR8z9Ugvuc3V7mP597j41YoPC/kOXXw2jV3j//hraV1+AUwJlJzQ4PqALAhWD5aPDHG0AQq2RtVk69vzbcMGYXpto/sET/BUU7wz9s36W0Tej3P9woSu7LzAXATa1bMC4eFUDyPgJq9kwOQPKlIz+frCDAiI0lq5Oe57/ixfvxQPH/v5kwJfT2VBVAJCazPdak7j8I5187Uj/tP0yY+Mzat+O/RRoHgglQ/D+M4FkCEaEAwImMIGPDiBFAwL67HIeh/L+eYivn37wZQAC/B08OHIC/1vYCcVwEE0B8AdD3R6/hv9A/Y9MXg+6/VMwb+fKAC0C4epXERwT9PzS1FjNE6xnAyOLn8CfIxD9A04vx3xnCP2vUxapP6w7AGHcWg52087+ojmjO8bcRQAzT/rR89fY/GWqS21Y6AcAIihbEMBnmPx4dnXLA0BHAAJJBZaTrwT/DGqgZknEPwAh7kc7WpMQ/6KlUSsQM3T8Ials1yX36vxr7PSebOO4/zJPH2B3QEcCQkeKGwNbSP2qr97fQ1xPA4Ctk9T8av79Ad8yK1bS9PzzgdiEcwBLAQE9ls7ZL6b9TtnaqRcQEQID73+sjpey/vMN4uByP4r+v4YpllysKQLiZSAVUvBTAmMwYzoAa/z/Ic4CtzgohwGgndp2hpPO/mGbvpAnU4L+hitIcaOMFQJ4ec2FIkxjAnNo4C+dl4j9q4zHUygMawMxRdV90CPK/EuzWJ/L0DkDa1e8rUmkDQOyOTDpqYx7AmLu0EcRD4r+M15q7t2f2v6CJIu9o+rk//GUeADb2AMAwcFuwGf/pP+z8o+a/tQfAEFKPVomQEUBMFQ897jsBQOMqYOpJvBrAAHoUG8hDYT9684ul4xQEwJd/PgFTtAJAfmwa59OD/T8uL2h9b4QdwCD6OYfjzrk/ZNOD11cuxj/kHxWu5DfTv4CX7vNX2/K/+pJwWb69+T9aSK3MbFsOwEDGRGxM9QFAGB4WrcPa0L8=",
          "dtype": "f8"
         },
         "yaxis": "y3"
        }
       ],
       "layout": {
        "annotations": [
         {
          "font": {
           "size": 12
          },
          "showarrow": false,
          "text": "X",
          "x": 0.01,
          "xanchor": "left",
          "xref": "paper",
          "y": 1,
          "yanchor": "bottom",
          "yref": "paper"
         },
         {
          "font": {
           "size": 12
          },
          "showarrow": false,
          "text": "Y",
          "x": 0.01,
          "xanchor": "left",
          "xref": "paper",
          "y": 0.6499999999999999,
          "yanchor": "bottom",
          "yref": "paper"
         },
         {
          "font": {
           "size": 12
          },
          "showarrow": false,
          "text": "Z",
          "x": 0.01,
          "xanchor": "left",
          "xref": "paper",
          "y": 0.3,
          "yanchor": "bottom",
          "yref": "paper"
         }
        ],
        "font": {
         "family": "Arial",
         "size": 12
        },
        "height": 600,
        "hovermode": "x unified",
        "margin": {
         "b": 50,
         "l": 50,
         "r": 50,
         "t": 80
        },
        "paper_bgcolor": "white",
        "plot_bgcolor": "rgb(240, 240, 240)",
        "template": {
         "data": {
          "bar": [
           {
            "error_x": {
             "color": "#2a3f5f"
            },
            "error_y": {
             "color": "#2a3f5f"
            },
            "marker": {
             "line": {
              "color": "#E5ECF6",
              "width": 0.5
             },
             "pattern": {
              "fillmode": "overlay",
              "size": 10,
              "solidity": 0.2
             }
            },
            "type": "bar"
           }
          ],
          "barpolar": [
           {
            "marker": {
             "line": {
              "color": "#E5ECF6",
              "width": 0.5
             },
             "pattern": {
              "fillmode": "overlay",
              "size": 10,
              "solidity": 0.2
             }
            },
            "type": "barpolar"
           }
          ],
          "carpet": [
           {
            "aaxis": {
             "endlinecolor": "#2a3f5f",
             "gridcolor": "white",
             "linecolor": "white",
             "minorgridcolor": "white",
             "startlinecolor": "#2a3f5f"
            },
            "baxis": {
             "endlinecolor": "#2a3f5f",
             "gridcolor": "white",
             "linecolor": "white",
             "minorgridcolor": "white",
             "startlinecolor": "#2a3f5f"
            },
            "type": "carpet"
           }
          ],
          "choropleth": [
           {
            "colorbar": {
             "outlinewidth": 0,
             "ticks": ""
            },
            "type": "choropleth"
           }
          ],
          "contour": [
           {
            "colorbar": {
             "outlinewidth": 0,
             "ticks": ""
            },
            "colorscale": [
             [
              0,
              "#0d0887"
             ],
             [
              0.1111111111111111,
              "#46039f"
             ],
             [
              0.2222222222222222,
              "#7201a8"
             ],
             [
              0.3333333333333333,
              "#9c179e"
             ],
             [
              0.4444444444444444,
              "#bd3786"
             ],
             [
              0.5555555555555556,
              "#d8576b"
             ],
             [
              0.6666666666666666,
              "#ed7953"
             ],
             [
              0.7777777777777778,
              "#fb9f3a"
             ],
             [
              0.8888888888888888,
              "#fdca26"
             ],
             [
              1,
              "#f0f921"
             ]
            ],
            "type": "contour"
           }
          ],
          "contourcarpet": [
           {
            "colorbar": {
             "outlinewidth": 0,
             "ticks": ""
            },
            "type": "contourcarpet"
           }
          ],
          "heatmap": [
           {
            "colorbar": {
             "outlinewidth": 0,
             "ticks": ""
            },
            "colorscale": [
             [
              0,
              "#0d0887"
             ],
             [
              0.1111111111111111,
              "#46039f"
             ],
             [
              0.2222222222222222,
              "#7201a8"
             ],
             [
              0.3333333333333333,
              "#9c179e"
             ],
             [
              0.4444444444444444,
              "#bd3786"
             ],
             [
              0.5555555555555556,
              "#d8576b"
             ],
             [
              0.6666666666666666,
              "#ed7953"
             ],
             [
              0.7777777777777778,
              "#fb9f3a"
             ],
             [
              0.8888888888888888,
              "#fdca26"
             ],
             [
              1,
              "#f0f921"
             ]
            ],
            "type": "heatmap"
           }
          ],
          "histogram": [
           {
            "marker": {
             "pattern": {
              "fillmode": "overlay",
              "size": 10,
              "solidity": 0.2
             }
            },
            "type": "histogram"
           }
          ],
          "histogram2d": [
           {
            "colorbar": {
             "outlinewidth": 0,
             "ticks": ""
            },
            "colorscale": [
             [
              0,
              "#0d0887"
             ],
             [
              0.1111111111111111,
              "#46039f"
             ],
             [
              0.2222222222222222,
              "#7201a8"
             ],
             [
              0.3333333333333333,
              "#9c179e"
             ],
             [
              0.4444444444444444,
              "#bd3786"
             ],
             [
              0.5555555555555556,
              "#d8576b"
             ],
             [
              0.6666666666666666,
              "#ed7953"
             ],
             [
              0.7777777777777778,
              "#fb9f3a"
             ],
             [
              0.8888888888888888,
              "#fdca26"
             ],
             [
              1,
              "#f0f921"
             ]
            ],
            "type": "histogram2d"
           }
          ],
          "histogram2dcontour": [
           {
            "colorbar": {
             "outlinewidth": 0,
             "ticks": ""
            },
            "colorscale": [
             [
              0,
              "#0d0887"
             ],
             [
              0.1111111111111111,
              "#46039f"
             ],
             [
              0.2222222222222222,
              "#7201a8"
             ],
             [
              0.3333333333333333,
              "#9c179e"
             ],
             [
              0.4444444444444444,
              "#bd3786"
             ],
             [
              0.5555555555555556,
              "#d8576b"
             ],
             [
              0.6666666666666666,
              "#ed7953"
             ],
             [
              0.7777777777777778,
              "#fb9f3a"
             ],
             [
              0.8888888888888888,
              "#fdca26"
             ],
             [
              1,
              "#f0f921"
             ]
            ],
            "type": "histogram2dcontour"
           }
          ],
          "mesh3d": [
           {
            "colorbar": {
             "outlinewidth": 0,
             "ticks": ""
            },
            "type": "mesh3d"
           }
          ],
          "parcoords": [
           {
            "line": {
             "colorbar": {
              "outlinewidth": 0,
              "ticks": ""
             }
            },
            "type": "parcoords"
           }
          ],
          "pie": [
           {
            "automargin": true,
            "type": "pie"
           }
          ],
          "scatter": [
           {
            "fillpattern": {
             "fillmode": "overlay",
             "size": 10,
             "solidity": 0.2
            },
            "type": "scatter"
           }
          ],
          "scatter3d": [
           {
            "line": {
             "colorbar": {
              "outlinewidth": 0,
              "ticks": ""
             }
            },
            "marker": {
             "colorbar": {
              "outlinewidth": 0,
              "ticks": ""
             }
            },
            "type": "scatter3d"
           }
          ],
          "scattercarpet": [
           {
            "marker": {
             "colorbar": {
              "outlinewidth": 0,
              "ticks": ""
             }
            },
            "type": "scattercarpet"
           }
          ],
          "scattergeo": [
           {
            "marker": {
             "colorbar": {
              "outlinewidth": 0,
              "ticks": ""
             }
            },
            "type": "scattergeo"
           }
          ],
          "scattergl": [
           {
            "marker": {
             "colorbar": {
              "outlinewidth": 0,
              "ticks": ""
             }
            },
            "type": "scattergl"
           }
          ],
          "scattermap": [
           {
            "marker": {
             "colorbar": {
              "outlinewidth": 0,
              "ticks": ""
             }
            },
            "type": "scattermap"
           }
          ],
          "scattermapbox": [
           {
            "marker": {
             "colorbar": {
              "outlinewidth": 0,
              "ticks": ""
             }
            },
            "type": "scattermapbox"
           }
          ],
          "scatterpolar": [
           {
            "marker": {
             "colorbar": {
              "outlinewidth": 0,
              "ticks": ""
             }
            },
            "type": "scatterpolar"
           }
          ],
          "scatterpolargl": [
           {
            "marker": {
             "colorbar": {
              "outlinewidth": 0,
              "ticks": ""
             }
            },
            "type": "scatterpolargl"
           }
          ],
          "scatterternary": [
           {
            "marker": {
             "colorbar": {
              "outlinewidth": 0,
              "ticks": ""
             }
            },
            "type": "scatterternary"
           }
          ],
          "surface": [
           {
            "colorbar": {
             "outlinewidth": 0,
             "ticks": ""
            },
            "colorscale": [
             [
              0,
              "#0d0887"
             ],
             [
              0.1111111111111111,
              "#46039f"
             ],
             [
              0.2222222222222222,
              "#7201a8"
             ],
             [
              0.3333333333333333,
              "#9c179e"
             ],
             [
              0.4444444444444444,
              "#bd3786"
             ],
             [
              0.5555555555555556,
              "#d8576b"
             ],
             [
              0.6666666666666666,
              "#ed7953"
             ],
             [
              0.7777777777777778,
              "#fb9f3a"
             ],
             [
              0.8888888888888888,
              "#fdca26"
             ],
             [
              1,
              "#f0f921"
             ]
            ],
            "type": "surface"
           }
          ],
          "table": [
           {
            "cells": {
             "fill": {
              "color": "#EBF0F8"
             },
             "line": {
              "color": "white"
             }
            },
            "header": {
             "fill": {
              "color": "#C8D4E3"
             },
             "line": {
              "color": "white"
             }
            },
            "type": "table"
           }
          ]
         },
         "layout": {
          "annotationdefaults": {
           "arrowcolor": "#2a3f5f",
           "arrowhead": 0,
           "arrowwidth": 1
          },
          "autotypenumbers": "strict",
          "coloraxis": {
           "colorbar": {
            "outlinewidth": 0,
            "ticks": ""
           }
          },
          "colorscale": {
           "diverging": [
            [
             0,
             "#8e0152"
            ],
            [
             0.1,
             "#c51b7d"
            ],
            [
             0.2,
             "#de77ae"
            ],
            [
             0.3,
             "#f1b6da"
            ],
            [
             0.4,
             "#fde0ef"
            ],
            [
             0.5,
             "#f7f7f7"
            ],
            [
             0.6,
             "#e6f5d0"
            ],
            [
             0.7,
             "#b8e186"
            ],
            [
             0.8,
             "#7fbc41"
            ],
            [
             0.9,
             "#4d9221"
            ],
            [
             1,
             "#276419"
            ]
           ],
           "sequential": [
            [
             0,
             "#0d0887"
            ],
            [
             0.1111111111111111,
             "#46039f"
            ],
            [
             0.2222222222222222,
             "#7201a8"
            ],
            [
             0.3333333333333333,
             "#9c179e"
            ],
            [
             0.4444444444444444,
             "#bd3786"
            ],
            [
             0.5555555555555556,
             "#d8576b"
            ],
            [
             0.6666666666666666,
             "#ed7953"
            ],
            [
             0.7777777777777778,
             "#fb9f3a"
            ],
            [
             0.8888888888888888,
             "#fdca26"
            ],
            [
             1,
             "#f0f921"
            ]
           ],
           "sequentialminus": [
            [
             0,
             "#0d0887"
            ],
            [
             0.1111111111111111,
             "#46039f"
            ],
            [
             0.2222222222222222,
             "#7201a8"
            ],
            [
             0.3333333333333333,
             "#9c179e"
            ],
            [
             0.4444444444444444,
             "#bd3786"
            ],
            [
             0.5555555555555556,
             "#d8576b"
            ],
            [
             0.6666666666666666,
             "#ed7953"
            ],
            [
             0.7777777777777778,
             "#fb9f3a"
            ],
            [
             0.8888888888888888,
             "#fdca26"
            ],
            [
             1,
             "#f0f921"
            ]
           ]
          },
          "colorway": [
           "#636efa",
           "#EF553B",
           "#00cc96",
           "#ab63fa",
           "#FFA15A",
           "#19d3f3",
           "#FF6692",
           "#B6E880",
           "#FF97FF",
           "#FECB52"
          ],
          "font": {
           "color": "#2a3f5f"
          },
          "geo": {
           "bgcolor": "white",
           "lakecolor": "white",
           "landcolor": "#E5ECF6",
           "showlakes": true,
           "showland": true,
           "subunitcolor": "white"
          },
          "hoverlabel": {
           "align": "left"
          },
          "hovermode": "closest",
          "mapbox": {
           "style": "light"
          },
          "paper_bgcolor": "white",
          "plot_bgcolor": "#E5ECF6",
          "polar": {
           "angularaxis": {
            "gridcolor": "white",
            "linecolor": "white",
            "ticks": ""
           },
           "bgcolor": "#E5ECF6",
           "radialaxis": {
            "gridcolor": "white",
            "linecolor": "white",
            "ticks": ""
           }
          },
          "scene": {
           "xaxis": {
            "backgroundcolor": "#E5ECF6",
            "gridcolor": "white",
            "gridwidth": 2,
            "linecolor": "white",
            "showbackground": true,
            "ticks": "",
            "zerolinecolor": "white"
           },
           "yaxis": {
            "backgroundcolor": "#E5ECF6",
            "gridcolor": "white",
            "gridwidth": 2,
            "linecolor": "white",
            "showbackground": true,
            "ticks": "",
            "zerolinecolor": "white"
           },
           "zaxis": {
            "backgroundcolor": "#E5ECF6",
            "gridcolor": "white",
            "gridwidth": 2,
            "linecolor": "white",
            "showbackground": true,
            "ticks": "",
            "zerolinecolor": "white"
           }
          },
          "shapedefaults": {
           "line": {
            "color": "#2a3f5f"
           }
          },
          "ternary": {
           "aaxis": {
            "gridcolor": "white",
            "linecolor": "white",
            "ticks": ""
           },
           "baxis": {
            "gridcolor": "white",
            "linecolor": "white",
            "ticks": ""
           },
           "bgcolor": "#E5ECF6",
           "caxis": {
            "gridcolor": "white",
            "linecolor": "white",
            "ticks": ""
           }
          },
          "title": {
           "x": 0.05
          },
          "xaxis": {
           "automargin": true,
           "gridcolor": "white",
           "linecolor": "white",
           "ticks": "",
           "title": {
            "standoff": 15
           },
           "zerolinecolor": "white",
           "zerolinewidth": 2
          },
          "yaxis": {
           "automargin": true,
           "gridcolor": "white",
           "linecolor": "white",
           "ticks": "",
           "title": {
            "standoff": 15
           },
           "zerolinecolor": "white",
           "zerolinewidth": 2
          }
         }
        },
        "title": {
         "font": {
          "family": "Arial",
          "size": 20
         },
         "text": "<b>Preds</b>",
         "x": 0.5,
         "xanchor": "center",
         "y": 0.95,
         "yanchor": "top"
        },
        "width": 1080,
        "xaxis": {
         "anchor": "y",
         "domain": [
          0,
          1
         ],
         "gridcolor": "rgb(200, 200, 200)",
         "matches": "x3",
         "showgrid": true,
         "showticklabels": false
        },
        "xaxis2": {
         "anchor": "y2",
         "domain": [
          0,
          1
         ],
         "gridcolor": "rgb(200, 200, 200)",
         "matches": "x3",
         "showgrid": true,
         "showticklabels": false
        },
        "xaxis3": {
         "anchor": "y3",
         "domain": [
          0,
          1
         ],
         "gridcolor": "rgb(200, 200, 200)",
         "showgrid": true,
         "title": {
          "text": "Time"
         }
        },
        "yaxis": {
         "anchor": "x",
         "domain": [
          0.7,
          1
         ],
         "gridcolor": "rgb(200, 200, 200)",
         "showgrid": true,
         "title": {
          "text": "X"
         }
        },
        "yaxis2": {
         "anchor": "x2",
         "domain": [
          0.35,
          0.6499999999999999
         ],
         "gridcolor": "rgb(200, 200, 200)",
         "showgrid": true,
         "title": {
          "text": "Y"
         }
        },
        "yaxis3": {
         "anchor": "x3",
         "domain": [
          0,
          0.3
         ],
         "gridcolor": "rgb(200, 200, 200)",
         "showgrid": true,
         "title": {
          "text": "Z"
         }
        }
       }
      }
     },
     "metadata": {},
     "output_type": "display_data"
    },
    {
     "data": {
      "application/vnd.plotly.v1+json": {
       "config": {
        "plotlyServerURL": "https://plot.ly"
       },
       "data": [
        {
         "hoverinfo": "x+y",
         "line": {
          "color": "#440154",
          "width": 1.5
         },
         "mode": "lines",
         "name": "X",
         "showlegend": false,
         "type": "scatter",
         "x": {
          "bdata": "AAABAAIAAwAEAAUABgAHAAgACQAKAAsADAANAA4ADwAQABEAEgATABQAFQAWABcAGAAZABoAGwAcAB0AHgAfACAAIQAiACMAJAAlACYAJwAoACkAKgArACwALQAuAC8AMAAxADIAMwA0ADUANgA3ADgAOQA6ADsAPAA9AD4APwBAAEEAQgBDAEQARQBGAEcASABJAEoASwBMAE0ATgBPAFAAUQBSAFMAVABVAFYAVwBYAFkAWgBbAFwAXQBeAF8AYABhAGIAYwBkAGUAZgBnAGgAaQBqAGsAbABtAG4AbwBwAHEAcgBzAHQAdQB2AHcAeAB5AHoAewB8AH0AfgB/AIAAgQCCAIMAhACFAIYAhwCIAIkAigCLAIwAjQCOAI8AkACRAJIAkwCUAJUAlgCXAJgAmQCaAJsAnACdAJ4AnwCgAKEAogCjAKQApQCmAKcAqACpAKoAqwCsAK0ArgCvALAAsQCyALMAtAC1ALYAtwC4ALkAugC7ALwAvQC+AL8AwADBAMIAwwDEAMUAxgDHAMgAyQDKAMsAzADNAM4AzwDQANEA0gDTANQA1QDWANcA2ADZANoA2wDcAN0A3gDfAOAA4QDiAOMA5ADlAOYA5wDoAOkA6gDrAOwA7QDuAO8A8ADxAPIA8wD0APUA9gD3APgA+QA=",
          "dtype": "i2"
         },
         "xaxis": "x",
         "y": {
          "bdata": "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",
          "dtype": "f8"
         },
         "yaxis": "y"
        },
        {
         "hoverinfo": "x+y",
         "line": {
          "color": "#31688e",
          "width": 1.5
         },
         "mode": "lines",
         "name": "Y",
         "showlegend": false,
         "type": "scatter",
         "x": {
          "bdata": "AAABAAIAAwAEAAUABgAHAAgACQAKAAsADAANAA4ADwAQABEAEgATABQAFQAWABcAGAAZABoAGwAcAB0AHgAfACAAIQAiACMAJAAlACYAJwAoACkAKgArACwALQAuAC8AMAAxADIAMwA0ADUANgA3ADgAOQA6ADsAPAA9AD4APwBAAEEAQgBDAEQARQBGAEcASABJAEoASwBMAE0ATgBPAFAAUQBSAFMAVABVAFYAVwBYAFkAWgBbAFwAXQBeAF8AYABhAGIAYwBkAGUAZgBnAGgAaQBqAGsAbABtAG4AbwBwAHEAcgBzAHQAdQB2AHcAeAB5AHoAewB8AH0AfgB/AIAAgQCCAIMAhACFAIYAhwCIAIkAigCLAIwAjQCOAI8AkACRAJIAkwCUAJUAlgCXAJgAmQCaAJsAnACdAJ4AnwCgAKEAogCjAKQApQCmAKcAqACpAKoAqwCsAK0ArgCvALAAsQCyALMAtAC1ALYAtwC4ALkAugC7ALwAvQC+AL8AwADBAMIAwwDEAMUAxgDHAMgAyQDKAMsAzADNAM4AzwDQANEA0gDTANQA1QDWANcA2ADZANoA2wDcAN0A3gDfAOAA4QDiAOMA5ADlAOYA5wDoAOkA6gDrAOwA7QDuAO8A8ADxAPIA8wD0APUA9gD3APgA+QA=",
          "dtype": "i2"
         },
         "xaxis": "x2",
         "y": {
          "bdata": "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",
          "dtype": "f8"
         },
         "yaxis": "y2"
        },
        {
         "hoverinfo": "x+y",
         "line": {
          "color": "#35b779",
          "width": 1.5
         },
         "mode": "lines",
         "name": "Z",
         "showlegend": false,
         "type": "scatter",
         "x": {
          "bdata": "AAABAAIAAwAEAAUABgAHAAgACQAKAAsADAANAA4ADwAQABEAEgATABQAFQAWABcAGAAZABoAGwAcAB0AHgAfACAAIQAiACMAJAAlACYAJwAoACkAKgArACwALQAuAC8AMAAxADIAMwA0ADUANgA3ADgAOQA6ADsAPAA9AD4APwBAAEEAQgBDAEQARQBGAEcASABJAEoASwBMAE0ATgBPAFAAUQBSAFMAVABVAFYAVwBYAFkAWgBbAFwAXQBeAF8AYABhAGIAYwBkAGUAZgBnAGgAaQBqAGsAbABtAG4AbwBwAHEAcgBzAHQAdQB2AHcAeAB5AHoAewB8AH0AfgB/AIAAgQCCAIMAhACFAIYAhwCIAIkAigCLAIwAjQCOAI8AkACRAJIAkwCUAJUAlgCXAJgAmQCaAJsAnACdAJ4AnwCgAKEAogCjAKQApQCmAKcAqACpAKoAqwCsAK0ArgCvALAAsQCyALMAtAC1ALYAtwC4ALkAugC7ALwAvQC+AL8AwADBAMIAwwDEAMUAxgDHAMgAyQDKAMsAzADNAM4AzwDQANEA0gDTANQA1QDWANcA2ADZANoA2wDcAN0A3gDfAOAA4QDiAOMA5ADlAOYA5wDoAOkA6gDrAOwA7QDuAO8A8ADxAPIA8wD0APUA9gD3APgA+QA=",
          "dtype": "i2"
         },
         "xaxis": "x3",
         "y": {
          "bdata": "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",
          "dtype": "f8"
         },
         "yaxis": "y3"
        }
       ],
       "layout": {
        "annotations": [
         {
          "font": {
           "size": 12
          },
          "showarrow": false,
          "text": "X",
          "x": 0.01,
          "xanchor": "left",
          "xref": "paper",
          "y": 1,
          "yanchor": "bottom",
          "yref": "paper"
         },
         {
          "font": {
           "size": 12
          },
          "showarrow": false,
          "text": "Y",
          "x": 0.01,
          "xanchor": "left",
          "xref": "paper",
          "y": 0.6499999999999999,
          "yanchor": "bottom",
          "yref": "paper"
         },
         {
          "font": {
           "size": 12
          },
          "showarrow": false,
          "text": "Z",
          "x": 0.01,
          "xanchor": "left",
          "xref": "paper",
          "y": 0.3,
          "yanchor": "bottom",
          "yref": "paper"
         }
        ],
        "font": {
         "family": "Arial",
         "size": 12
        },
        "height": 600,
        "hovermode": "x unified",
        "margin": {
         "b": 50,
         "l": 50,
         "r": 50,
         "t": 80
        },
        "paper_bgcolor": "white",
        "plot_bgcolor": "rgb(240, 240, 240)",
        "template": {
         "data": {
          "bar": [
           {
            "error_x": {
             "color": "#2a3f5f"
            },
            "error_y": {
             "color": "#2a3f5f"
            },
            "marker": {
             "line": {
              "color": "#E5ECF6",
              "width": 0.5
             },
             "pattern": {
              "fillmode": "overlay",
              "size": 10,
              "solidity": 0.2
             }
            },
            "type": "bar"
           }
          ],
          "barpolar": [
           {
            "marker": {
             "line": {
              "color": "#E5ECF6",
              "width": 0.5
             },
             "pattern": {
              "fillmode": "overlay",
              "size": 10,
              "solidity": 0.2
             }
            },
            "type": "barpolar"
           }
          ],
          "carpet": [
           {
            "aaxis": {
             "endlinecolor": "#2a3f5f",
             "gridcolor": "white",
             "linecolor": "white",
             "minorgridcolor": "white",
             "startlinecolor": "#2a3f5f"
            },
            "baxis": {
             "endlinecolor": "#2a3f5f",
             "gridcolor": "white",
             "linecolor": "white",
             "minorgridcolor": "white",
             "startlinecolor": "#2a3f5f"
            },
            "type": "carpet"
           }
          ],
          "choropleth": [
           {
            "colorbar": {
             "outlinewidth": 0,
             "ticks": ""
            },
            "type": "choropleth"
           }
          ],
          "contour": [
           {
            "colorbar": {
             "outlinewidth": 0,
             "ticks": ""
            },
            "colorscale": [
             [
              0,
              "#0d0887"
             ],
             [
              0.1111111111111111,
              "#46039f"
             ],
             [
              0.2222222222222222,
              "#7201a8"
             ],
             [
              0.3333333333333333,
              "#9c179e"
             ],
             [
              0.4444444444444444,
              "#bd3786"
             ],
             [
              0.5555555555555556,
              "#d8576b"
             ],
             [
              0.6666666666666666,
              "#ed7953"
             ],
             [
              0.7777777777777778,
              "#fb9f3a"
             ],
             [
              0.8888888888888888,
              "#fdca26"
             ],
             [
              1,
              "#f0f921"
             ]
            ],
            "type": "contour"
           }
          ],
          "contourcarpet": [
           {
            "colorbar": {
             "outlinewidth": 0,
             "ticks": ""
            },
            "type": "contourcarpet"
           }
          ],
          "heatmap": [
           {
            "colorbar": {
             "outlinewidth": 0,
             "ticks": ""
            },
            "colorscale": [
             [
              0,
              "#0d0887"
             ],
             [
              0.1111111111111111,
              "#46039f"
             ],
             [
              0.2222222222222222,
              "#7201a8"
             ],
             [
              0.3333333333333333,
              "#9c179e"
             ],
             [
              0.4444444444444444,
              "#bd3786"
             ],
             [
              0.5555555555555556,
              "#d8576b"
             ],
             [
              0.6666666666666666,
              "#ed7953"
             ],
             [
              0.7777777777777778,
              "#fb9f3a"
             ],
             [
              0.8888888888888888,
              "#fdca26"
             ],
             [
              1,
              "#f0f921"
             ]
            ],
            "type": "heatmap"
           }
          ],
          "histogram": [
           {
            "marker": {
             "pattern": {
              "fillmode": "overlay",
              "size": 10,
              "solidity": 0.2
             }
            },
            "type": "histogram"
           }
          ],
          "histogram2d": [
           {
            "colorbar": {
             "outlinewidth": 0,
             "ticks": ""
            },
            "colorscale": [
             [
              0,
              "#0d0887"
             ],
             [
              0.1111111111111111,
              "#46039f"
             ],
             [
              0.2222222222222222,
              "#7201a8"
             ],
             [
              0.3333333333333333,
              "#9c179e"
             ],
             [
              0.4444444444444444,
              "#bd3786"
             ],
             [
              0.5555555555555556,
              "#d8576b"
             ],
             [
              0.6666666666666666,
              "#ed7953"
             ],
             [
              0.7777777777777778,
              "#fb9f3a"
             ],
             [
              0.8888888888888888,
              "#fdca26"
             ],
             [
              1,
              "#f0f921"
             ]
            ],
            "type": "histogram2d"
           }
          ],
          "histogram2dcontour": [
           {
            "colorbar": {
             "outlinewidth": 0,
             "ticks": ""
            },
            "colorscale": [
             [
              0,
              "#0d0887"
             ],
             [
              0.1111111111111111,
              "#46039f"
             ],
             [
              0.2222222222222222,
              "#7201a8"
             ],
             [
              0.3333333333333333,
              "#9c179e"
             ],
             [
              0.4444444444444444,
              "#bd3786"
             ],
             [
              0.5555555555555556,
              "#d8576b"
             ],
             [
              0.6666666666666666,
              "#ed7953"
             ],
             [
              0.7777777777777778,
              "#fb9f3a"
             ],
             [
              0.8888888888888888,
              "#fdca26"
             ],
             [
              1,
              "#f0f921"
             ]
            ],
            "type": "histogram2dcontour"
           }
          ],
          "mesh3d": [
           {
            "colorbar": {
             "outlinewidth": 0,
             "ticks": ""
            },
            "type": "mesh3d"
           }
          ],
          "parcoords": [
           {
            "line": {
             "colorbar": {
              "outlinewidth": 0,
              "ticks": ""
             }
            },
            "type": "parcoords"
           }
          ],
          "pie": [
           {
            "automargin": true,
            "type": "pie"
           }
          ],
          "scatter": [
           {
            "fillpattern": {
             "fillmode": "overlay",
             "size": 10,
             "solidity": 0.2
            },
            "type": "scatter"
           }
          ],
          "scatter3d": [
           {
            "line": {
             "colorbar": {
              "outlinewidth": 0,
              "ticks": ""
             }
            },
            "marker": {
             "colorbar": {
              "outlinewidth": 0,
              "ticks": ""
             }
            },
            "type": "scatter3d"
           }
          ],
          "scattercarpet": [
           {
            "marker": {
             "colorbar": {
              "outlinewidth": 0,
              "ticks": ""
             }
            },
            "type": "scattercarpet"
           }
          ],
          "scattergeo": [
           {
            "marker": {
             "colorbar": {
              "outlinewidth": 0,
              "ticks": ""
             }
            },
            "type": "scattergeo"
           }
          ],
          "scattergl": [
           {
            "marker": {
             "colorbar": {
              "outlinewidth": 0,
              "ticks": ""
             }
            },
            "type": "scattergl"
           }
          ],
          "scattermap": [
           {
            "marker": {
             "colorbar": {
              "outlinewidth": 0,
              "ticks": ""
             }
            },
            "type": "scattermap"
           }
          ],
          "scattermapbox": [
           {
            "marker": {
             "colorbar": {
              "outlinewidth": 0,
              "ticks": ""
             }
            },
            "type": "scattermapbox"
           }
          ],
          "scatterpolar": [
           {
            "marker": {
             "colorbar": {
              "outlinewidth": 0,
              "ticks": ""
             }
            },
            "type": "scatterpolar"
           }
          ],
          "scatterpolargl": [
           {
            "marker": {
             "colorbar": {
              "outlinewidth": 0,
              "ticks": ""
             }
            },
            "type": "scatterpolargl"
           }
          ],
          "scatterternary": [
           {
            "marker": {
             "colorbar": {
              "outlinewidth": 0,
              "ticks": ""
             }
            },
            "type": "scatterternary"
           }
          ],
          "surface": [
           {
            "colorbar": {
             "outlinewidth": 0,
             "ticks": ""
            },
            "colorscale": [
             [
              0,
              "#0d0887"
             ],
             [
              0.1111111111111111,
              "#46039f"
             ],
             [
              0.2222222222222222,
              "#7201a8"
             ],
             [
              0.3333333333333333,
              "#9c179e"
             ],
             [
              0.4444444444444444,
              "#bd3786"
             ],
             [
              0.5555555555555556,
              "#d8576b"
             ],
             [
              0.6666666666666666,
              "#ed7953"
             ],
             [
              0.7777777777777778,
              "#fb9f3a"
             ],
             [
              0.8888888888888888,
              "#fdca26"
             ],
             [
              1,
              "#f0f921"
             ]
            ],
            "type": "surface"
           }
          ],
          "table": [
           {
            "cells": {
             "fill": {
              "color": "#EBF0F8"
             },
             "line": {
              "color": "white"
             }
            },
            "header": {
             "fill": {
              "color": "#C8D4E3"
             },
             "line": {
              "color": "white"
             }
            },
            "type": "table"
           }
          ]
         },
         "layout": {
          "annotationdefaults": {
           "arrowcolor": "#2a3f5f",
           "arrowhead": 0,
           "arrowwidth": 1
          },
          "autotypenumbers": "strict",
          "coloraxis": {
           "colorbar": {
            "outlinewidth": 0,
            "ticks": ""
           }
          },
          "colorscale": {
           "diverging": [
            [
             0,
             "#8e0152"
            ],
            [
             0.1,
             "#c51b7d"
            ],
            [
             0.2,
             "#de77ae"
            ],
            [
             0.3,
             "#f1b6da"
            ],
            [
             0.4,
             "#fde0ef"
            ],
            [
             0.5,
             "#f7f7f7"
            ],
            [
             0.6,
             "#e6f5d0"
            ],
            [
             0.7,
             "#b8e186"
            ],
            [
             0.8,
             "#7fbc41"
            ],
            [
             0.9,
             "#4d9221"
            ],
            [
             1,
             "#276419"
            ]
           ],
           "sequential": [
            [
             0,
             "#0d0887"
            ],
            [
             0.1111111111111111,
             "#46039f"
            ],
            [
             0.2222222222222222,
             "#7201a8"
            ],
            [
             0.3333333333333333,
             "#9c179e"
            ],
            [
             0.4444444444444444,
             "#bd3786"
            ],
            [
             0.5555555555555556,
             "#d8576b"
            ],
            [
             0.6666666666666666,
             "#ed7953"
            ],
            [
             0.7777777777777778,
             "#fb9f3a"
            ],
            [
             0.8888888888888888,
             "#fdca26"
            ],
            [
             1,
             "#f0f921"
            ]
           ],
           "sequentialminus": [
            [
             0,
             "#0d0887"
            ],
            [
             0.1111111111111111,
             "#46039f"
            ],
            [
             0.2222222222222222,
             "#7201a8"
            ],
            [
             0.3333333333333333,
             "#9c179e"
            ],
            [
             0.4444444444444444,
             "#bd3786"
            ],
            [
             0.5555555555555556,
             "#d8576b"
            ],
            [
             0.6666666666666666,
             "#ed7953"
            ],
            [
             0.7777777777777778,
             "#fb9f3a"
            ],
            [
             0.8888888888888888,
             "#fdca26"
            ],
            [
             1,
             "#f0f921"
            ]
           ]
          },
          "colorway": [
           "#636efa",
           "#EF553B",
           "#00cc96",
           "#ab63fa",
           "#FFA15A",
           "#19d3f3",
           "#FF6692",
           "#B6E880",
           "#FF97FF",
           "#FECB52"
          ],
          "font": {
           "color": "#2a3f5f"
          },
          "geo": {
           "bgcolor": "white",
           "lakecolor": "white",
           "landcolor": "#E5ECF6",
           "showlakes": true,
           "showland": true,
           "subunitcolor": "white"
          },
          "hoverlabel": {
           "align": "left"
          },
          "hovermode": "closest",
          "mapbox": {
           "style": "light"
          },
          "paper_bgcolor": "white",
          "plot_bgcolor": "#E5ECF6",
          "polar": {
           "angularaxis": {
            "gridcolor": "white",
            "linecolor": "white",
            "ticks": ""
           },
           "bgcolor": "#E5ECF6",
           "radialaxis": {
            "gridcolor": "white",
            "linecolor": "white",
            "ticks": ""
           }
          },
          "scene": {
           "xaxis": {
            "backgroundcolor": "#E5ECF6",
            "gridcolor": "white",
            "gridwidth": 2,
            "linecolor": "white",
            "showbackground": true,
            "ticks": "",
            "zerolinecolor": "white"
           },
           "yaxis": {
            "backgroundcolor": "#E5ECF6",
            "gridcolor": "white",
            "gridwidth": 2,
            "linecolor": "white",
            "showbackground": true,
            "ticks": "",
            "zerolinecolor": "white"
           },
           "zaxis": {
            "backgroundcolor": "#E5ECF6",
            "gridcolor": "white",
            "gridwidth": 2,
            "linecolor": "white",
            "showbackground": true,
            "ticks": "",
            "zerolinecolor": "white"
           }
          },
          "shapedefaults": {
           "line": {
            "color": "#2a3f5f"
           }
          },
          "ternary": {
           "aaxis": {
            "gridcolor": "white",
            "linecolor": "white",
            "ticks": ""
           },
           "baxis": {
            "gridcolor": "white",
            "linecolor": "white",
            "ticks": ""
           },
           "bgcolor": "#E5ECF6",
           "caxis": {
            "gridcolor": "white",
            "linecolor": "white",
            "ticks": ""
           }
          },
          "title": {
           "x": 0.05
          },
          "xaxis": {
           "automargin": true,
           "gridcolor": "white",
           "linecolor": "white",
           "ticks": "",
           "title": {
            "standoff": 15
           },
           "zerolinecolor": "white",
           "zerolinewidth": 2
          },
          "yaxis": {
           "automargin": true,
           "gridcolor": "white",
           "linecolor": "white",
           "ticks": "",
           "title": {
            "standoff": 15
           },
           "zerolinecolor": "white",
           "zerolinewidth": 2
          }
         }
        },
        "title": {
         "font": {
          "family": "Arial",
          "size": 20
         },
         "text": "<b>Truth</b>",
         "x": 0.5,
         "xanchor": "center",
         "y": 0.95,
         "yanchor": "top"
        },
        "width": 1080,
        "xaxis": {
         "anchor": "y",
         "domain": [
          0,
          1
         ],
         "gridcolor": "rgb(200, 200, 200)",
         "matches": "x3",
         "showgrid": true,
         "showticklabels": false
        },
        "xaxis2": {
         "anchor": "y2",
         "domain": [
          0,
          1
         ],
         "gridcolor": "rgb(200, 200, 200)",
         "matches": "x3",
         "showgrid": true,
         "showticklabels": false
        },
        "xaxis3": {
         "anchor": "y3",
         "domain": [
          0,
          1
         ],
         "gridcolor": "rgb(200, 200, 200)",
         "showgrid": true,
         "title": {
          "text": "Time"
         }
        },
        "yaxis": {
         "anchor": "x",
         "domain": [
          0.7,
          1
         ],
         "gridcolor": "rgb(200, 200, 200)",
         "showgrid": true,
         "title": {
          "text": "X"
         }
        },
        "yaxis2": {
         "anchor": "x2",
         "domain": [
          0.35,
          0.6499999999999999
         ],
         "gridcolor": "rgb(200, 200, 200)",
         "showgrid": true,
         "title": {
          "text": "Y"
         }
        },
        "yaxis3": {
         "anchor": "x3",
         "domain": [
          0,
          0.3
         ],
         "gridcolor": "rgb(200, 200, 200)",
         "showgrid": true,
         "title": {
          "text": "Z"
         }
        }
       }
      }
     },
     "metadata": {},
     "output_type": "display_data"
    }
   ],
   "source": [
    "viz.plot_components(trajectory=predictions, figsize=(1080,600), line_width=1.5, title=\"Preds\", labels=[\"X\",\"Y\",\"Z\"])\n",
    "viz.plot_components(trajectory=truth, figsize=(1080,600), line_width=1.5, title=\"Truth\", labels=[\"X\",\"Y\",\"Z\"])"
   ]
  },
  {
   "cell_type": "markdown",
   "id": "50be1545",
   "metadata": {},
   "source": [
    "## Recurrnece Plot"
   ]
  },
  {
   "cell_type": "code",
   "execution_count": 10,
   "id": "b478160d",
   "metadata": {},
   "outputs": [
    {
     "data": {
      "image/png": "[encoded data removed]",
      "text/plain": [
       "<Figure size 640x480 with 2 Axes>"
      ]
     },
     "metadata": {},
     "output_type": "display_data"
    }
   ],
   "source": [
    "from pyts.image import RecurrencePlot\n",
    "\n",
    "trajectory_true = truth[:500, 0]  \n",
    "trajectory_pred = predictions[:500, 0]  \n",
    "\n",
    "# RP object\n",
    "rp = RecurrencePlot(threshold='point', percentage=10)\n",
    "\n",
    "rp_true = rp.fit_transform(trajectory_true.reshape(1, -1))\n",
    "rp_pred = rp.fit_transform(trajectory_pred.reshape(1, -1))\n",
    "\n",
    "plt.subplot(1, 2, 1)\n",
    "plt.imshow(rp_true[0], cmap='binary', origin='lower')\n",
    "plt.title(\"True distribution\")\n",
    "\n",
    "plt.subplot(1, 2, 2)\n",
    "plt.imshow(rp_pred[0], cmap='binary', origin='lower')\n",
    "plt.title(\"Predicted distribution\")\n",
    "plt.show()"
   ]
  },
  {
   "cell_type": "markdown",
   "id": "ff0b7a89",
   "metadata": {},
   "source": [
    "## KL Divergence"
   ]
  },
  {
   "cell_type": "code",
   "execution_count": 11,
   "id": "e5e691f0",
   "metadata": {},
   "outputs": [
    {
     "data": {
      "text/plain": [
       "24.492882688775307"
      ]
     },
     "execution_count": 11,
     "metadata": {},
     "output_type": "execute_result"
    }
   ],
   "source": [
    "chaos_utils.KLdivergence(true = truth, predicted=predictions, bins=100)"
   ]
  },
  {
   "cell_type": "markdown",
   "id": "406cd938",
   "metadata": {},
   "source": [
    "## Correlation dimension"
   ]
  },
  {
   "cell_type": "code",
   "execution_count": 14,
   "id": "7ac4c4d0",
   "metadata": {},
   "outputs": [
    {
     "name": "stderr",
     "output_type": "stream",
     "text": [
      "/tmp/ipykernel_8123/4026078948.py:27: RuntimeWarning:\n",
      "\n",
      "divide by zero encountered in log\n",
      "\n"
     ]
    },
    {
     "name": "stdout",
     "output_type": "stream",
     "text": [
      "Estimated Correlation Dimension D2 of true: 1.8899454193329175 and of pred:  nan\n"
     ]
    },
    {
     "data": {
      "image/png": "[encoded data removed]",
      "text/plain": [
       "<Figure size 640x480 with 1 Axes>"
      ]
     },
     "metadata": {},
     "output_type": "display_data"
    }
   ],
   "source": [
    "import numpy as np\n",
    "from scipy.spatial.distance import pdist, squareform\n",
    "import matplotlib.pyplot as plt\n",
    "\n",
    "def correlation_dimension(data, r_vals):\n",
    "    N = len(data)\n",
    "    dists = squareform(pdist(data))  # pairwise distances\n",
    "    C = []\n",
    "    for r in r_vals:\n",
    "        count = np.sum(dists < r) - N  # remove diagonal\n",
    "        C_r = count / (N * (N - 1))\n",
    "        C.append(C_r)\n",
    "    return np.array(C)\n",
    "\n",
    "\n",
    "r_vals = np.logspace(-3, 0, 50)\n",
    "pred_c = correlation_dimension(predictions, r_vals)\n",
    "true_c = correlation_dimension(truth, r_vals)\n",
    "\n",
    "plt.loglog(r_vals, pred_c, 'o-', color = 'red' )\n",
    "plt.loglog(r_vals, true_c, '-o', color = 'green' )\n",
    "plt.xlabel(\"log r\")\n",
    "plt.ylabel(\"log C(r)\")\n",
    "\n",
    "# Fit slope in scaling region\n",
    "fit_range = (r_vals > 0.01) & (r_vals < 0.1)\n",
    "slope1 = np.polyfit(np.log(r_vals[fit_range]), np.log(pred_c[fit_range]), 1)[0]\n",
    "slope2 = np.polyfit(np.log(r_vals[fit_range]), np.log(true_c[fit_range]), 1)[0]\n",
    "print(\"Estimated Correlation Dimension D2 of true:\", slope2, \"and of pred: \" , slope1)\n"
   ]
  },
  {
   "cell_type": "markdown",
   "id": "bc0ac50a",
   "metadata": {},
   "source": [
    "## Power Spectral Density"
   ]
  },
  {
   "cell_type": "code",
   "execution_count": 15,
   "id": "d170422c",
   "metadata": {},
   "outputs": [
    {
     "name": "stderr",
     "output_type": "stream",
     "text": [
      "/home/ragedpi/Reservoir_Pytorch/.venv/lib64/python3.13/site-packages/scipy/signal/_spectral_py.py:790: UserWarning:\n",
      "\n",
      "nperseg = 1024 is greater than input length  = 250, using nperseg = 250\n",
      "\n"
     ]
    },
    {
     "name": "stdout",
     "output_type": "stream",
     "text": [
      "Error in PSD (Lower is better): 59.35706598364744\n",
      "Cosine Similarity(Ideal Value 1): 0.5654186478756775\n",
      "Wasserstein Distance(Ideal Value 0): 2.954675010663244\n"
     ]
    },
    {
     "data": {
      "image/png": "[encoded data removed]",
      "text/plain": [
       "<Figure size 640x480 with 1 Axes>"
      ]
     },
     "metadata": {},
     "output_type": "display_data"
    }
   ],
   "source": [
    "from scipy.signal import welch\n",
    "from sklearn.metrics.pairwise import cosine_similarity\n",
    "from scipy.stats import wasserstein_distance\n",
    "\n",
    "\n",
    "f, P_true = welch(truth[:, 0], fs=1.0, nperseg=1024)\n",
    "_, P_pred = welch(predictions[:, 0], fs=1.0, nperseg=1024)\n",
    "\n",
    "psd_error = np.linalg.norm(P_true - P_pred)\n",
    "cos_sim = cosine_similarity(P_true.reshape(1, -1), P_pred.reshape(1, -1))[0][0]\n",
    "emd = wasserstein_distance(P_true, P_pred)\n",
    "\n",
    "plt.semilogy(f, P_true, label=\"True\")\n",
    "plt.semilogy(f, P_pred, label=\"Reservoir\")\n",
    "plt.legend()\n",
    "plt.xlabel(\"Frequency\")\n",
    "plt.ylabel(\"PSD\")\n",
    "plt.title(\"Power Spectrum Comparison\")\n",
    "print(f\"Error in PSD (Lower is better): {psd_error.item()}\")\n",
    "print(f\"Cosine Similarity(Ideal Value 1): {cos_sim}\")\n",
    "print(f\"Wasserstein Distance(Ideal Value 0): {emd}\") # This does not seem very good. everything is close to 0"
   ]
  },
  {
   "cell_type": "markdown",
   "id": "5c124da2",
   "metadata": {},
   "source": [
    "## Topological Data Analysis"
   ]
  },
  {
   "cell_type": "code",
   "execution_count": 16,
   "id": "a2b2132a",
   "metadata": {},
   "outputs": [],
   "source": [
    "from ripser import ripser\n",
    "from persim import plot_diagrams, wasserstein\n",
    "\n",
    "def filter_diagram(diag, threshold=1e-2):\n",
    "    return np.array([pt for pt in diag if abs(pt[1] - pt[0]) > threshold])\n",
    "\n",
    "diagrams_true = ripser(truth)['dgms']\n",
    "diagrams_pred = ripser(predictions)['dgms']\n",
    "\n",
    "#Earth-Movers Distance\n",
    "dgm1 = filter_diagram(diagrams_true[1])\n",
    "dgm2 = filter_diagram(diagrams_pred[1])\n",
    "d = wasserstein(dgm1, dgm2)"
   ]
  },
  {
   "cell_type": "code",
   "execution_count": 17,
   "id": "e7c21507",
   "metadata": {},
   "outputs": [
    {
     "name": "stdout",
     "output_type": "stream",
     "text": [
      "Topological distance (H1):10.090684492228995\n"
     ]
    },
    {
     "data": {
      "image/png": "[encoded data removed]",
      "text/plain": [
       "<Figure size 640x480 with 2 Axes>"
      ]
     },
     "metadata": {},
     "output_type": "display_data"
    }
   ],
   "source": [
    "plt.subplot(1, 2, 1)\n",
    "plot_diagrams(diagrams_true, title='True System')\n",
    "\n",
    "plt.subplot(1, 2, 2)\n",
    "plot_diagrams(diagrams_pred, title='Reservoir Prediction')\n",
    "\n",
    "print(f\"Topological distance (H1):{d}\")"
   ]
  }
 ],
 "metadata": {
  "kernelspec": {
   "display_name": ".venv",
   "language": "python",
   "name": "python3"
  },
  "language_info": {
   "codemirror_mode": {
    "name": "ipython",
    "version": 3
   },
   "file_extension": ".py",
   "mimetype": "text/x-python",
   "name": "python",
   "nbconvert_exporter": "python",
   "pygments_lexer": "ipython3",
   "version": "3.13.3"
  }
 },
 "nbformat": 4,
 "nbformat_minor": 5
}
