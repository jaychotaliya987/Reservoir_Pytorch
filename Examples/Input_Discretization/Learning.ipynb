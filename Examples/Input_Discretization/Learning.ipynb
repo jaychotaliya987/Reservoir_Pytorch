{
 "cells": [
  {
   "cell_type": "code",
   "execution_count": 1,
   "id": "3ae5e972",
   "metadata": {},
   "outputs": [],
   "source": [
    "#------------------ General Purpose Imports ---------------------#\n",
    "import numpy as np\n",
    "import matplotlib.pyplot as plt\n",
    "import pandas as pd\n",
    "from timeit import default_timer as timer\n",
    "\n",
    "#------------------ Machine Learning Imports ---------------------#\n",
    "import torch\n",
    "import scipy\n",
    "import torch.utils.data\n",
    "from sklearn.model_selection import train_test_split\n",
    "\n",
    "#------------------ Dataset imports ---------------------#\n",
    "import dysts\n",
    "from dysts.flows import *\n",
    "from dysts import flows\n",
    "from dysts.systems import make_trajectory_ensemble"
   ]
  },
  {
   "cell_type": "code",
   "execution_count": 2,
   "id": "c18ef796",
   "metadata": {},
   "outputs": [],
   "source": [
    "#------------------ system imports ---------------------#\n",
    "import os\n",
    "import sys\n",
    "sys.path.append(os.path.abspath(os.path.join('../..')))\n",
    "\n",
    "#------------------ reservoirgrid imports ---------------------#\n",
    "from reservoirgrid.models import Reservoir\n",
    "from reservoirgrid.helpers import utils\n",
    "from reservoirgrid.helpers import viz\n",
    "from reservoirgrid.helpers import chaos_utils\n",
    "from reservoirgrid.helpers import reservoir_tests\n",
    "#--------------------------------------------------------------#"
   ]
  },
  {
   "cell_type": "markdown",
   "id": "19acb396",
   "metadata": {},
   "source": [
    "Generating Chaotic Data"
   ]
  },
  {
   "cell_type": "code",
   "execution_count": 3,
   "id": "30ca8aa1",
   "metadata": {},
   "outputs": [],
   "source": [
    "systems = pd.read_csv(\"../../reservoirgrid/datasets/systems.csv\")\n",
    "chaotic = systems[systems['Type']=='Chaotic']"
   ]
  },
  {
   "cell_type": "code",
   "execution_count": 4,
   "id": "f2d0d289",
   "metadata": {},
   "outputs": [],
   "source": [
    "times = np.linspace(start=5, stop=100, num= 20) # discretizing 20 times from 0 PPP to 100 PPP"
   ]
  },
  {
   "cell_type": "code",
   "execution_count": 5,
   "id": "5f07f9c9",
   "metadata": {},
   "outputs": [
    {
     "name": "stdout",
     "output_type": "stream",
     "text": [
      "Lorenz exists.\n",
      "LorenzBounded exists.\n",
      "HyperLorenz exists.\n",
      "Lorenz84 does not exist. Generating...\n",
      "Generation Time: 1751.2842 seconds\n",
      "LorenzCoupled does not exist. Generating...\n",
      "Generation Time: 652.7988 seconds\n",
      "LorenzStenflo does not exist. Generating...\n",
      "Generation Time: 547.9465 seconds\n",
      "Rossler does not exist. Generating...\n",
      "Generation Time: 395.6874 seconds\n",
      "Chua does not exist. Generating...\n",
      "Generation Time: 198.2368 seconds\n",
      "MultiChua does not exist. Generating...\n",
      "Generation Time: 548.8085 seconds\n",
      "Chen does not exist. Generating...\n",
      "Generation Time: 347.5216 seconds\n",
      "Halvorsen does not exist. Generating...\n",
      "Generation Time: 411.3256 seconds\n",
      "Thomas does not exist. Generating...\n",
      "Generation Time: 993.1103 seconds\n",
      "SprottA does not exist. Generating...\n",
      "Generation Time: 306.2507 seconds\n",
      "RabinovichFabrikant does not exist. Generating...\n",
      "Generation Time: 177.7881 seconds\n",
      "HenonHeiles does not exist. Generating...\n",
      "Generation Time: 223.6858 seconds\n",
      "Hopfield does not exist. Generating...\n",
      "Generation Time: 759.5508 seconds\n",
      "GuckenheimerHolmes does not exist. Generating...\n",
      "Generation Time: 193.0346 seconds\n",
      "SprottB does not exist. Generating...\n",
      "Generation Time: 432.6766 seconds\n",
      "SprottC does not exist. Generating...\n",
      "Generation Time: 348.7589 seconds\n",
      "SprottD does not exist. Generating...\n",
      "Generation Time: 243.4828 seconds\n",
      "SprottE does not exist. Generating...\n",
      "Generation Time: 322.3215 seconds\n",
      "SprottF does not exist. Generating...\n",
      "Generation Time: 724.2217 seconds\n",
      "SprottG does not exist. Generating...\n",
      "Generation Time: 317.8934 seconds\n",
      "SprottH does not exist. Generating...\n",
      "Generation Time: 766.9373 seconds\n",
      "SprottI does not exist. Generating...\n",
      "Generation Time: 255.7222 seconds\n",
      "SprottJ does not exist. Generating...\n",
      "Generation Time: 293.1491 seconds\n",
      "SprottK does not exist. Generating...\n",
      "Generation Time: 249.5502 seconds\n",
      "SprottL does not exist. Generating...\n",
      "Generation Time: 550.5168 seconds\n",
      "SprottM does not exist. Generating...\n",
      "Generation Time: 265.1307 seconds\n",
      "SprottN does not exist. Generating...\n",
      "Generation Time: 293.4992 seconds\n",
      "SprottO does not exist. Generating...\n",
      "Generation Time: 418.0380 seconds\n",
      "SprottP does not exist. Generating...\n",
      "Generation Time: 207.1516 seconds\n",
      "SprottQ does not exist. Generating...\n",
      "Generation Time: 291.8776 seconds\n",
      "SprottR does not exist. Generating...\n",
      "Generation Time: 323.4223 seconds\n",
      "SprottS does not exist. Generating...\n",
      "Generation Time: 235.3896 seconds\n",
      "SprottMore does not exist. Generating...\n",
      "Generation Time: 307.8255 seconds\n",
      "SprottJerk does not exist. Generating...\n",
      "Generation Time: 482.9248 seconds\n",
      "SprottDelay does not exist. Generating...\n",
      "Generation Time: 10.6993 seconds\n",
      "SprottTorus does not exist. Generating...\n",
      "Generation Time: 472.0046 seconds\n"
     ]
    }
   ],
   "source": [
    "for index, row in chaotic.iterrows():\n",
    "    system_name = row['System']\n",
    "    system_type = row['Type']\n",
    "    path = f\"../../reservoirgrid/datasets/{system_type}/{system_name}.npy\"\n",
    "\n",
    "    if not os.path.exists(path):\n",
    "        print(f\"{system_name} does not exist. Generating...\")\n",
    "\n",
    "        try:\n",
    "            # Dynamically get system class from dysts.flows\n",
    "            system_class = getattr(flows, system_name)\n",
    "\n",
    "\n",
    "            start = timer()\n",
    "            data = utils.discretization(system_class, times, trajectory_length=10000)\n",
    "            end = timer()\n",
    "\n",
    "            print(f\"Generation Time: {end - start:.4f} seconds\")\n",
    "\n",
    "            os.makedirs(os.path.dirname(path), exist_ok=True)\n",
    "            np.save(path, data)\n",
    "        except AttributeError:\n",
    "            print(f\"⚠️ {system_name} not found in dysts.flows.\")\n",
    "    else:\n",
    "        print(f\"{system_name} exists.\")\n"
   ]
  }
 ],
 "metadata": {
  "kernelspec": {
   "display_name": ".venv",
   "language": "python",
   "name": "python3"
  },
  "language_info": {
   "codemirror_mode": {
    "name": "ipython",
    "version": 3
   },
   "file_extension": ".py",
   "mimetype": "text/x-python",
   "name": "python",
   "nbconvert_exporter": "python",
   "pygments_lexer": "ipython3",
   "version": "3.13.3"
  }
 },
 "nbformat": 4,
 "nbformat_minor": 5
}
